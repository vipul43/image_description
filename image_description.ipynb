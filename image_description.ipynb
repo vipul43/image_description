{
  "nbformat": 4,
  "nbformat_minor": 0,
  "metadata": {
    "colab": {
      "name": "image_description.ipynb",
      "provenance": [],
      "collapsed_sections": [],
      "toc_visible": true,
      "include_colab_link": true
    },
    "kernelspec": {
      "name": "python3",
      "display_name": "Python 3"
    },
    "language_info": {
      "name": "python"
    },
    "accelerator": "GPU"
  },
  "cells": [
    {
      "cell_type": "markdown",
      "metadata": {
        "id": "view-in-github",
        "colab_type": "text"
      },
      "source": [
        "<a href=\"https://colab.research.google.com/github/vipul43/image_description/blob/main/image_description.ipynb\" target=\"_parent\"><img src=\"https://colab.research.google.com/assets/colab-badge.svg\" alt=\"Open In Colab\"/></a>"
      ]
    },
    {
      "cell_type": "code",
      "metadata": {
        "id": "FLUiA1SkmOzO"
      },
      "source": [
        "# installs"
      ],
      "execution_count": 1,
      "outputs": []
    },
    {
      "cell_type": "code",
      "metadata": {
        "id": "ydR0jWJ3aie6"
      },
      "source": [
        "# imports\n",
        "import scipy.io\n",
        "import cv2\n",
        "from google.colab.patches import cv2_imshow\n",
        "from skimage import io\n",
        "import numpy as np\n",
        "import pandas as pd\n",
        "from PIL import Image \n",
        "import matplotlib.pylab as plt\n",
        "import pickle\n",
        "from skimage import transform\n",
        "from sklearn.model_selection import train_test_split\n",
        "import tensorflow as tf\n",
        "from nltk.tokenize import word_tokenize\n",
        "from nltk.stem import WordNetLemmatizer, LancasterStemmer\n",
        "import spacy\n",
        "import nltk\n",
        "import keras.backend as K\n",
        "from keras.preprocessing.text import Tokenizer\n",
        "from keras.preprocessing.sequence import pad_sequences\n",
        "from keras.utils import to_categorical\n",
        "import re"
      ],
      "execution_count": 2,
      "outputs": []
    },
    {
      "cell_type": "code",
      "metadata": {
        "id": "997Sjj1RmTuf",
        "colab": {
          "base_uri": "https://localhost:8080/"
        },
        "outputId": "e0aa8009-1733-4c7f-ed0a-356e20e0e11d"
      },
      "source": [
        "nltk.download('punkt') #tokenizer\n",
        "nltk.download('wordnet') #lemmatization\n",
        "\n",
        "lemmatizer = WordNetLemmatizer() #lemmatizer\n",
        "\n",
        "sp = spacy.load('en_core_web_sm') #lexical importance find\n",
        "\n",
        "ls = LancasterStemmer()"
      ],
      "execution_count": 3,
      "outputs": [
        {
          "output_type": "stream",
          "text": [
            "[nltk_data] Downloading package punkt to /root/nltk_data...\n",
            "[nltk_data]   Unzipping tokenizers/punkt.zip.\n",
            "[nltk_data] Downloading package wordnet to /root/nltk_data...\n",
            "[nltk_data]   Unzipping corpora/wordnet.zip.\n"
          ],
          "name": "stdout"
        }
      ]
    },
    {
      "cell_type": "code",
      "metadata": {
        "id": "Vcnwjcvnsm9K",
        "colab": {
          "base_uri": "https://localhost:8080/"
        },
        "outputId": "33d8ecfd-a1f5-4306-c99f-a4bdf30b3eca"
      },
      "source": [
        "# data loading\n",
        "!gdown --id 1mrjvJq6XNM8QAgajSgrVGpsj8Vrm3BEm #PASCAL50S\n",
        "\n",
        "mat = scipy.io.loadmat('/content/pascal50S.mat')"
      ],
      "execution_count": 4,
      "outputs": [
        {
          "output_type": "stream",
          "text": [
            "Downloading...\n",
            "From: https://drive.google.com/uc?id=1mrjvJq6XNM8QAgajSgrVGpsj8Vrm3BEm\n",
            "To: /content/pascal50S.mat\n",
            "\r  0% 0.00/1.12M [00:00<?, ?B/s]\r100% 1.12M/1.12M [00:00<00:00, 75.2MB/s]\n"
          ],
          "name": "stdout"
        }
      ]
    },
    {
      "cell_type": "code",
      "metadata": {
        "id": "QwHnF1GlcmXV",
        "colab": {
          "base_uri": "https://localhost:8080/"
        },
        "outputId": "c267b2bb-060d-4766-f802-89fd36dcda6b"
      },
      "source": [
        "#creating tokenizer on the dataset\n",
        "stringX2 = []\n",
        "# stop_words = [\"a\", \"the\", \"is\", \"be\", \"will\"]\n",
        "stop_words=['the', 'a', 'and', 'is', 'be', 'will']\n",
        "\n",
        "for sample in mat[\"train_sent_final\"][0]:\n",
        "  for k in sample[1]:\n",
        "    for sent in k:\n",
        "      new_sent = \"<start> \"\n",
        "      sentence = re.sub(r'[^\\w\\s]','',sent[0])\n",
        "      sentence = ' '.join([word for word in sentence.split() if word not in stop_words])  #removing stop words\n",
        "      for word in sentence.split():\n",
        "        pre_word = lemmatizer.lemmatize(word.lower())\n",
        "        new_sent+=pre_word+\" \"\n",
        "      new_sent+=\"<end>\"\n",
        "      stringX2.append(new_sent)\n",
        "\n",
        "tk = Tokenizer(filters='')\n",
        "tk.fit_on_texts(stringX2)\n",
        "print(len(tk.word_index))"
      ],
      "execution_count": 5,
      "outputs": [
        {
          "output_type": "stream",
          "text": [
            "6801\n"
          ],
          "name": "stdout"
        }
      ]
    },
    {
      "cell_type": "code",
      "metadata": {
        "id": "_0CCZSD-6Vu0",
        "colab": {
          "base_uri": "https://localhost:8080/"
        },
        "outputId": "8748e223-c60e-4f8a-fb13-a9e0279c3fd3"
      },
      "source": [
        "#preprocessing data\n",
        "data = []\n",
        "stop_words=['the', 'a', 'and', 'is', 'be', 'will']\n",
        "for sample in mat[\"train_sent_final\"][0]:\n",
        "  link = sample[0][0]\n",
        "  i=0\n",
        "  for sent in sample[1][0]:\n",
        "    i+=1\n",
        "    new_sent = \"<start> \"\n",
        "    sentence = re.sub(r'[^\\w\\s]','',sent[0])\n",
        "    sentence = ' '.join([word for word in sentence.split() if word not in stop_words])  #removing stop words\n",
        "    for word in sentence.split():\n",
        "      pre_word = lemmatizer.lemmatize(word.lower())\n",
        "      new_sent+=pre_word+\" \"\n",
        "    new_sent+=\"<end>\"\n",
        "    data.append([link, new_sent])\n",
        "    if(i==10):\n",
        "      break\n",
        "print(len(data))\n",
        "print(data[:10])"
      ],
      "execution_count": 6,
      "outputs": [
        {
          "output_type": "stream",
          "text": [
            "10000\n",
            "[['https://filebox.ece.vt.edu/~vrama91/PASCAL/2008_006488.jpg', '<start> man in boat fishing <end>'], ['https://filebox.ece.vt.edu/~vrama91/PASCAL/2008_006488.jpg', '<start> man fishing out of canoe <end>'], ['https://filebox.ece.vt.edu/~vrama91/PASCAL/2008_006488.jpg', '<start> a lone fisherman in rowboat on an empty lake <end>'], ['https://filebox.ece.vt.edu/~vrama91/PASCAL/2008_006488.jpg', '<start> a person fishing in boat on lake <end>'], ['https://filebox.ece.vt.edu/~vrama91/PASCAL/2008_006488.jpg', '<start> a man fishing in river <end>'], ['https://filebox.ece.vt.edu/~vrama91/PASCAL/2008_006488.jpg', '<start> a man fishing in canoe on lake <end>'], ['https://filebox.ece.vt.edu/~vrama91/PASCAL/2008_006488.jpg', '<start> a man fish in canoe in an empty lake <end>'], ['https://filebox.ece.vt.edu/~vrama91/PASCAL/2008_006488.jpg', '<start> a man in canoe fishing <end>'], ['https://filebox.ece.vt.edu/~vrama91/PASCAL/2008_006488.jpg', '<start> a person in canoe fish on lake <end>'], ['https://filebox.ece.vt.edu/~vrama91/PASCAL/2008_006488.jpg', '<start> a man in his canoe fishing on lake <end>']]\n"
          ],
          "name": "stdout"
        }
      ]
    },
    {
      "cell_type": "markdown",
      "metadata": {
        "id": "3Q2kUnc9vtq4"
      },
      "source": [
        "#**Model**"
      ]
    },
    {
      "cell_type": "code",
      "metadata": {
        "id": "0eKu5sh1wZA-",
        "colab": {
          "base_uri": "https://localhost:8080/"
        },
        "outputId": "b20391ef-2590-456c-d381-17268277f5cd"
      },
      "source": [
        "# model making(Image to Vector)\n",
        "# input layer\n",
        "input1 = tf.keras.Input(shape=(224, 224, 3), name='input1')\n",
        "\n",
        "# Transfer Learning with VGG16 model with weights as imagenet\n",
        "vgg16 = tf.keras.applications.VGG16(include_top=False, weights=\"imagenet\", classes=20)\n",
        "vgg16.trainable = False\n",
        "x = vgg16(input1)\n",
        "\n",
        "# Dense Layers\n",
        "x = tf.keras.layers.Flatten(name='flatten')(x)\n",
        "x = tf.keras.layers.BatchNormalization(name='norm1')(x)\n",
        "x = tf.keras.layers.Dense(192, activation='relu', name='dense1')(x)\n",
        "x = tf.keras.layers.BatchNormalization(name='norm2')(x)\n",
        "x = tf.keras.layers.Dense(84, activation='relu', name='dense2')(x)\n",
        "x = tf.keras.layers.BatchNormalization(name='norm3')(x)\n",
        "x = tf.keras.layers.Dense(64, activation='relu', name='dense3')(x)\n",
        "x = tf.keras.layers.BatchNormalization(name='norm4')(x)\n",
        "\n",
        "#Output layer\n",
        "output = tf.keras.layers.Dense(500, activation=\"linear\", name='output')(x)\n",
        "\n",
        "model1 = tf.keras.models.Model(inputs=input1, outputs=output, name='model1')\n",
        "\n",
        "model1.summary()"
      ],
      "execution_count": 49,
      "outputs": [
        {
          "output_type": "stream",
          "text": [
            "Model: \"model1\"\n",
            "_________________________________________________________________\n",
            "Layer (type)                 Output Shape              Param #   \n",
            "=================================================================\n",
            "input1 (InputLayer)          [(None, 224, 224, 3)]     0         \n",
            "_________________________________________________________________\n",
            "vgg16 (Functional)           (None, None, None, 512)   14714688  \n",
            "_________________________________________________________________\n",
            "flatten (Flatten)            (None, 25088)             0         \n",
            "_________________________________________________________________\n",
            "norm1 (BatchNormalization)   (None, 25088)             100352    \n",
            "_________________________________________________________________\n",
            "dense1 (Dense)               (None, 192)               4817088   \n",
            "_________________________________________________________________\n",
            "norm2 (BatchNormalization)   (None, 192)               768       \n",
            "_________________________________________________________________\n",
            "dense2 (Dense)               (None, 84)                16212     \n",
            "_________________________________________________________________\n",
            "norm3 (BatchNormalization)   (None, 84)                336       \n",
            "_________________________________________________________________\n",
            "dense3 (Dense)               (None, 64)                5440      \n",
            "_________________________________________________________________\n",
            "norm4 (BatchNormalization)   (None, 64)                256       \n",
            "_________________________________________________________________\n",
            "output (Dense)               (None, 500)               32500     \n",
            "=================================================================\n",
            "Total params: 19,687,640\n",
            "Trainable params: 4,922,096\n",
            "Non-trainable params: 14,765,544\n",
            "_________________________________________________________________\n"
          ],
          "name": "stdout"
        }
      ]
    },
    {
      "cell_type": "code",
      "metadata": {
        "id": "gozr3bihxXGV"
      },
      "source": [
        "# functions to enable the task\n",
        "\n",
        "def get_coefs(word, *arr): \n",
        "  return word, np.asarray(arr, dtype='float32')\n",
        "\n",
        "def get_embeddings_matrix(embed_path, embed_dim, tokenizer, vocab_len):\n",
        "  embeddings_index = dict(get_coefs(*o.split(\" \")) for o in open(embed_path, errors='ignore'))\n",
        "  embedding_matrix = np.zeros((vocab_len + 1, embed_dim))\n",
        "  for word, index in tokenizer.word_index.items():\n",
        "    if index > vocab_len:\n",
        "      break\n",
        "    else:\n",
        "      try:\n",
        "          embedding_matrix[index] = embeddings_index[word]\n",
        "      except:\n",
        "          continue\n",
        "  return embedding_matrix\n"
      ],
      "execution_count": 61,
      "outputs": []
    },
    {
      "cell_type": "code",
      "metadata": {
        "colab": {
          "base_uri": "https://localhost:8080/"
        },
        "id": "zKlsHw4pxeA3",
        "outputId": "18abddc7-a68c-4dfa-90c7-d73726dfd148"
      },
      "source": [
        "!gdown --id 1C4EF6dN5sE28XFm7CefcWBgzRwfF90Pz\n",
        "!unzip /content/glove.42B.300d.zip &> /dev/null\n",
        "!rm -rf /content/glove.42B.300d.zip &> /dev/null"
      ],
      "execution_count": 62,
      "outputs": [
        {
          "output_type": "stream",
          "text": [
            "Downloading...\n",
            "From: https://drive.google.com/uc?id=1C4EF6dN5sE28XFm7CefcWBgzRwfF90Pz\n",
            "To: /content/glove.42B.300d.zip\n",
            "1.88GB [00:23, 78.5MB/s]\n"
          ],
          "name": "stdout"
        }
      ]
    },
    {
      "cell_type": "code",
      "metadata": {
        "colab": {
          "base_uri": "https://localhost:8080/"
        },
        "id": "4q5vWfLryAKk",
        "outputId": "6d3dc2e6-bd4a-4959-8eb1-64fd24245d1d"
      },
      "source": [
        "embed_path = '/content/glove.42B.300d.txt'\n",
        "EMBED_DIM = 300\n",
        "EMBEDDING_MATRIX = get_embeddings_matrix(embed_path, EMBED_DIM, tk, len(tk.word_index))\n",
        "print(\"Embeddings Matrix shape: \", EMBEDDING_MATRIX.shape)"
      ],
      "execution_count": 63,
      "outputs": [
        {
          "output_type": "stream",
          "text": [
            "Embeddings Matrix shape:  (6802, 300)\n"
          ],
          "name": "stdout"
        }
      ]
    },
    {
      "cell_type": "code",
      "metadata": {
        "id": "FjybQaQR4VUC"
      },
      "source": [
        "INP_LEN1 = 100 #(Text to Vector)\n",
        "input2 = tf.keras.Input(shape=(INP_LEN1,), name='input')\n",
        "# embed = tf.keras.layers.Embedding((len(tk.word_counts)+1),INP_LEN1)(input2)\n",
        "embed = tf.keras.layers.Embedding(len(tk.word_index)+1, EMBED_DIM, weights=[EMBEDDING_MATRIX], trainable=False)(input2)\n",
        "rnn1 = tf.keras.layers.LSTM(192, return_sequences=True, dropout=0.3)(embed)\n",
        "pool = tf.keras.layers.MaxPool1D()(rnn1)\n",
        "rnn2 = tf.keras.layers.LSTM(128, dropout=0.2)(pool)\n",
        "dense1 = tf.keras.layers.Dense(84, activation='relu')(rnn2)\n",
        "drop1 = tf.keras.layers.Dropout(0.2)(dense1)\n",
        "norm1 = tf.keras.layers.BatchNormalization()(drop1)\n",
        "output = tf.keras.layers.Dense(500, activation='linear')(norm1)\n",
        "\n",
        "model2 = tf.keras.models.Model(inputs=input2, outputs=output, name='model2')\n",
        "model2.summary()\n"
      ],
      "execution_count": null,
      "outputs": []
    },
    {
      "cell_type": "markdown",
      "metadata": {
        "id": "jytYPhuj47A-"
      },
      "source": [
        "**Concatenating the Image Model(Model1) and Text Model(Model2)**"
      ]
    },
    {
      "cell_type": "code",
      "metadata": {
        "id": "rTmoWQ-f46cb"
      },
      "source": [
        "concate = tf.keras.layers.Concatenate(axis=-1)([model1.output, model2.output])\n",
        "final_dense = tf.keras.layers.Dense(256, activation='relu')(concate)\n",
        "Output = tf.keras.layers.Dense(len(tk.word_counts)+1, activation='softmax')(final_dense)\n",
        "finalModel  = tf.keras.models.Model(inputs=[input1,input2],outputs=Output)\n",
        "\n",
        "finalModel.summary()\n",
        "tf.keras.utils.plot_model(finalModel,to_file=\"finalModel.png\")"
      ],
      "execution_count": null,
      "outputs": []
    },
    {
      "cell_type": "code",
      "metadata": {
        "id": "3taFalYH5Trg"
      },
      "source": [
        ""
      ],
      "execution_count": null,
      "outputs": []
    },
    {
      "cell_type": "markdown",
      "metadata": {
        "id": "rKZWDakNowru"
      },
      "source": [
        "Model2\n"
      ]
    },
    {
      "cell_type": "code",
      "metadata": {
        "id": "0zfhMVnq1sRg"
      },
      "source": [
        "#data generator to \n",
        "\n",
        "def data_generator(data, tk, new_shape, batch_size):\n",
        "  X1, X2, y = list(), list(), list()\n",
        "  n = 0\n",
        "  while 1:\n",
        "    for point in data:\n",
        "      n+=1\n",
        "      photo = io.imread(point[0])\n",
        "      photo = transform.resize(image=photo, output_shape=new_shape)\n",
        "      sent = point[1]\n",
        "      seq = [tk.word_index[word] for word in sent.split(' ') if word in tk.word_index.keys()]\n",
        "      for i in range(1, len(seq)):\n",
        "        in_seq, out_seq = seq[:i], seq[i]\n",
        "        in_seq = pad_sequences([in_seq], maxlen=100, padding='post')[0]\n",
        "        out_seq = to_categorical([out_seq], num_classes=len(tk.word_index)+1)[0]\n",
        "        X1.append(photo)\n",
        "        X2.append(in_seq)\n",
        "        y.append(out_seq)\n",
        "      if n == batch_size:\n",
        "        yield ([np.asarray(X1), np.asarray(X2)], np.asarray(y))\n",
        "        X1, X2, y = list(), list(), list()\n",
        "        n=0\n",
        "\n",
        "# predict function\n",
        "index_word = dict(map(reversed, tk.word_index.items()))\n",
        "def predict(image, finalModel):\n",
        "  partial_caption = \"<start>\"\n",
        "  for i in range(100):\n",
        "    seq = [tk.word_index[word] for word in partial_caption.split() if word in tk.word_index.keys()]\n",
        "    seq = pad_sequences([seq], maxlen=100, padding='post')\n",
        "    yhat = finalModel.predict([np.expand_dims(image, 0),[seq]], verbose=0)\n",
        "    yhat = np.argmax(yhat)\n",
        "    word = index_word[yhat]\n",
        "    partial_caption += (' ' + word)\n",
        "    if word == \"<end>\":\n",
        "        break\n",
        "  final_caption = partial_caption.split()[1:-1]\n",
        "  final_caption = ' '.join(final_caption)\n",
        "  return final_caption"
      ],
      "execution_count": 72,
      "outputs": []
    },
    {
      "cell_type": "markdown",
      "metadata": {
        "id": "m9qgzzyP6d02"
      },
      "source": [
        "##Model1"
      ]
    },
    {
      "cell_type": "code",
      "metadata": {
        "id": "AFF7k0Mio0rC"
      },
      "source": [
        "finalModel.compile(optimizer=tf.keras.optimizers.Adam(lr = 0.0001), loss='categorical_crossentropy')"
      ],
      "execution_count": 73,
      "outputs": []
    },
    {
      "cell_type": "code",
      "metadata": {
        "id": "dnb2Und-pL2u"
      },
      "source": [
        "batch_size = 16\n",
        "generator = data_generator(data,tk, (224, 224, 3), batch_size)\n",
        "finalModel.fit(generator, epochs=5, shuffle=True)\n",
        "# batches = (53500/batch_size)"
      ],
      "execution_count": null,
      "outputs": []
    },
    {
      "cell_type": "markdown",
      "metadata": {
        "id": "3xJncJ2q6h47"
      },
      "source": [
        "## Model2"
      ]
    },
    {
      "cell_type": "code",
      "metadata": {
        "id": "TULncpnLuZka"
      },
      "source": [
        "# define the captioning model\n",
        "from keras.layers.merge import add\n",
        "\n",
        "def define_model(vocab_size, max_length):\n",
        "\t# feature extractor model\n",
        "\tinputs1 = tf.keras.Input(shape=(224, 224, 3))\n",
        "\tfe1 = tf.keras.layers.Dropout(0.5)(inputs1)\n",
        "\tfe2 = tf.keras.layers.Dense(256, activation='relu')(fe1)\n",
        "\t# sequence model\n",
        "\tinputs2 = tf.keras.Input(shape=(max_length,))\n",
        "\tse1 = tf.keras.layers.Embedding(vocab_size, 256, mask_zero=True)(inputs2)\n",
        "\tse2 = tf.keras.layers.Dropout(0.5)(se1)\n",
        "\tse3 = tf.keras.layers.LSTM(256)(se2)\n",
        "\t# decoder model\n",
        "\tdecoder1 = add([fe2, se3])\n",
        "\tdecoder2 = tf.keras.layers.Dense(256, activation='relu')(decoder1)\n",
        "\toutputs = tf.keras.layers.Dense(vocab_size, activation='softmax')(decoder2)\n",
        "\t# tie it together [image, seq] [word]\n",
        "\tmodel = tf.keras.models.Model(inputs=[inputs1, inputs2], outputs=outputs)\n",
        "\tmodel.compile(loss='categorical_crossentropy', optimizer='adam')\n",
        "\t# summarize model\n",
        "\tprint(model.summary())\n",
        "\ttf.keras.utils.plot_model(model, to_file='model.png', show_shapes=True)\n",
        "\treturn model\n",
        "\n"
      ],
      "execution_count": 96,
      "outputs": []
    },
    {
      "cell_type": "code",
      "metadata": {
        "id": "gUQlB5sq5ri8",
        "outputId": "63303ac4-39ee-4a83-84f4-0117a0ddb9eb",
        "colab": {
          "base_uri": "https://localhost:8080/",
          "height": 1000
        }
      },
      "source": [
        "max_length = 100\n",
        "vocab_size = len(tk.word_counts)\n",
        "model_g1 = define_model(vocab_size, max_length)\n",
        "\n",
        "\n",
        "batch_size = 16\n",
        "generator = data_generator(data,tk, (224, 224, 3), batch_size)\n",
        "model_g1.fit(generator, epochs=5, shuffle=True)\n",
        "# batches = (53500/batch_size)"
      ],
      "execution_count": 97,
      "outputs": [
        {
          "output_type": "stream",
          "text": [
            "Model: \"model_6\"\n",
            "__________________________________________________________________________________________________\n",
            "Layer (type)                    Output Shape         Param #     Connected to                     \n",
            "==================================================================================================\n",
            "input_25 (InputLayer)           [(None, 100)]        0                                            \n",
            "__________________________________________________________________________________________________\n",
            "input_24 (InputLayer)           [(None, 224, 224, 3) 0                                            \n",
            "__________________________________________________________________________________________________\n",
            "embedding_13 (Embedding)        (None, 100, 256)     1741056     input_25[0][0]                   \n",
            "__________________________________________________________________________________________________\n",
            "dropout_23 (Dropout)            (None, 224, 224, 3)  0           input_24[0][0]                   \n",
            "__________________________________________________________________________________________________\n",
            "dropout_24 (Dropout)            (None, 100, 256)     0           embedding_13[0][0]               \n",
            "__________________________________________________________________________________________________\n",
            "dense_30 (Dense)                (None, 224, 224, 256 1024        dropout_23[0][0]                 \n",
            "__________________________________________________________________________________________________\n",
            "lstm_16 (LSTM)                  (None, 256)          525312      dropout_24[0][0]                 \n",
            "__________________________________________________________________________________________________\n",
            "add_4 (Add)                     (None, 224, 224, 256 0           dense_30[0][0]                   \n",
            "                                                                 lstm_16[0][0]                    \n",
            "__________________________________________________________________________________________________\n",
            "dense_31 (Dense)                (None, 224, 224, 256 65792       add_4[0][0]                      \n",
            "__________________________________________________________________________________________________\n",
            "dense_32 (Dense)                (None, 224, 224, 680 1747857     dense_31[0][0]                   \n",
            "==================================================================================================\n",
            "Total params: 4,081,041\n",
            "Trainable params: 4,081,041\n",
            "Non-trainable params: 0\n",
            "__________________________________________________________________________________________________\n",
            "None\n",
            "Epoch 1/5\n"
          ],
          "name": "stdout"
        },
        {
          "output_type": "error",
          "ename": "ValueError",
          "evalue": "ignored",
          "traceback": [
            "\u001b[0;31m---------------------------------------------------------------------------\u001b[0m",
            "\u001b[0;31mValueError\u001b[0m                                Traceback (most recent call last)",
            "\u001b[0;32m<ipython-input-97-6d98a6024fb8>\u001b[0m in \u001b[0;36m<module>\u001b[0;34m()\u001b[0m\n\u001b[1;32m      6\u001b[0m \u001b[0mbatch_size\u001b[0m \u001b[0;34m=\u001b[0m \u001b[0;36m16\u001b[0m\u001b[0;34m\u001b[0m\u001b[0;34m\u001b[0m\u001b[0m\n\u001b[1;32m      7\u001b[0m \u001b[0mgenerator\u001b[0m \u001b[0;34m=\u001b[0m \u001b[0mdata_generator\u001b[0m\u001b[0;34m(\u001b[0m\u001b[0mdata\u001b[0m\u001b[0;34m,\u001b[0m\u001b[0mtk\u001b[0m\u001b[0;34m,\u001b[0m \u001b[0;34m(\u001b[0m\u001b[0;36m224\u001b[0m\u001b[0;34m,\u001b[0m \u001b[0;36m224\u001b[0m\u001b[0;34m,\u001b[0m \u001b[0;36m3\u001b[0m\u001b[0;34m)\u001b[0m\u001b[0;34m,\u001b[0m \u001b[0mbatch_size\u001b[0m\u001b[0;34m)\u001b[0m\u001b[0;34m\u001b[0m\u001b[0;34m\u001b[0m\u001b[0m\n\u001b[0;32m----> 8\u001b[0;31m \u001b[0mmodel_g1\u001b[0m\u001b[0;34m.\u001b[0m\u001b[0mfit\u001b[0m\u001b[0;34m(\u001b[0m\u001b[0mgenerator\u001b[0m\u001b[0;34m,\u001b[0m \u001b[0mepochs\u001b[0m\u001b[0;34m=\u001b[0m\u001b[0;36m5\u001b[0m\u001b[0;34m,\u001b[0m \u001b[0mshuffle\u001b[0m\u001b[0;34m=\u001b[0m\u001b[0;32mTrue\u001b[0m\u001b[0;34m)\u001b[0m\u001b[0;34m\u001b[0m\u001b[0;34m\u001b[0m\u001b[0m\n\u001b[0m\u001b[1;32m      9\u001b[0m \u001b[0;31m# batches = (53500/batch_size)\u001b[0m\u001b[0;34m\u001b[0m\u001b[0;34m\u001b[0m\u001b[0;34m\u001b[0m\u001b[0m\n",
            "\u001b[0;32m/usr/local/lib/python3.7/dist-packages/tensorflow/python/keras/engine/training.py\u001b[0m in \u001b[0;36mfit\u001b[0;34m(self, x, y, batch_size, epochs, verbose, callbacks, validation_split, validation_data, shuffle, class_weight, sample_weight, initial_epoch, steps_per_epoch, validation_steps, validation_batch_size, validation_freq, max_queue_size, workers, use_multiprocessing)\u001b[0m\n\u001b[1;32m   1098\u001b[0m                 _r=1):\n\u001b[1;32m   1099\u001b[0m               \u001b[0mcallbacks\u001b[0m\u001b[0;34m.\u001b[0m\u001b[0mon_train_batch_begin\u001b[0m\u001b[0;34m(\u001b[0m\u001b[0mstep\u001b[0m\u001b[0;34m)\u001b[0m\u001b[0;34m\u001b[0m\u001b[0;34m\u001b[0m\u001b[0m\n\u001b[0;32m-> 1100\u001b[0;31m               \u001b[0mtmp_logs\u001b[0m \u001b[0;34m=\u001b[0m \u001b[0mself\u001b[0m\u001b[0;34m.\u001b[0m\u001b[0mtrain_function\u001b[0m\u001b[0;34m(\u001b[0m\u001b[0miterator\u001b[0m\u001b[0;34m)\u001b[0m\u001b[0;34m\u001b[0m\u001b[0;34m\u001b[0m\u001b[0m\n\u001b[0m\u001b[1;32m   1101\u001b[0m               \u001b[0;32mif\u001b[0m \u001b[0mdata_handler\u001b[0m\u001b[0;34m.\u001b[0m\u001b[0mshould_sync\u001b[0m\u001b[0;34m:\u001b[0m\u001b[0;34m\u001b[0m\u001b[0;34m\u001b[0m\u001b[0m\n\u001b[1;32m   1102\u001b[0m                 \u001b[0mcontext\u001b[0m\u001b[0;34m.\u001b[0m\u001b[0masync_wait\u001b[0m\u001b[0;34m(\u001b[0m\u001b[0;34m)\u001b[0m\u001b[0;34m\u001b[0m\u001b[0;34m\u001b[0m\u001b[0m\n",
            "\u001b[0;32m/usr/local/lib/python3.7/dist-packages/tensorflow/python/eager/def_function.py\u001b[0m in \u001b[0;36m__call__\u001b[0;34m(self, *args, **kwds)\u001b[0m\n\u001b[1;32m    826\u001b[0m     \u001b[0mtracing_count\u001b[0m \u001b[0;34m=\u001b[0m \u001b[0mself\u001b[0m\u001b[0;34m.\u001b[0m\u001b[0mexperimental_get_tracing_count\u001b[0m\u001b[0;34m(\u001b[0m\u001b[0;34m)\u001b[0m\u001b[0;34m\u001b[0m\u001b[0;34m\u001b[0m\u001b[0m\n\u001b[1;32m    827\u001b[0m     \u001b[0;32mwith\u001b[0m \u001b[0mtrace\u001b[0m\u001b[0;34m.\u001b[0m\u001b[0mTrace\u001b[0m\u001b[0;34m(\u001b[0m\u001b[0mself\u001b[0m\u001b[0;34m.\u001b[0m\u001b[0m_name\u001b[0m\u001b[0;34m)\u001b[0m \u001b[0;32mas\u001b[0m \u001b[0mtm\u001b[0m\u001b[0;34m:\u001b[0m\u001b[0;34m\u001b[0m\u001b[0;34m\u001b[0m\u001b[0m\n\u001b[0;32m--> 828\u001b[0;31m       \u001b[0mresult\u001b[0m \u001b[0;34m=\u001b[0m \u001b[0mself\u001b[0m\u001b[0;34m.\u001b[0m\u001b[0m_call\u001b[0m\u001b[0;34m(\u001b[0m\u001b[0;34m*\u001b[0m\u001b[0margs\u001b[0m\u001b[0;34m,\u001b[0m \u001b[0;34m**\u001b[0m\u001b[0mkwds\u001b[0m\u001b[0;34m)\u001b[0m\u001b[0;34m\u001b[0m\u001b[0;34m\u001b[0m\u001b[0m\n\u001b[0m\u001b[1;32m    829\u001b[0m       \u001b[0mcompiler\u001b[0m \u001b[0;34m=\u001b[0m \u001b[0;34m\"xla\"\u001b[0m \u001b[0;32mif\u001b[0m \u001b[0mself\u001b[0m\u001b[0;34m.\u001b[0m\u001b[0m_experimental_compile\u001b[0m \u001b[0;32melse\u001b[0m \u001b[0;34m\"nonXla\"\u001b[0m\u001b[0;34m\u001b[0m\u001b[0;34m\u001b[0m\u001b[0m\n\u001b[1;32m    830\u001b[0m       \u001b[0mnew_tracing_count\u001b[0m \u001b[0;34m=\u001b[0m \u001b[0mself\u001b[0m\u001b[0;34m.\u001b[0m\u001b[0mexperimental_get_tracing_count\u001b[0m\u001b[0;34m(\u001b[0m\u001b[0;34m)\u001b[0m\u001b[0;34m\u001b[0m\u001b[0;34m\u001b[0m\u001b[0m\n",
            "\u001b[0;32m/usr/local/lib/python3.7/dist-packages/tensorflow/python/eager/def_function.py\u001b[0m in \u001b[0;36m_call\u001b[0;34m(self, *args, **kwds)\u001b[0m\n\u001b[1;32m    869\u001b[0m       \u001b[0;31m# This is the first call of __call__, so we have to initialize.\u001b[0m\u001b[0;34m\u001b[0m\u001b[0;34m\u001b[0m\u001b[0;34m\u001b[0m\u001b[0m\n\u001b[1;32m    870\u001b[0m       \u001b[0minitializers\u001b[0m \u001b[0;34m=\u001b[0m \u001b[0;34m[\u001b[0m\u001b[0;34m]\u001b[0m\u001b[0;34m\u001b[0m\u001b[0;34m\u001b[0m\u001b[0m\n\u001b[0;32m--> 871\u001b[0;31m       \u001b[0mself\u001b[0m\u001b[0;34m.\u001b[0m\u001b[0m_initialize\u001b[0m\u001b[0;34m(\u001b[0m\u001b[0margs\u001b[0m\u001b[0;34m,\u001b[0m \u001b[0mkwds\u001b[0m\u001b[0;34m,\u001b[0m \u001b[0madd_initializers_to\u001b[0m\u001b[0;34m=\u001b[0m\u001b[0minitializers\u001b[0m\u001b[0;34m)\u001b[0m\u001b[0;34m\u001b[0m\u001b[0;34m\u001b[0m\u001b[0m\n\u001b[0m\u001b[1;32m    872\u001b[0m     \u001b[0;32mfinally\u001b[0m\u001b[0;34m:\u001b[0m\u001b[0;34m\u001b[0m\u001b[0;34m\u001b[0m\u001b[0m\n\u001b[1;32m    873\u001b[0m       \u001b[0;31m# At this point we know that the initialization is complete (or less\u001b[0m\u001b[0;34m\u001b[0m\u001b[0;34m\u001b[0m\u001b[0;34m\u001b[0m\u001b[0m\n",
            "\u001b[0;32m/usr/local/lib/python3.7/dist-packages/tensorflow/python/eager/def_function.py\u001b[0m in \u001b[0;36m_initialize\u001b[0;34m(self, args, kwds, add_initializers_to)\u001b[0m\n\u001b[1;32m    724\u001b[0m     self._concrete_stateful_fn = (\n\u001b[1;32m    725\u001b[0m         self._stateful_fn._get_concrete_function_internal_garbage_collected(  # pylint: disable=protected-access\n\u001b[0;32m--> 726\u001b[0;31m             *args, **kwds))\n\u001b[0m\u001b[1;32m    727\u001b[0m \u001b[0;34m\u001b[0m\u001b[0m\n\u001b[1;32m    728\u001b[0m     \u001b[0;32mdef\u001b[0m \u001b[0minvalid_creator_scope\u001b[0m\u001b[0;34m(\u001b[0m\u001b[0;34m*\u001b[0m\u001b[0munused_args\u001b[0m\u001b[0;34m,\u001b[0m \u001b[0;34m**\u001b[0m\u001b[0munused_kwds\u001b[0m\u001b[0;34m)\u001b[0m\u001b[0;34m:\u001b[0m\u001b[0;34m\u001b[0m\u001b[0;34m\u001b[0m\u001b[0m\n",
            "\u001b[0;32m/usr/local/lib/python3.7/dist-packages/tensorflow/python/eager/function.py\u001b[0m in \u001b[0;36m_get_concrete_function_internal_garbage_collected\u001b[0;34m(self, *args, **kwargs)\u001b[0m\n\u001b[1;32m   2967\u001b[0m       \u001b[0margs\u001b[0m\u001b[0;34m,\u001b[0m \u001b[0mkwargs\u001b[0m \u001b[0;34m=\u001b[0m \u001b[0;32mNone\u001b[0m\u001b[0;34m,\u001b[0m \u001b[0;32mNone\u001b[0m\u001b[0;34m\u001b[0m\u001b[0;34m\u001b[0m\u001b[0m\n\u001b[1;32m   2968\u001b[0m     \u001b[0;32mwith\u001b[0m \u001b[0mself\u001b[0m\u001b[0;34m.\u001b[0m\u001b[0m_lock\u001b[0m\u001b[0;34m:\u001b[0m\u001b[0;34m\u001b[0m\u001b[0;34m\u001b[0m\u001b[0m\n\u001b[0;32m-> 2969\u001b[0;31m       \u001b[0mgraph_function\u001b[0m\u001b[0;34m,\u001b[0m \u001b[0m_\u001b[0m \u001b[0;34m=\u001b[0m \u001b[0mself\u001b[0m\u001b[0;34m.\u001b[0m\u001b[0m_maybe_define_function\u001b[0m\u001b[0;34m(\u001b[0m\u001b[0margs\u001b[0m\u001b[0;34m,\u001b[0m \u001b[0mkwargs\u001b[0m\u001b[0;34m)\u001b[0m\u001b[0;34m\u001b[0m\u001b[0;34m\u001b[0m\u001b[0m\n\u001b[0m\u001b[1;32m   2970\u001b[0m     \u001b[0;32mreturn\u001b[0m \u001b[0mgraph_function\u001b[0m\u001b[0;34m\u001b[0m\u001b[0;34m\u001b[0m\u001b[0m\n\u001b[1;32m   2971\u001b[0m \u001b[0;34m\u001b[0m\u001b[0m\n",
            "\u001b[0;32m/usr/local/lib/python3.7/dist-packages/tensorflow/python/eager/function.py\u001b[0m in \u001b[0;36m_maybe_define_function\u001b[0;34m(self, args, kwargs)\u001b[0m\n\u001b[1;32m   3359\u001b[0m \u001b[0;34m\u001b[0m\u001b[0m\n\u001b[1;32m   3360\u001b[0m           \u001b[0mself\u001b[0m\u001b[0;34m.\u001b[0m\u001b[0m_function_cache\u001b[0m\u001b[0;34m.\u001b[0m\u001b[0mmissed\u001b[0m\u001b[0;34m.\u001b[0m\u001b[0madd\u001b[0m\u001b[0;34m(\u001b[0m\u001b[0mcall_context_key\u001b[0m\u001b[0;34m)\u001b[0m\u001b[0;34m\u001b[0m\u001b[0;34m\u001b[0m\u001b[0m\n\u001b[0;32m-> 3361\u001b[0;31m           \u001b[0mgraph_function\u001b[0m \u001b[0;34m=\u001b[0m \u001b[0mself\u001b[0m\u001b[0;34m.\u001b[0m\u001b[0m_create_graph_function\u001b[0m\u001b[0;34m(\u001b[0m\u001b[0margs\u001b[0m\u001b[0;34m,\u001b[0m \u001b[0mkwargs\u001b[0m\u001b[0;34m)\u001b[0m\u001b[0;34m\u001b[0m\u001b[0;34m\u001b[0m\u001b[0m\n\u001b[0m\u001b[1;32m   3362\u001b[0m           \u001b[0mself\u001b[0m\u001b[0;34m.\u001b[0m\u001b[0m_function_cache\u001b[0m\u001b[0;34m.\u001b[0m\u001b[0mprimary\u001b[0m\u001b[0;34m[\u001b[0m\u001b[0mcache_key\u001b[0m\u001b[0;34m]\u001b[0m \u001b[0;34m=\u001b[0m \u001b[0mgraph_function\u001b[0m\u001b[0;34m\u001b[0m\u001b[0;34m\u001b[0m\u001b[0m\n\u001b[1;32m   3363\u001b[0m \u001b[0;34m\u001b[0m\u001b[0m\n",
            "\u001b[0;32m/usr/local/lib/python3.7/dist-packages/tensorflow/python/eager/function.py\u001b[0m in \u001b[0;36m_create_graph_function\u001b[0;34m(self, args, kwargs, override_flat_arg_shapes)\u001b[0m\n\u001b[1;32m   3204\u001b[0m             \u001b[0marg_names\u001b[0m\u001b[0;34m=\u001b[0m\u001b[0marg_names\u001b[0m\u001b[0;34m,\u001b[0m\u001b[0;34m\u001b[0m\u001b[0;34m\u001b[0m\u001b[0m\n\u001b[1;32m   3205\u001b[0m             \u001b[0moverride_flat_arg_shapes\u001b[0m\u001b[0;34m=\u001b[0m\u001b[0moverride_flat_arg_shapes\u001b[0m\u001b[0;34m,\u001b[0m\u001b[0;34m\u001b[0m\u001b[0;34m\u001b[0m\u001b[0m\n\u001b[0;32m-> 3206\u001b[0;31m             capture_by_value=self._capture_by_value),\n\u001b[0m\u001b[1;32m   3207\u001b[0m         \u001b[0mself\u001b[0m\u001b[0;34m.\u001b[0m\u001b[0m_function_attributes\u001b[0m\u001b[0;34m,\u001b[0m\u001b[0;34m\u001b[0m\u001b[0;34m\u001b[0m\u001b[0m\n\u001b[1;32m   3208\u001b[0m         \u001b[0mfunction_spec\u001b[0m\u001b[0;34m=\u001b[0m\u001b[0mself\u001b[0m\u001b[0;34m.\u001b[0m\u001b[0mfunction_spec\u001b[0m\u001b[0;34m,\u001b[0m\u001b[0;34m\u001b[0m\u001b[0;34m\u001b[0m\u001b[0m\n",
            "\u001b[0;32m/usr/local/lib/python3.7/dist-packages/tensorflow/python/framework/func_graph.py\u001b[0m in \u001b[0;36mfunc_graph_from_py_func\u001b[0;34m(name, python_func, args, kwargs, signature, func_graph, autograph, autograph_options, add_control_dependencies, arg_names, op_return_value, collections, capture_by_value, override_flat_arg_shapes)\u001b[0m\n\u001b[1;32m    988\u001b[0m         \u001b[0m_\u001b[0m\u001b[0;34m,\u001b[0m \u001b[0moriginal_func\u001b[0m \u001b[0;34m=\u001b[0m \u001b[0mtf_decorator\u001b[0m\u001b[0;34m.\u001b[0m\u001b[0munwrap\u001b[0m\u001b[0;34m(\u001b[0m\u001b[0mpython_func\u001b[0m\u001b[0;34m)\u001b[0m\u001b[0;34m\u001b[0m\u001b[0;34m\u001b[0m\u001b[0m\n\u001b[1;32m    989\u001b[0m \u001b[0;34m\u001b[0m\u001b[0m\n\u001b[0;32m--> 990\u001b[0;31m       \u001b[0mfunc_outputs\u001b[0m \u001b[0;34m=\u001b[0m \u001b[0mpython_func\u001b[0m\u001b[0;34m(\u001b[0m\u001b[0;34m*\u001b[0m\u001b[0mfunc_args\u001b[0m\u001b[0;34m,\u001b[0m \u001b[0;34m**\u001b[0m\u001b[0mfunc_kwargs\u001b[0m\u001b[0;34m)\u001b[0m\u001b[0;34m\u001b[0m\u001b[0;34m\u001b[0m\u001b[0m\n\u001b[0m\u001b[1;32m    991\u001b[0m \u001b[0;34m\u001b[0m\u001b[0m\n\u001b[1;32m    992\u001b[0m       \u001b[0;31m# invariant: `func_outputs` contains only Tensors, CompositeTensors,\u001b[0m\u001b[0;34m\u001b[0m\u001b[0;34m\u001b[0m\u001b[0;34m\u001b[0m\u001b[0m\n",
            "\u001b[0;32m/usr/local/lib/python3.7/dist-packages/tensorflow/python/eager/def_function.py\u001b[0m in \u001b[0;36mwrapped_fn\u001b[0;34m(*args, **kwds)\u001b[0m\n\u001b[1;32m    632\u001b[0m             \u001b[0mxla_context\u001b[0m\u001b[0;34m.\u001b[0m\u001b[0mExit\u001b[0m\u001b[0;34m(\u001b[0m\u001b[0;34m)\u001b[0m\u001b[0;34m\u001b[0m\u001b[0;34m\u001b[0m\u001b[0m\n\u001b[1;32m    633\u001b[0m         \u001b[0;32melse\u001b[0m\u001b[0;34m:\u001b[0m\u001b[0;34m\u001b[0m\u001b[0;34m\u001b[0m\u001b[0m\n\u001b[0;32m--> 634\u001b[0;31m           \u001b[0mout\u001b[0m \u001b[0;34m=\u001b[0m \u001b[0mweak_wrapped_fn\u001b[0m\u001b[0;34m(\u001b[0m\u001b[0;34m)\u001b[0m\u001b[0;34m.\u001b[0m\u001b[0m__wrapped__\u001b[0m\u001b[0;34m(\u001b[0m\u001b[0;34m*\u001b[0m\u001b[0margs\u001b[0m\u001b[0;34m,\u001b[0m \u001b[0;34m**\u001b[0m\u001b[0mkwds\u001b[0m\u001b[0;34m)\u001b[0m\u001b[0;34m\u001b[0m\u001b[0;34m\u001b[0m\u001b[0m\n\u001b[0m\u001b[1;32m    635\u001b[0m         \u001b[0;32mreturn\u001b[0m \u001b[0mout\u001b[0m\u001b[0;34m\u001b[0m\u001b[0;34m\u001b[0m\u001b[0m\n\u001b[1;32m    636\u001b[0m \u001b[0;34m\u001b[0m\u001b[0m\n",
            "\u001b[0;32m/usr/local/lib/python3.7/dist-packages/tensorflow/python/framework/func_graph.py\u001b[0m in \u001b[0;36mwrapper\u001b[0;34m(*args, **kwargs)\u001b[0m\n\u001b[1;32m    975\u001b[0m           \u001b[0;32mexcept\u001b[0m \u001b[0mException\u001b[0m \u001b[0;32mas\u001b[0m \u001b[0me\u001b[0m\u001b[0;34m:\u001b[0m  \u001b[0;31m# pylint:disable=broad-except\u001b[0m\u001b[0;34m\u001b[0m\u001b[0;34m\u001b[0m\u001b[0m\n\u001b[1;32m    976\u001b[0m             \u001b[0;32mif\u001b[0m \u001b[0mhasattr\u001b[0m\u001b[0;34m(\u001b[0m\u001b[0me\u001b[0m\u001b[0;34m,\u001b[0m \u001b[0;34m\"ag_error_metadata\"\u001b[0m\u001b[0;34m)\u001b[0m\u001b[0;34m:\u001b[0m\u001b[0;34m\u001b[0m\u001b[0;34m\u001b[0m\u001b[0m\n\u001b[0;32m--> 977\u001b[0;31m               \u001b[0;32mraise\u001b[0m \u001b[0me\u001b[0m\u001b[0;34m.\u001b[0m\u001b[0mag_error_metadata\u001b[0m\u001b[0;34m.\u001b[0m\u001b[0mto_exception\u001b[0m\u001b[0;34m(\u001b[0m\u001b[0me\u001b[0m\u001b[0;34m)\u001b[0m\u001b[0;34m\u001b[0m\u001b[0;34m\u001b[0m\u001b[0m\n\u001b[0m\u001b[1;32m    978\u001b[0m             \u001b[0;32melse\u001b[0m\u001b[0;34m:\u001b[0m\u001b[0;34m\u001b[0m\u001b[0;34m\u001b[0m\u001b[0m\n\u001b[1;32m    979\u001b[0m               \u001b[0;32mraise\u001b[0m\u001b[0;34m\u001b[0m\u001b[0;34m\u001b[0m\u001b[0m\n",
            "\u001b[0;31mValueError\u001b[0m: in user code:\n\n    /usr/local/lib/python3.7/dist-packages/tensorflow/python/keras/engine/training.py:805 train_function  *\n        return step_function(self, iterator)\n    /usr/local/lib/python3.7/dist-packages/tensorflow/python/keras/engine/training.py:795 step_function  **\n        outputs = model.distribute_strategy.run(run_step, args=(data,))\n    /usr/local/lib/python3.7/dist-packages/tensorflow/python/distribute/distribute_lib.py:1259 run\n        return self._extended.call_for_each_replica(fn, args=args, kwargs=kwargs)\n    /usr/local/lib/python3.7/dist-packages/tensorflow/python/distribute/distribute_lib.py:2730 call_for_each_replica\n        return self._call_for_each_replica(fn, args, kwargs)\n    /usr/local/lib/python3.7/dist-packages/tensorflow/python/distribute/distribute_lib.py:3417 _call_for_each_replica\n        return fn(*args, **kwargs)\n    /usr/local/lib/python3.7/dist-packages/tensorflow/python/keras/engine/training.py:788 run_step  **\n        outputs = model.train_step(data)\n    /usr/local/lib/python3.7/dist-packages/tensorflow/python/keras/engine/training.py:756 train_step\n        y, y_pred, sample_weight, regularization_losses=self.losses)\n    /usr/local/lib/python3.7/dist-packages/tensorflow/python/keras/engine/compile_utils.py:203 __call__\n        loss_value = loss_obj(y_t, y_p, sample_weight=sw)\n    /usr/local/lib/python3.7/dist-packages/tensorflow/python/keras/losses.py:152 __call__\n        losses = call_fn(y_true, y_pred)\n    /usr/local/lib/python3.7/dist-packages/tensorflow/python/keras/losses.py:256 call  **\n        return ag_fn(y_true, y_pred, **self._fn_kwargs)\n    /usr/local/lib/python3.7/dist-packages/tensorflow/python/util/dispatch.py:201 wrapper\n        return target(*args, **kwargs)\n    /usr/local/lib/python3.7/dist-packages/tensorflow/python/keras/losses.py:1537 categorical_crossentropy\n        return K.categorical_crossentropy(y_true, y_pred, from_logits=from_logits)\n    /usr/local/lib/python3.7/dist-packages/tensorflow/python/util/dispatch.py:201 wrapper\n        return target(*args, **kwargs)\n    /usr/local/lib/python3.7/dist-packages/tensorflow/python/keras/backend.py:4833 categorical_crossentropy\n        target.shape.assert_is_compatible_with(output.shape)\n    /usr/local/lib/python3.7/dist-packages/tensorflow/python/framework/tensor_shape.py:1134 assert_is_compatible_with\n        raise ValueError(\"Shapes %s and %s are incompatible\" % (self, other))\n\n    ValueError: Shapes (None, None) and (None, 224, 224, 6801) are incompatible\n"
          ]
        }
      ]
    },
    {
      "cell_type": "code",
      "metadata": {
        "id": "wxhe3I3I6CnG"
      },
      "source": [
        "idx = np.random.randint(len(data))\n",
        "photo = io.imread(data[idx][0])\n",
        "photo = transform.resize(image=photo, output_shape=(224, 224, 3))\n",
        "label = data[idx][1]\n",
        "pred = predict(photo, model_g1)\n",
        "plt.imshow(photo)\n",
        "print(\"original label \", label)\n",
        "print(\"predicted label \", pred)"
      ],
      "execution_count": null,
      "outputs": []
    },
    {
      "cell_type": "code",
      "metadata": {
        "colab": {
          "base_uri": "https://localhost:8080/"
        },
        "id": "GOMMlml_qHHC",
        "outputId": "479ffc38-3d19-4841-f3f7-7a8d598a7f39"
      },
      "source": [
        "# partial_caption = \"<start> the\"\n",
        "# seq = [tk.word_index[word] for word in partial_caption.split() if word in tk.word_index.keys()]\n",
        "# seq = pad_sequences([seq], maxlen=100)\n",
        "# yhat = finalModel.predict([np.expand_dims(photo, 0),[seq]], verbose=0)\n",
        "# yhat = np.argmax(yhat)\n",
        "# word = index_word[yhat]\n",
        "# word\n",
        "\n",
        "tk.word_index['a']"
      ],
      "execution_count": 82,
      "outputs": [
        {
          "output_type": "execute_result",
          "data": {
            "text/plain": [
              "3"
            ]
          },
          "metadata": {
            "tags": []
          },
          "execution_count": 82
        }
      ]
    },
    {
      "cell_type": "code",
      "metadata": {
        "id": "fNqzQb6kNRh-",
        "colab": {
          "base_uri": "https://localhost:8080/",
          "height": 302
        },
        "outputId": "9a85c734-65f3-40e4-bc0f-cc52e64ed465"
      },
      "source": [
        "idx = np.random.randint(len(data))\n",
        "photo = io.imread(data[idx][0])\n",
        "photo = transform.resize(image=photo, output_shape=(224, 224, 3))\n",
        "label = data[idx][1]\n",
        "pred = predict(photo, finalModel)\n",
        "plt.imshow(photo)\n",
        "print(\"original label \", label)\n",
        "print(\"predicted label \", pred)"
      ],
      "execution_count": 83,
      "outputs": [
        {
          "output_type": "stream",
          "text": [
            "original label  <start> a group of people posing for photo while eating dinner in living room <end>\n",
            "predicted label  a a\n"
          ],
          "name": "stdout"
        },
        {
          "output_type": "display_data",
          "data": {
            "image/png": "[encoded data removed]",
            "text/plain": [
              "<Figure size 432x288 with 1 Axes>"
            ]
          },
          "metadata": {
            "tags": [],
            "needs_background": "light"
          }
        }
      ]
    },
    {
      "cell_type": "code",
      "metadata": {
        "colab": {
          "base_uri": "https://localhost:8080/",
          "height": 35
        },
        "id": "6KK27NAPpbCB",
        "outputId": "1cf402d9-6513-4f6f-f3f8-d9f88dccdfca"
      },
      "source": [
        "pred"
      ],
      "execution_count": 78,
      "outputs": [
        {
          "output_type": "execute_result",
          "data": {
            "application/vnd.google.colaboratory.intrinsic+json": {
              "type": "string"
            },
            "text/plain": [
              "'a a'"
            ]
          },
          "metadata": {
            "tags": []
          },
          "execution_count": 78
        }
      ]
    },
    {
      "cell_type": "code",
      "metadata": {
        "id": "hz2B9SHzyXvo"
      },
      "source": [
        "# plotting curves\n",
        "'''\n",
        "loss -> train, val\n",
        "accuracy -> train, val\n",
        "'''\n",
        "plt.plot(list(history.history.values())[0])\n",
        "plt.plot(list(history.history.values())[2])\n",
        "plt.title('Loss Plot')\n",
        "plt.xlabel('epochs')\n",
        "plt.ylabel('loss')\n",
        "plt.legend(['train loss', 'val loss'])\n",
        "plt.show()\n",
        "\n",
        "plt.plot(list(history.history.values())[1])\n",
        "plt.plot(list(history.history.values())[3])\n",
        "plt.title('Accuracy Plot')\n",
        "plt.xlabel('epochs')\n",
        "plt.ylabel('accuracy')\n",
        "plt.legend(['train accuracy', 'val accuracy'])\n",
        "plt.show()"
      ],
      "execution_count": null,
      "outputs": []
    },
    {
      "cell_type": "code",
      "metadata": {
        "id": "tb9KBM2WNlzu"
      },
      "source": [
        ""
      ],
      "execution_count": null,
      "outputs": []
    }
  ]
}