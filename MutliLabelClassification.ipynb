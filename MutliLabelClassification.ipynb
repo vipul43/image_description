{
  "nbformat": 4,
  "nbformat_minor": 0,
  "metadata": {
    "colab": {
      "name": "MutliLabelClassification.ipynb",
      "provenance": [],
      "collapsed_sections": [],
      "include_colab_link": true
    },
    "kernelspec": {
      "name": "python3",
      "display_name": "Python 3"
    },
    "language_info": {
      "name": "python"
    }
  },
  "cells": [
    {
      "cell_type": "markdown",
      "metadata": {
        "id": "view-in-github",
        "colab_type": "text"
      },
      "source": [
        "<a href=\"https://colab.research.google.com/github/vipul43/image_description/blob/main/MutliLabelClassification.ipynb\" target=\"_parent\"><img src=\"https://colab.research.google.com/assets/colab-badge.svg\" alt=\"Open In Colab\"/></a>"
      ]
    },
    {
      "cell_type": "code",
      "metadata": {
        "id": "5bCis14iOQrg"
      },
      "source": [
        "# installs"
      ],
      "execution_count": null,
      "outputs": []
    },
    {
      "cell_type": "code",
      "metadata": {
        "id": "ydR0jWJ3aie6"
      },
      "source": [
        "# imports\n",
        "import scipy.io\n",
        "import cv2\n",
        "from google.colab.patches import cv2_imshow\n",
        "from skimage import io\n",
        "import numpy as np\n",
        "import pandas as pd\n",
        "from PIL import Image \n",
        "import matplotlib.pylab as plt\n",
        "import pickle\n",
        "from skimage import transform\n",
        "from sklearn.model_selection import train_test_split\n",
        "import tensorflow as tf\n",
        "from nltk.tokenize import word_tokenize\n",
        "from nltk.stem import WordNetLemmatizer, LancasterStemmer\n",
        "import spacy\n",
        "import nltk\n",
        "import keras.backend as K"
      ],
      "execution_count": 69,
      "outputs": []
    },
    {
      "cell_type": "code",
      "metadata": {
        "id": "NPBOq0FgMuLJ",
        "outputId": "f93b66c4-419d-496f-b9a0-a405f98d48ea",
        "colab": {
          "base_uri": "https://localhost:8080/"
        }
      },
      "source": [
        "nltk.download('punkt') #tokenizer\n",
        "nltk.download('wordnet') #lemmatization\n",
        "\n",
        "lemmatizer = WordNetLemmatizer() #lemmatizer\n",
        "\n",
        "sp = spacy.load('en_core_web_sm') #lexical importance find\n",
        "\n",
        "ls = LancasterStemmer()"
      ],
      "execution_count": 16,
      "outputs": [
        {
          "output_type": "stream",
          "text": [
            "[nltk_data] Downloading package punkt to /root/nltk_data...\n",
            "[nltk_data]   Package punkt is already up-to-date!\n",
            "[nltk_data] Downloading package wordnet to /root/nltk_data...\n",
            "[nltk_data]   Package wordnet is already up-to-date!\n"
          ],
          "name": "stdout"
        }
      ]
    },
    {
      "cell_type": "code",
      "metadata": {
        "id": "Vcnwjcvnsm9K",
        "colab": {
          "base_uri": "https://localhost:8080/"
        },
        "outputId": "58c8a1d5-abda-4be7-f151-c57a22e80b3a"
      },
      "source": [
        "# data loading\n",
        "\n",
        "!gdown --id 1mrjvJq6XNM8QAgajSgrVGpsj8Vrm3BEm #PASCAL50S\n",
        "\n",
        "mat = scipy.io.loadmat('/content/pascal50S.mat')\n",
        "print(type(mat))"
      ],
      "execution_count": 3,
      "outputs": [
        {
          "output_type": "stream",
          "text": [
            "Downloading...\n",
            "From: https://drive.google.com/uc?id=1mrjvJq6XNM8QAgajSgrVGpsj8Vrm3BEm\n",
            "To: /content/pascal50S.mat\n",
            "\r  0% 0.00/1.12M [00:00<?, ?B/s]\r100% 1.12M/1.12M [00:00<00:00, 74.0MB/s]\n",
            "<class 'dict'>\n"
          ],
          "name": "stdout"
        }
      ]
    },
    {
      "cell_type": "code",
      "metadata": {
        "id": "bU8yBAKwmSAw"
      },
      "source": [
        "classes = ['person',\n",
        "           'bird', \n",
        "           'cat', \n",
        "           'cow', \n",
        "           'dog', \n",
        "           'horse', \n",
        "           'sheep', \n",
        "           'aeroplane', \n",
        "           'bicycle', \n",
        "           'boat', \n",
        "           'bus', \n",
        "           'car', \n",
        "           'motorbike', \n",
        "           'train', \n",
        "           'bottle', \n",
        "           'chair', \n",
        "           'dining table', \n",
        "           'potted plant',\n",
        "           'sofa', \n",
        "           'tv'] #NOUNS\n",
        "\n",
        "dict_classes = {'person':0, 'man':0, 'human':0,\n",
        "           'bird':1, 'penguin':1, 'parrot':1, 'sparrow':1,\n",
        "           'cat':2, \n",
        "           'cow':3, \n",
        "           'dog':4, \n",
        "           'horse':5,\n",
        "           'sheep':6, \n",
        "           'aeroplane':7, 'airplane':7, 'flight':7, 'plane':7, 'jet':7,\n",
        "           'bicycle':8, 'cycle':8,\n",
        "           'boat':9, 'ship':9,\n",
        "           'bus':10, \n",
        "           'car':11,\n",
        "           'motorbike':12, 'bike':12, 'motorcycle':12,\n",
        "           'train':13, \n",
        "           'bottle':14, 'waterbottle':14, 'drinkbottle':14, 'flask':14,\n",
        "           'chair':15,\n",
        "           'dining':16, 'diningtable': 16,\n",
        "           'potted':17, 'plant':17, 'pottedplant': 17,\n",
        "           'sofa':18, 'couch':18,\n",
        "           'tv':19, 'monitor':19, 'television':19, 'desktop':19}"
      ],
      "execution_count": 55,
      "outputs": []
    },
    {
      "cell_type": "code",
      "metadata": {
        "id": "u5cd71wgTMz4"
      },
      "source": [
        "count = {'0':0,   #person\n",
        "           '1':0, #bird\n",
        "           '2':0, #cat\n",
        "           '3':0, #cow\n",
        "           '4':0, #dog\n",
        "           '5':0, #horse\n",
        "           '6':0, #sheep\n",
        "           '7':0, #aeroplane\n",
        "           '8':0, #bicycle\n",
        "           '9':0, #boat\n",
        "           '10':0, #bus\n",
        "           '11':0, #car\n",
        "           '12':0, #motorbike\n",
        "           '13':0, #train\n",
        "           '14':0, #bottle\n",
        "           '15':0, #chair\n",
        "           '16':0, #dining\n",
        "           '17':0, #potted plant\n",
        "           '18':0, #sofa\n",
        "           '19':0} #tv/monitor"
      ],
      "execution_count": 54,
      "outputs": []
    },
    {
      "cell_type": "code",
      "metadata": {
        "id": "QwHnF1GlcmXV",
        "colab": {
          "base_uri": "https://localhost:8080/"
        },
        "outputId": "9b210a21-eda8-47f1-815f-88bdff2785bd"
      },
      "source": [
        "# observing data\n",
        "data = []\n",
        "idx=0\n",
        "for sample in mat[\"train_sent_final\"][0]:\n",
        "  # image = io.imread(i[0][0])\n",
        "  # cv2_imshow(image)\n",
        "  link = [sample[0][0]] #image link\n",
        "  cls = set()\n",
        "  for k in sample[1]:\n",
        "    for sent in k:\n",
        "      # if idx==10:\n",
        "      #   break\n",
        "      # idx+=1\n",
        "\n",
        "      for word in sent[0].split():\n",
        "        pre_word = lemmatizer.lemmatize(ls.stem(word.lower()))\n",
        "        if(pre_word in dict_classes.keys()):\n",
        "          cls.add(dict_classes[pre_word])\n",
        "  for cl in cls:\n",
        "    count[str(cl)]+=1\n",
        "  data.append([link, list(cls)])\n",
        "print(data)"
      ],
      "execution_count": 56,
      "outputs": [
        {
          "output_type": "stream",
          "text": [
            "[[['https://filebox.ece.vt.edu/~vrama91/PASCAL/2008_006488.jpg'], [0, 9]], [['https://filebox.ece.vt.edu/~vrama91/PASCAL/2008_008632.jpg'], [11, 13]], [['https://filebox.ece.vt.edu/~vrama91/PASCAL/2008_003378.jpg'], [10, 11, 13]], [['https://filebox.ece.vt.edu/~vrama91/PASCAL/2008_008048.jpg'], [7]], [['https://filebox.ece.vt.edu/~vrama91/PASCAL/2008_002567.jpg'], []], [['https://filebox.ece.vt.edu/~vrama91/PASCAL/2008_004441.jpg'], [0, 11]], [['https://filebox.ece.vt.edu/~vrama91/PASCAL/2008_002467.jpg'], []], [['https://filebox.ece.vt.edu/~vrama91/PASCAL/2008_002395.jpg'], [4]], [['https://filebox.ece.vt.edu/~vrama91/PASCAL/2008_006397.jpg'], [0]], [['https://filebox.ece.vt.edu/~vrama91/PASCAL/2008_004621.jpg'], [6]], [['https://filebox.ece.vt.edu/~vrama91/PASCAL/2008_002222.jpg'], [0, 10, 13]], [['https://filebox.ece.vt.edu/~vrama91/PASCAL/2008_007519.jpg'], [0, 4]], [['https://filebox.ece.vt.edu/~vrama91/PASCAL/2008_006112.jpg'], [17]], [['https://filebox.ece.vt.edu/~vrama91/PASCAL/2008_007286.jpg'], [0, 4]], [['https://filebox.ece.vt.edu/~vrama91/PASCAL/2008_005798.jpg'], [17, 18, 4]], [['https://filebox.ece.vt.edu/~vrama91/PASCAL/2008_008593.jpg'], [0]], [['https://filebox.ece.vt.edu/~vrama91/PASCAL/2008_002988.jpg'], [18]], [['https://filebox.ece.vt.edu/~vrama91/PASCAL/2008_007103.jpg'], [0, 11]], [['https://filebox.ece.vt.edu/~vrama91/PASCAL/2008_000075.jpg'], [10]], [['https://filebox.ece.vt.edu/~vrama91/PASCAL/2008_005812.jpg'], [0]], [['https://filebox.ece.vt.edu/~vrama91/PASCAL/2008_003160.jpg'], [1]], [['https://filebox.ece.vt.edu/~vrama91/PASCAL/2008_004452.jpg'], [1, 17]], [['https://filebox.ece.vt.edu/~vrama91/PASCAL/2008_000916.jpg'], [13]], [['https://filebox.ece.vt.edu/~vrama91/PASCAL/2008_002804.jpg'], [0]], [['https://filebox.ece.vt.edu/~vrama91/PASCAL/2008_005181.jpg'], [2, 4]], [['https://filebox.ece.vt.edu/~vrama91/PASCAL/2008_001541.jpg'], [11]], [['https://filebox.ece.vt.edu/~vrama91/PASCAL/2008_003775.jpg'], [0]], [['https://filebox.ece.vt.edu/~vrama91/PASCAL/2008_008194.jpg'], [1]], [['https://filebox.ece.vt.edu/~vrama91/PASCAL/2008_000144.jpg'], [0, 11]], [['https://filebox.ece.vt.edu/~vrama91/PASCAL/2008_004044.jpg'], [0, 4]], [['https://filebox.ece.vt.edu/~vrama91/PASCAL/2008_002613.jpg'], [15]], [['https://filebox.ece.vt.edu/~vrama91/PASCAL/2008_005758.jpg'], [0]], [['https://filebox.ece.vt.edu/~vrama91/PASCAL/2008_008432.jpg'], [7]], [['https://filebox.ece.vt.edu/~vrama91/PASCAL/2008_007313.jpg'], []], [['https://filebox.ece.vt.edu/~vrama91/PASCAL/2008_002870.jpg'], [0]], [['https://filebox.ece.vt.edu/~vrama91/PASCAL/2008_006130.jpg'], [4, 15]], [['https://filebox.ece.vt.edu/~vrama91/PASCAL/2008_006356.jpg'], [4]], [['https://filebox.ece.vt.edu/~vrama91/PASCAL/2008_006904.jpg'], [3]], [['https://filebox.ece.vt.edu/~vrama91/PASCAL/2008_004979.jpg'], [0]], [['https://filebox.ece.vt.edu/~vrama91/PASCAL/2008_005347.jpg'], []], [['https://filebox.ece.vt.edu/~vrama91/PASCAL/2008_003796.jpg'], []], [['https://filebox.ece.vt.edu/~vrama91/PASCAL/2008_004701.jpg'], [3]], [['https://filebox.ece.vt.edu/~vrama91/PASCAL/2008_004362.jpg'], [1]], [['https://filebox.ece.vt.edu/~vrama91/PASCAL/2008_007069.jpg'], [6]], [['https://filebox.ece.vt.edu/~vrama91/PASCAL/2008_004603.jpg'], [0]], [['https://filebox.ece.vt.edu/~vrama91/PASCAL/2008_007026.jpg'], [3]], [['https://filebox.ece.vt.edu/~vrama91/PASCAL/2008_001869.jpg'], [18]], [['https://filebox.ece.vt.edu/~vrama91/PASCAL/2008_008313.jpg'], [18]], [['https://filebox.ece.vt.edu/~vrama91/PASCAL/2008_000953.jpg'], []], [['https://filebox.ece.vt.edu/~vrama91/PASCAL/2008_004665.jpg'], [0, 19, 15]], [['https://filebox.ece.vt.edu/~vrama91/PASCAL/2008_006654.jpg'], [9]], [['https://filebox.ece.vt.edu/~vrama91/PASCAL/2008_007067.jpg'], [0]], [['https://filebox.ece.vt.edu/~vrama91/PASCAL/2008_008247.jpg'], [7]], [['https://filebox.ece.vt.edu/~vrama91/PASCAL/2008_004991.jpg'], [0]], [['https://filebox.ece.vt.edu/~vrama91/PASCAL/2008_006210.jpg'], [0, 3, 6]], [['https://filebox.ece.vt.edu/~vrama91/PASCAL/2008_001208.jpg'], [11]], [['https://filebox.ece.vt.edu/~vrama91/PASCAL/2008_008521.jpg'], [3]], [['https://filebox.ece.vt.edu/~vrama91/PASCAL/2008_004938.jpg'], [18]], [['https://filebox.ece.vt.edu/~vrama91/PASCAL/2008_003178.jpg'], [15]], [['https://filebox.ece.vt.edu/~vrama91/PASCAL/2008_008363.jpg'], [17, 15]], [['https://filebox.ece.vt.edu/~vrama91/PASCAL/2008_008424.jpg'], [7]], [['https://filebox.ece.vt.edu/~vrama91/PASCAL/2008_007119.jpg'], [11]], [['https://filebox.ece.vt.edu/~vrama91/PASCAL/2008_001801.jpg'], [7]], [['https://filebox.ece.vt.edu/~vrama91/PASCAL/2008_006827.jpg'], [3, 11]], [['https://filebox.ece.vt.edu/~vrama91/PASCAL/2008_005747.jpg'], [11]], [['https://filebox.ece.vt.edu/~vrama91/PASCAL/2008_006158.jpg'], [13]], [['https://filebox.ece.vt.edu/~vrama91/PASCAL/2008_001320.jpg'], [0]], [['https://filebox.ece.vt.edu/~vrama91/PASCAL/2008_005277.jpg'], [10, 13]], [['https://filebox.ece.vt.edu/~vrama91/PASCAL/2008_000257.jpg'], [4, 6]], [['https://filebox.ece.vt.edu/~vrama91/PASCAL/2008_006136.jpg'], [19]], [['https://filebox.ece.vt.edu/~vrama91/PASCAL/2008_003321.jpg'], [10, 11]], [['https://filebox.ece.vt.edu/~vrama91/PASCAL/2008_001164.jpg'], [13]], [['https://filebox.ece.vt.edu/~vrama91/PASCAL/2008_002454.jpg'], [7]], [['https://filebox.ece.vt.edu/~vrama91/PASCAL/2008_004307.jpg'], [0, 11]], [['https://filebox.ece.vt.edu/~vrama91/PASCAL/2008_001932.jpg'], []], [['https://filebox.ece.vt.edu/~vrama91/PASCAL/2008_007446.jpg'], [0, 19]], [['https://filebox.ece.vt.edu/~vrama91/PASCAL/2008_007855.jpg'], [2]], [['https://filebox.ece.vt.edu/~vrama91/PASCAL/2008_000648.jpg'], [0, 18]], [['https://filebox.ece.vt.edu/~vrama91/PASCAL/2008_005641.jpg'], [11]], [['https://filebox.ece.vt.edu/~vrama91/PASCAL/2008_006547.jpg'], [3]], [['https://filebox.ece.vt.edu/~vrama91/PASCAL/2008_008223.jpg'], [13]], [['https://filebox.ece.vt.edu/~vrama91/PASCAL/2008_004090.jpg'], [15]], [['https://filebox.ece.vt.edu/~vrama91/PASCAL/2008_008200.jpg'], [13]], [['https://filebox.ece.vt.edu/~vrama91/PASCAL/2008_002358.jpg'], [7]], [['https://filebox.ece.vt.edu/~vrama91/PASCAL/2008_002922.jpg'], [0, 17, 18]], [['https://filebox.ece.vt.edu/~vrama91/PASCAL/2008_004292.jpg'], [6]], [['https://filebox.ece.vt.edu/~vrama91/PASCAL/2008_008617.jpg'], [3]], [['https://filebox.ece.vt.edu/~vrama91/PASCAL/2008_008154.jpg'], [0]], [['https://filebox.ece.vt.edu/~vrama91/PASCAL/2008_002451.jpg'], [10]], [['https://filebox.ece.vt.edu/~vrama91/PASCAL/2008_008393.jpg'], []], [['https://filebox.ece.vt.edu/~vrama91/PASCAL/2008_004450.jpg'], [3]], [['https://filebox.ece.vt.edu/~vrama91/PASCAL/2008_005536.jpg'], [9]], [['https://filebox.ece.vt.edu/~vrama91/PASCAL/2008_005874.jpg'], [17]], [['https://filebox.ece.vt.edu/~vrama91/PASCAL/2008_007076.jpg'], []], [['https://filebox.ece.vt.edu/~vrama91/PASCAL/2008_007247.jpg'], [13]], [['https://filebox.ece.vt.edu/~vrama91/PASCAL/2008_003489.jpg'], [10, 11]], [['https://filebox.ece.vt.edu/~vrama91/PASCAL/2008_008169.jpg'], [3]], [['https://filebox.ece.vt.edu/~vrama91/PASCAL/2008_001641.jpg'], [19, 15]], [['https://filebox.ece.vt.edu/~vrama91/PASCAL/2008_006667.jpg'], [1]], [['https://filebox.ece.vt.edu/~vrama91/PASCAL/2008_008718.jpg'], []], [['https://filebox.ece.vt.edu/~vrama91/PASCAL/2008_000876.jpg'], [3, 6]], [['https://filebox.ece.vt.edu/~vrama91/PASCAL/2008_001926.jpg'], [11, 13]], [['https://filebox.ece.vt.edu/~vrama91/PASCAL/2008_001586.jpg'], [11]], [['https://filebox.ece.vt.edu/~vrama91/PASCAL/2008_000182.jpg'], [2]], [['https://filebox.ece.vt.edu/~vrama91/PASCAL/2008_007205.jpg'], [1]], [['https://filebox.ece.vt.edu/~vrama91/PASCAL/2008_006182.jpg'], [0]], [['https://filebox.ece.vt.edu/~vrama91/PASCAL/2008_007537.jpg'], [0, 4]], [['https://filebox.ece.vt.edu/~vrama91/PASCAL/2008_001062.jpg'], [3]], [['https://filebox.ece.vt.edu/~vrama91/PASCAL/2008_008344.jpg'], [7]], [['https://filebox.ece.vt.edu/~vrama91/PASCAL/2008_005954.jpg'], [19, 15]], [['https://filebox.ece.vt.edu/~vrama91/PASCAL/2008_006925.jpg'], [9]], [['https://filebox.ece.vt.edu/~vrama91/PASCAL/2008_006355.jpg'], [3]], [['https://filebox.ece.vt.edu/~vrama91/PASCAL/2008_008020.jpg'], [11, 13]], [['https://filebox.ece.vt.edu/~vrama91/PASCAL/2008_007201.jpg'], [11, 13]], [['https://filebox.ece.vt.edu/~vrama91/PASCAL/2008_008601.jpg'], [6]], [['https://filebox.ece.vt.edu/~vrama91/PASCAL/2008_008528.jpg'], []], [['https://filebox.ece.vt.edu/~vrama91/PASCAL/2008_000636.jpg'], [18]], [['https://filebox.ece.vt.edu/~vrama91/PASCAL/2008_002864.jpg'], []], [['https://filebox.ece.vt.edu/~vrama91/PASCAL/2008_001758.jpg'], [0]], [['https://filebox.ece.vt.edu/~vrama91/PASCAL/2008_004854.jpg'], [6]], [['https://filebox.ece.vt.edu/~vrama91/PASCAL/2008_002972.jpg'], []], [['https://filebox.ece.vt.edu/~vrama91/PASCAL/2008_002294.jpg'], [2]], [['https://filebox.ece.vt.edu/~vrama91/PASCAL/2008_007042.jpg'], [17]], [['https://filebox.ece.vt.edu/~vrama91/PASCAL/2008_008354.jpg'], [1]], [['https://filebox.ece.vt.edu/~vrama91/PASCAL/2008_005196.jpg'], [0, 10]], [['https://filebox.ece.vt.edu/~vrama91/PASCAL/2008_005329.jpg'], [0, 19, 15]], [['https://filebox.ece.vt.edu/~vrama91/PASCAL/2008_005984.jpg'], [10]], [['https://filebox.ece.vt.edu/~vrama91/PASCAL/2008_008708.jpg'], [0]], [['https://filebox.ece.vt.edu/~vrama91/PASCAL/2008_002441.jpg'], [0, 4]], [['https://filebox.ece.vt.edu/~vrama91/PASCAL/2008_007588.jpg'], [0]], [['https://filebox.ece.vt.edu/~vrama91/PASCAL/2008_005923.jpg'], [0, 9, 1]], [['https://filebox.ece.vt.edu/~vrama91/PASCAL/2008_000422.jpg'], []], [['https://filebox.ece.vt.edu/~vrama91/PASCAL/2008_008246.jpg'], [0]], [['https://filebox.ece.vt.edu/~vrama91/PASCAL/2008_000413.jpg'], []], [['https://filebox.ece.vt.edu/~vrama91/PASCAL/2008_005902.jpg'], []], [['https://filebox.ece.vt.edu/~vrama91/PASCAL/2008_007485.jpg'], [0, 7]], [['https://filebox.ece.vt.edu/~vrama91/PASCAL/2008_003073.jpg'], [0, 15]], [['https://filebox.ece.vt.edu/~vrama91/PASCAL/2008_005916.jpg'], [7]], [['https://filebox.ece.vt.edu/~vrama91/PASCAL/2008_001290.jpg'], [2]], [['https://filebox.ece.vt.edu/~vrama91/PASCAL/2008_002758.jpg'], [0, 15]], [['https://filebox.ece.vt.edu/~vrama91/PASCAL/2008_004387.jpg'], [10, 11]], [['https://filebox.ece.vt.edu/~vrama91/PASCAL/2008_005914.jpg'], [17]], [['https://filebox.ece.vt.edu/~vrama91/PASCAL/2008_001031.jpg'], []], [['https://filebox.ece.vt.edu/~vrama91/PASCAL/2008_006434.jpg'], []], [['https://filebox.ece.vt.edu/~vrama91/PASCAL/2008_008121.jpg'], [3]], [['https://filebox.ece.vt.edu/~vrama91/PASCAL/2008_008549.jpg'], [10]], [['https://filebox.ece.vt.edu/~vrama91/PASCAL/2008_006619.jpg'], [7]], [['https://filebox.ece.vt.edu/~vrama91/PASCAL/2008_007521.jpg'], [11, 13]], [['https://filebox.ece.vt.edu/~vrama91/PASCAL/2008_007281.jpg'], [0, 18, 19]], [['https://filebox.ece.vt.edu/~vrama91/PASCAL/2008_005427.jpg'], [0]], [['https://filebox.ece.vt.edu/~vrama91/PASCAL/2008_007009.jpg'], [3]], [['https://filebox.ece.vt.edu/~vrama91/PASCAL/2008_005614.jpg'], [2]], [['https://filebox.ece.vt.edu/~vrama91/PASCAL/2008_006517.jpg'], []], [['https://filebox.ece.vt.edu/~vrama91/PASCAL/2008_000346.jpg'], [0, 11]], [['https://filebox.ece.vt.edu/~vrama91/PASCAL/2008_003062.jpg'], [0, 9]], [['https://filebox.ece.vt.edu/~vrama91/PASCAL/2008_008391.jpg'], [0]], [['https://filebox.ece.vt.edu/~vrama91/PASCAL/2008_007729.jpg'], [0, 3]], [['https://filebox.ece.vt.edu/~vrama91/PASCAL/2008_002817.jpg'], [0, 19]], [['https://filebox.ece.vt.edu/~vrama91/PASCAL/2008_005097.jpg'], [11, 3]], [['https://filebox.ece.vt.edu/~vrama91/PASCAL/2008_004745.jpg'], [4]], [['https://filebox.ece.vt.edu/~vrama91/PASCAL/2008_006992.jpg'], [11]], [['https://filebox.ece.vt.edu/~vrama91/PASCAL/2008_008572.jpg'], [0]], [['https://filebox.ece.vt.edu/~vrama91/PASCAL/2008_001682.jpg'], [3]], [['https://filebox.ece.vt.edu/~vrama91/PASCAL/2008_001660.jpg'], [0, 18, 4]], [['https://filebox.ece.vt.edu/~vrama91/PASCAL/2008_008072.jpg'], []], [['https://filebox.ece.vt.edu/~vrama91/PASCAL/2008_008330.jpg'], [0, 15]], [['https://filebox.ece.vt.edu/~vrama91/PASCAL/2008_004632.jpg'], [18, 11, 13, 15]], [['https://filebox.ece.vt.edu/~vrama91/PASCAL/2008_001020.jpg'], [1, 9]], [['https://filebox.ece.vt.edu/~vrama91/PASCAL/2008_006548.jpg'], [7]], [['https://filebox.ece.vt.edu/~vrama91/PASCAL/2008_003673.jpg'], [11, 7]], [['https://filebox.ece.vt.edu/~vrama91/PASCAL/2008_004008.jpg'], [0, 19, 15]], [['https://filebox.ece.vt.edu/~vrama91/PASCAL/2008_008043.jpg'], []], [['https://filebox.ece.vt.edu/~vrama91/PASCAL/2008_003905.jpg'], [7]], [['https://filebox.ece.vt.edu/~vrama91/PASCAL/2008_004614.jpg'], [10, 11]], [['https://filebox.ece.vt.edu/~vrama91/PASCAL/2008_000227.jpg'], [2]], [['https://filebox.ece.vt.edu/~vrama91/PASCAL/2008_008024.jpg'], [17, 11]], [['https://filebox.ece.vt.edu/~vrama91/PASCAL/2008_001249.jpg'], [0]], [['https://filebox.ece.vt.edu/~vrama91/PASCAL/2008_000163.jpg'], [11]], [['https://filebox.ece.vt.edu/~vrama91/PASCAL/2008_007421.jpg'], [0]], [['https://filebox.ece.vt.edu/~vrama91/PASCAL/2008_007317.jpg'], [1]], [['https://filebox.ece.vt.edu/~vrama91/PASCAL/2008_007612.jpg'], [0]], [['https://filebox.ece.vt.edu/~vrama91/PASCAL/2008_007871.jpg'], [4]], [['https://filebox.ece.vt.edu/~vrama91/PASCAL/2008_000196.jpg'], [2]], [['https://filebox.ece.vt.edu/~vrama91/PASCAL/2008_004380.jpg'], [0]], [['https://filebox.ece.vt.edu/~vrama91/PASCAL/2008_008404.jpg'], [11]], [['https://filebox.ece.vt.edu/~vrama91/PASCAL/2008_007882.jpg'], [0]], [['https://filebox.ece.vt.edu/~vrama91/PASCAL/2008_002442.jpg'], [0, 4]], [['https://filebox.ece.vt.edu/~vrama91/PASCAL/2008_000982.jpg'], [10, 11]], [['https://filebox.ece.vt.edu/~vrama91/PASCAL/2008_007488.jpg'], [0, 10]], [['https://filebox.ece.vt.edu/~vrama91/PASCAL/2008_005660.jpg'], [19]], [['https://filebox.ece.vt.edu/~vrama91/PASCAL/2008_003607.jpg'], [2, 18, 4]], [['https://filebox.ece.vt.edu/~vrama91/PASCAL/2008_000825.jpg'], [0, 17]], [['https://filebox.ece.vt.edu/~vrama91/PASCAL/2008_006401.jpg'], []], [['https://filebox.ece.vt.edu/~vrama91/PASCAL/2008_008714.jpg'], [4, 6]], [['https://filebox.ece.vt.edu/~vrama91/PASCAL/2008_000053.jpg'], [4]], [['https://filebox.ece.vt.edu/~vrama91/PASCAL/2008_005907.jpg'], [11, 7]], [['https://filebox.ece.vt.edu/~vrama91/PASCAL/2008_003689.jpg'], [18, 15]], [['https://filebox.ece.vt.edu/~vrama91/PASCAL/2008_006750.jpg'], []], [['https://filebox.ece.vt.edu/~vrama91/PASCAL/2008_004113.jpg'], [0, 13]], [['https://filebox.ece.vt.edu/~vrama91/PASCAL/2008_001402.jpg'], [0]], [['https://filebox.ece.vt.edu/~vrama91/PASCAL/2008_003691.jpg'], [10]], [['https://filebox.ece.vt.edu/~vrama91/PASCAL/2008_008106.jpg'], [18, 15]], [['https://filebox.ece.vt.edu/~vrama91/PASCAL/2008_003703.jpg'], [7]], [['https://filebox.ece.vt.edu/~vrama91/PASCAL/2008_003477.jpg'], [15]], [['https://filebox.ece.vt.edu/~vrama91/PASCAL/2008_006436.jpg'], [18, 4]], [['https://filebox.ece.vt.edu/~vrama91/PASCAL/2008_006732.jpg'], [11, 15]], [['https://filebox.ece.vt.edu/~vrama91/PASCAL/2008_001971.jpg'], [7]], [['https://filebox.ece.vt.edu/~vrama91/PASCAL/2008_007693.jpg'], [6]], [['https://filebox.ece.vt.edu/~vrama91/PASCAL/2008_008744.jpg'], [6]], [['https://filebox.ece.vt.edu/~vrama91/PASCAL/2008_006956.jpg'], [2]], [['https://filebox.ece.vt.edu/~vrama91/PASCAL/2008_003447.jpg'], [0]], [['https://filebox.ece.vt.edu/~vrama91/PASCAL/2008_008666.jpg'], [6]], [['https://filebox.ece.vt.edu/~vrama91/PASCAL/2008_006010.jpg'], [11, 13]], [['https://filebox.ece.vt.edu/~vrama91/PASCAL/2008_003264.jpg'], [15]], [['https://filebox.ece.vt.edu/~vrama91/PASCAL/2008_004615.jpg'], []], [['https://filebox.ece.vt.edu/~vrama91/PASCAL/2008_000405.jpg'], [9]], [['https://filebox.ece.vt.edu/~vrama91/PASCAL/2008_008428.jpg'], [3]], [['https://filebox.ece.vt.edu/~vrama91/PASCAL/2008_006072.jpg'], [11]], [['https://filebox.ece.vt.edu/~vrama91/PASCAL/2008_000252.jpg'], [0, 10]], [['https://filebox.ece.vt.edu/~vrama91/PASCAL/2008_007184.jpg'], [0]], [['https://filebox.ece.vt.edu/~vrama91/PASCAL/2008_002150.jpg'], [6]], [['https://filebox.ece.vt.edu/~vrama91/PASCAL/2008_003995.jpg'], [0]], [['https://filebox.ece.vt.edu/~vrama91/PASCAL/2008_006337.jpg'], [0, 17, 1, 15]], [['https://filebox.ece.vt.edu/~vrama91/PASCAL/2008_002892.jpg'], []], [['https://filebox.ece.vt.edu/~vrama91/PASCAL/2008_008269.jpg'], [19]], [['https://filebox.ece.vt.edu/~vrama91/PASCAL/2008_007625.jpg'], [0]], [['https://filebox.ece.vt.edu/~vrama91/PASCAL/2008_004416.jpg'], [18, 15]], [['https://filebox.ece.vt.edu/~vrama91/PASCAL/2008_008470.jpg'], [18, 15]], [['https://filebox.ece.vt.edu/~vrama91/PASCAL/2008_003939.jpg'], [7]], [['https://filebox.ece.vt.edu/~vrama91/PASCAL/2008_000343.jpg'], [0, 13]], [['https://filebox.ece.vt.edu/~vrama91/PASCAL/2008_001626.jpg'], []], [['https://filebox.ece.vt.edu/~vrama91/PASCAL/2008_007677.jpg'], [6]], [['https://filebox.ece.vt.edu/~vrama91/PASCAL/2008_002882.jpg'], [0]], [['https://filebox.ece.vt.edu/~vrama91/PASCAL/2008_006220.jpg'], [11, 4]], [['https://filebox.ece.vt.edu/~vrama91/PASCAL/2008_006102.jpg'], [0]], [['https://filebox.ece.vt.edu/~vrama91/PASCAL/2008_006024.jpg'], []], [['https://filebox.ece.vt.edu/~vrama91/PASCAL/2008_007147.jpg'], [0]], [['https://filebox.ece.vt.edu/~vrama91/PASCAL/2008_001359.jpg'], [0, 3]], [['https://filebox.ece.vt.edu/~vrama91/PASCAL/2008_007759.jpg'], [0, 13]], [['https://filebox.ece.vt.edu/~vrama91/PASCAL/2008_006438.jpg'], [11]], [['https://filebox.ece.vt.edu/~vrama91/PASCAL/2008_008373.jpg'], [7]], [['https://filebox.ece.vt.edu/~vrama91/PASCAL/2008_004122.jpg'], [4, 15]], [['https://filebox.ece.vt.edu/~vrama91/PASCAL/2008_007277.jpg'], [0]], [['https://filebox.ece.vt.edu/~vrama91/PASCAL/2008_008034.jpg'], [0]], [['https://filebox.ece.vt.edu/~vrama91/PASCAL/2008_007969.jpg'], [10]], [['https://filebox.ece.vt.edu/~vrama91/PASCAL/2008_006186.jpg'], [0, 1, 13]], [['https://filebox.ece.vt.edu/~vrama91/PASCAL/2008_008725.jpg'], [0]], [['https://filebox.ece.vt.edu/~vrama91/PASCAL/2008_004084.jpg'], [0]], [['https://filebox.ece.vt.edu/~vrama91/PASCAL/2008_007133.jpg'], [11]], [['https://filebox.ece.vt.edu/~vrama91/PASCAL/2008_003849.jpg'], [9]], [['https://filebox.ece.vt.edu/~vrama91/PASCAL/2008_003951.jpg'], [0, 9]], [['https://filebox.ece.vt.edu/~vrama91/PASCAL/2008_008075.jpg'], []], [['https://filebox.ece.vt.edu/~vrama91/PASCAL/2008_004881.jpg'], [0, 19]], [['https://filebox.ece.vt.edu/~vrama91/PASCAL/2008_005639.jpg'], [0, 19, 4]], [['https://filebox.ece.vt.edu/~vrama91/PASCAL/2008_008527.jpg'], [17, 11, 13]], [['https://filebox.ece.vt.edu/~vrama91/PASCAL/2008_008748.jpg'], [10]], [['https://filebox.ece.vt.edu/~vrama91/PASCAL/2008_007746.jpg'], []], [['https://filebox.ece.vt.edu/~vrama91/PASCAL/2008_007814.jpg'], [6]], [['https://filebox.ece.vt.edu/~vrama91/PASCAL/2008_006944.jpg'], [0]], [['https://filebox.ece.vt.edu/~vrama91/PASCAL/2008_002536.jpg'], [4, 6]], [['https://filebox.ece.vt.edu/~vrama91/PASCAL/2008_006635.jpg'], [10]], [['https://filebox.ece.vt.edu/~vrama91/PASCAL/2008_005593.jpg'], [0, 9, 11]], [['https://filebox.ece.vt.edu/~vrama91/PASCAL/2008_004764.jpg'], [0, 13]], [['https://filebox.ece.vt.edu/~vrama91/PASCAL/2008_005065.jpg'], [4]], [['https://filebox.ece.vt.edu/~vrama91/PASCAL/2008_008546.jpg'], []], [['https://filebox.ece.vt.edu/~vrama91/PASCAL/2008_008402.jpg'], [18, 15]], [['https://filebox.ece.vt.edu/~vrama91/PASCAL/2008_004506.jpg'], [0, 19]], [['https://filebox.ece.vt.edu/~vrama91/PASCAL/2008_001074.jpg'], [0]], [['https://filebox.ece.vt.edu/~vrama91/PASCAL/2008_002859.jpg'], [4]], [['https://filebox.ece.vt.edu/~vrama91/PASCAL/2008_000393.jpg'], []], [['https://filebox.ece.vt.edu/~vrama91/PASCAL/2008_004930.jpg'], [0, 19]], [['https://filebox.ece.vt.edu/~vrama91/PASCAL/2008_001035.jpg'], []], [['https://filebox.ece.vt.edu/~vrama91/PASCAL/2008_000084.jpg'], [6]], [['https://filebox.ece.vt.edu/~vrama91/PASCAL/2008_006655.jpg'], [11, 13]], [['https://filebox.ece.vt.edu/~vrama91/PASCAL/2008_004123.jpg'], []], [['https://filebox.ece.vt.edu/~vrama91/PASCAL/2008_003617.jpg'], [0]], [['https://filebox.ece.vt.edu/~vrama91/PASCAL/2008_008370.jpg'], [3, 6]], [['https://filebox.ece.vt.edu/~vrama91/PASCAL/2008_005276.jpg'], [0]], [['https://filebox.ece.vt.edu/~vrama91/PASCAL/2008_008461.jpg'], [1, 7]], [['https://filebox.ece.vt.edu/~vrama91/PASCAL/2008_008096.jpg'], [7]], [['https://filebox.ece.vt.edu/~vrama91/PASCAL/2008_001885.jpg'], [2]], [['https://filebox.ece.vt.edu/~vrama91/PASCAL/2008_001333.jpg'], [0, 11, 15]], [['https://filebox.ece.vt.edu/~vrama91/PASCAL/2008_003442.jpg'], []], [['https://filebox.ece.vt.edu/~vrama91/PASCAL/2008_000465.jpg'], [1, 18]], [['https://filebox.ece.vt.edu/~vrama91/PASCAL/2008_006818.jpg'], [0, 13]], [['https://filebox.ece.vt.edu/~vrama91/PASCAL/2008_008044.jpg'], [7]], [['https://filebox.ece.vt.edu/~vrama91/PASCAL/2008_007169.jpg'], [0, 4, 15]], [['https://filebox.ece.vt.edu/~vrama91/PASCAL/2008_000112.jpg'], [2]], [['https://filebox.ece.vt.edu/~vrama91/PASCAL/2008_007524.jpg'], [0, 11]], [['https://filebox.ece.vt.edu/~vrama91/PASCAL/2008_000917.jpg'], [1]], [['https://filebox.ece.vt.edu/~vrama91/PASCAL/2008_008635.jpg'], [3, 6]], [['https://filebox.ece.vt.edu/~vrama91/PASCAL/2008_000345.jpg'], [2]], [['https://filebox.ece.vt.edu/~vrama91/PASCAL/2008_008271.jpg'], [18]], [['https://filebox.ece.vt.edu/~vrama91/PASCAL/2008_004176.jpg'], []], [['https://filebox.ece.vt.edu/~vrama91/PASCAL/2008_001486.jpg'], []], [['https://filebox.ece.vt.edu/~vrama91/PASCAL/2008_008103.jpg'], [0, 18]], [['https://filebox.ece.vt.edu/~vrama91/PASCAL/2008_006991.jpg'], [0, 11]], [['https://filebox.ece.vt.edu/~vrama91/PASCAL/2008_003534.jpg'], [0, 11]], [['https://filebox.ece.vt.edu/~vrama91/PASCAL/2008_008338.jpg'], [17, 11]], [['https://filebox.ece.vt.edu/~vrama91/PASCAL/2008_003819.jpg'], []], [['https://filebox.ece.vt.edu/~vrama91/PASCAL/2008_007039.jpg'], [2, 18]], [['https://filebox.ece.vt.edu/~vrama91/PASCAL/2008_002343.jpg'], [11, 6]], [['https://filebox.ece.vt.edu/~vrama91/PASCAL/2008_008318.jpg'], []], [['https://filebox.ece.vt.edu/~vrama91/PASCAL/2008_004367.jpg'], [11, 13]], [['https://filebox.ece.vt.edu/~vrama91/PASCAL/2008_007478.jpg'], [0, 4]], [['https://filebox.ece.vt.edu/~vrama91/PASCAL/2008_007987.jpg'], [19]], [['https://filebox.ece.vt.edu/~vrama91/PASCAL/2008_003821.jpg'], [17, 15]], [['https://filebox.ece.vt.edu/~vrama91/PASCAL/2008_007280.jpg'], [11, 13]], [['https://filebox.ece.vt.edu/~vrama91/PASCAL/2008_006624.jpg'], [18, 19, 15]], [['https://filebox.ece.vt.edu/~vrama91/PASCAL/2008_002845.jpg'], [2]], [['https://filebox.ece.vt.edu/~vrama91/PASCAL/2008_007398.jpg'], [3]], [['https://filebox.ece.vt.edu/~vrama91/PASCAL/2008_002384.jpg'], [0]], [['https://filebox.ece.vt.edu/~vrama91/PASCAL/2008_006441.jpg'], [0]], [['https://filebox.ece.vt.edu/~vrama91/PASCAL/2008_007691.jpg'], [15]], [['https://filebox.ece.vt.edu/~vrama91/PASCAL/2008_005023.jpg'], []], [['https://filebox.ece.vt.edu/~vrama91/PASCAL/2008_007806.jpg'], [3, 6]], [['https://filebox.ece.vt.edu/~vrama91/PASCAL/2008_004635.jpg'], [11, 2, 18, 15]], [['https://filebox.ece.vt.edu/~vrama91/PASCAL/2008_005231.jpg'], [0, 19]], [['https://filebox.ece.vt.edu/~vrama91/PASCAL/2008_006384.jpg'], [2]], [['https://filebox.ece.vt.edu/~vrama91/PASCAL/2008_003393.jpg'], [18]], [['https://filebox.ece.vt.edu/~vrama91/PASCAL/2008_008431.jpg'], [0]], [['https://filebox.ece.vt.edu/~vrama91/PASCAL/2008_007241.jpg'], [11]], [['https://filebox.ece.vt.edu/~vrama91/PASCAL/2008_000915.jpg'], [10, 6]], [['https://filebox.ece.vt.edu/~vrama91/PASCAL/2008_001160.jpg'], [9]], [['https://filebox.ece.vt.edu/~vrama91/PASCAL/2008_005761.jpg'], [0, 11]], [['https://filebox.ece.vt.edu/~vrama91/PASCAL/2008_006892.jpg'], [0, 11, 6]], [['https://filebox.ece.vt.edu/~vrama91/PASCAL/2008_003232.jpg'], [1]], [['https://filebox.ece.vt.edu/~vrama91/PASCAL/2008_005003.jpg'], [2]], [['https://filebox.ece.vt.edu/~vrama91/PASCAL/2008_004862.jpg'], [0, 11]], [['https://filebox.ece.vt.edu/~vrama91/PASCAL/2008_005676.jpg'], [10]], [['https://filebox.ece.vt.edu/~vrama91/PASCAL/2008_004588.jpg'], []], [['https://filebox.ece.vt.edu/~vrama91/PASCAL/2008_007823.jpg'], [17]], [['https://filebox.ece.vt.edu/~vrama91/PASCAL/2008_008671.jpg'], [0]], [['https://filebox.ece.vt.edu/~vrama91/PASCAL/2008_006841.jpg'], []], [['https://filebox.ece.vt.edu/~vrama91/PASCAL/2008_001070.jpg'], [4]], [['https://filebox.ece.vt.edu/~vrama91/PASCAL/2008_004171.jpg'], [17]], [['https://filebox.ece.vt.edu/~vrama91/PASCAL/2008_008719.jpg'], [10]], [['https://filebox.ece.vt.edu/~vrama91/PASCAL/2008_007496.jpg'], [2]], [['https://filebox.ece.vt.edu/~vrama91/PASCAL/2008_001781.jpg'], [0, 17, 18, 19]], [['https://filebox.ece.vt.edu/~vrama91/PASCAL/2008_001941.jpg'], [11]], [['https://filebox.ece.vt.edu/~vrama91/PASCAL/2008_000202.jpg'], [0]], [['https://filebox.ece.vt.edu/~vrama91/PASCAL/2008_000099.jpg'], [4, 6]], [['https://filebox.ece.vt.edu/~vrama91/PASCAL/2008_005175.jpg'], []], [['https://filebox.ece.vt.edu/~vrama91/PASCAL/2008_003297.jpg'], [0, 11, 3]], [['https://filebox.ece.vt.edu/~vrama91/PASCAL/2008_002362.jpg'], [19]], [['https://filebox.ece.vt.edu/~vrama91/PASCAL/2008_004426.jpg'], [0]], [['https://filebox.ece.vt.edu/~vrama91/PASCAL/2008_001799.jpg'], [9]], [['https://filebox.ece.vt.edu/~vrama91/PASCAL/2008_006969.jpg'], []], [['https://filebox.ece.vt.edu/~vrama91/PASCAL/2008_008343.jpg'], [10, 11]], [['https://filebox.ece.vt.edu/~vrama91/PASCAL/2008_001451.jpg'], []], [['https://filebox.ece.vt.edu/~vrama91/PASCAL/2008_004740.jpg'], []], [['https://filebox.ece.vt.edu/~vrama91/PASCAL/2008_003087.jpg'], []], [['https://filebox.ece.vt.edu/~vrama91/PASCAL/2008_008525.jpg'], []], [['https://filebox.ece.vt.edu/~vrama91/PASCAL/2008_001468.jpg'], [7]], [['https://filebox.ece.vt.edu/~vrama91/PASCAL/2008_003415.jpg'], [11]], [['https://filebox.ece.vt.edu/~vrama91/PASCAL/2008_006404.jpg'], [0, 9]], [['https://filebox.ece.vt.edu/~vrama91/PASCAL/2008_000095.jpg'], [1]], [['https://filebox.ece.vt.edu/~vrama91/PASCAL/2008_001523.jpg'], [0]], [['https://filebox.ece.vt.edu/~vrama91/PASCAL/2008_008388.jpg'], []], [['https://filebox.ece.vt.edu/~vrama91/PASCAL/2008_007291.jpg'], []], [['https://filebox.ece.vt.edu/~vrama91/PASCAL/2008_004653.jpg'], [17, 4]], [['https://filebox.ece.vt.edu/~vrama91/PASCAL/2008_006234.jpg'], []], [['https://filebox.ece.vt.edu/~vrama91/PASCAL/2008_004004.jpg'], [19]], [['https://filebox.ece.vt.edu/~vrama91/PASCAL/2008_008490.jpg'], [1]], [['https://filebox.ece.vt.edu/~vrama91/PASCAL/2008_008131.jpg'], [0, 17]], [['https://filebox.ece.vt.edu/~vrama91/PASCAL/2008_007095.jpg'], [7]], [['https://filebox.ece.vt.edu/~vrama91/PASCAL/2008_003852.jpg'], [4]], [['https://filebox.ece.vt.edu/~vrama91/PASCAL/2008_007922.jpg'], [15]], [['https://filebox.ece.vt.edu/~vrama91/PASCAL/2008_007916.jpg'], [0, 19]], [['https://filebox.ece.vt.edu/~vrama91/PASCAL/2008_007459.jpg'], [0, 11]], [['https://filebox.ece.vt.edu/~vrama91/PASCAL/2008_004301.jpg'], [0]], [['https://filebox.ece.vt.edu/~vrama91/PASCAL/2008_001274.jpg'], [0, 11, 7]], [['https://filebox.ece.vt.edu/~vrama91/PASCAL/2008_002452.jpg'], [11, 13]], [['https://filebox.ece.vt.edu/~vrama91/PASCAL/2008_003575.jpg'], [7]], [['https://filebox.ece.vt.edu/~vrama91/PASCAL/2008_001220.jpg'], [4]], [['https://filebox.ece.vt.edu/~vrama91/PASCAL/2008_008237.jpg'], [0]], [['https://filebox.ece.vt.edu/~vrama91/PASCAL/2008_005279.jpg'], [1]], [['https://filebox.ece.vt.edu/~vrama91/PASCAL/2008_002201.jpg'], [2]], [['https://filebox.ece.vt.edu/~vrama91/PASCAL/2008_002338.jpg'], []], [['https://filebox.ece.vt.edu/~vrama91/PASCAL/2008_004330.jpg'], [19]], [['https://filebox.ece.vt.edu/~vrama91/PASCAL/2008_003533.jpg'], []], [['https://filebox.ece.vt.edu/~vrama91/PASCAL/2008_007599.jpg'], [9]], [['https://filebox.ece.vt.edu/~vrama91/PASCAL/2008_002079.jpg'], []], [['https://filebox.ece.vt.edu/~vrama91/PASCAL/2008_000857.jpg'], [0, 18]], [['https://filebox.ece.vt.edu/~vrama91/PASCAL/2008_006857.jpg'], [0]], [['https://filebox.ece.vt.edu/~vrama91/PASCAL/2008_007953.jpg'], [9, 17]], [['https://filebox.ece.vt.edu/~vrama91/PASCAL/2008_007168.jpg'], [0]], [['https://filebox.ece.vt.edu/~vrama91/PASCAL/2008_007576.jpg'], [0]], [['https://filebox.ece.vt.edu/~vrama91/PASCAL/2008_006877.jpg'], [9]], [['https://filebox.ece.vt.edu/~vrama91/PASCAL/2008_007004.jpg'], []], [['https://filebox.ece.vt.edu/~vrama91/PASCAL/2008_007589.jpg'], [2, 15]], [['https://filebox.ece.vt.edu/~vrama91/PASCAL/2008_005240.jpg'], [0, 4]], [['https://filebox.ece.vt.edu/~vrama91/PASCAL/2008_006835.jpg'], [6]], [['https://filebox.ece.vt.edu/~vrama91/PASCAL/2008_008113.jpg'], [0, 10]], [['https://filebox.ece.vt.edu/~vrama91/PASCAL/2008_002283.jpg'], []], [['https://filebox.ece.vt.edu/~vrama91/PASCAL/2008_008679.jpg'], [10, 11]], [['https://filebox.ece.vt.edu/~vrama91/PASCAL/2008_006096.jpg'], [13]], [['https://filebox.ece.vt.edu/~vrama91/PASCAL/2008_002026.jpg'], [17, 18, 15]], [['https://filebox.ece.vt.edu/~vrama91/PASCAL/2008_002547.jpg'], [19]], [['https://filebox.ece.vt.edu/~vrama91/PASCAL/2008_000547.jpg'], [0]], [['https://filebox.ece.vt.edu/~vrama91/PASCAL/2008_008526.jpg'], [0, 18]], [['https://filebox.ece.vt.edu/~vrama91/PASCAL/2008_001203.jpg'], []], [['https://filebox.ece.vt.edu/~vrama91/PASCAL/2008_006289.jpg'], [9]], [['https://filebox.ece.vt.edu/~vrama91/PASCAL/2008_001448.jpg'], [7]], [['https://filebox.ece.vt.edu/~vrama91/PASCAL/2008_003275.jpg'], [9]], [['https://filebox.ece.vt.edu/~vrama91/PASCAL/2008_007779.jpg'], [11, 13]], [['https://filebox.ece.vt.edu/~vrama91/PASCAL/2008_004914.jpg'], [13]], [['https://filebox.ece.vt.edu/~vrama91/PASCAL/2008_007254.jpg'], [10]], [['https://filebox.ece.vt.edu/~vrama91/PASCAL/2008_005823.jpg'], [4]], [['https://filebox.ece.vt.edu/~vrama91/PASCAL/2008_004328.jpg'], [0, 2, 11]], [['https://filebox.ece.vt.edu/~vrama91/PASCAL/2008_003805.jpg'], [0, 13]], [['https://filebox.ece.vt.edu/~vrama91/PASCAL/2008_000132.jpg'], [0, 10]], [['https://filebox.ece.vt.edu/~vrama91/PASCAL/2008_006483.jpg'], [10, 11]], [['https://filebox.ece.vt.edu/~vrama91/PASCAL/2008_001737.jpg'], [15]], [['https://filebox.ece.vt.edu/~vrama91/PASCAL/2008_003655.jpg'], [7]], [['https://filebox.ece.vt.edu/~vrama91/PASCAL/2008_006912.jpg'], [0]], [['https://filebox.ece.vt.edu/~vrama91/PASCAL/2008_003182.jpg'], [0, 11]], [['https://filebox.ece.vt.edu/~vrama91/PASCAL/2008_002368.jpg'], [11]], [['https://filebox.ece.vt.edu/~vrama91/PASCAL/2008_000725.jpg'], [0]], [['https://filebox.ece.vt.edu/~vrama91/PASCAL/2008_002903.jpg'], [18, 15]], [['https://filebox.ece.vt.edu/~vrama91/PASCAL/2008_002129.jpg'], [0]], [['https://filebox.ece.vt.edu/~vrama91/PASCAL/2008_000904.jpg'], [19, 15]], [['https://filebox.ece.vt.edu/~vrama91/PASCAL/2008_004983.jpg'], [0, 9]], [['https://filebox.ece.vt.edu/~vrama91/PASCAL/2008_006720.jpg'], [9]], [['https://filebox.ece.vt.edu/~vrama91/PASCAL/2008_006496.jpg'], [11, 0, 3]], [['https://filebox.ece.vt.edu/~vrama91/PASCAL/2008_008439.jpg'], [19, 15]], [['https://filebox.ece.vt.edu/~vrama91/PASCAL/2008_004990.jpg'], [2]], [['https://filebox.ece.vt.edu/~vrama91/PASCAL/2008_006999.jpg'], [2, 11]], [['https://filebox.ece.vt.edu/~vrama91/PASCAL/2008_006890.jpg'], [0]], [['https://filebox.ece.vt.edu/~vrama91/PASCAL/2008_000335.jpg'], [3]], [['https://filebox.ece.vt.edu/~vrama91/PASCAL/2008_007596.jpg'], [3]], [['https://filebox.ece.vt.edu/~vrama91/PASCAL/2008_005252.jpg'], [0, 2]], [['https://filebox.ece.vt.edu/~vrama91/PASCAL/2008_003290.jpg'], [0, 15]], [['https://filebox.ece.vt.edu/~vrama91/PASCAL/2008_003037.jpg'], [0, 4]], [['https://filebox.ece.vt.edu/~vrama91/PASCAL/2008_003580.jpg'], [1, 17]], [['https://filebox.ece.vt.edu/~vrama91/PASCAL/2008_005412.jpg'], [0]], [['https://filebox.ece.vt.edu/~vrama91/PASCAL/2008_004175.jpg'], []], [['https://filebox.ece.vt.edu/~vrama91/PASCAL/2008_007470.jpg'], [0]], [['https://filebox.ece.vt.edu/~vrama91/PASCAL/2008_005968.jpg'], [11, 13]], [['https://filebox.ece.vt.edu/~vrama91/PASCAL/2008_003992.jpg'], [11, 13]], [['https://filebox.ece.vt.edu/~vrama91/PASCAL/2008_001235.jpg'], [0, 13]], [['https://filebox.ece.vt.edu/~vrama91/PASCAL/2008_006159.jpg'], [0, 19]], [['https://filebox.ece.vt.edu/~vrama91/PASCAL/2008_001073.jpg'], [0, 19]], [['https://filebox.ece.vt.edu/~vrama91/PASCAL/2008_000541.jpg'], [18]], [['https://filebox.ece.vt.edu/~vrama91/PASCAL/2008_002900.jpg'], [13]], [['https://filebox.ece.vt.edu/~vrama91/PASCAL/2008_000897.jpg'], [1, 4]], [['https://filebox.ece.vt.edu/~vrama91/PASCAL/2008_008320.jpg'], [0]], [['https://filebox.ece.vt.edu/~vrama91/PASCAL/2008_002066.jpg'], [2, 19]], [['https://filebox.ece.vt.edu/~vrama91/PASCAL/2008_006181.jpg'], [0, 11]], [['https://filebox.ece.vt.edu/~vrama91/PASCAL/2008_001862.jpg'], [17, 4]], [['https://filebox.ece.vt.edu/~vrama91/PASCAL/2008_007378.jpg'], [17, 4, 15]], [['https://filebox.ece.vt.edu/~vrama91/PASCAL/2008_000138.jpg'], [4]], [['https://filebox.ece.vt.edu/~vrama91/PASCAL/2008_000706.jpg'], [0, 4, 15]], [['https://filebox.ece.vt.edu/~vrama91/PASCAL/2008_006467.jpg'], [0]], [['https://filebox.ece.vt.edu/~vrama91/PASCAL/2008_004656.jpg'], [0, 11]], [['https://filebox.ece.vt.edu/~vrama91/PASCAL/2008_008524.jpg'], []], [['https://filebox.ece.vt.edu/~vrama91/PASCAL/2008_005348.jpg'], []], [['https://filebox.ece.vt.edu/~vrama91/PASCAL/2008_007804.jpg'], [10, 11]], [['https://filebox.ece.vt.edu/~vrama91/PASCAL/2008_001078.jpg'], [2]], [['https://filebox.ece.vt.edu/~vrama91/PASCAL/2008_007176.jpg'], [2, 18]], [['https://filebox.ece.vt.edu/~vrama91/PASCAL/2008_008319.jpg'], [6]], [['https://filebox.ece.vt.edu/~vrama91/PASCAL/2008_001928.jpg'], [0]], [['https://filebox.ece.vt.edu/~vrama91/PASCAL/2008_003245.jpg'], [15]], [['https://filebox.ece.vt.edu/~vrama91/PASCAL/2008_005939.jpg'], [0]], [['https://filebox.ece.vt.edu/~vrama91/PASCAL/2008_003061.jpg'], [0, 11]], [['https://filebox.ece.vt.edu/~vrama91/PASCAL/2008_005926.jpg'], [0, 18]], [['https://filebox.ece.vt.edu/~vrama91/PASCAL/2008_007226.jpg'], [17]], [['https://filebox.ece.vt.edu/~vrama91/PASCAL/2008_002481.jpg'], [19, 15]], [['https://filebox.ece.vt.edu/~vrama91/PASCAL/2008_002328.jpg'], [0, 15]], [['https://filebox.ece.vt.edu/~vrama91/PASCAL/2008_007394.jpg'], []], [['https://filebox.ece.vt.edu/~vrama91/PASCAL/2008_004969.jpg'], [9]], [['https://filebox.ece.vt.edu/~vrama91/PASCAL/2008_008589.jpg'], [15]], [['https://filebox.ece.vt.edu/~vrama91/PASCAL/2008_007498.jpg'], [1]], [['https://filebox.ece.vt.edu/~vrama91/PASCAL/2008_004214.jpg'], [13]], [['https://filebox.ece.vt.edu/~vrama91/PASCAL/2008_005863.jpg'], [9]], [['https://filebox.ece.vt.edu/~vrama91/PASCAL/2008_004659.jpg'], []], [['https://filebox.ece.vt.edu/~vrama91/PASCAL/2008_006887.jpg'], [3, 19]], [['https://filebox.ece.vt.edu/~vrama91/PASCAL/2008_003788.jpg'], [7]], [['https://filebox.ece.vt.edu/~vrama91/PASCAL/2008_003472.jpg'], [0, 15]], [['https://filebox.ece.vt.edu/~vrama91/PASCAL/2008_001723.jpg'], []], [['https://filebox.ece.vt.edu/~vrama91/PASCAL/2008_008296.jpg'], [0]], [['https://filebox.ece.vt.edu/~vrama91/PASCAL/2008_004130.jpg'], [0]], [['https://filebox.ece.vt.edu/~vrama91/PASCAL/2008_008109.jpg'], [6]], [['https://filebox.ece.vt.edu/~vrama91/PASCAL/2008_008446.jpg'], [9]], [['https://filebox.ece.vt.edu/~vrama91/PASCAL/2008_007245.jpg'], [6]], [['https://filebox.ece.vt.edu/~vrama91/PASCAL/2008_008541.jpg'], [3]], [['https://filebox.ece.vt.edu/~vrama91/PASCAL/2008_003576.jpg'], [4]], [['https://filebox.ece.vt.edu/~vrama91/PASCAL/2008_004216.jpg'], []], [['https://filebox.ece.vt.edu/~vrama91/PASCAL/2008_004165.jpg'], []], [['https://filebox.ece.vt.edu/~vrama91/PASCAL/2008_005680.jpg'], [17]], [['https://filebox.ece.vt.edu/~vrama91/PASCAL/2008_007282.jpg'], [0, 18]], [['https://filebox.ece.vt.edu/~vrama91/PASCAL/2008_004487.jpg'], [0, 15]], [['https://filebox.ece.vt.edu/~vrama91/PASCAL/2008_002504.jpg'], [9]], [['https://filebox.ece.vt.edu/~vrama91/PASCAL/2008_004795.jpg'], []], [['https://filebox.ece.vt.edu/~vrama91/PASCAL/2008_007497.jpg'], [0, 6]], [['https://filebox.ece.vt.edu/~vrama91/PASCAL/2008_000418.jpg'], []], [['https://filebox.ece.vt.edu/~vrama91/PASCAL/2008_006192.jpg'], []], [['https://filebox.ece.vt.edu/~vrama91/PASCAL/2008_008266.jpg'], []], [['https://filebox.ece.vt.edu/~vrama91/PASCAL/2008_006004.jpg'], []], [['https://filebox.ece.vt.edu/~vrama91/PASCAL/2008_001444.jpg'], [0, 15]], [['https://filebox.ece.vt.edu/~vrama91/PASCAL/2008_001601.jpg'], [6]], [['https://filebox.ece.vt.edu/~vrama91/PASCAL/2008_001461.jpg'], [0, 18, 4, 15]], [['https://filebox.ece.vt.edu/~vrama91/PASCAL/2008_001841.jpg'], [11, 15]], [['https://filebox.ece.vt.edu/~vrama91/PASCAL/2008_005449.jpg'], [17, 2, 11]], [['https://filebox.ece.vt.edu/~vrama91/PASCAL/2008_001809.jpg'], [18, 15]], [['https://filebox.ece.vt.edu/~vrama91/PASCAL/2008_004985.jpg'], [18, 15]], [['https://filebox.ece.vt.edu/~vrama91/PASCAL/2008_003224.jpg'], [0]], [['https://filebox.ece.vt.edu/~vrama91/PASCAL/2008_008613.jpg'], [6]], [['https://filebox.ece.vt.edu/~vrama91/PASCAL/2008_003709.jpg'], [18, 15]], [['https://filebox.ece.vt.edu/~vrama91/PASCAL/2008_004363.jpg'], []], [['https://filebox.ece.vt.edu/~vrama91/PASCAL/2008_004679.jpg'], [0, 10]], [['https://filebox.ece.vt.edu/~vrama91/PASCAL/2008_003283.jpg'], [0]], [['https://filebox.ece.vt.edu/~vrama91/PASCAL/2008_007097.jpg'], [15]], [['https://filebox.ece.vt.edu/~vrama91/PASCAL/2008_004097.jpg'], [0, 19]], [['https://filebox.ece.vt.edu/~vrama91/PASCAL/2008_005186.jpg'], [0, 1]], [['https://filebox.ece.vt.edu/~vrama91/PASCAL/2008_005924.jpg'], [1]], [['https://filebox.ece.vt.edu/~vrama91/PASCAL/2008_002948.jpg'], [18, 15]], [['https://filebox.ece.vt.edu/~vrama91/PASCAL/2008_007737.jpg'], []], [['https://filebox.ece.vt.edu/~vrama91/PASCAL/2008_000493.jpg'], [18]], [['https://filebox.ece.vt.edu/~vrama91/PASCAL/2008_002459.jpg'], [0]], [['https://filebox.ece.vt.edu/~vrama91/PASCAL/2008_000620.jpg'], [0, 4]], [['https://filebox.ece.vt.edu/~vrama91/PASCAL/2008_008453.jpg'], []], [['https://filebox.ece.vt.edu/~vrama91/PASCAL/2008_004968.jpg'], [10, 13]], [['https://filebox.ece.vt.edu/~vrama91/PASCAL/2008_002653.jpg'], [17]], [['https://filebox.ece.vt.edu/~vrama91/PASCAL/2008_004629.jpg'], [11, 6]], [['https://filebox.ece.vt.edu/~vrama91/PASCAL/2008_004911.jpg'], []], [['https://filebox.ece.vt.edu/~vrama91/PASCAL/2008_004559.jpg'], [11]], [['https://filebox.ece.vt.edu/~vrama91/PASCAL/2008_007935.jpg'], []], [['https://filebox.ece.vt.edu/~vrama91/PASCAL/2008_000795.jpg'], [0]], [['https://filebox.ece.vt.edu/~vrama91/PASCAL/2008_006807.jpg'], []], [['https://filebox.ece.vt.edu/~vrama91/PASCAL/2008_001829.jpg'], [1, 7]], [['https://filebox.ece.vt.edu/~vrama91/PASCAL/2008_004289.jpg'], [0, 15]], [['https://filebox.ece.vt.edu/~vrama91/PASCAL/2008_001460.jpg'], [17]], [['https://filebox.ece.vt.edu/~vrama91/PASCAL/2008_005139.jpg'], [10, 11]], [['https://filebox.ece.vt.edu/~vrama91/PASCAL/2008_006154.jpg'], [0]], [['https://filebox.ece.vt.edu/~vrama91/PASCAL/2008_000806.jpg'], [0]], [['https://filebox.ece.vt.edu/~vrama91/PASCAL/2008_006070.jpg'], [6]], [['https://filebox.ece.vt.edu/~vrama91/PASCAL/2008_006068.jpg'], [17, 2]], [['https://filebox.ece.vt.edu/~vrama91/PASCAL/2008_004812.jpg'], [9]], [['https://filebox.ece.vt.edu/~vrama91/PASCAL/2008_006290.jpg'], [3]], [['https://filebox.ece.vt.edu/~vrama91/PASCAL/2008_000834.jpg'], [0, 9]], [['https://filebox.ece.vt.edu/~vrama91/PASCAL/2008_001592.jpg'], [2]], [['https://filebox.ece.vt.edu/~vrama91/PASCAL/2008_002482.jpg'], [0, 9]], [['https://filebox.ece.vt.edu/~vrama91/PASCAL/2008_008501.jpg'], [10, 11, 7]], [['https://filebox.ece.vt.edu/~vrama91/PASCAL/2008_007837.jpg'], [0, 18, 19]], [['https://filebox.ece.vt.edu/~vrama91/PASCAL/2008_004291.jpg'], [9]], [['https://filebox.ece.vt.edu/~vrama91/PASCAL/2008_008012.jpg'], []], [['https://filebox.ece.vt.edu/~vrama91/PASCAL/2008_005214.jpg'], [17]], [['https://filebox.ece.vt.edu/~vrama91/PASCAL/2008_001704.jpg'], [19]], [['https://filebox.ece.vt.edu/~vrama91/PASCAL/2008_003320.jpg'], [0]], [['https://filebox.ece.vt.edu/~vrama91/PASCAL/2008_006282.jpg'], []], [['https://filebox.ece.vt.edu/~vrama91/PASCAL/2008_003998.jpg'], [0]], [['https://filebox.ece.vt.edu/~vrama91/PASCAL/2008_004844.jpg'], [10]], [['https://filebox.ece.vt.edu/~vrama91/PASCAL/2008_007050.jpg'], [18, 15]], [['https://filebox.ece.vt.edu/~vrama91/PASCAL/2008_001676.jpg'], [4]], [['https://filebox.ece.vt.edu/~vrama91/PASCAL/2008_006194.jpg'], [2]], [['https://filebox.ece.vt.edu/~vrama91/PASCAL/2008_006477.jpg'], [6]], [['https://filebox.ece.vt.edu/~vrama91/PASCAL/2008_004670.jpg'], [18, 15]], [['https://filebox.ece.vt.edu/~vrama91/PASCAL/2008_000491.jpg'], [17, 2]], [['https://filebox.ece.vt.edu/~vrama91/PASCAL/2008_004654.jpg'], []], [['https://filebox.ece.vt.edu/~vrama91/PASCAL/2008_005891.jpg'], [10, 11]], [['https://filebox.ece.vt.edu/~vrama91/PASCAL/2008_003133.jpg'], [4]], [['https://filebox.ece.vt.edu/~vrama91/PASCAL/2008_000195.jpg'], [0, 9]], [['https://filebox.ece.vt.edu/~vrama91/PASCAL/2008_006700.jpg'], []], [['https://filebox.ece.vt.edu/~vrama91/PASCAL/2008_008199.jpg'], [3]], [['https://filebox.ece.vt.edu/~vrama91/PASCAL/2008_004007.jpg'], [4, 6]], [['https://filebox.ece.vt.edu/~vrama91/PASCAL/2008_004293.jpg'], [4]], [['https://filebox.ece.vt.edu/~vrama91/PASCAL/2008_004087.jpg'], [1]], [['https://filebox.ece.vt.edu/~vrama91/PASCAL/2008_003369.jpg'], [7]], [['https://filebox.ece.vt.edu/~vrama91/PASCAL/2008_000711.jpg'], [3]], [['https://filebox.ece.vt.edu/~vrama91/PASCAL/2008_003892.jpg'], [0]], [['https://filebox.ece.vt.edu/~vrama91/PASCAL/2008_000328.jpg'], [0]], [['https://filebox.ece.vt.edu/~vrama91/PASCAL/2008_005538.jpg'], []], [['https://filebox.ece.vt.edu/~vrama91/PASCAL/2008_005774.jpg'], [1, 17, 7]], [['https://filebox.ece.vt.edu/~vrama91/PASCAL/2008_005094.jpg'], [0, 18]], [['https://filebox.ece.vt.edu/~vrama91/PASCAL/2008_008482.jpg'], [3]], [['https://filebox.ece.vt.edu/~vrama91/PASCAL/2008_003063.jpg'], [2, 18]], [['https://filebox.ece.vt.edu/~vrama91/PASCAL/2008_008052.jpg'], [0]], [['https://filebox.ece.vt.edu/~vrama91/PASCAL/2008_005105.jpg'], [3]], [['https://filebox.ece.vt.edu/~vrama91/PASCAL/2008_007344.jpg'], [4]], [['https://filebox.ece.vt.edu/~vrama91/PASCAL/2008_004873.jpg'], [2]], [['https://filebox.ece.vt.edu/~vrama91/PASCAL/2008_003329.jpg'], [0]], [['https://filebox.ece.vt.edu/~vrama91/PASCAL/2008_007949.jpg'], [0]], [['https://filebox.ece.vt.edu/~vrama91/PASCAL/2008_005945.jpg'], [0]], [['https://filebox.ece.vt.edu/~vrama91/PASCAL/2008_008123.jpg'], [11, 13]], [['https://filebox.ece.vt.edu/~vrama91/PASCAL/2008_007839.jpg'], [1]], [['https://filebox.ece.vt.edu/~vrama91/PASCAL/2008_006762.jpg'], [0, 11]], [['https://filebox.ece.vt.edu/~vrama91/PASCAL/2008_000976.jpg'], []], [['https://filebox.ece.vt.edu/~vrama91/PASCAL/2008_005933.jpg'], [0, 10, 11]], [['https://filebox.ece.vt.edu/~vrama91/PASCAL/2008_003271.jpg'], [0]], [['https://filebox.ece.vt.edu/~vrama91/PASCAL/2008_005107.jpg'], [15]], [['https://filebox.ece.vt.edu/~vrama91/PASCAL/2008_002686.jpg'], [0, 3]], [['https://filebox.ece.vt.edu/~vrama91/PASCAL/2008_000421.jpg'], [0, 18]], [['https://filebox.ece.vt.edu/~vrama91/PASCAL/2008_007324.jpg'], [2, 19]], [['https://filebox.ece.vt.edu/~vrama91/PASCAL/2008_006331.jpg'], [0]], [['https://filebox.ece.vt.edu/~vrama91/PASCAL/2008_005505.jpg'], [6]], [['https://filebox.ece.vt.edu/~vrama91/PASCAL/2008_001479.jpg'], [4]], [['https://filebox.ece.vt.edu/~vrama91/PASCAL/2008_000376.jpg'], [0, 7]], [['https://filebox.ece.vt.edu/~vrama91/PASCAL/2008_006924.jpg'], [0, 1]], [['https://filebox.ece.vt.edu/~vrama91/PASCAL/2008_002325.jpg'], [0, 11, 13]], [['https://filebox.ece.vt.edu/~vrama91/PASCAL/2008_006037.jpg'], [11]], [['https://filebox.ece.vt.edu/~vrama91/PASCAL/2008_008252.jpg'], [10]], [['https://filebox.ece.vt.edu/~vrama91/PASCAL/2008_000885.jpg'], [0]], [['https://filebox.ece.vt.edu/~vrama91/PASCAL/2008_005494.jpg'], [6]], [['https://filebox.ece.vt.edu/~vrama91/PASCAL/2008_006336.jpg'], [11]], [['https://filebox.ece.vt.edu/~vrama91/PASCAL/2008_008376.jpg'], [1]], [['https://filebox.ece.vt.edu/~vrama91/PASCAL/2008_002679.jpg'], [0]], [['https://filebox.ece.vt.edu/~vrama91/PASCAL/2008_004166.jpg'], []], [['https://filebox.ece.vt.edu/~vrama91/PASCAL/2008_002399.jpg'], [1]], [['https://filebox.ece.vt.edu/~vrama91/PASCAL/2008_003986.jpg'], [11]], [['https://filebox.ece.vt.edu/~vrama91/PASCAL/2008_000691.jpg'], [0, 11]], [['https://filebox.ece.vt.edu/~vrama91/PASCAL/2008_006602.jpg'], [4, 7]], [['https://filebox.ece.vt.edu/~vrama91/PASCAL/2008_007363.jpg'], [2, 15]], [['https://filebox.ece.vt.edu/~vrama91/PASCAL/2008_004348.jpg'], [7]], [['https://filebox.ece.vt.edu/~vrama91/PASCAL/2008_001349.jpg'], []], [['https://filebox.ece.vt.edu/~vrama91/PASCAL/2008_005642.jpg'], [0]], [['https://filebox.ece.vt.edu/~vrama91/PASCAL/2008_008641.jpg'], [0, 13]], [['https://filebox.ece.vt.edu/~vrama91/PASCAL/2008_004551.jpg'], [1]], [['https://filebox.ece.vt.edu/~vrama91/PASCAL/2008_004528.jpg'], [18, 4, 15]], [['https://filebox.ece.vt.edu/~vrama91/PASCAL/2008_002412.jpg'], [10, 13]], [['https://filebox.ece.vt.edu/~vrama91/PASCAL/2008_006429.jpg'], []], [['https://filebox.ece.vt.edu/~vrama91/PASCAL/2008_002521.jpg'], [15]], [['https://filebox.ece.vt.edu/~vrama91/PASCAL/2008_000128.jpg'], [18]], [['https://filebox.ece.vt.edu/~vrama91/PASCAL/2008_000270.jpg'], [18, 4]], [['https://filebox.ece.vt.edu/~vrama91/PASCAL/2008_008674.jpg'], [10]], [['https://filebox.ece.vt.edu/~vrama91/PASCAL/2008_002897.jpg'], [0, 15]], [['https://filebox.ece.vt.edu/~vrama91/PASCAL/2008_007166.jpg'], []], [['https://filebox.ece.vt.edu/~vrama91/PASCAL/2008_008608.jpg'], [0, 17, 18, 19]], [['https://filebox.ece.vt.edu/~vrama91/PASCAL/2008_000987.jpg'], []], [['https://filebox.ece.vt.edu/~vrama91/PASCAL/2008_007070.jpg'], [6]], [['https://filebox.ece.vt.edu/~vrama91/PASCAL/2008_007138.jpg'], [0]], [['https://filebox.ece.vt.edu/~vrama91/PASCAL/2008_007587.jpg'], [1, 17]], [['https://filebox.ece.vt.edu/~vrama91/PASCAL/2008_002410.jpg'], [2]], [['https://filebox.ece.vt.edu/~vrama91/PASCAL/2008_005213.jpg'], []], [['https://filebox.ece.vt.edu/~vrama91/PASCAL/2008_002672.jpg'], []], [['https://filebox.ece.vt.edu/~vrama91/PASCAL/2008_006281.jpg'], [1]], [['https://filebox.ece.vt.edu/~vrama91/PASCAL/2008_002278.jpg'], [11, 3]], [['https://filebox.ece.vt.edu/~vrama91/PASCAL/2008_002471.jpg'], [1, 7]], [['https://filebox.ece.vt.edu/~vrama91/PASCAL/2008_005549.jpg'], [0, 11]], [['https://filebox.ece.vt.edu/~vrama91/PASCAL/2008_000272.jpg'], [0]], [['https://filebox.ece.vt.edu/~vrama91/PASCAL/2008_007941.jpg'], [2, 11, 15]], [['https://filebox.ece.vt.edu/~vrama91/PASCAL/2008_006933.jpg'], [7]], [['https://filebox.ece.vt.edu/~vrama91/PASCAL/2008_007319.jpg'], []], [['https://filebox.ece.vt.edu/~vrama91/PASCAL/2008_000116.jpg'], [2, 11]], [['https://filebox.ece.vt.edu/~vrama91/PASCAL/2008_002697.jpg'], []], [['https://filebox.ece.vt.edu/~vrama91/PASCAL/2008_003622.jpg'], [0, 2]], [['https://filebox.ece.vt.edu/~vrama91/PASCAL/2008_003701.jpg'], [9]], [['https://filebox.ece.vt.edu/~vrama91/PASCAL/2008_008619.jpg'], [0, 3]], [['https://filebox.ece.vt.edu/~vrama91/PASCAL/2008_006014.jpg'], [0, 9]], [['https://filebox.ece.vt.edu/~vrama91/PASCAL/2008_005160.jpg'], [4]], [['https://filebox.ece.vt.edu/~vrama91/PASCAL/2008_007504.jpg'], [7]], [['https://filebox.ece.vt.edu/~vrama91/PASCAL/2008_002119.jpg'], [18, 15]], [['https://filebox.ece.vt.edu/~vrama91/PASCAL/2008_002508.jpg'], [0, 18, 15]], [['https://filebox.ece.vt.edu/~vrama91/PASCAL/2008_004850.jpg'], [11]], [['https://filebox.ece.vt.edu/~vrama91/PASCAL/2008_003072.jpg'], [0]], [['https://filebox.ece.vt.edu/~vrama91/PASCAL/2008_003461.jpg'], [0]], [['https://filebox.ece.vt.edu/~vrama91/PASCAL/2008_006511.jpg'], [4]], [['https://filebox.ece.vt.edu/~vrama91/PASCAL/2008_002709.jpg'], [3]], [['https://filebox.ece.vt.edu/~vrama91/PASCAL/2008_000237.jpg'], [0, 11]], [['https://filebox.ece.vt.edu/~vrama91/PASCAL/2008_008623.jpg'], [6]], [['https://filebox.ece.vt.edu/~vrama91/PASCAL/2008_006611.jpg'], []], [['https://filebox.ece.vt.edu/~vrama91/PASCAL/2008_005414.jpg'], [15]], [['https://filebox.ece.vt.edu/~vrama91/PASCAL/2008_008066.jpg'], [10]], [['https://filebox.ece.vt.edu/~vrama91/PASCAL/2008_007544.jpg'], [0, 3]], [['https://filebox.ece.vt.edu/~vrama91/PASCAL/2008_000911.jpg'], []], [['https://filebox.ece.vt.edu/~vrama91/PASCAL/2008_007476.jpg'], [0, 19]], [['https://filebox.ece.vt.edu/~vrama91/PASCAL/2008_005321.jpg'], [9]], [['https://filebox.ece.vt.edu/~vrama91/PASCAL/2008_007621.jpg'], [17, 4]], [['https://filebox.ece.vt.edu/~vrama91/PASCAL/2008_003060.jpg'], [10, 2, 4]], [['https://filebox.ece.vt.edu/~vrama91/PASCAL/2008_007442.jpg'], []], [['https://filebox.ece.vt.edu/~vrama91/PASCAL/2008_004973.jpg'], [1]], [['https://filebox.ece.vt.edu/~vrama91/PASCAL/2008_006691.jpg'], [11]], [['https://filebox.ece.vt.edu/~vrama91/PASCAL/2008_002749.jpg'], [2, 15]], [['https://filebox.ece.vt.edu/~vrama91/PASCAL/2008_008365.jpg'], [0, 15]], [['https://filebox.ece.vt.edu/~vrama91/PASCAL/2008_008450.jpg'], []], [['https://filebox.ece.vt.edu/~vrama91/PASCAL/2008_006038.jpg'], [18, 4]], [['https://filebox.ece.vt.edu/~vrama91/PASCAL/2008_006649.jpg'], [11]], [['https://filebox.ece.vt.edu/~vrama91/PASCAL/2008_002929.jpg'], [0, 9, 18]], [['https://filebox.ece.vt.edu/~vrama91/PASCAL/2008_001083.jpg'], []], [['https://filebox.ece.vt.edu/~vrama91/PASCAL/2008_007955.jpg'], []], [['https://filebox.ece.vt.edu/~vrama91/PASCAL/2008_001985.jpg'], [7]], [['https://filebox.ece.vt.edu/~vrama91/PASCAL/2008_005959.jpg'], [9]], [['https://filebox.ece.vt.edu/~vrama91/PASCAL/2008_008115.jpg'], [0, 3]], [['https://filebox.ece.vt.edu/~vrama91/PASCAL/2008_004610.jpg'], [13]], [['https://filebox.ece.vt.edu/~vrama91/PASCAL/2008_003858.jpg'], [9]], [['https://filebox.ece.vt.edu/~vrama91/PASCAL/2008_006948.jpg'], [0, 18, 19, 15]], [['https://filebox.ece.vt.edu/~vrama91/PASCAL/2008_001691.jpg'], []], [['https://filebox.ece.vt.edu/~vrama91/PASCAL/2008_000716.jpg'], [7]], [['https://filebox.ece.vt.edu/~vrama91/PASCAL/2008_007361.jpg'], [19, 15]], [['https://filebox.ece.vt.edu/~vrama91/PASCAL/2008_004760.jpg'], [4]], [['https://filebox.ece.vt.edu/~vrama91/PASCAL/2008_005882.jpg'], [2, 18, 4]], [['https://filebox.ece.vt.edu/~vrama91/PASCAL/2008_008001.jpg'], [11, 13]], [['https://filebox.ece.vt.edu/~vrama91/PASCAL/2008_006327.jpg'], [6]], [['https://filebox.ece.vt.edu/~vrama91/PASCAL/2008_005168.jpg'], [0]], [['https://filebox.ece.vt.edu/~vrama91/PASCAL/2008_005360.jpg'], [10]], [['https://filebox.ece.vt.edu/~vrama91/PASCAL/2008_003924.jpg'], [10]], [['https://filebox.ece.vt.edu/~vrama91/PASCAL/2008_007048.jpg'], [15]], [['https://filebox.ece.vt.edu/~vrama91/PASCAL/2008_008471.jpg'], [1, 7]], [['https://filebox.ece.vt.edu/~vrama91/PASCAL/2008_008552.jpg'], [0]], [['https://filebox.ece.vt.edu/~vrama91/PASCAL/2008_003067.jpg'], [10]], [['https://filebox.ece.vt.edu/~vrama91/PASCAL/2008_006936.jpg'], [11]], [['https://filebox.ece.vt.edu/~vrama91/PASCAL/2008_001837.jpg'], [0]], [['https://filebox.ece.vt.edu/~vrama91/PASCAL/2008_004995.jpg'], []], [['https://filebox.ece.vt.edu/~vrama91/PASCAL/2008_008517.jpg'], [18]], [['https://filebox.ece.vt.edu/~vrama91/PASCAL/2008_007352.jpg'], [10, 11]], [['https://filebox.ece.vt.edu/~vrama91/PASCAL/2008_003418.jpg'], []], [['https://filebox.ece.vt.edu/~vrama91/PASCAL/2008_006748.jpg'], [10]], [['https://filebox.ece.vt.edu/~vrama91/PASCAL/2008_005938.jpg'], [6]], [['https://filebox.ece.vt.edu/~vrama91/PASCAL/2008_001842.jpg'], [0, 10]], [['https://filebox.ece.vt.edu/~vrama91/PASCAL/2008_004347.jpg'], [2, 11]], [['https://filebox.ece.vt.edu/~vrama91/PASCAL/2008_007831.jpg'], [17, 2]], [['https://filebox.ece.vt.edu/~vrama91/PASCAL/2008_004539.jpg'], [11]], [['https://filebox.ece.vt.edu/~vrama91/PASCAL/2008_001772.jpg'], [0, 15]], [['https://filebox.ece.vt.edu/~vrama91/PASCAL/2008_000641.jpg'], [2, 4]], [['https://filebox.ece.vt.edu/~vrama91/PASCAL/2008_008739.jpg'], [11, 13]], [['https://filebox.ece.vt.edu/~vrama91/PASCAL/2008_000437.jpg'], [9, 1]], [['https://filebox.ece.vt.edu/~vrama91/PASCAL/2008_004014.jpg'], [9]], [['https://filebox.ece.vt.edu/~vrama91/PASCAL/2008_000090.jpg'], []], [['https://filebox.ece.vt.edu/~vrama91/PASCAL/2008_001850.jpg'], [13]], [['https://filebox.ece.vt.edu/~vrama91/PASCAL/2008_004931.jpg'], [17, 4]], [['https://filebox.ece.vt.edu/~vrama91/PASCAL/2008_003068.jpg'], [13]], [['https://filebox.ece.vt.edu/~vrama91/PASCAL/2008_006526.jpg'], [0]], [['https://filebox.ece.vt.edu/~vrama91/PASCAL/2008_002071.jpg'], [15]], [['https://filebox.ece.vt.edu/~vrama91/PASCAL/2008_007415.jpg'], [15]], [['https://filebox.ece.vt.edu/~vrama91/PASCAL/2008_004592.jpg'], [15]], [['https://filebox.ece.vt.edu/~vrama91/PASCAL/2008_001836.jpg'], [2]], [['https://filebox.ece.vt.edu/~vrama91/PASCAL/2008_005695.jpg'], [9]], [['https://filebox.ece.vt.edu/~vrama91/PASCAL/2008_007346.jpg'], [9]], [['https://filebox.ece.vt.edu/~vrama91/PASCAL/2008_008177.jpg'], [11]], [['https://filebox.ece.vt.edu/~vrama91/PASCAL/2008_001858.jpg'], [9]], [['https://filebox.ece.vt.edu/~vrama91/PASCAL/2008_001155.jpg'], [15]], [['https://filebox.ece.vt.edu/~vrama91/PASCAL/2008_007323.jpg'], []], [['https://filebox.ece.vt.edu/~vrama91/PASCAL/2008_008628.jpg'], [18]], [['https://filebox.ece.vt.edu/~vrama91/PASCAL/2008_007584.jpg'], [18, 15]], [['https://filebox.ece.vt.edu/~vrama91/PASCAL/2008_007031.jpg'], [3]], [['https://filebox.ece.vt.edu/~vrama91/PASCAL/2008_007507.jpg'], [13]], [['https://filebox.ece.vt.edu/~vrama91/PASCAL/2008_006708.jpg'], [0]], [['https://filebox.ece.vt.edu/~vrama91/PASCAL/2008_002752.jpg'], [0]], [['https://filebox.ece.vt.edu/~vrama91/PASCAL/2008_007054.jpg'], []], [['https://filebox.ece.vt.edu/~vrama91/PASCAL/2008_001820.jpg'], [10]], [['https://filebox.ece.vt.edu/~vrama91/PASCAL/2008_004634.jpg'], [17]], [['https://filebox.ece.vt.edu/~vrama91/PASCAL/2008_008622.jpg'], [18, 4, 15]], [['https://filebox.ece.vt.edu/~vrama91/PASCAL/2008_004908.jpg'], [19]], [['https://filebox.ece.vt.edu/~vrama91/PASCAL/2008_007021.jpg'], [18, 4]], [['https://filebox.ece.vt.edu/~vrama91/PASCAL/2008_006064.jpg'], [0]], [['https://filebox.ece.vt.edu/~vrama91/PASCAL/2008_004833.jpg'], [4]], [['https://filebox.ece.vt.edu/~vrama91/PASCAL/2008_000964.jpg'], [17, 3]], [['https://filebox.ece.vt.edu/~vrama91/PASCAL/2008_000704.jpg'], [0, 18, 19]], [['https://filebox.ece.vt.edu/~vrama91/PASCAL/2008_007375.jpg'], [10]], [['https://filebox.ece.vt.edu/~vrama91/PASCAL/2008_002926.jpg'], []], [['https://filebox.ece.vt.edu/~vrama91/PASCAL/2008_007923.jpg'], [0]], [['https://filebox.ece.vt.edu/~vrama91/PASCAL/2008_001563.jpg'], [15]], [['https://filebox.ece.vt.edu/~vrama91/PASCAL/2008_008185.jpg'], [0, 1]], [['https://filebox.ece.vt.edu/~vrama91/PASCAL/2008_008322.jpg'], [11, 6]], [['https://filebox.ece.vt.edu/~vrama91/PASCAL/2008_000219.jpg'], []], [['https://filebox.ece.vt.edu/~vrama91/PASCAL/2008_001230.jpg'], [0]], [['https://filebox.ece.vt.edu/~vrama91/PASCAL/2008_005857.jpg'], [2, 15]], [['https://filebox.ece.vt.edu/~vrama91/PASCAL/2008_008755.jpg'], [0]], [['https://filebox.ece.vt.edu/~vrama91/PASCAL/2008_005081.jpg'], [0, 15]], [['https://filebox.ece.vt.edu/~vrama91/PASCAL/2008_007430.jpg'], [0, 6]], [['https://filebox.ece.vt.edu/~vrama91/PASCAL/2008_004783.jpg'], [1]], [['https://filebox.ece.vt.edu/~vrama91/PASCAL/2008_001135.jpg'], [9]], [['https://filebox.ece.vt.edu/~vrama91/PASCAL/2008_004948.jpg'], [0]], [['https://filebox.ece.vt.edu/~vrama91/PASCAL/2008_002179.jpg'], [10]], [['https://filebox.ece.vt.edu/~vrama91/PASCAL/2008_003466.jpg'], [17, 19]], [['https://filebox.ece.vt.edu/~vrama91/PASCAL/2008_001625.jpg'], [11, 13]], [['https://filebox.ece.vt.edu/~vrama91/PASCAL/2008_004080.jpg'], []], [['https://filebox.ece.vt.edu/~vrama91/PASCAL/2008_003814.jpg'], [0, 18, 19, 15]], [['https://filebox.ece.vt.edu/~vrama91/PASCAL/2008_004321.jpg'], []], [['https://filebox.ece.vt.edu/~vrama91/PASCAL/2008_008098.jpg'], []], [['https://filebox.ece.vt.edu/~vrama91/PASCAL/2008_008341.jpg'], []], [['https://filebox.ece.vt.edu/~vrama91/PASCAL/2008_007752.jpg'], [1]], [['https://filebox.ece.vt.edu/~vrama91/PASCAL/2008_007739.jpg'], [11]], [['https://filebox.ece.vt.edu/~vrama91/PASCAL/2008_000748.jpg'], [0]], [['https://filebox.ece.vt.edu/~vrama91/PASCAL/2008_001966.jpg'], [1, 17]], [['https://filebox.ece.vt.edu/~vrama91/PASCAL/2008_000305.jpg'], [19, 15]], [['https://filebox.ece.vt.edu/~vrama91/PASCAL/2008_004100.jpg'], [13, 7]], [['https://filebox.ece.vt.edu/~vrama91/PASCAL/2008_008152.jpg'], [0, 11, 13]], [['https://filebox.ece.vt.edu/~vrama91/PASCAL/2008_005625.jpg'], []], [['https://filebox.ece.vt.edu/~vrama91/PASCAL/2008_004532.jpg'], [7]], [['https://filebox.ece.vt.edu/~vrama91/PASCAL/2008_005720.jpg'], [9]], [['https://filebox.ece.vt.edu/~vrama91/PASCAL/2008_000564.jpg'], []], [['https://filebox.ece.vt.edu/~vrama91/PASCAL/2008_005090.jpg'], [0, 18, 19]], [['https://filebox.ece.vt.edu/~vrama91/PASCAL/2008_007348.jpg'], [0]], [['https://filebox.ece.vt.edu/~vrama91/PASCAL/2008_005817.jpg'], [0, 19]], [['https://filebox.ece.vt.edu/~vrama91/PASCAL/2008_007694.jpg'], [11, 4]], [['https://filebox.ece.vt.edu/~vrama91/PASCAL/2008_008751.jpg'], [13]], [['https://filebox.ece.vt.edu/~vrama91/PASCAL/2008_000808.jpg'], [4, 7]], [['https://filebox.ece.vt.edu/~vrama91/PASCAL/2008_003753.jpg'], [19, 15]], [['https://filebox.ece.vt.edu/~vrama91/PASCAL/2008_004470.jpg'], [0, 13]], [['https://filebox.ece.vt.edu/~vrama91/PASCAL/2008_003222.jpg'], [1]], [['https://filebox.ece.vt.edu/~vrama91/PASCAL/2008_002270.jpg'], [3, 4, 6]], [['https://filebox.ece.vt.edu/~vrama91/PASCAL/2008_006623.jpg'], [7]], [['https://filebox.ece.vt.edu/~vrama91/PASCAL/2008_007986.jpg'], [0]], [['https://filebox.ece.vt.edu/~vrama91/PASCAL/2008_004020.jpg'], [11]], [['https://filebox.ece.vt.edu/~vrama91/PASCAL/2008_007332.jpg'], [19]], [['https://filebox.ece.vt.edu/~vrama91/PASCAL/2008_003094.jpg'], [0, 3]], [['https://filebox.ece.vt.edu/~vrama91/PASCAL/2008_006553.jpg'], [13]], [['https://filebox.ece.vt.edu/~vrama91/PASCAL/2008_005960.jpg'], [11]], [['https://filebox.ece.vt.edu/~vrama91/PASCAL/2008_008487.jpg'], [0]], [['https://filebox.ece.vt.edu/~vrama91/PASCAL/2008_007003.jpg'], [1]], [['https://filebox.ece.vt.edu/~vrama91/PASCAL/2008_008368.jpg'], [0]], [['https://filebox.ece.vt.edu/~vrama91/PASCAL/2008_004910.jpg'], [19]], [['https://filebox.ece.vt.edu/~vrama91/PASCAL/2008_000919.jpg'], [3]], [['https://filebox.ece.vt.edu/~vrama91/PASCAL/2008_004445.jpg'], [17, 15]], [['https://filebox.ece.vt.edu/~vrama91/PASCAL/2008_001041.jpg'], [9]], [['https://filebox.ece.vt.edu/~vrama91/PASCAL/2008_003826.jpg'], [13]], [['https://filebox.ece.vt.edu/~vrama91/PASCAL/2008_008649.jpg'], [0, 18, 19, 15]], [['https://filebox.ece.vt.edu/~vrama91/PASCAL/2008_004805.jpg'], [1]], [['https://filebox.ece.vt.edu/~vrama91/PASCAL/2008_004841.jpg'], [3, 15]], [['https://filebox.ece.vt.edu/~vrama91/PASCAL/2008_006163.jpg'], [9]], [['https://filebox.ece.vt.edu/~vrama91/PASCAL/2008_008146.jpg'], [7]], [['https://filebox.ece.vt.edu/~vrama91/PASCAL/2008_005975.jpg'], [0]], [['https://filebox.ece.vt.edu/~vrama91/PASCAL/2008_004457.jpg'], [9, 15]], [['https://filebox.ece.vt.edu/~vrama91/PASCAL/2008_002329.jpg'], [2, 18]], [['https://filebox.ece.vt.edu/~vrama91/PASCAL/2008_006554.jpg'], [0, 10]], [['https://filebox.ece.vt.edu/~vrama91/PASCAL/2008_001467.jpg'], [15]], [['https://filebox.ece.vt.edu/~vrama91/PASCAL/2008_007990.jpg'], []], [['https://filebox.ece.vt.edu/~vrama91/PASCAL/2008_005498.jpg'], [0]], [['https://filebox.ece.vt.edu/~vrama91/PASCAL/2008_001021.jpg'], [0, 19]], [['https://filebox.ece.vt.edu/~vrama91/PASCAL/2008_002850.jpg'], [9]], [['https://filebox.ece.vt.edu/~vrama91/PASCAL/2008_006458.jpg'], []], [['https://filebox.ece.vt.edu/~vrama91/PASCAL/2008_008132.jpg'], [3]], [['https://filebox.ece.vt.edu/~vrama91/PASCAL/2008_004613.jpg'], [10]], [['https://filebox.ece.vt.edu/~vrama91/PASCAL/2008_008642.jpg'], [18, 15]], [['https://filebox.ece.vt.edu/~vrama91/PASCAL/2008_007948.jpg'], [1]], [['https://filebox.ece.vt.edu/~vrama91/PASCAL/2008_002430.jpg'], [4, 6]], [['https://filebox.ece.vt.edu/~vrama91/PASCAL/2008_004303.jpg'], [3, 2, 11]], [['https://filebox.ece.vt.edu/~vrama91/PASCAL/2008_007997.jpg'], [10, 11]], [['https://filebox.ece.vt.edu/~vrama91/PASCAL/2008_008362.jpg'], [0]], [['https://filebox.ece.vt.edu/~vrama91/PASCAL/2008_005282.jpg'], [10, 13]], [['https://filebox.ece.vt.edu/~vrama91/PASCAL/2008_005714.jpg'], [3]], [['https://filebox.ece.vt.edu/~vrama91/PASCAL/2008_004776.jpg'], [0, 15]], [['https://filebox.ece.vt.edu/~vrama91/PASCAL/2008_003342.jpg'], []], [['https://filebox.ece.vt.edu/~vrama91/PASCAL/2008_002666.jpg'], [0]], [['https://filebox.ece.vt.edu/~vrama91/PASCAL/2008_005254.jpg'], [19]], [['https://filebox.ece.vt.edu/~vrama91/PASCAL/2008_002158.jpg'], [13]], [['https://filebox.ece.vt.edu/~vrama91/PASCAL/2008_001501.jpg'], []], [['https://filebox.ece.vt.edu/~vrama91/PASCAL/2008_008662.jpg'], [11, 13]], [['https://filebox.ece.vt.edu/~vrama91/PASCAL/2008_006730.jpg'], [0, 9]], [['https://filebox.ece.vt.edu/~vrama91/PASCAL/2008_005234.jpg'], [11]], [['https://filebox.ece.vt.edu/~vrama91/PASCAL/2008_004689.jpg'], [1]], [['https://filebox.ece.vt.edu/~vrama91/PASCAL/2008_002894.jpg'], [0]], [['https://filebox.ece.vt.edu/~vrama91/PASCAL/2008_008002.jpg'], [1, 7]], [['https://filebox.ece.vt.edu/~vrama91/PASCAL/2008_008262.jpg'], []], [['https://filebox.ece.vt.edu/~vrama91/PASCAL/2008_002202.jpg'], []], [['https://filebox.ece.vt.edu/~vrama91/PASCAL/2008_003881.jpg'], [11]], [['https://filebox.ece.vt.edu/~vrama91/PASCAL/2008_006616.jpg'], [0, 4]], [['https://filebox.ece.vt.edu/~vrama91/PASCAL/2008_006087.jpg'], [0]], [['https://filebox.ece.vt.edu/~vrama91/PASCAL/2008_003144.jpg'], []], [['https://filebox.ece.vt.edu/~vrama91/PASCAL/2008_005447.jpg'], [0, 6]], [['https://filebox.ece.vt.edu/~vrama91/PASCAL/2008_000960.jpg'], [0, 1]], [['https://filebox.ece.vt.edu/~vrama91/PASCAL/2008_002970.jpg'], [1]], [['https://filebox.ece.vt.edu/~vrama91/PASCAL/2008_008321.jpg'], [13]], [['https://filebox.ece.vt.edu/~vrama91/PASCAL/2008_007841.jpg'], [0, 9]], [['https://filebox.ece.vt.edu/~vrama91/PASCAL/2008_004501.jpg'], [0]], [['https://filebox.ece.vt.edu/~vrama91/PASCAL/2008_002773.jpg'], [9, 7]], [['https://filebox.ece.vt.edu/~vrama91/PASCAL/2008_006345.jpg'], []], [['https://filebox.ece.vt.edu/~vrama91/PASCAL/2008_005683.jpg'], [0, 9, 7]], [['https://filebox.ece.vt.edu/~vrama91/PASCAL/2008_008654.jpg'], [3]], [['https://filebox.ece.vt.edu/~vrama91/PASCAL/2008_000448.jpg'], []], [['https://filebox.ece.vt.edu/~vrama91/PASCAL/2008_008753.jpg'], [0]], [['https://filebox.ece.vt.edu/~vrama91/PASCAL/2008_005074.jpg'], [10, 11]], [['https://filebox.ece.vt.edu/~vrama91/PASCAL/2008_008227.jpg'], [0, 11]], [['https://filebox.ece.vt.edu/~vrama91/PASCAL/2008_007196.jpg'], [9, 19]], [['https://filebox.ece.vt.edu/~vrama91/PASCAL/2008_008162.jpg'], [0, 18]], [['https://filebox.ece.vt.edu/~vrama91/PASCAL/2008_007909.jpg'], [6]], [['https://filebox.ece.vt.edu/~vrama91/PASCAL/2008_008545.jpg'], [11, 13]], [['https://filebox.ece.vt.edu/~vrama91/PASCAL/2008_001285.jpg'], [4]], [['https://filebox.ece.vt.edu/~vrama91/PASCAL/2008_001688.jpg'], [0, 17, 19]], [['https://filebox.ece.vt.edu/~vrama91/PASCAL/2008_005635.jpg'], [0, 11, 6]], [['https://filebox.ece.vt.edu/~vrama91/PASCAL/2008_002067.jpg'], [0, 2, 18]], [['https://filebox.ece.vt.edu/~vrama91/PASCAL/2008_007854.jpg'], [1]], [['https://filebox.ece.vt.edu/~vrama91/PASCAL/2008_000457.jpg'], []], [['https://filebox.ece.vt.edu/~vrama91/PASCAL/2008_007757.jpg'], [11]], [['https://filebox.ece.vt.edu/~vrama91/PASCAL/2008_005375.jpg'], [11, 3]], [['https://filebox.ece.vt.edu/~vrama91/PASCAL/2008_001077.jpg'], []], [['https://filebox.ece.vt.edu/~vrama91/PASCAL/2008_008275.jpg'], [13]], [['https://filebox.ece.vt.edu/~vrama91/PASCAL/2008_008685.jpg'], [3]], [['https://filebox.ece.vt.edu/~vrama91/PASCAL/2008_000670.jpg'], [2, 18]], [['https://filebox.ece.vt.edu/~vrama91/PASCAL/2008_003772.jpg'], [2, 3]], [['https://filebox.ece.vt.edu/~vrama91/PASCAL/2008_004498.jpg'], [4]], [['https://filebox.ece.vt.edu/~vrama91/PASCAL/2008_007043.jpg'], [18]], [['https://filebox.ece.vt.edu/~vrama91/PASCAL/2008_003665.jpg'], [4]], [['https://filebox.ece.vt.edu/~vrama91/PASCAL/2008_007742.jpg'], [15]], [['https://filebox.ece.vt.edu/~vrama91/PASCAL/2008_004581.jpg'], [11]], [['https://filebox.ece.vt.edu/~vrama91/PASCAL/2008_008040.jpg'], [0]], [['https://filebox.ece.vt.edu/~vrama91/PASCAL/2008_006939.jpg'], [0, 6]], [['https://filebox.ece.vt.edu/~vrama91/PASCAL/2008_005890.jpg'], [2, 18, 4]], [['https://filebox.ece.vt.edu/~vrama91/PASCAL/2008_007402.jpg'], []], [['https://filebox.ece.vt.edu/~vrama91/PASCAL/2008_000109.jpg'], [11]], [['https://filebox.ece.vt.edu/~vrama91/PASCAL/2008_001226.jpg'], [0]], [['https://filebox.ece.vt.edu/~vrama91/PASCAL/2008_004564.jpg'], [15]], [['https://filebox.ece.vt.edu/~vrama91/PASCAL/2008_005560.jpg'], [2]], [['https://filebox.ece.vt.edu/~vrama91/PASCAL/2008_003140.jpg'], [0, 11]], [['https://filebox.ece.vt.edu/~vrama91/PASCAL/2008_004497.jpg'], [18]], [['https://filebox.ece.vt.edu/~vrama91/PASCAL/2008_000495.jpg'], [0, 19, 15]], [['https://filebox.ece.vt.edu/~vrama91/PASCAL/2008_001910.jpg'], [0]], [['https://filebox.ece.vt.edu/~vrama91/PASCAL/2008_007390.jpg'], [17]], [['https://filebox.ece.vt.edu/~vrama91/PASCAL/2008_006059.jpg'], [0, 6]], [['https://filebox.ece.vt.edu/~vrama91/PASCAL/2008_001673.jpg'], [1]], [['https://filebox.ece.vt.edu/~vrama91/PASCAL/2008_007231.jpg'], [11, 13]], [['https://filebox.ece.vt.edu/~vrama91/PASCAL/2008_002674.jpg'], [0, 15]], [['https://filebox.ece.vt.edu/~vrama91/PASCAL/2008_001202.jpg'], [0, 9]], [['https://filebox.ece.vt.edu/~vrama91/PASCAL/2008_006254.jpg'], [0, 11]], [['https://filebox.ece.vt.edu/~vrama91/PASCAL/2008_007025.jpg'], [3, 6]], [['https://filebox.ece.vt.edu/~vrama91/PASCAL/2008_007056.jpg'], [9, 10]], [['https://filebox.ece.vt.edu/~vrama91/PASCAL/2008_001866.jpg'], [13]], [['https://filebox.ece.vt.edu/~vrama91/PASCAL/2008_005469.jpg'], [2, 15]], [['https://filebox.ece.vt.edu/~vrama91/PASCAL/2008_005664.jpg'], [9]], [['https://filebox.ece.vt.edu/~vrama91/PASCAL/2008_005140.jpg'], []], [['https://filebox.ece.vt.edu/~vrama91/PASCAL/2008_000032.jpg'], [10]], [['https://filebox.ece.vt.edu/~vrama91/PASCAL/2008_000085.jpg'], [11]], [['https://filebox.ece.vt.edu/~vrama91/PASCAL/2008_005010.jpg'], [3]], [['https://filebox.ece.vt.edu/~vrama91/PASCAL/2008_002931.jpg'], [9]], [['https://filebox.ece.vt.edu/~vrama91/PASCAL/2008_005429.jpg'], [0]], [['https://filebox.ece.vt.edu/~vrama91/PASCAL/2008_003997.jpg'], [1, 7]], [['https://filebox.ece.vt.edu/~vrama91/PASCAL/2008_006081.jpg'], [2, 15]], [['https://filebox.ece.vt.edu/~vrama91/PASCAL/2008_005905.jpg'], [7]], [['https://filebox.ece.vt.edu/~vrama91/PASCAL/2008_001895.jpg'], [0, 4]], [['https://filebox.ece.vt.edu/~vrama91/PASCAL/2008_008440.jpg'], []], [['https://filebox.ece.vt.edu/~vrama91/PASCAL/2008_006100.jpg'], [6]], [['https://filebox.ece.vt.edu/~vrama91/PASCAL/2008_006403.jpg'], [2, 4]], [['https://filebox.ece.vt.edu/~vrama91/PASCAL/2008_004868.jpg'], [0, 11]], [['https://filebox.ece.vt.edu/~vrama91/PASCAL/2008_008241.jpg'], [3]], [['https://filebox.ece.vt.edu/~vrama91/PASCAL/2008_005046.jpg'], [18, 19, 4]], [['https://filebox.ece.vt.edu/~vrama91/PASCAL/2008_004619.jpg'], [17]], [['https://filebox.ece.vt.edu/~vrama91/PASCAL/2008_008618.jpg'], [0, 11, 13]], [['https://filebox.ece.vt.edu/~vrama91/PASCAL/2008_003351.jpg'], [0]], [['https://filebox.ece.vt.edu/~vrama91/PASCAL/2008_003484.jpg'], []], [['https://filebox.ece.vt.edu/~vrama91/PASCAL/2008_007461.jpg'], [4]], [['https://filebox.ece.vt.edu/~vrama91/PASCAL/2008_002776.jpg'], [0, 18, 19]], [['https://filebox.ece.vt.edu/~vrama91/PASCAL/2008_005111.jpg'], [4]], [['https://filebox.ece.vt.edu/~vrama91/PASCAL/2008_007692.jpg'], [0]], [['https://filebox.ece.vt.edu/~vrama91/PASCAL/2008_001318.jpg'], []], [['https://filebox.ece.vt.edu/~vrama91/PASCAL/2008_007816.jpg'], [17]], [['https://filebox.ece.vt.edu/~vrama91/PASCAL/2008_001301.jpg'], [0]], [['https://filebox.ece.vt.edu/~vrama91/PASCAL/2008_003988.jpg'], [9]], [['https://filebox.ece.vt.edu/~vrama91/PASCAL/2008_001335.jpg'], [2]], [['https://filebox.ece.vt.edu/~vrama91/PASCAL/2008_005616.jpg'], [15]], [['https://filebox.ece.vt.edu/~vrama91/PASCAL/2008_006008.jpg'], [0, 15]], [['https://filebox.ece.vt.edu/~vrama91/PASCAL/2008_002576.jpg'], [0]], [['https://filebox.ece.vt.edu/~vrama91/PASCAL/2008_004550.jpg'], [19, 7]], [['https://filebox.ece.vt.edu/~vrama91/PASCAL/2008_005831.jpg'], [4]], [['https://filebox.ece.vt.edu/~vrama91/PASCAL/2008_008232.jpg'], [0]], [['https://filebox.ece.vt.edu/~vrama91/PASCAL/2008_005736.jpg'], [17, 6]], [['https://filebox.ece.vt.edu/~vrama91/PASCAL/2008_008583.jpg'], [11, 13]], [['https://filebox.ece.vt.edu/~vrama91/PASCAL/2008_003373.jpg'], [10, 13]], [['https://filebox.ece.vt.edu/~vrama91/PASCAL/2008_001920.jpg'], [0, 19]], [['https://filebox.ece.vt.edu/~vrama91/PASCAL/2008_006621.jpg'], [7]], [['https://filebox.ece.vt.edu/~vrama91/PASCAL/2008_001784.jpg'], [0]], [['https://filebox.ece.vt.edu/~vrama91/PASCAL/2008_005563.jpg'], [0, 4]], [['https://filebox.ece.vt.edu/~vrama91/PASCAL/2008_004453.jpg'], [3, 6]], [['https://filebox.ece.vt.edu/~vrama91/PASCAL/2008_004002.jpg'], [0, 17, 15]], [['https://filebox.ece.vt.edu/~vrama91/PASCAL/2008_004858.jpg'], [0, 11]], [['https://filebox.ece.vt.edu/~vrama91/PASCAL/2008_000203.jpg'], [0, 11]], [['https://filebox.ece.vt.edu/~vrama91/PASCAL/2008_007525.jpg'], []], [['https://filebox.ece.vt.edu/~vrama91/PASCAL/2008_005208.jpg'], [1, 7]], [['https://filebox.ece.vt.edu/~vrama91/PASCAL/2008_007222.jpg'], [13]], [['https://filebox.ece.vt.edu/~vrama91/PASCAL/2008_008097.jpg'], [0]], [['https://filebox.ece.vt.edu/~vrama91/PASCAL/2008_001227.jpg'], [0]], [['https://filebox.ece.vt.edu/~vrama91/PASCAL/2008_008538.jpg'], [0, 18, 4, 15]], [['https://filebox.ece.vt.edu/~vrama91/PASCAL/2008_007985.jpg'], [6]], [['https://filebox.ece.vt.edu/~vrama91/PASCAL/2008_001632.jpg'], [0, 11]], [['https://filebox.ece.vt.edu/~vrama91/PASCAL/2008_007629.jpg'], [7]], [['https://filebox.ece.vt.edu/~vrama91/PASCAL/2008_007101.jpg'], [0, 9]], [['https://filebox.ece.vt.edu/~vrama91/PASCAL/2008_003244.jpg'], [0, 2, 11]], [['https://filebox.ece.vt.edu/~vrama91/PASCAL/2008_001380.jpg'], [0, 7]], [['https://filebox.ece.vt.edu/~vrama91/PASCAL/2008_008231.jpg'], [0]], [['https://filebox.ece.vt.edu/~vrama91/PASCAL/2008_007567.jpg'], [19, 4]], [['https://filebox.ece.vt.edu/~vrama91/PASCAL/2008_008347.jpg'], [1]], [['https://filebox.ece.vt.edu/~vrama91/PASCAL/2008_005570.jpg'], []], [['https://filebox.ece.vt.edu/~vrama91/PASCAL/2008_007888.jpg'], [2, 15]], [['https://filebox.ece.vt.edu/~vrama91/PASCAL/2008_003147.jpg'], [6]], [['https://filebox.ece.vt.edu/~vrama91/PASCAL/2008_004851.jpg'], [0]], [['https://filebox.ece.vt.edu/~vrama91/PASCAL/2008_003504.jpg'], [0, 15]], [['https://filebox.ece.vt.edu/~vrama91/PASCAL/2008_000817.jpg'], [15]], [['https://filebox.ece.vt.edu/~vrama91/PASCAL/2008_003609.jpg'], [0]], [['https://filebox.ece.vt.edu/~vrama91/PASCAL/2008_005752.jpg'], []], [['https://filebox.ece.vt.edu/~vrama91/PASCAL/2008_006076.jpg'], [15]], [['https://filebox.ece.vt.edu/~vrama91/PASCAL/2008_008567.jpg'], [18]], [['https://filebox.ece.vt.edu/~vrama91/PASCAL/2008_001338.jpg'], [0, 11]], [['https://filebox.ece.vt.edu/~vrama91/PASCAL/2008_003146.jpg'], []], [['https://filebox.ece.vt.edu/~vrama91/PASCAL/2008_003100.jpg'], [0, 9]], [['https://filebox.ece.vt.edu/~vrama91/PASCAL/2008_000043.jpg'], [0, 15]], [['https://filebox.ece.vt.edu/~vrama91/PASCAL/2008_007993.jpg'], []], [['https://filebox.ece.vt.edu/~vrama91/PASCAL/2008_004950.jpg'], [0, 4]], [['https://filebox.ece.vt.edu/~vrama91/PASCAL/2008_001830.jpg'], [0, 11]], [['https://filebox.ece.vt.edu/~vrama91/PASCAL/2008_003726.jpg'], [2, 15]], [['https://filebox.ece.vt.edu/~vrama91/PASCAL/2008_000912.jpg'], [0]], [['https://filebox.ece.vt.edu/~vrama91/PASCAL/2008_005008.jpg'], [17, 19]], [['https://filebox.ece.vt.edu/~vrama91/PASCAL/2008_007011.jpg'], [11, 13]], [['https://filebox.ece.vt.edu/~vrama91/PASCAL/2008_000275.jpg'], []], [['https://filebox.ece.vt.edu/~vrama91/PASCAL/2008_007719.jpg'], [0]], [['https://filebox.ece.vt.edu/~vrama91/PASCAL/2008_005757.jpg'], [1]], [['https://filebox.ece.vt.edu/~vrama91/PASCAL/2008_008668.jpg'], [6]], [['https://filebox.ece.vt.edu/~vrama91/PASCAL/2008_008203.jpg'], [10, 11, 13]], [['https://filebox.ece.vt.edu/~vrama91/PASCAL/2008_005386.jpg'], [2]], [['https://filebox.ece.vt.edu/~vrama91/PASCAL/2008_000905.jpg'], [0, 3]], [['https://filebox.ece.vt.edu/~vrama91/PASCAL/2008_007356.jpg'], [0, 10]]]\n"
          ],
          "name": "stdout"
        }
      ]
    },
    {
      "cell_type": "code",
      "metadata": {
        "id": "DtN6T_I2YQlF",
        "outputId": "e53785f2-154c-4151-99d3-d804f64eb275",
        "colab": {
          "base_uri": "https://localhost:8080/"
        }
      },
      "source": [
        "count"
      ],
      "execution_count": 57,
      "outputs": [
        {
          "output_type": "execute_result",
          "data": {
            "text/plain": [
              "{'0': 315,\n",
              " '1': 56,\n",
              " '10': 60,\n",
              " '11': 139,\n",
              " '12': 0,\n",
              " '13': 68,\n",
              " '14': 0,\n",
              " '15': 107,\n",
              " '16': 0,\n",
              " '17': 50,\n",
              " '18': 77,\n",
              " '19': 61,\n",
              " '2': 64,\n",
              " '3': 59,\n",
              " '4': 83,\n",
              " '5': 0,\n",
              " '6': 57,\n",
              " '7': 57,\n",
              " '8': 0,\n",
              " '9': 59}"
            ]
          },
          "metadata": {
            "tags": []
          },
          "execution_count": 57
        }
      ]
    },
    {
      "cell_type": "code",
      "metadata": {
        "id": "FFP5RsS7uP5p"
      },
      "source": [
        "file = open(\"data.pkl\", \"wb\")\n",
        "pickle.dump(data, file)\n",
        "file.close()"
      ],
      "execution_count": 59,
      "outputs": []
    },
    {
      "cell_type": "code",
      "metadata": {
        "id": "IbxC-8ReuQok"
      },
      "source": [
        "# preprocessing the dataset\n",
        "'''\n",
        "data -> url -> image -> array -> resized array\n",
        "TrainX = array of images resized to (224x224x3)\n",
        "TrainY = array of labels with size (20x1) in ones-zeros vector like [1, 1, 0, ....]\n",
        "'''\n",
        "# TrainX\n",
        "new_shape = (224, 224, 3)\n",
        "TrainX = []\n",
        "for point in data:\n",
        "  photo = io.imread(point[0][0])\n",
        "  photo = transform.resize(image=photo, output_shape=new_shape)\n",
        "  TrainX.append(photo)\n",
        "TrainX = np.array(TrainX)"
      ],
      "execution_count": 61,
      "outputs": []
    },
    {
      "cell_type": "code",
      "metadata": {
        "id": "UHXKrmk8a4eN"
      },
      "source": [
        "# TrainY\n",
        "TrainY = []\n",
        "for points in data:\n",
        "  full_label = np.zeros(shape=(20, ))\n",
        "  for label in points[1]:\n",
        "    full_label[label] = 1\n",
        "  TrainY.append(full_label)\n",
        "TrainY = np.array(TrainY)"
      ],
      "execution_count": 62,
      "outputs": []
    },
    {
      "cell_type": "code",
      "metadata": {
        "id": "EOjhfXf0zUpX",
        "colab": {
          "base_uri": "https://localhost:8080/"
        },
        "outputId": "52532cd0-532a-4d0c-9322-11eac61d488c"
      },
      "source": [
        "# data splitting\n",
        "'''\n",
        "train size: 700 images\n",
        "val size: 300 images\n",
        "output: TrainX, TrainY, ValX, ValY\n",
        "'''\n",
        "TrainX, ValX, TrainY, ValY = train_test_split(TrainX, TrainY, test_size=0.3, random_state=1)\n",
        "print(\"Train X shape: \", TrainX.shape)\n",
        "print(\"Train Y shape: \", TrainY.shape)\n",
        "print(\"Val X shape: \", ValX.shape)\n",
        "print(\"Val Y shape: \", ValY.shape)"
      ],
      "execution_count": 63,
      "outputs": [
        {
          "output_type": "stream",
          "text": [
            "Train X shape:  (700, 224, 224, 3)\n",
            "Train Y shape:  (700, 20)\n",
            "Val X shape:  (300, 224, 224, 3)\n",
            "Val Y shape:  (300, 20)\n"
          ],
          "name": "stdout"
        }
      ]
    },
    {
      "cell_type": "code",
      "metadata": {
        "id": "BAUz0Qt8wpw4"
      },
      "source": [
        "# instantiate data augmentation\n",
        "'''\n",
        "use this 'tf.keras.preprocessing.ImageDataGenerator'\n",
        "'''\n",
        "datagen = tf.keras.preprocessing.image.ImageDataGenerator(rescale=1./255,\n",
        "                                                          shear_range=0.2, \n",
        "                                                          zoom_range=0.2,\n",
        "                                                          rotation_range=15,\n",
        "                                                          horizontal_flip=True)"
      ],
      "execution_count": 98,
      "outputs": []
    },
    {
      "cell_type": "code",
      "metadata": {
        "id": "qh_9r-lFi3ko"
      },
      "source": [
        "def f1_macro(y_true, y_pred):\n",
        "    y_pred = K.round(y_pred)\n",
        "    tp = K.sum(K.cast(y_true*y_pred, 'float'), axis=0)\n",
        "    fp = K.sum(K.cast((1-y_true)*y_pred, 'float'), axis=0)\n",
        "    fn = K.sum(K.cast(y_true*(1-y_pred), 'float'), axis=0)\n",
        "\n",
        "    p = tp / (tp + fp + K.epsilon())\n",
        "    r = tp / (tp + fn + K.epsilon())\n",
        "\n",
        "    f1 = 2*p*r / (p+r+K.epsilon())\n",
        "    f1 = tf.where(tf.math.is_nan(f1), tf.zeros_like(f1), f1)\n",
        "    return K.mean(f1)"
      ],
      "execution_count": 99,
      "outputs": []
    },
    {
      "cell_type": "code",
      "metadata": {
        "id": "0eKu5sh1wZA-",
        "colab": {
          "base_uri": "https://localhost:8080/"
        },
        "outputId": "2910fb56-e1a2-480a-d311-0ec5ffe3a8fd"
      },
      "source": [
        "# model making\n",
        "# input layer\n",
        "input = tf.keras.Input(shape=(224, 224, 3), name='input')\n",
        "\n",
        "# Transfer Learning with VGG16 model with weights as imagenet\n",
        "vgg16 = tf.keras.applications.VGG16(include_top=False, weights=\"imagenet\", classes=20)\n",
        "vgg16.trainable = False\n",
        "x = vgg16(input)\n",
        "\n",
        "# Dense Layers\n",
        "x = tf.keras.layers.Flatten(name='flatten')(x)\n",
        "x = tf.keras.layers.BatchNormalization(name='norm1')(x)\n",
        "x = tf.keras.layers.Dense(192, activation='relu', name='dense1')(x)\n",
        "x = tf.keras.layers.BatchNormalization(name='norm2')(x)\n",
        "x = tf.keras.layers.Dense(84, activation='relu', name='dense2')(x)\n",
        "x = tf.keras.layers.BatchNormalization(name='norm3')(x)\n",
        "x = tf.keras.layers.Dense(64, activation='relu', name='dense3')(x)\n",
        "x = tf.keras.layers.BatchNormalization(name='norm4')(x)\n",
        "\n",
        "#Output layer\n",
        "output = tf.keras.layers.Dense(20, activation=\"sigmoid\", name='output')(x)\n",
        "\n",
        "model = tf.keras.models.Model(inputs=input, outputs=output, name='modelV1')\n",
        "\n",
        "model.summary()"
      ],
      "execution_count": 100,
      "outputs": [
        {
          "output_type": "stream",
          "text": [
            "Model: \"modelV1\"\n",
            "_________________________________________________________________\n",
            "Layer (type)                 Output Shape              Param #   \n",
            "=================================================================\n",
            "input (InputLayer)           [(None, 224, 224, 3)]     0         \n",
            "_________________________________________________________________\n",
            "vgg16 (Functional)           (None, None, None, 512)   14714688  \n",
            "_________________________________________________________________\n",
            "flatten (Flatten)            (None, 25088)             0         \n",
            "_________________________________________________________________\n",
            "norm1 (BatchNormalization)   (None, 25088)             100352    \n",
            "_________________________________________________________________\n",
            "dense1 (Dense)               (None, 192)               4817088   \n",
            "_________________________________________________________________\n",
            "norm2 (BatchNormalization)   (None, 192)               768       \n",
            "_________________________________________________________________\n",
            "dense2 (Dense)               (None, 84)                16212     \n",
            "_________________________________________________________________\n",
            "norm3 (BatchNormalization)   (None, 84)                336       \n",
            "_________________________________________________________________\n",
            "dense3 (Dense)               (None, 64)                5440      \n",
            "_________________________________________________________________\n",
            "norm4 (BatchNormalization)   (None, 64)                256       \n",
            "_________________________________________________________________\n",
            "output (Dense)               (None, 20)                1300      \n",
            "=================================================================\n",
            "Total params: 19,656,440\n",
            "Trainable params: 4,890,896\n",
            "Non-trainable params: 14,765,544\n",
            "_________________________________________________________________\n"
          ],
          "name": "stdout"
        }
      ]
    },
    {
      "cell_type": "code",
      "metadata": {
        "id": "ep1eA_5vxsjY"
      },
      "source": [
        "# config cell\n",
        "LR = 0.003\n",
        "EPOCHS = 5\n",
        "BATCH_SIZE = 16\n",
        "DECAY = LR / EPOCHS\n",
        "LOSS = tf.keras.losses.BinaryCrossentropy()\n",
        "OPTIMIZER = tf.keras.optimizers.Adam(learning_rate=LR, decay=DECAY)\n",
        "METRICS = [f1_macro]"
      ],
      "execution_count": 101,
      "outputs": []
    },
    {
      "cell_type": "code",
      "metadata": {
        "id": "bI8gejGgxrFJ"
      },
      "source": [
        "# model compiling\n",
        "model.compile(loss=LOSS, optimizer=OPTIMIZER, metrics=METRICS)"
      ],
      "execution_count": 102,
      "outputs": []
    },
    {
      "cell_type": "code",
      "metadata": {
        "id": "jlq_dTYWyVje",
        "colab": {
          "base_uri": "https://localhost:8080/"
        },
        "outputId": "0cfc560e-9f17-495e-b073-dff805561611"
      },
      "source": [
        "# training\n",
        "history = model.fit(datagen.flow(TrainX, TrainY, batch_size=BATCH_SIZE),\n",
        "                  validation_data=(ValX/255., ValY/255.),\n",
        "                  epochs=EPOCHS)"
      ],
      "execution_count": null,
      "outputs": [
        {
          "output_type": "stream",
          "text": [
            "Epoch 1/5\n",
            "44/44 [==============================] - 510s 12s/step - loss: 0.7306 - f1_macro: 0.1011 - val_loss: 1.6250 - val_f1_macro: 2.1151e-04\n",
            "Epoch 2/5\n",
            "15/44 [=========>....................] - ETA: 3:56 - loss: 0.4559 - f1_macro: 0.0742"
          ],
          "name": "stdout"
        }
      ]
    },
    {
      "cell_type": "code",
      "metadata": {
        "id": "hz2B9SHzyXvo"
      },
      "source": [
        "# plotting curves\n",
        "'''\n",
        "loss -> train, val\n",
        "accuracy -> train, val\n",
        "'''\n",
        "plt.plot(list(history.history.values())[0])\n",
        "plt.plot(list(history.history.values())[2])\n",
        "plt.title('Loss Plot')\n",
        "plt.xlabel('epochs')\n",
        "plt.ylabel('loss')\n",
        "plt.legend(['train loss', 'val loss'])\n",
        "plt.show()\n",
        "\n",
        "plt.plot(list(history.history.values())[1])\n",
        "plt.plot(list(history.history.values())[3])\n",
        "plt.title('Accuracy Plot')\n",
        "plt.xlabel('epochs')\n",
        "plt.ylabel('accuracy')\n",
        "plt.legend(['train accuracy', 'val accuracy'])\n",
        "plt.show()"
      ],
      "execution_count": null,
      "outputs": []
    },
    {
      "cell_type": "code",
      "metadata": {
        "id": "zW91044Xydyo"
      },
      "source": [
        "# random predictions on val dataset\n",
        "\n",
        "rnd = np.random.randint(0, len(ValX))\n",
        "point = ValX[rnd]\n",
        "label = ValY[rnd]\n",
        "pred = model.predict(np.asarray([point]))[0]\n",
        "pred = (pred > 0.5)\n",
        "pred = pred.astype(int)\n",
        "print(\"True Label:\", label)\n",
        "print(\"Predicted Label:\", pred)"
      ],
      "execution_count": null,
      "outputs": []
    },
    {
      "cell_type": "code",
      "metadata": {
        "id": "tb9KBM2WNlzu"
      },
      "source": [
        ""
      ],
      "execution_count": null,
      "outputs": []
    }
  ]
}