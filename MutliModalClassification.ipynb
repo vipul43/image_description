{
  "nbformat": 4,
  "nbformat_minor": 0,
  "metadata": {
    "colab": {
      "name": "MutliModalClassification.ipynb",
      "provenance": [],
      "collapsed_sections": [],
      "include_colab_link": true
    },
    "kernelspec": {
      "name": "python3",
      "display_name": "Python 3"
    },
    "language_info": {
      "name": "python"
    },
    "accelerator": "GPU"
  },
  "cells": [
    {
      "cell_type": "markdown",
      "metadata": {
        "id": "view-in-github",
        "colab_type": "text"
      },
      "source": [
        "<a href=\"https://colab.research.google.com/github/vipul43/image_description/blob/main/MutliModalClassification.ipynb\" target=\"_parent\"><img src=\"https://colab.research.google.com/assets/colab-badge.svg\" alt=\"Open In Colab\"/></a>"
      ]
    },
    {
      "cell_type": "code",
      "metadata": {
        "id": "FLUiA1SkmOzO"
      },
      "source": [
        "# installs"
      ],
      "execution_count": 1,
      "outputs": []
    },
    {
      "cell_type": "code",
      "metadata": {
        "id": "ydR0jWJ3aie6"
      },
      "source": [
        "# imports\n",
        "import scipy.io\n",
        "import cv2\n",
        "from google.colab.patches import cv2_imshow\n",
        "from skimage import io\n",
        "import numpy as np\n",
        "import pandas as pd\n",
        "from PIL import Image \n",
        "import matplotlib.pylab as plt\n",
        "import pickle\n",
        "from skimage import transform\n",
        "from sklearn.model_selection import train_test_split\n",
        "import tensorflow as tf\n",
        "from nltk.tokenize import word_tokenize\n",
        "from nltk.stem import WordNetLemmatizer, LancasterStemmer\n",
        "import spacy\n",
        "import nltk\n",
        "import keras.backend as K\n",
        "from keras.preprocessing.text import Tokenizer\n",
        "from keras.preprocessing.sequence import pad_sequences"
      ],
      "execution_count": 2,
      "outputs": []
    },
    {
      "cell_type": "code",
      "metadata": {
        "id": "997Sjj1RmTuf",
        "colab": {
          "base_uri": "https://localhost:8080/"
        },
        "outputId": "d5819dd2-ec62-4ab0-d40b-bdcd612719d1"
      },
      "source": [
        "nltk.download('punkt') #tokenizer\n",
        "nltk.download('wordnet') #lemmatization\n",
        "\n",
        "lemmatizer = WordNetLemmatizer() #lemmatizer\n",
        "\n",
        "sp = spacy.load('en_core_web_sm') #lexical importance find\n",
        "\n",
        "ls = LancasterStemmer()"
      ],
      "execution_count": 3,
      "outputs": [
        {
          "output_type": "stream",
          "text": [
            "[nltk_data] Downloading package punkt to /root/nltk_data...\n",
            "[nltk_data]   Unzipping tokenizers/punkt.zip.\n",
            "[nltk_data] Downloading package wordnet to /root/nltk_data...\n",
            "[nltk_data]   Unzipping corpora/wordnet.zip.\n"
          ],
          "name": "stdout"
        }
      ]
    },
    {
      "cell_type": "code",
      "metadata": {
        "id": "Vcnwjcvnsm9K",
        "colab": {
          "base_uri": "https://localhost:8080/"
        },
        "outputId": "2673e880-12fe-4dd2-a59c-e9b45fc6f599"
      },
      "source": [
        "# data loading\n",
        "\n",
        "!gdown --id 1mrjvJq6XNM8QAgajSgrVGpsj8Vrm3BEm #PASCAL50S\n",
        "\n",
        "mat = scipy.io.loadmat('/content/pascal50S.mat')\n",
        "print(type(mat))"
      ],
      "execution_count": 4,
      "outputs": [
        {
          "output_type": "stream",
          "text": [
            "Downloading...\n",
            "From: https://drive.google.com/uc?id=1mrjvJq6XNM8QAgajSgrVGpsj8Vrm3BEm\n",
            "To: /content/pascal50S.mat\n",
            "\r  0% 0.00/1.12M [00:00<?, ?B/s]\r100% 1.12M/1.12M [00:00<00:00, 70.7MB/s]\n",
            "<class 'dict'>\n"
          ],
          "name": "stdout"
        }
      ]
    },
    {
      "cell_type": "code",
      "metadata": {
        "id": "bU8yBAKwmSAw"
      },
      "source": [
        "classes = ['person',\n",
        "           'bird', \n",
        "           'cat', \n",
        "           'cow', \n",
        "           'dog', \n",
        "           'horse', \n",
        "           'sheep', \n",
        "           'aeroplane', \n",
        "           'bicycle', \n",
        "           'boat', \n",
        "           'bus', \n",
        "           'car', \n",
        "           'motorbike', \n",
        "           'train', \n",
        "           'bottle', \n",
        "           'chair', \n",
        "           'dining table', \n",
        "           'potted plant',\n",
        "           'sofa', \n",
        "           'tv'] #NOUNS\n",
        "\n",
        "dict_classes = {'person':0, 'man':0, 'human':0,\n",
        "           'bird':1, 'penguin':1, 'parrot':1, 'sparrow':1,\n",
        "           'cat':2, \n",
        "           'cow':3, \n",
        "           'dog':4, \n",
        "           'horse':5,\n",
        "           'sheep':6, \n",
        "           'aeroplane':7, 'airplane':7, 'flight':7, 'plane':7, 'jet':7,\n",
        "           'bicycle':8, 'cycle':8,\n",
        "           'boat':9, 'ship':9,\n",
        "           'bus':10, \n",
        "           'car':11,\n",
        "           'motorbike':12, 'bike':12, 'motorcycle':12,\n",
        "           'train':13, \n",
        "           'bottle':14, 'waterbottle':14, 'drinkbottle':14, 'flask':14,\n",
        "           'chair':15,\n",
        "           'dining':16, 'diningtable': 16,\n",
        "           'potted':17, 'plant':17, 'pottedplant': 17,\n",
        "           'sofa':18, 'couch':18,\n",
        "           'tv':19, 'monitor':19, 'television':19, 'desktop':19}"
      ],
      "execution_count": 5,
      "outputs": []
    },
    {
      "cell_type": "code",
      "metadata": {
        "id": "j54sa4jSmcU3"
      },
      "source": [
        "count = {'0':0,   #person\n",
        "           '1':0, #bird\n",
        "           '2':0, #cat\n",
        "           '3':0, #cow\n",
        "           '4':0, #dog\n",
        "           '5':0, #horse\n",
        "           '6':0, #sheep\n",
        "           '7':0, #aeroplane\n",
        "           '8':0, #bicycle\n",
        "           '9':0, #boat\n",
        "           '10':0, #bus\n",
        "           '11':0, #car\n",
        "           '12':0, #motorbike\n",
        "           '13':0, #train\n",
        "           '14':0, #bottle\n",
        "           '15':0, #chair\n",
        "           '16':0, #dining\n",
        "           '17':0, #potted plant\n",
        "           '18':0, #sofa\n",
        "           '19':0} #tv/monitor"
      ],
      "execution_count": 6,
      "outputs": []
    },
    {
      "cell_type": "code",
      "metadata": {
        "id": "QwHnF1GlcmXV"
      },
      "source": [
        "# observing data\n",
        "data = []\n",
        "idx=0\n",
        "for sample in mat[\"train_sent_final\"][0]:\n",
        "  # image = io.imread(i[0][0])\n",
        "  # cv2_imshow(image)\n",
        "  link = [sample[0][0]] #image link\n",
        "  cls = set()\n",
        "  for k in sample[1]:\n",
        "    for sent in k:\n",
        "      # if idx==10:\n",
        "      #   break\n",
        "      # idx+=1\n",
        "\n",
        "      for word in sent[0].split():\n",
        "        pre_word = lemmatizer.lemmatize(ls.stem(word.lower()))\n",
        "        if(pre_word in dict_classes.keys()):\n",
        "          cls.add(dict_classes[pre_word])\n",
        "  for cl in cls:\n",
        "    count[str(cl)]+=1\n",
        "  data.append([link, list(cls)])"
      ],
      "execution_count": 7,
      "outputs": []
    },
    {
      "cell_type": "code",
      "metadata": {
        "id": "FFP5RsS7uP5p"
      },
      "source": [
        "file = open(\"data.pkl\", \"wb\")\n",
        "pickle.dump(data, file)\n",
        "file.close()"
      ],
      "execution_count": 8,
      "outputs": []
    },
    {
      "cell_type": "code",
      "metadata": {
        "id": "IbxC-8ReuQok"
      },
      "source": [
        "# preprocessing the dataset\n",
        "'''\n",
        "data -> url -> image -> array -> resized array\n",
        "TrainX = array of images resized to (224x224x3)\n",
        "TrainY = array of labels with size (20x1) in ones-zeros vector like [1, 1, 0, ....]\n",
        "'''\n",
        "# TrainX\n",
        "new_shape = (224, 224, 3)\n",
        "TrainX1 = []\n",
        "\n",
        "for point in data:\n",
        "  photo = io.imread(point[0][0])\n",
        "  photo = transform.resize(image=photo, output_shape=new_shape)\n",
        "  TrainX1.append(photo)\n",
        "\n",
        "TrainX1 = np.array(TrainX1)"
      ],
      "execution_count": 10,
      "outputs": []
    },
    {
      "cell_type": "code",
      "metadata": {
        "id": "ZHGk1kxmxQQt"
      },
      "source": [
        "file = open(\"TrainX1.pkl\", \"wb\")\n",
        "pickle.dump(TrainX1, file)\n",
        "file.close()"
      ],
      "execution_count": 12,
      "outputs": []
    },
    {
      "cell_type": "markdown",
      "metadata": {
        "id": "OqgLaqbgznlC"
      },
      "source": [
        "**Loading the TrainX1 Pickle file**"
      ]
    },
    {
      "cell_type": "code",
      "metadata": {
        "id": "7YEq7wp9y5gq"
      },
      "source": [
        "pickle_in = open(\"TrainX1.pkl\",\"rb\")\n",
        "TrainX1 = pickle.load(pickle_in)"
      ],
      "execution_count": 13,
      "outputs": []
    },
    {
      "cell_type": "code",
      "metadata": {
        "id": "l7yUK4tZqhe5"
      },
      "source": [
        "# TrainY\n",
        "TrainY = []\n",
        "for points in data:\n",
        "  full_label = np.zeros(shape=(20, ))\n",
        "  for label in points[1]:\n",
        "    full_label[label] = 1\n",
        "  TrainY.append(full_label)\n",
        "TrainY = np.array(TrainY)"
      ],
      "execution_count": 14,
      "outputs": []
    },
    {
      "cell_type": "markdown",
      "metadata": {
        "id": "gvYWgAO1qxLt"
      },
      "source": [
        "**Models**"
      ]
    },
    {
      "cell_type": "code",
      "metadata": {
        "id": "0eKu5sh1wZA-",
        "colab": {
          "base_uri": "https://localhost:8080/"
        },
        "outputId": "f7de753c-832a-4462-ba0b-0f85ee3e9e60"
      },
      "source": [
        "# model making(Image to Vector)\n",
        "# input layer\n",
        "input1 = tf.keras.Input(shape=(224, 224, 3), name='input1')\n",
        "\n",
        "# Transfer Learning with VGG16 model with weights as imagenet\n",
        "vgg16 = tf.keras.applications.VGG16(include_top=False, weights=\"imagenet\", classes=20)\n",
        "vgg16.trainable = False\n",
        "x = vgg16(input1)\n",
        "\n",
        "# Dense Layers\n",
        "x = tf.keras.layers.Flatten(name='flatten')(x)\n",
        "x = tf.keras.layers.BatchNormalization(name='norm1')(x)\n",
        "x = tf.keras.layers.Dense(192, activation='relu', name='dense1')(x)\n",
        "x = tf.keras.layers.BatchNormalization(name='norm2')(x)\n",
        "x = tf.keras.layers.Dense(84, activation='relu', name='dense2')(x)\n",
        "x = tf.keras.layers.BatchNormalization(name='norm3')(x)\n",
        "x = tf.keras.layers.Dense(64, activation='relu', name='dense3')(x)\n",
        "x = tf.keras.layers.BatchNormalization(name='norm4')(x)\n",
        "\n",
        "#Output layer\n",
        "output = tf.keras.layers.Dense(500, activation=\"linear\", name='output')(x)\n",
        "\n",
        "model1 = tf.keras.models.Model(inputs=input1, outputs=output, name='model1')\n",
        "\n",
        "model1.summary()"
      ],
      "execution_count": 15,
      "outputs": [
        {
          "output_type": "stream",
          "text": [
            "Downloading data from https://storage.googleapis.com/tensorflow/keras-applications/vgg16/vgg16_weights_tf_dim_ordering_tf_kernels_notop.h5\n",
            "58892288/58889256 [==============================] - 1s 0us/step\n",
            "Model: \"model1\"\n",
            "_________________________________________________________________\n",
            "Layer (type)                 Output Shape              Param #   \n",
            "=================================================================\n",
            "input1 (InputLayer)          [(None, 224, 224, 3)]     0         \n",
            "_________________________________________________________________\n",
            "vgg16 (Functional)           (None, None, None, 512)   14714688  \n",
            "_________________________________________________________________\n",
            "flatten (Flatten)            (None, 25088)             0         \n",
            "_________________________________________________________________\n",
            "norm1 (BatchNormalization)   (None, 25088)             100352    \n",
            "_________________________________________________________________\n",
            "dense1 (Dense)               (None, 192)               4817088   \n",
            "_________________________________________________________________\n",
            "norm2 (BatchNormalization)   (None, 192)               768       \n",
            "_________________________________________________________________\n",
            "dense2 (Dense)               (None, 84)                16212     \n",
            "_________________________________________________________________\n",
            "norm3 (BatchNormalization)   (None, 84)                336       \n",
            "_________________________________________________________________\n",
            "dense3 (Dense)               (None, 64)                5440      \n",
            "_________________________________________________________________\n",
            "norm4 (BatchNormalization)   (None, 64)                256       \n",
            "_________________________________________________________________\n",
            "output (Dense)               (None, 500)               32500     \n",
            "=================================================================\n",
            "Total params: 19,687,640\n",
            "Trainable params: 4,922,096\n",
            "Non-trainable params: 14,765,544\n",
            "_________________________________________________________________\n"
          ],
          "name": "stdout"
        }
      ]
    },
    {
      "cell_type": "markdown",
      "metadata": {
        "id": "8SaMjBbkvEMl"
      },
      "source": [
        "**Text Model(Model2)**"
      ]
    },
    {
      "cell_type": "markdown",
      "metadata": {
        "id": "3Q2kUnc9vtq4"
      },
      "source": [
        "#**Data Preprocessing**"
      ]
    },
    {
      "cell_type": "code",
      "metadata": {
        "id": "yNvIanCDvKKM"
      },
      "source": [
        "# observing data for text Model\n",
        "data2 = []\n",
        "stringX2 = []\n",
        "idx=0\n",
        "for sample in mat[\"train_sent_final\"][0]:\n",
        "  # image = io.imread(i[0][0])\n",
        "  # cv2_imshow(image)\n",
        "  link = [sample[0][0]] #image link\n",
        "  cls = set()\n",
        "  for k in sample[1]:\n",
        "    for sent in k:\n",
        "      # if idx==10:\n",
        "      #   break\n",
        "      # idx+=1\n",
        "\n",
        "      for word in sent[0].split():\n",
        "        pre_word = lemmatizer.lemmatize(ls.stem(word.lower()))\n",
        "        if(pre_word in dict_classes.keys()):\n",
        "          cls.add(dict_classes[pre_word])\n",
        "  for cl in cls:\n",
        "    count[str(cl)]+=1\n",
        "\n",
        "  for k in sample[1]:\n",
        "    for sent in k:\n",
        "      stringX2.append(sent[0])\n",
        "      temp = np.zeros(shape=20)\n",
        "      for ele in list(cls):\n",
        "        temp[ele] = 1\n",
        "      data2.append([sent, temp])"
      ],
      "execution_count": 16,
      "outputs": []
    },
    {
      "cell_type": "code",
      "metadata": {
        "id": "LalUNSGuv24G"
      },
      "source": [
        "#Preparation of TrainX2 and Trainy2 for Text Model(Model2)\n",
        "tk = Tokenizer(filters='!\"#$%&()*+,-./:;<=>?@[\\]^`{|}~\\t\\n')\n",
        "tk.fit_on_texts(stringX2)\n",
        "X_seq = tk.texts_to_sequences(stringX2)\n",
        "X_pad = pad_sequences(X_seq, maxlen=100, padding='post')\n",
        "X_pad.shape\n",
        "TrainX2 = X_pad\n",
        "Trainy2 = np.zeros(shape=(len(data2), 20))\n",
        "i = 0\n",
        "for d in data2:\n",
        "  Trainy2[i] = np.array(d[1])\n",
        "  i = i + 1"
      ],
      "execution_count": 17,
      "outputs": []
    },
    {
      "cell_type": "code",
      "metadata": {
        "id": "FjybQaQR4VUC",
        "colab": {
          "base_uri": "https://localhost:8080/"
        },
        "outputId": "b4326d2b-7096-42a8-a98f-4134502cf06b"
      },
      "source": [
        "INP_LEN1 = 100 #(Text to Vector)\n",
        "input2 = tf.keras.Input(shape=(INP_LEN1,), name='input')\n",
        "embed = tf.keras.layers.Embedding((len(tk.word_counts)+1),INP_LEN1)(input2)\n",
        "rnn1 = tf.keras.layers.GRU(192, return_sequences=True, dropout=0.3)(embed)\n",
        "pool = tf.keras.layers.MaxPool1D()(rnn1)\n",
        "rnn2 = tf.keras.layers.GRU(128, dropout=0.2)(pool)\n",
        "dense1 = tf.keras.layers.Dense(84, activation='relu')(rnn2)\n",
        "drop1 = tf.keras.layers.Dropout(0.2)(dense1)\n",
        "norm1 = tf.keras.layers.BatchNormalization()(drop1)\n",
        "output = tf.keras.layers.Dense(500, activation='linear')(norm1)\n",
        "\n",
        "model2 = tf.keras.models.Model(inputs=input2, outputs=output, name='model2')\n",
        "model2.summary()\n"
      ],
      "execution_count": 18,
      "outputs": [
        {
          "output_type": "stream",
          "text": [
            "Model: \"model2\"\n",
            "_________________________________________________________________\n",
            "Layer (type)                 Output Shape              Param #   \n",
            "=================================================================\n",
            "input (InputLayer)           [(None, 100)]             0         \n",
            "_________________________________________________________________\n",
            "embedding (Embedding)        (None, 100, 100)          758600    \n",
            "_________________________________________________________________\n",
            "gru (GRU)                    (None, 100, 192)          169344    \n",
            "_________________________________________________________________\n",
            "max_pooling1d (MaxPooling1D) (None, 50, 192)           0         \n",
            "_________________________________________________________________\n",
            "gru_1 (GRU)                  (None, 128)               123648    \n",
            "_________________________________________________________________\n",
            "dense (Dense)                (None, 84)                10836     \n",
            "_________________________________________________________________\n",
            "dropout (Dropout)            (None, 84)                0         \n",
            "_________________________________________________________________\n",
            "batch_normalization_4 (Batch (None, 84)                336       \n",
            "_________________________________________________________________\n",
            "dense_1 (Dense)              (None, 500)               42500     \n",
            "=================================================================\n",
            "Total params: 1,105,264\n",
            "Trainable params: 1,105,096\n",
            "Non-trainable params: 168\n",
            "_________________________________________________________________\n"
          ],
          "name": "stdout"
        }
      ]
    },
    {
      "cell_type": "markdown",
      "metadata": {
        "id": "jytYPhuj47A-"
      },
      "source": [
        "**Concatenating the Image Model(Model1) and Text Model(Model2)**"
      ]
    },
    {
      "cell_type": "code",
      "metadata": {
        "id": "rTmoWQ-f46cb",
        "colab": {
          "base_uri": "https://localhost:8080/",
          "height": 1000
        },
        "outputId": "b3778f56-1916-45ed-b5bd-ed8abf9c9345"
      },
      "source": [
        "concate = tf.keras.layers.Concatenate(axis=-1)([model1.output, model2.output])\n",
        "final_dense = tf.keras.layers.Dense(256, activation='relu')(concate)\n",
        "Output = tf.keras.layers.Dense(20, activation='sigmoid')(final_dense)\n",
        "finalModel  = tf.keras.models.Model(inputs=[input1,input2],outputs=Output)\n",
        "\n",
        "finalModel.summary()\n",
        "tf.keras.utils.plot_model(finalModel,to_file=\"finalModel.png\")"
      ],
      "execution_count": 36,
      "outputs": [
        {
          "output_type": "stream",
          "text": [
            "Model: \"model_3\"\n",
            "__________________________________________________________________________________________________\n",
            "Layer (type)                    Output Shape         Param #     Connected to                     \n",
            "==================================================================================================\n",
            "input1 (InputLayer)             [(None, 224, 224, 3) 0                                            \n",
            "__________________________________________________________________________________________________\n",
            "vgg16 (Functional)              (None, None, None, 5 14714688    input1[0][0]                     \n",
            "__________________________________________________________________________________________________\n",
            "flatten (Flatten)               (None, 25088)        0           vgg16[0][0]                      \n",
            "__________________________________________________________________________________________________\n",
            "input (InputLayer)              [(None, 100)]        0                                            \n",
            "__________________________________________________________________________________________________\n",
            "norm1 (BatchNormalization)      (None, 25088)        100352      flatten[0][0]                    \n",
            "__________________________________________________________________________________________________\n",
            "embedding (Embedding)           (None, 100, 100)     758600      input[0][0]                      \n",
            "__________________________________________________________________________________________________\n",
            "dense1 (Dense)                  (None, 192)          4817088     norm1[0][0]                      \n",
            "__________________________________________________________________________________________________\n",
            "gru (GRU)                       (None, 100, 192)     169344      embedding[0][0]                  \n",
            "__________________________________________________________________________________________________\n",
            "norm2 (BatchNormalization)      (None, 192)          768         dense1[0][0]                     \n",
            "__________________________________________________________________________________________________\n",
            "max_pooling1d (MaxPooling1D)    (None, 50, 192)      0           gru[0][0]                        \n",
            "__________________________________________________________________________________________________\n",
            "dense2 (Dense)                  (None, 84)           16212       norm2[0][0]                      \n",
            "__________________________________________________________________________________________________\n",
            "gru_1 (GRU)                     (None, 128)          123648      max_pooling1d[0][0]              \n",
            "__________________________________________________________________________________________________\n",
            "norm3 (BatchNormalization)      (None, 84)           336         dense2[0][0]                     \n",
            "__________________________________________________________________________________________________\n",
            "dense (Dense)                   (None, 84)           10836       gru_1[0][0]                      \n",
            "__________________________________________________________________________________________________\n",
            "dense3 (Dense)                  (None, 64)           5440        norm3[0][0]                      \n",
            "__________________________________________________________________________________________________\n",
            "dropout (Dropout)               (None, 84)           0           dense[0][0]                      \n",
            "__________________________________________________________________________________________________\n",
            "norm4 (BatchNormalization)      (None, 64)           256         dense3[0][0]                     \n",
            "__________________________________________________________________________________________________\n",
            "batch_normalization_4 (BatchNor (None, 84)           336         dropout[0][0]                    \n",
            "__________________________________________________________________________________________________\n",
            "output (Dense)                  (None, 500)          32500       norm4[0][0]                      \n",
            "__________________________________________________________________________________________________\n",
            "dense_1 (Dense)                 (None, 500)          42500       batch_normalization_4[0][0]      \n",
            "__________________________________________________________________________________________________\n",
            "concatenate_3 (Concatenate)     (None, 1000)         0           output[0][0]                     \n",
            "                                                                 dense_1[0][0]                    \n",
            "__________________________________________________________________________________________________\n",
            "dense_8 (Dense)                 (None, 256)          256256      concatenate_3[0][0]              \n",
            "__________________________________________________________________________________________________\n",
            "dense_9 (Dense)                 (None, 20)           5140        dense_8[0][0]                    \n",
            "==================================================================================================\n",
            "Total params: 21,054,300\n",
            "Trainable params: 6,288,588\n",
            "Non-trainable params: 14,765,712\n",
            "__________________________________________________________________________________________________\n"
          ],
          "name": "stdout"
        },
        {
          "output_type": "execute_result",
          "data": {
            "image/png": "[encoded data removed]",
            "text/plain": [
              "<IPython.core.display.Image object>"
            ]
          },
          "metadata": {
            "tags": []
          },
          "execution_count": 36
        }
      ]
    },
    {
      "cell_type": "markdown",
      "metadata": {
        "id": "rKZWDakNowru"
      },
      "source": [
        "**Train the MultiModal**"
      ]
    },
    {
      "cell_type": "code",
      "metadata": {
        "id": "AFF7k0Mio0rC"
      },
      "source": [
        "finalModel.compile(optimizer=tf.keras.optimizers.Adam(lr = 0.0001), loss='binary_crossentropy',metrics=[tf.keras.metrics.BinaryAccuracy()])"
      ],
      "execution_count": 37,
      "outputs": []
    },
    {
      "cell_type": "code",
      "metadata": {
        "id": "dnb2Und-pL2u",
        "colab": {
          "base_uri": "https://localhost:8080/"
        },
        "outputId": "4b990c49-67ac-4f2a-dadb-c8d46a6b831e"
      },
      "source": [
        "finalModel.fit([TrainX1, TrainX2], TrainY, validation_split=0.2, epochs=100)"
      ],
      "execution_count": 38,
      "outputs": [
        {
          "output_type": "stream",
          "text": [
            "Epoch 1/100\n",
            "25/25 [==============================] - 14s 393ms/step - loss: 0.5977 - binary_accuracy: 0.6902 - val_loss: 0.4236 - val_binary_accuracy: 0.9240\n",
            "Epoch 2/100\n",
            "25/25 [==============================] - 9s 345ms/step - loss: 0.3237 - binary_accuracy: 0.9385 - val_loss: 0.2883 - val_binary_accuracy: 0.9325\n",
            "Epoch 3/100\n",
            "25/25 [==============================] - 9s 343ms/step - loss: 0.2020 - binary_accuracy: 0.9530 - val_loss: 0.2285 - val_binary_accuracy: 0.9320\n",
            "Epoch 4/100\n",
            "25/25 [==============================] - 9s 345ms/step - loss: 0.1323 - binary_accuracy: 0.9622 - val_loss: 0.2066 - val_binary_accuracy: 0.9345\n",
            "Epoch 5/100\n",
            "25/25 [==============================] - 9s 345ms/step - loss: 0.1006 - binary_accuracy: 0.9721 - val_loss: 0.1990 - val_binary_accuracy: 0.9340\n",
            "Epoch 6/100\n",
            "25/25 [==============================] - 9s 346ms/step - loss: 0.0822 - binary_accuracy: 0.9784 - val_loss: 0.1980 - val_binary_accuracy: 0.9332\n",
            "Epoch 7/100\n",
            "25/25 [==============================] - 9s 346ms/step - loss: 0.0695 - binary_accuracy: 0.9822 - val_loss: 0.1998 - val_binary_accuracy: 0.9327\n",
            "Epoch 8/100\n",
            "25/25 [==============================] - 9s 346ms/step - loss: 0.0632 - binary_accuracy: 0.9837 - val_loss: 0.2035 - val_binary_accuracy: 0.9335\n",
            "Epoch 9/100\n",
            "25/25 [==============================] - 9s 347ms/step - loss: 0.0500 - binary_accuracy: 0.9893 - val_loss: 0.2075 - val_binary_accuracy: 0.9327\n",
            "Epoch 10/100\n",
            "25/25 [==============================] - 9s 348ms/step - loss: 0.0446 - binary_accuracy: 0.9903 - val_loss: 0.2119 - val_binary_accuracy: 0.9323\n",
            "Epoch 11/100\n",
            "25/25 [==============================] - 9s 347ms/step - loss: 0.0439 - binary_accuracy: 0.9897 - val_loss: 0.2178 - val_binary_accuracy: 0.9307\n",
            "Epoch 12/100\n",
            "25/25 [==============================] - 9s 346ms/step - loss: 0.0377 - binary_accuracy: 0.9930 - val_loss: 0.2220 - val_binary_accuracy: 0.9312\n",
            "Epoch 13/100\n",
            "25/25 [==============================] - 9s 345ms/step - loss: 0.0379 - binary_accuracy: 0.9905 - val_loss: 0.2274 - val_binary_accuracy: 0.9300\n",
            "Epoch 14/100\n",
            "25/25 [==============================] - 9s 348ms/step - loss: 0.0334 - binary_accuracy: 0.9922 - val_loss: 0.2307 - val_binary_accuracy: 0.9308\n",
            "Epoch 15/100\n",
            "25/25 [==============================] - 9s 346ms/step - loss: 0.0334 - binary_accuracy: 0.9921 - val_loss: 0.2361 - val_binary_accuracy: 0.9305\n",
            "Epoch 16/100\n",
            "25/25 [==============================] - 9s 348ms/step - loss: 0.0301 - binary_accuracy: 0.9948 - val_loss: 0.2404 - val_binary_accuracy: 0.9310\n",
            "Epoch 17/100\n",
            "25/25 [==============================] - 9s 346ms/step - loss: 0.0287 - binary_accuracy: 0.9934 - val_loss: 0.2418 - val_binary_accuracy: 0.9303\n",
            "Epoch 18/100\n",
            "25/25 [==============================] - 9s 346ms/step - loss: 0.0275 - binary_accuracy: 0.9936 - val_loss: 0.2485 - val_binary_accuracy: 0.9302\n",
            "Epoch 19/100\n",
            "25/25 [==============================] - 9s 346ms/step - loss: 0.0250 - binary_accuracy: 0.9944 - val_loss: 0.2531 - val_binary_accuracy: 0.9300\n",
            "Epoch 20/100\n",
            "25/25 [==============================] - 9s 347ms/step - loss: 0.0236 - binary_accuracy: 0.9948 - val_loss: 0.2567 - val_binary_accuracy: 0.9305\n",
            "Epoch 21/100\n",
            "25/25 [==============================] - 9s 346ms/step - loss: 0.0217 - binary_accuracy: 0.9954 - val_loss: 0.2619 - val_binary_accuracy: 0.9293\n",
            "Epoch 22/100\n",
            "25/25 [==============================] - 9s 347ms/step - loss: 0.0247 - binary_accuracy: 0.9937 - val_loss: 0.2654 - val_binary_accuracy: 0.9290\n",
            "Epoch 23/100\n",
            "25/25 [==============================] - 9s 346ms/step - loss: 0.0221 - binary_accuracy: 0.9945 - val_loss: 0.2685 - val_binary_accuracy: 0.9295\n",
            "Epoch 24/100\n",
            "25/25 [==============================] - 9s 346ms/step - loss: 0.0198 - binary_accuracy: 0.9960 - val_loss: 0.2709 - val_binary_accuracy: 0.9310\n",
            "Epoch 25/100\n",
            "25/25 [==============================] - 9s 346ms/step - loss: 0.0196 - binary_accuracy: 0.9957 - val_loss: 0.2743 - val_binary_accuracy: 0.9298\n",
            "Epoch 26/100\n",
            "25/25 [==============================] - 9s 346ms/step - loss: 0.0171 - binary_accuracy: 0.9958 - val_loss: 0.2802 - val_binary_accuracy: 0.9300\n",
            "Epoch 27/100\n",
            "25/25 [==============================] - 9s 346ms/step - loss: 0.0188 - binary_accuracy: 0.9961 - val_loss: 0.2827 - val_binary_accuracy: 0.9293\n",
            "Epoch 28/100\n",
            "25/25 [==============================] - 9s 346ms/step - loss: 0.0183 - binary_accuracy: 0.9941 - val_loss: 0.2849 - val_binary_accuracy: 0.9285\n",
            "Epoch 29/100\n",
            "25/25 [==============================] - 9s 346ms/step - loss: 0.0167 - binary_accuracy: 0.9965 - val_loss: 0.2878 - val_binary_accuracy: 0.9298\n",
            "Epoch 30/100\n",
            "25/25 [==============================] - 9s 348ms/step - loss: 0.0173 - binary_accuracy: 0.9949 - val_loss: 0.2919 - val_binary_accuracy: 0.9275\n",
            "Epoch 31/100\n",
            "25/25 [==============================] - 9s 346ms/step - loss: 0.0170 - binary_accuracy: 0.9959 - val_loss: 0.2919 - val_binary_accuracy: 0.9293\n",
            "Epoch 32/100\n",
            "25/25 [==============================] - 9s 346ms/step - loss: 0.0161 - binary_accuracy: 0.9961 - val_loss: 0.3013 - val_binary_accuracy: 0.9288\n",
            "Epoch 33/100\n",
            "25/25 [==============================] - 9s 347ms/step - loss: 0.0183 - binary_accuracy: 0.9941 - val_loss: 0.3003 - val_binary_accuracy: 0.9285\n",
            "Epoch 34/100\n",
            "25/25 [==============================] - 9s 347ms/step - loss: 0.0170 - binary_accuracy: 0.9963 - val_loss: 0.3073 - val_binary_accuracy: 0.9290\n",
            "Epoch 35/100\n",
            "25/25 [==============================] - 9s 346ms/step - loss: 0.0157 - binary_accuracy: 0.9959 - val_loss: 0.3052 - val_binary_accuracy: 0.9285\n",
            "Epoch 36/100\n",
            "25/25 [==============================] - 9s 347ms/step - loss: 0.0124 - binary_accuracy: 0.9973 - val_loss: 0.3073 - val_binary_accuracy: 0.9288\n",
            "Epoch 37/100\n",
            "25/25 [==============================] - 9s 345ms/step - loss: 0.0131 - binary_accuracy: 0.9968 - val_loss: 0.3119 - val_binary_accuracy: 0.9285\n",
            "Epoch 38/100\n",
            "25/25 [==============================] - 9s 345ms/step - loss: 0.0148 - binary_accuracy: 0.9956 - val_loss: 0.3138 - val_binary_accuracy: 0.9280\n",
            "Epoch 39/100\n",
            "25/25 [==============================] - 9s 346ms/step - loss: 0.0133 - binary_accuracy: 0.9961 - val_loss: 0.3173 - val_binary_accuracy: 0.9290\n",
            "Epoch 40/100\n",
            "25/25 [==============================] - 9s 348ms/step - loss: 0.0148 - binary_accuracy: 0.9960 - val_loss: 0.3217 - val_binary_accuracy: 0.9280\n",
            "Epoch 41/100\n",
            "25/25 [==============================] - 9s 345ms/step - loss: 0.0141 - binary_accuracy: 0.9949 - val_loss: 0.3240 - val_binary_accuracy: 0.9287\n",
            "Epoch 42/100\n",
            "25/25 [==============================] - 9s 346ms/step - loss: 0.0128 - binary_accuracy: 0.9966 - val_loss: 0.3245 - val_binary_accuracy: 0.9287\n",
            "Epoch 43/100\n",
            "25/25 [==============================] - 9s 345ms/step - loss: 0.0128 - binary_accuracy: 0.9958 - val_loss: 0.3275 - val_binary_accuracy: 0.9287\n",
            "Epoch 44/100\n",
            "25/25 [==============================] - 9s 348ms/step - loss: 0.0123 - binary_accuracy: 0.9965 - val_loss: 0.3339 - val_binary_accuracy: 0.9270\n",
            "Epoch 45/100\n",
            "25/25 [==============================] - 9s 348ms/step - loss: 0.0113 - binary_accuracy: 0.9967 - val_loss: 0.3335 - val_binary_accuracy: 0.9272\n",
            "Epoch 46/100\n",
            "25/25 [==============================] - 9s 348ms/step - loss: 0.0109 - binary_accuracy: 0.9974 - val_loss: 0.3342 - val_binary_accuracy: 0.9280\n",
            "Epoch 47/100\n",
            "25/25 [==============================] - 9s 347ms/step - loss: 0.0113 - binary_accuracy: 0.9971 - val_loss: 0.3377 - val_binary_accuracy: 0.9288\n",
            "Epoch 48/100\n",
            "25/25 [==============================] - 9s 345ms/step - loss: 0.0108 - binary_accuracy: 0.9971 - val_loss: 0.3422 - val_binary_accuracy: 0.9290\n",
            "Epoch 49/100\n",
            "25/25 [==============================] - 9s 345ms/step - loss: 0.0097 - binary_accuracy: 0.9975 - val_loss: 0.3494 - val_binary_accuracy: 0.9285\n",
            "Epoch 50/100\n",
            "25/25 [==============================] - 9s 347ms/step - loss: 0.0107 - binary_accuracy: 0.9969 - val_loss: 0.3523 - val_binary_accuracy: 0.9280\n",
            "Epoch 51/100\n",
            "25/25 [==============================] - 9s 346ms/step - loss: 0.0106 - binary_accuracy: 0.9973 - val_loss: 0.3556 - val_binary_accuracy: 0.9270\n",
            "Epoch 52/100\n",
            "25/25 [==============================] - 9s 347ms/step - loss: 0.0117 - binary_accuracy: 0.9964 - val_loss: 0.3568 - val_binary_accuracy: 0.9272\n",
            "Epoch 53/100\n",
            "25/25 [==============================] - 9s 347ms/step - loss: 0.0089 - binary_accuracy: 0.9982 - val_loss: 0.3570 - val_binary_accuracy: 0.9280\n",
            "Epoch 54/100\n",
            "25/25 [==============================] - 9s 348ms/step - loss: 0.0094 - binary_accuracy: 0.9977 - val_loss: 0.3595 - val_binary_accuracy: 0.9280\n",
            "Epoch 55/100\n",
            "25/25 [==============================] - 9s 347ms/step - loss: 0.0081 - binary_accuracy: 0.9978 - val_loss: 0.3617 - val_binary_accuracy: 0.9275\n",
            "Epoch 56/100\n",
            "25/25 [==============================] - 9s 346ms/step - loss: 0.0080 - binary_accuracy: 0.9982 - val_loss: 0.3679 - val_binary_accuracy: 0.9275\n",
            "Epoch 57/100\n",
            "25/25 [==============================] - 9s 345ms/step - loss: 0.0100 - binary_accuracy: 0.9972 - val_loss: 0.3694 - val_binary_accuracy: 0.9270\n",
            "Epoch 58/100\n",
            "25/25 [==============================] - 9s 346ms/step - loss: 0.0084 - binary_accuracy: 0.9976 - val_loss: 0.3738 - val_binary_accuracy: 0.9265\n",
            "Epoch 59/100\n",
            "25/25 [==============================] - 9s 347ms/step - loss: 0.0108 - binary_accuracy: 0.9976 - val_loss: 0.3735 - val_binary_accuracy: 0.9275\n",
            "Epoch 60/100\n",
            "25/25 [==============================] - 9s 346ms/step - loss: 0.0085 - binary_accuracy: 0.9977 - val_loss: 0.3714 - val_binary_accuracy: 0.9275\n",
            "Epoch 61/100\n",
            "25/25 [==============================] - 9s 345ms/step - loss: 0.0072 - binary_accuracy: 0.9982 - val_loss: 0.3781 - val_binary_accuracy: 0.9262\n",
            "Epoch 62/100\n",
            "25/25 [==============================] - 9s 347ms/step - loss: 0.0081 - binary_accuracy: 0.9977 - val_loss: 0.3789 - val_binary_accuracy: 0.9282\n",
            "Epoch 63/100\n",
            "25/25 [==============================] - 9s 348ms/step - loss: 0.0083 - binary_accuracy: 0.9982 - val_loss: 0.3818 - val_binary_accuracy: 0.9260\n",
            "Epoch 64/100\n",
            "25/25 [==============================] - 9s 346ms/step - loss: 0.0097 - binary_accuracy: 0.9973 - val_loss: 0.3829 - val_binary_accuracy: 0.9263\n",
            "Epoch 65/100\n",
            "25/25 [==============================] - 9s 347ms/step - loss: 0.0083 - binary_accuracy: 0.9980 - val_loss: 0.3872 - val_binary_accuracy: 0.9275\n",
            "Epoch 66/100\n",
            "25/25 [==============================] - 9s 346ms/step - loss: 0.0076 - binary_accuracy: 0.9988 - val_loss: 0.3920 - val_binary_accuracy: 0.9282\n",
            "Epoch 67/100\n",
            "25/25 [==============================] - 9s 345ms/step - loss: 0.0076 - binary_accuracy: 0.9979 - val_loss: 0.3943 - val_binary_accuracy: 0.9285\n",
            "Epoch 68/100\n",
            "25/25 [==============================] - 9s 348ms/step - loss: 0.0061 - binary_accuracy: 0.9986 - val_loss: 0.3959 - val_binary_accuracy: 0.9293\n",
            "Epoch 69/100\n",
            "25/25 [==============================] - 9s 346ms/step - loss: 0.0077 - binary_accuracy: 0.9976 - val_loss: 0.3977 - val_binary_accuracy: 0.9290\n",
            "Epoch 70/100\n",
            "25/25 [==============================] - 9s 347ms/step - loss: 0.0105 - binary_accuracy: 0.9966 - val_loss: 0.3975 - val_binary_accuracy: 0.9293\n",
            "Epoch 71/100\n",
            "25/25 [==============================] - 9s 347ms/step - loss: 0.0076 - binary_accuracy: 0.9982 - val_loss: 0.3960 - val_binary_accuracy: 0.9277\n",
            "Epoch 72/100\n",
            "25/25 [==============================] - 9s 347ms/step - loss: 0.0091 - binary_accuracy: 0.9972 - val_loss: 0.3990 - val_binary_accuracy: 0.9277\n",
            "Epoch 73/100\n",
            "25/25 [==============================] - 9s 346ms/step - loss: 0.0071 - binary_accuracy: 0.9988 - val_loss: 0.4030 - val_binary_accuracy: 0.9270\n",
            "Epoch 74/100\n",
            "25/25 [==============================] - 9s 346ms/step - loss: 0.0081 - binary_accuracy: 0.9980 - val_loss: 0.4041 - val_binary_accuracy: 0.9255\n",
            "Epoch 75/100\n",
            "25/25 [==============================] - 9s 346ms/step - loss: 0.0062 - binary_accuracy: 0.9979 - val_loss: 0.4058 - val_binary_accuracy: 0.9275\n",
            "Epoch 76/100\n",
            "25/25 [==============================] - 9s 346ms/step - loss: 0.0058 - binary_accuracy: 0.9982 - val_loss: 0.4056 - val_binary_accuracy: 0.9277\n",
            "Epoch 77/100\n",
            "25/25 [==============================] - 9s 347ms/step - loss: 0.0069 - binary_accuracy: 0.9981 - val_loss: 0.4088 - val_binary_accuracy: 0.9295\n",
            "Epoch 78/100\n",
            "25/25 [==============================] - 9s 347ms/step - loss: 0.0053 - binary_accuracy: 0.9988 - val_loss: 0.4109 - val_binary_accuracy: 0.9283\n",
            "Epoch 79/100\n",
            "25/25 [==============================] - 9s 347ms/step - loss: 0.0048 - binary_accuracy: 0.9989 - val_loss: 0.4139 - val_binary_accuracy: 0.9277\n",
            "Epoch 80/100\n",
            "25/25 [==============================] - 9s 346ms/step - loss: 0.0062 - binary_accuracy: 0.9985 - val_loss: 0.4130 - val_binary_accuracy: 0.9277\n",
            "Epoch 81/100\n",
            "25/25 [==============================] - 9s 346ms/step - loss: 0.0047 - binary_accuracy: 0.9988 - val_loss: 0.4130 - val_binary_accuracy: 0.9275\n",
            "Epoch 82/100\n",
            "25/25 [==============================] - 9s 347ms/step - loss: 0.0055 - binary_accuracy: 0.9984 - val_loss: 0.4172 - val_binary_accuracy: 0.9278\n",
            "Epoch 83/100\n",
            "25/25 [==============================] - 9s 346ms/step - loss: 0.0048 - binary_accuracy: 0.9989 - val_loss: 0.4195 - val_binary_accuracy: 0.9280\n",
            "Epoch 84/100\n",
            "25/25 [==============================] - 9s 346ms/step - loss: 0.0057 - binary_accuracy: 0.9985 - val_loss: 0.4201 - val_binary_accuracy: 0.9265\n",
            "Epoch 85/100\n",
            "25/25 [==============================] - 9s 346ms/step - loss: 0.0042 - binary_accuracy: 0.9991 - val_loss: 0.4236 - val_binary_accuracy: 0.9265\n",
            "Epoch 86/100\n",
            "25/25 [==============================] - 9s 348ms/step - loss: 0.0054 - binary_accuracy: 0.9987 - val_loss: 0.4209 - val_binary_accuracy: 0.9260\n",
            "Epoch 87/100\n",
            "25/25 [==============================] - 9s 346ms/step - loss: 0.0055 - binary_accuracy: 0.9987 - val_loss: 0.4189 - val_binary_accuracy: 0.9277\n",
            "Epoch 88/100\n",
            "25/25 [==============================] - 9s 347ms/step - loss: 0.0052 - binary_accuracy: 0.9987 - val_loss: 0.4241 - val_binary_accuracy: 0.9275\n",
            "Epoch 89/100\n",
            "25/25 [==============================] - 9s 347ms/step - loss: 0.0067 - binary_accuracy: 0.9978 - val_loss: 0.4291 - val_binary_accuracy: 0.9260\n",
            "Epoch 90/100\n",
            "25/25 [==============================] - 9s 346ms/step - loss: 0.0059 - binary_accuracy: 0.9987 - val_loss: 0.4272 - val_binary_accuracy: 0.9270\n",
            "Epoch 91/100\n",
            "25/25 [==============================] - 9s 347ms/step - loss: 0.0062 - binary_accuracy: 0.9986 - val_loss: 0.4308 - val_binary_accuracy: 0.9270\n",
            "Epoch 92/100\n",
            "25/25 [==============================] - 9s 346ms/step - loss: 0.0073 - binary_accuracy: 0.9976 - val_loss: 0.4272 - val_binary_accuracy: 0.9273\n",
            "Epoch 93/100\n",
            "25/25 [==============================] - 9s 346ms/step - loss: 0.0048 - binary_accuracy: 0.9989 - val_loss: 0.4309 - val_binary_accuracy: 0.9268\n",
            "Epoch 94/100\n",
            "25/25 [==============================] - 9s 347ms/step - loss: 0.0058 - binary_accuracy: 0.9989 - val_loss: 0.4349 - val_binary_accuracy: 0.9258\n",
            "Epoch 95/100\n",
            "25/25 [==============================] - 9s 346ms/step - loss: 0.0047 - binary_accuracy: 0.9988 - val_loss: 0.4452 - val_binary_accuracy: 0.9273\n",
            "Epoch 96/100\n",
            "25/25 [==============================] - 9s 346ms/step - loss: 0.0052 - binary_accuracy: 0.9992 - val_loss: 0.4488 - val_binary_accuracy: 0.9280\n",
            "Epoch 97/100\n",
            "25/25 [==============================] - 9s 347ms/step - loss: 0.0068 - binary_accuracy: 0.9977 - val_loss: 0.4401 - val_binary_accuracy: 0.9273\n",
            "Epoch 98/100\n",
            "25/25 [==============================] - 9s 346ms/step - loss: 0.0055 - binary_accuracy: 0.9985 - val_loss: 0.4419 - val_binary_accuracy: 0.9270\n",
            "Epoch 99/100\n",
            "25/25 [==============================] - 9s 347ms/step - loss: 0.0049 - binary_accuracy: 0.9990 - val_loss: 0.4387 - val_binary_accuracy: 0.9265\n",
            "Epoch 100/100\n",
            "25/25 [==============================] - 9s 346ms/step - loss: 0.0045 - binary_accuracy: 0.9990 - val_loss: 0.4404 - val_binary_accuracy: 0.9275\n"
          ],
          "name": "stdout"
        },
        {
          "output_type": "execute_result",
          "data": {
            "text/plain": [
              "<tensorflow.python.keras.callbacks.History at 0x7f2505ab4e50>"
            ]
          },
          "metadata": {
            "tags": []
          },
          "execution_count": 38
        }
      ]
    },
    {
      "cell_type": "markdown",
      "metadata": {
        "id": "FMhTz2fbtFn7"
      },
      "source": [
        "**Predictions**"
      ]
    },
    {
      "cell_type": "code",
      "metadata": {
        "id": "CCE-mr_zuvlB",
        "colab": {
          "base_uri": "https://localhost:8080/"
        },
        "outputId": "3a6f353a-1cd1-4cdb-8e3a-ba81196d1a23"
      },
      "source": [
        "i = np.random.randint(0,len(TrainX1))\n",
        "sampleX1 = np.expand_dims(TrainX1[i], axis=0)\n",
        "sampleX2 = np.expand_dims(TrainX2[i], axis=0)\n",
        "\n",
        "pred_y = finalModel.predict([sampleX1, sampleX2])\n",
        "true_y = TrainY[i]\n",
        "y = (pred_y > 0.5).astype(int)\n",
        "print(pred_y)\n",
        "print(y)\n",
        "print(true_y)"
      ],
      "execution_count": 44,
      "outputs": [
        {
          "output_type": "stream",
          "text": [
            "[[1.3103330e-05 1.6840629e-03 5.9016731e-08 3.4234070e-08 4.8450994e-09\n",
            "  3.3006263e-06 3.6544609e-10 9.9999821e-01 3.6316362e-06 1.8378088e-07\n",
            "  3.3633421e-10 5.1596036e-11 9.7713510e-06 2.4110063e-06 1.9096851e-07\n",
            "  6.3470536e-05 4.9165880e-08 4.6539466e-08 3.0234376e-10 4.0912564e-06]]\n",
            "[[0 0 0 0 0 0 0 1 0 0 0 0 0 0 0 0 0 0 0 0]]\n",
            "[0. 0. 0. 0. 0. 0. 0. 1. 0. 0. 0. 0. 0. 0. 0. 0. 0. 0. 0. 0.]\n"
          ],
          "name": "stdout"
        }
      ]
    },
    {
      "cell_type": "code",
      "metadata": {
        "id": "tb9KBM2WNlzu"
      },
      "source": [
        ""
      ],
      "execution_count": null,
      "outputs": []
    }
  ]
}