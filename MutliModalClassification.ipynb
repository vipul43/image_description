{
  "nbformat": 4,
  "nbformat_minor": 0,
  "metadata": {
    "colab": {
      "name": "MutliModalClassification.ipynb",
      "provenance": [],
      "collapsed_sections": [],
      "toc_visible": true,
      "include_colab_link": true
    },
    "kernelspec": {
      "name": "python3",
      "display_name": "Python 3"
    },
    "language_info": {
      "name": "python"
    },
    "accelerator": "GPU"
  },
  "cells": [
    {
      "cell_type": "markdown",
      "metadata": {
        "id": "view-in-github",
        "colab_type": "text"
      },
      "source": [
        "<a href=\"https://colab.research.google.com/github/vipul43/image_description/blob/main/MutliModalClassification.ipynb\" target=\"_parent\"><img src=\"https://colab.research.google.com/assets/colab-badge.svg\" alt=\"Open In Colab\"/></a>"
      ]
    },
    {
      "cell_type": "code",
      "metadata": {
        "id": "FLUiA1SkmOzO"
      },
      "source": [
        "# installs"
      ],
      "execution_count": 1,
      "outputs": []
    },
    {
      "cell_type": "code",
      "metadata": {
        "id": "ydR0jWJ3aie6"
      },
      "source": [
        "# imports\n",
        "import scipy.io\n",
        "import cv2\n",
        "from google.colab.patches import cv2_imshow\n",
        "from skimage import io\n",
        "import numpy as np\n",
        "import pandas as pd\n",
        "from PIL import Image \n",
        "import matplotlib.pylab as plt\n",
        "import pickle\n",
        "from skimage import transform\n",
        "from sklearn.model_selection import train_test_split\n",
        "import tensorflow as tf\n",
        "from nltk.tokenize import word_tokenize\n",
        "from nltk.stem import WordNetLemmatizer, LancasterStemmer\n",
        "import spacy\n",
        "import nltk\n",
        "import keras.backend as K\n",
        "from keras.preprocessing.text import Tokenizer\n",
        "from keras.preprocessing.sequence import pad_sequences"
      ],
      "execution_count": 2,
      "outputs": []
    },
    {
      "cell_type": "code",
      "metadata": {
        "id": "997Sjj1RmTuf",
        "colab": {
          "base_uri": "https://localhost:8080/"
        },
        "outputId": "925b192d-779e-47cc-f88e-89f70190a073"
      },
      "source": [
        "nltk.download('punkt') #tokenizer\n",
        "nltk.download('wordnet') #lemmatization\n",
        "\n",
        "lemmatizer = WordNetLemmatizer() #lemmatizer\n",
        "\n",
        "sp = spacy.load('en_core_web_sm') #lexical importance find\n",
        "\n",
        "ls = LancasterStemmer()"
      ],
      "execution_count": 3,
      "outputs": [
        {
          "output_type": "stream",
          "text": [
            "[nltk_data] Downloading package punkt to /root/nltk_data...\n",
            "[nltk_data]   Unzipping tokenizers/punkt.zip.\n",
            "[nltk_data] Downloading package wordnet to /root/nltk_data...\n",
            "[nltk_data]   Unzipping corpora/wordnet.zip.\n"
          ],
          "name": "stdout"
        }
      ]
    },
    {
      "cell_type": "code",
      "metadata": {
        "id": "Vcnwjcvnsm9K",
        "colab": {
          "base_uri": "https://localhost:8080/"
        },
        "outputId": "9813ca5a-b431-4a3e-dd2b-e4f12cb9c9dd"
      },
      "source": [
        "# data loading\n",
        "\n",
        "!gdown --id 1mrjvJq6XNM8QAgajSgrVGpsj8Vrm3BEm #PASCAL50S\n",
        "\n",
        "mat = scipy.io.loadmat('/content/pascal50S.mat')\n",
        "print(type(mat))"
      ],
      "execution_count": 4,
      "outputs": [
        {
          "output_type": "stream",
          "text": [
            "Downloading...\n",
            "From: https://drive.google.com/uc?id=1mrjvJq6XNM8QAgajSgrVGpsj8Vrm3BEm\n",
            "To: /content/pascal50S.mat\n",
            "\r  0% 0.00/1.12M [00:00<?, ?B/s]\r100% 1.12M/1.12M [00:00<00:00, 17.6MB/s]\n",
            "<class 'dict'>\n"
          ],
          "name": "stdout"
        }
      ]
    },
    {
      "cell_type": "code",
      "metadata": {
        "id": "bU8yBAKwmSAw"
      },
      "source": [
        "classes = ['person',\n",
        "           'bird', \n",
        "           'cat', \n",
        "           'cow', \n",
        "           'dog', \n",
        "           'horse', \n",
        "           'sheep', \n",
        "           'aeroplane', \n",
        "           'bicycle', \n",
        "           'boat', \n",
        "           'bus', \n",
        "           'car', \n",
        "           'motorbike', \n",
        "           'train', \n",
        "           'bottle', \n",
        "           'chair', \n",
        "           'dining table', \n",
        "           'potted plant',\n",
        "           'sofa', \n",
        "           'tv'] #NOUNS\n",
        "\n",
        "dict_classes = {'person':0, 'man':0, 'human':0,\n",
        "           'bird':1, 'penguin':1, 'parrot':1, 'sparrow':1,\n",
        "           'cat':2, \n",
        "           'cow':3, \n",
        "           'dog':4, \n",
        "           'horse':5,\n",
        "           'sheep':6, \n",
        "           'aeroplane':7, 'airplane':7, 'flight':7, 'plane':7, 'jet':7,\n",
        "           'bicycle':8, 'cycle':8,\n",
        "           'boat':9, 'ship':9,\n",
        "           'bus':10, \n",
        "           'car':11,\n",
        "           'motorbike':12, 'bike':12, 'motorcycle':12,\n",
        "           'train':13, \n",
        "           'bottle':14, 'waterbottle':14, 'drinkbottle':14, 'flask':14,\n",
        "           'chair':15,\n",
        "           'dining':16, 'diningtable': 16,\n",
        "           'potted':17, 'plant':17, 'pottedplant': 17,\n",
        "           'sofa':18, 'couch':18,\n",
        "           'tv':19, 'monitor':19, 'television':19, 'desktop':19}"
      ],
      "execution_count": 5,
      "outputs": []
    },
    {
      "cell_type": "code",
      "metadata": {
        "id": "j54sa4jSmcU3"
      },
      "source": [
        "count = {'0':0,   #person\n",
        "           '1':0, #bird\n",
        "           '2':0, #cat\n",
        "           '3':0, #cow\n",
        "           '4':0, #dog\n",
        "           '5':0, #horse\n",
        "           '6':0, #sheep\n",
        "           '7':0, #aeroplane\n",
        "           '8':0, #bicycle\n",
        "           '9':0, #boat\n",
        "           '10':0, #bus\n",
        "           '11':0, #car\n",
        "           '12':0, #motorbike\n",
        "           '13':0, #train\n",
        "           '14':0, #bottle\n",
        "           '15':0, #chair\n",
        "           '16':0, #dining\n",
        "           '17':0, #potted plant\n",
        "           '18':0, #sofa\n",
        "           '19':0} #tv/monitor"
      ],
      "execution_count": 6,
      "outputs": []
    },
    {
      "cell_type": "code",
      "metadata": {
        "id": "QwHnF1GlcmXV"
      },
      "source": [
        "# observing data\n",
        "data = []\n",
        "idx=0\n",
        "for sample in mat[\"train_sent_final\"][0]:\n",
        "  # image = io.imread(i[0][0])\n",
        "  # cv2_imshow(image)\n",
        "  link = [sample[0][0]] #image link\n",
        "  cls = set()\n",
        "  for k in sample[1]:\n",
        "    for sent in k:\n",
        "      # if idx==10:\n",
        "      #   break\n",
        "      # idx+=1\n",
        "\n",
        "      for word in sent[0].split():\n",
        "        pre_word = lemmatizer.lemmatize(ls.stem(word.lower()))\n",
        "        if(pre_word in dict_classes.keys()):\n",
        "          cls.add(dict_classes[pre_word])\n",
        "  for cl in cls:\n",
        "    count[str(cl)]+=1\n",
        "  data.append([link, list(cls)])"
      ],
      "execution_count": 7,
      "outputs": []
    },
    {
      "cell_type": "code",
      "metadata": {
        "id": "FFP5RsS7uP5p"
      },
      "source": [
        "file = open(\"data.pkl\", \"wb\")\n",
        "pickle.dump(data, file)\n",
        "file.close()"
      ],
      "execution_count": 8,
      "outputs": []
    },
    {
      "cell_type": "code",
      "metadata": {
        "id": "IbxC-8ReuQok"
      },
      "source": [
        "# preprocessing the dataset\n",
        "'''\n",
        "data -> url -> image -> array -> resized array\n",
        "TrainX = array of images resized to (224x224x3)\n",
        "TrainY = array of labels with size (20x1) in ones-zeros vector like [1, 1, 0, ....]\n",
        "'''\n",
        "# TrainX\n",
        "new_shape = (224, 224, 3)\n",
        "TrainX1 = []\n",
        "encoded_train_images = {}\n",
        "\n",
        "base_model = tf.keras.applications.Xception(include_top = False)\n",
        "for point in data:\n",
        "  photo = io.imread(point[0][0])\n",
        "  photo = transform.resize(image=photo, output_shape=new_shape)\n",
        "  TrainX1.append(photo)\n",
        "\n",
        "  batch_photo = np.expand_dims(photo, axis=0)\n",
        "  preproc_photo = tf.keras.applications.xception.preprocess_input(batch_photo)\n",
        "  vec_repre_photo = base_model.predict(preproc_photo)\n",
        "  # vec_repre_photo = np.reshape(vec_repre_photo, vec_repre_photo.shape[1])\n",
        "  encoded_train_images[point[0][0]] = vec_repre_photo\n",
        "\n",
        "TrainX1 = np.array(TrainX1)"
      ],
      "execution_count": 25,
      "outputs": []
    },
    {
      "cell_type": "code",
      "metadata": {
        "id": "l7yUK4tZqhe5"
      },
      "source": [
        "# TrainY\n",
        "TrainY = []\n",
        "for points in data:\n",
        "  full_label = np.zeros(shape=(20, ))\n",
        "  for label in points[1]:\n",
        "    full_label[label] = 1\n",
        "  TrainY.append(full_label)\n",
        "TrainY = np.array(TrainY)"
      ],
      "execution_count": 26,
      "outputs": []
    },
    {
      "cell_type": "code",
      "metadata": {
        "id": "jCcZucFLopCy"
      },
      "source": [
        "with open(\"encoded_train_images.pkl\", \"wb\") as encoded_pickle:\n",
        "    pickle.dump(encoded_train_images, encoded_pickle)"
      ],
      "execution_count": 27,
      "outputs": []
    },
    {
      "cell_type": "markdown",
      "metadata": {
        "id": "gvYWgAO1qxLt"
      },
      "source": [
        "**Extracting the data from pkl file**"
      ]
    },
    {
      "cell_type": "code",
      "metadata": {
        "id": "MdQfjDJCq0x3"
      },
      "source": [
        "# with open('encoded_train_images.pkl', 'rb') as f:\n",
        "#     data = pickle.load(f)"
      ],
      "execution_count": 28,
      "outputs": []
    },
    {
      "cell_type": "code",
      "metadata": {
        "id": "EOjhfXf0zUpX",
        "colab": {
          "base_uri": "https://localhost:8080/"
        },
        "outputId": "a780e7c4-42d0-4e07-f7a7-e56859a9e85e"
      },
      "source": [
        "# # data splitting\n",
        "# '''\n",
        "# train size: 700 images\n",
        "# val size: 300 images\n",
        "# output: TrainX, TrainY, ValX, ValY\n",
        "# '''\n",
        "# TrainX, ValX, TrainY, ValY = train_test_split(TrainX, TrainY, test_size=0.3, random_state=1)\n",
        "# print(\"Train X shape: \", TrainX.shape)\n",
        "# print(\"Train Y shape: \", TrainY.shape)\n",
        "# print(\"Val X shape: \", ValX.shape)\n",
        "# print(\"Val Y shape: \", ValY.shape)"
      ],
      "execution_count": 13,
      "outputs": [
        {
          "output_type": "stream",
          "text": [
            "Train X shape:  (700, 224, 224, 3)\n",
            "Train Y shape:  (700, 20)\n",
            "Val X shape:  (300, 224, 224, 3)\n",
            "Val Y shape:  (300, 20)\n"
          ],
          "name": "stdout"
        }
      ]
    },
    {
      "cell_type": "code",
      "metadata": {
        "id": "BAUz0Qt8wpw4"
      },
      "source": [
        "# instantiate data augmentation\n",
        "'''\n",
        "use this 'tf.keras.preprocessing.ImageDataGenerator'\n",
        "'''\n",
        "datagen = tf.keras.preprocessing.image.ImageDataGenerator(rescale=1./255,\n",
        "                                                          shear_range=0.2, \n",
        "                                                          zoom_range=0.2,\n",
        "                                                          rotation_range=15,\n",
        "                                                          horizontal_flip=True)"
      ],
      "execution_count": 14,
      "outputs": []
    },
    {
      "cell_type": "code",
      "metadata": {
        "id": "0eKu5sh1wZA-",
        "colab": {
          "base_uri": "https://localhost:8080/"
        },
        "outputId": "9b7b1bb8-41cc-4826-827e-988091a22717"
      },
      "source": [
        "# model making(Image to Vector)\n",
        "# input layer\n",
        "input1 = tf.keras.Input(shape=(224, 224, 3), name='input1')\n",
        "\n",
        "# Transfer Learning with VGG16 model with weights as imagenet\n",
        "vgg16 = tf.keras.applications.VGG16(include_top=False, weights=\"imagenet\", classes=20)\n",
        "vgg16.trainable = False\n",
        "x = vgg16(input1)\n",
        "\n",
        "# Dense Layers\n",
        "x = tf.keras.layers.Flatten(name='flatten')(x)\n",
        "x = tf.keras.layers.BatchNormalization(name='norm1')(x)\n",
        "x = tf.keras.layers.Dense(192, activation='relu', name='dense1')(x)\n",
        "x = tf.keras.layers.BatchNormalization(name='norm2')(x)\n",
        "x = tf.keras.layers.Dense(84, activation='relu', name='dense2')(x)\n",
        "x = tf.keras.layers.BatchNormalization(name='norm3')(x)\n",
        "x = tf.keras.layers.Dense(64, activation='relu', name='dense3')(x)\n",
        "x = tf.keras.layers.BatchNormalization(name='norm4')(x)\n",
        "\n",
        "#Output layer\n",
        "output = tf.keras.layers.Dense(500, activation=\"linear\", name='output')(x)\n",
        "\n",
        "model1 = tf.keras.models.Model(inputs=input1, outputs=output, name='model1')\n",
        "\n",
        "model1.summary()"
      ],
      "execution_count": 16,
      "outputs": [
        {
          "output_type": "stream",
          "text": [
            "Model: \"model1\"\n",
            "_________________________________________________________________\n",
            "Layer (type)                 Output Shape              Param #   \n",
            "=================================================================\n",
            "input1 (InputLayer)          [(None, 224, 224, 3)]     0         \n",
            "_________________________________________________________________\n",
            "vgg16 (Functional)           (None, None, None, 512)   14714688  \n",
            "_________________________________________________________________\n",
            "flatten (Flatten)            (None, 25088)             0         \n",
            "_________________________________________________________________\n",
            "norm1 (BatchNormalization)   (None, 25088)             100352    \n",
            "_________________________________________________________________\n",
            "dense1 (Dense)               (None, 192)               4817088   \n",
            "_________________________________________________________________\n",
            "norm2 (BatchNormalization)   (None, 192)               768       \n",
            "_________________________________________________________________\n",
            "dense2 (Dense)               (None, 84)                16212     \n",
            "_________________________________________________________________\n",
            "norm3 (BatchNormalization)   (None, 84)                336       \n",
            "_________________________________________________________________\n",
            "dense3 (Dense)               (None, 64)                5440      \n",
            "_________________________________________________________________\n",
            "norm4 (BatchNormalization)   (None, 64)                256       \n",
            "_________________________________________________________________\n",
            "output (Dense)               (None, 500)               32500     \n",
            "=================================================================\n",
            "Total params: 19,687,640\n",
            "Trainable params: 4,922,096\n",
            "Non-trainable params: 14,765,544\n",
            "_________________________________________________________________\n"
          ],
          "name": "stdout"
        }
      ]
    },
    {
      "cell_type": "markdown",
      "metadata": {
        "id": "8SaMjBbkvEMl"
      },
      "source": [
        "**Text Model(Model2)**"
      ]
    },
    {
      "cell_type": "markdown",
      "metadata": {
        "id": "3Q2kUnc9vtq4"
      },
      "source": [
        "#**Data Preprocessing**"
      ]
    },
    {
      "cell_type": "code",
      "metadata": {
        "id": "yNvIanCDvKKM"
      },
      "source": [
        "# observing data for text Model\n",
        "data2 = []\n",
        "stringX2 = []\n",
        "idx=0\n",
        "for sample in mat[\"train_sent_final\"][0]:\n",
        "  # image = io.imread(i[0][0])\n",
        "  # cv2_imshow(image)\n",
        "  link = [sample[0][0]] #image link\n",
        "  cls = set()\n",
        "  for k in sample[1]:\n",
        "    for sent in k:\n",
        "      # if idx==10:\n",
        "      #   break\n",
        "      # idx+=1\n",
        "\n",
        "      for word in sent[0].split():\n",
        "        pre_word = lemmatizer.lemmatize(ls.stem(word.lower()))\n",
        "        if(pre_word in dict_classes.keys()):\n",
        "          cls.add(dict_classes[pre_word])\n",
        "  for cl in cls:\n",
        "    count[str(cl)]+=1\n",
        "\n",
        "  for k in sample[1]:\n",
        "    for sent in k:\n",
        "      stringX2.append(sent[0])\n",
        "      temp = np.zeros(shape=20)\n",
        "      for ele in list(cls):\n",
        "        temp[ele] = 1\n",
        "      data2.append([sent, temp])"
      ],
      "execution_count": 17,
      "outputs": []
    },
    {
      "cell_type": "code",
      "metadata": {
        "id": "LalUNSGuv24G"
      },
      "source": [
        "#Preparation of TrainX2 and Trainy2 for Text Model(Model2)\n",
        "tk = Tokenizer(filters='!\"#$%&()*+,-./:;<=>?@[\\]^`{|}~\\t\\n')\n",
        "tk.fit_on_texts(stringX2)\n",
        "X_seq = tk.texts_to_sequences(stringX2)\n",
        "X_pad = pad_sequences(X_seq, maxlen=100, padding='post')\n",
        "X_pad.shape\n",
        "TrainX2 = X_pad\n",
        "Trainy2 = np.zeros(shape=(len(data2), 20))\n",
        "i = 0\n",
        "for d in data2:\n",
        "  Trainy2[i] = np.array(d[1])\n",
        "  i = i + 1"
      ],
      "execution_count": 18,
      "outputs": []
    },
    {
      "cell_type": "code",
      "metadata": {
        "id": "FjybQaQR4VUC",
        "colab": {
          "base_uri": "https://localhost:8080/"
        },
        "outputId": "920a40aa-e615-452f-d5f8-1e3ca9333940"
      },
      "source": [
        "INP_LEN1 = 100 #(Text to Vector)\n",
        "input2 = tf.keras.Input(shape=(INP_LEN1,), name='input')\n",
        "embed = tf.keras.layers.Embedding((len(tk.word_counts)+1),INP_LEN1)(input2)\n",
        "rnn1 = tf.keras.layers.SimpleRNN(192, return_sequences=True, dropout=0.3)(embed)\n",
        "pool = tf.keras.layers.MaxPool1D()(rnn1)\n",
        "rnn2 = tf.keras.layers.SimpleRNN(128, dropout=0.2)(pool)\n",
        "dense1 = tf.keras.layers.Dense(84, activation='relu')(rnn2)\n",
        "drop1 = tf.keras.layers.Dropout(0.2)(dense1)\n",
        "norm1 = tf.keras.layers.BatchNormalization()(drop1)\n",
        "output = tf.keras.layers.Dense(500, activation='linear')(norm1)\n",
        "\n",
        "model2 = tf.keras.models.Model(inputs=input2, outputs=output, name='model2')\n",
        "model2.summary()\n"
      ],
      "execution_count": 20,
      "outputs": [
        {
          "output_type": "stream",
          "text": [
            "Model: \"model2\"\n",
            "_________________________________________________________________\n",
            "Layer (type)                 Output Shape              Param #   \n",
            "=================================================================\n",
            "input (InputLayer)           [(None, 100)]             0         \n",
            "_________________________________________________________________\n",
            "embedding_1 (Embedding)      (None, 100, 100)          758600    \n",
            "_________________________________________________________________\n",
            "simple_rnn_2 (SimpleRNN)     (None, 100, 192)          56256     \n",
            "_________________________________________________________________\n",
            "max_pooling1d_1 (MaxPooling1 (None, 50, 192)           0         \n",
            "_________________________________________________________________\n",
            "simple_rnn_3 (SimpleRNN)     (None, 128)               41088     \n",
            "_________________________________________________________________\n",
            "dense_2 (Dense)              (None, 84)                10836     \n",
            "_________________________________________________________________\n",
            "dropout_1 (Dropout)          (None, 84)                0         \n",
            "_________________________________________________________________\n",
            "batch_normalization_5 (Batch (None, 84)                336       \n",
            "_________________________________________________________________\n",
            "dense_3 (Dense)              (None, 500)               42500     \n",
            "=================================================================\n",
            "Total params: 909,616\n",
            "Trainable params: 909,448\n",
            "Non-trainable params: 168\n",
            "_________________________________________________________________\n"
          ],
          "name": "stdout"
        }
      ]
    },
    {
      "cell_type": "markdown",
      "metadata": {
        "id": "jytYPhuj47A-"
      },
      "source": [
        "**Concatenating the Image Model(Model1) and Text Model(Model2)**"
      ]
    },
    {
      "cell_type": "code",
      "metadata": {
        "id": "rTmoWQ-f46cb",
        "colab": {
          "base_uri": "https://localhost:8080/",
          "height": 1000
        },
        "outputId": "ff284a98-5904-48d3-ac9c-46556ae4a1ee"
      },
      "source": [
        "concate = tf.keras.layers.Concatenate(axis=-1)([model1.output, model2.output])\n",
        "final_dense = tf.keras.layers.Dense(256, activation='relu')(concate)\n",
        "Output = tf.keras.layers.Dense(20, activation='sigmoid')(final_dense)\n",
        "finalModel  = tf.keras.models.Model(inputs=[input1,input2],outputs=Output)\n",
        "\n",
        "finalModel.summary()\n",
        "tf.keras.utils.plot_model(finalModel,to_file=\"finalModel.png\")"
      ],
      "execution_count": 53,
      "outputs": [
        {
          "output_type": "stream",
          "text": [
            "Model: \"model_2\"\n",
            "__________________________________________________________________________________________________\n",
            "Layer (type)                    Output Shape         Param #     Connected to                     \n",
            "==================================================================================================\n",
            "input1 (InputLayer)             [(None, 224, 224, 3) 0                                            \n",
            "__________________________________________________________________________________________________\n",
            "vgg16 (Functional)              (None, None, None, 5 14714688    input1[0][0]                     \n",
            "__________________________________________________________________________________________________\n",
            "flatten (Flatten)               (None, 25088)        0           vgg16[0][0]                      \n",
            "__________________________________________________________________________________________________\n",
            "input (InputLayer)              [(None, 100)]        0                                            \n",
            "__________________________________________________________________________________________________\n",
            "norm1 (BatchNormalization)      (None, 25088)        100352      flatten[0][0]                    \n",
            "__________________________________________________________________________________________________\n",
            "embedding_1 (Embedding)         (None, 100, 100)     758600      input[0][0]                      \n",
            "__________________________________________________________________________________________________\n",
            "dense1 (Dense)                  (None, 192)          4817088     norm1[0][0]                      \n",
            "__________________________________________________________________________________________________\n",
            "simple_rnn_2 (SimpleRNN)        (None, 100, 192)     56256       embedding_1[0][0]                \n",
            "__________________________________________________________________________________________________\n",
            "norm2 (BatchNormalization)      (None, 192)          768         dense1[0][0]                     \n",
            "__________________________________________________________________________________________________\n",
            "max_pooling1d_1 (MaxPooling1D)  (None, 50, 192)      0           simple_rnn_2[0][0]               \n",
            "__________________________________________________________________________________________________\n",
            "dense2 (Dense)                  (None, 84)           16212       norm2[0][0]                      \n",
            "__________________________________________________________________________________________________\n",
            "simple_rnn_3 (SimpleRNN)        (None, 128)          41088       max_pooling1d_1[0][0]            \n",
            "__________________________________________________________________________________________________\n",
            "norm3 (BatchNormalization)      (None, 84)           336         dense2[0][0]                     \n",
            "__________________________________________________________________________________________________\n",
            "dense_2 (Dense)                 (None, 84)           10836       simple_rnn_3[0][0]               \n",
            "__________________________________________________________________________________________________\n",
            "dense3 (Dense)                  (None, 64)           5440        norm3[0][0]                      \n",
            "__________________________________________________________________________________________________\n",
            "dropout_1 (Dropout)             (None, 84)           0           dense_2[0][0]                    \n",
            "__________________________________________________________________________________________________\n",
            "norm4 (BatchNormalization)      (None, 64)           256         dense3[0][0]                     \n",
            "__________________________________________________________________________________________________\n",
            "batch_normalization_5 (BatchNor (None, 84)           336         dropout_1[0][0]                  \n",
            "__________________________________________________________________________________________________\n",
            "output (Dense)                  (None, 500)          32500       norm4[0][0]                      \n",
            "__________________________________________________________________________________________________\n",
            "dense_3 (Dense)                 (None, 500)          42500       batch_normalization_5[0][0]      \n",
            "__________________________________________________________________________________________________\n",
            "concatenate_2 (Concatenate)     (None, 1000)         0           output[0][0]                     \n",
            "                                                                 dense_3[0][0]                    \n",
            "__________________________________________________________________________________________________\n",
            "dense_8 (Dense)                 (None, 256)          256256      concatenate_2[0][0]              \n",
            "__________________________________________________________________________________________________\n",
            "dense_9 (Dense)                 (None, 20)           5140        dense_8[0][0]                    \n",
            "==================================================================================================\n",
            "Total params: 20,858,652\n",
            "Trainable params: 6,092,940\n",
            "Non-trainable params: 14,765,712\n",
            "__________________________________________________________________________________________________\n"
          ],
          "name": "stdout"
        },
        {
          "output_type": "execute_result",
          "data": {
            "image/png": "[encoded data removed]",
            "text/plain": [
              "<IPython.core.display.Image object>"
            ]
          },
          "metadata": {
            "tags": []
          },
          "execution_count": 53
        }
      ]
    },
    {
      "cell_type": "markdown",
      "metadata": {
        "id": "rKZWDakNowru"
      },
      "source": [
        "**Train the MultiModal**"
      ]
    },
    {
      "cell_type": "code",
      "metadata": {
        "id": "AFF7k0Mio0rC"
      },
      "source": [
        "finalModel.compile(optimizer=tf.keras.optimizers.Adam(lr = 0.0001), loss='binary_crossentropy', metrics=['accuracy'])"
      ],
      "execution_count": 54,
      "outputs": []
    },
    {
      "cell_type": "code",
      "metadata": {
        "id": "dnb2Und-pL2u",
        "outputId": "807cd4a0-9c1d-4ec5-f7c8-f1c3cecdf0d8",
        "colab": {
          "base_uri": "https://localhost:8080/"
        }
      },
      "source": [
        "finalModel.fit([TrainX1, TrainX2], TrainY, validation_split=0.2, shuffle=True, epochs=10)"
      ],
      "execution_count": 55,
      "outputs": [
        {
          "output_type": "stream",
          "text": [
            "Epoch 1/10\n",
            "25/25 [==============================] - 9s 255ms/step - loss: 3.7337 - accuracy: 0.0494 - val_loss: 0.4921 - val_accuracy: 0.4650\n",
            "Epoch 2/10\n",
            "25/25 [==============================] - 6s 227ms/step - loss: 0.5018 - accuracy: 0.3157 - val_loss: 0.3525 - val_accuracy: 0.1950\n",
            "Epoch 3/10\n",
            "25/25 [==============================] - 6s 230ms/step - loss: 0.3091 - accuracy: 0.2838 - val_loss: 0.2585 - val_accuracy: 0.3850\n",
            "Epoch 4/10\n",
            "25/25 [==============================] - 6s 232ms/step - loss: 0.2561 - accuracy: 0.3330 - val_loss: 0.2384 - val_accuracy: 0.3150\n",
            "Epoch 5/10\n",
            "25/25 [==============================] - 6s 230ms/step - loss: 0.2460 - accuracy: 0.3100 - val_loss: 0.2351 - val_accuracy: 0.3700\n",
            "Epoch 6/10\n",
            "25/25 [==============================] - 6s 230ms/step - loss: 0.2350 - accuracy: 0.3161 - val_loss: 0.2325 - val_accuracy: 0.3450\n",
            "Epoch 7/10\n",
            "25/25 [==============================] - 6s 232ms/step - loss: 0.2237 - accuracy: 0.3405 - val_loss: 0.2322 - val_accuracy: 0.4600\n",
            "Epoch 8/10\n",
            "25/25 [==============================] - 6s 232ms/step - loss: 0.2408 - accuracy: 0.3823 - val_loss: 0.2760 - val_accuracy: 0.3050\n",
            "Epoch 9/10\n",
            "25/25 [==============================] - 6s 230ms/step - loss: 0.2771 - accuracy: 0.2774 - val_loss: 0.2343 - val_accuracy: 0.4400\n",
            "Epoch 10/10\n",
            "25/25 [==============================] - 6s 232ms/step - loss: 0.2282 - accuracy: 0.3071 - val_loss: 0.2496 - val_accuracy: 0.2850\n"
          ],
          "name": "stdout"
        },
        {
          "output_type": "execute_result",
          "data": {
            "text/plain": [
              "<tensorflow.python.keras.callbacks.History at 0x7f8f75b97d10>"
            ]
          },
          "metadata": {
            "tags": []
          },
          "execution_count": 55
        }
      ]
    },
    {
      "cell_type": "markdown",
      "metadata": {
        "id": "FMhTz2fbtFn7"
      },
      "source": [
        "**Predictions**"
      ]
    },
    {
      "cell_type": "code",
      "metadata": {
        "id": "CCE-mr_zuvlB",
        "outputId": "c0a48d10-b2db-4aab-8b5b-59cb382b281a",
        "colab": {
          "base_uri": "https://localhost:8080/"
        }
      },
      "source": [
        "i = np.random.randint(0,len(TrainX1))\n",
        "sampleX1 = np.expand_dims(TrainX1[i], axis=0)\n",
        "sampleX2 = np.expand_dims(TrainX2[i], axis=0)\n",
        "\n",
        "pred_y = finalModel.predict([sampleX1, sampleX2])\n",
        "true_y = TrainY[i]\n",
        "y = (pred_y > 0.15).astype(int)\n",
        "print(pred_y)\n",
        "print(y)\n",
        "print(true_y)"
      ],
      "execution_count": 72,
      "outputs": [
        {
          "output_type": "stream",
          "text": [
            "[[3.37972611e-01 1.11532453e-02 1.80101022e-01 1.46467984e-01\n",
            "  7.31153414e-02 7.32035187e-05 4.12042104e-02 1.20361047e-02\n",
            "  1.82980546e-08 2.33566761e-02 1.05954818e-01 4.77134958e-02\n",
            "  1.04826577e-04 1.68883950e-02 1.34494998e-10 1.06132992e-01\n",
            "  1.82005488e-09 1.08943425e-01 1.13411117e-02 3.36855575e-02]]\n",
            "[[1 0 1 0 0 0 0 0 0 0 0 0 0 0 0 0 0 0 0 0]]\n",
            "[0. 0. 0. 0. 1. 0. 0. 0. 0. 0. 0. 0. 0. 0. 0. 0. 0. 0. 0. 0.]\n"
          ],
          "name": "stdout"
        }
      ]
    },
    {
      "cell_type": "code",
      "metadata": {
        "id": "ep1eA_5vxsjY"
      },
      "source": [
        "# # config cell\n",
        "# LR = 0.0009\n",
        "# EPOCHS = 20\n",
        "# BATCH_SIZE = 16\n",
        "# DECAY = LR // EPOCHS\n",
        "# LOSS = tf.keras.losses.BinaryCrossentropy()\n",
        "# OPTIMIZER = tf.keras.optimizers.Adam(learning_rate=LR, decay=DECAY)\n",
        "# METRICS = ['acc']"
      ],
      "execution_count": null,
      "outputs": []
    },
    {
      "cell_type": "code",
      "metadata": {
        "id": "bI8gejGgxrFJ"
      },
      "source": [
        "# model compiling\n",
        "# model1.compile(loss=LOSS, optimizer=OPTIMIZER, metrics=METRICS)"
      ],
      "execution_count": null,
      "outputs": []
    },
    {
      "cell_type": "code",
      "metadata": {
        "id": "jlq_dTYWyVje",
        "colab": {
          "base_uri": "https://localhost:8080/"
        },
        "outputId": "ae13084d-5985-4f20-c770-1237733d3878"
      },
      "source": [
        "# training\n",
        "# history = model1.fit(datagen.flow(TrainX, TrainY, batch_size=BATCH_SIZE), validation_data=datagen.flow(ValX, ValY, batch_size=BATCH_SIZE), epochs=EPOCHS)"
      ],
      "execution_count": null,
      "outputs": [
        {
          "output_type": "stream",
          "text": [
            "Epoch 1/20\n",
            "44/44 [==============================] - 12s 255ms/step - loss: 0.1644 - acc: 0.3155 - val_loss: 0.2295 - val_acc: 0.0967\n",
            "Epoch 2/20\n",
            "44/44 [==============================] - 11s 243ms/step - loss: 0.1580 - acc: 0.3200 - val_loss: 0.2061 - val_acc: 0.3333\n",
            "Epoch 3/20\n",
            "44/44 [==============================] - 11s 248ms/step - loss: 0.1513 - acc: 0.3470 - val_loss: 0.2030 - val_acc: 0.1600\n",
            "Epoch 4/20\n",
            "44/44 [==============================] - 11s 247ms/step - loss: 0.1506 - acc: 0.3657 - val_loss: 0.2180 - val_acc: 0.1867\n",
            "Epoch 5/20\n",
            "44/44 [==============================] - 11s 241ms/step - loss: 0.1456 - acc: 0.3548 - val_loss: 0.1985 - val_acc: 0.1900\n",
            "Epoch 6/20\n",
            "44/44 [==============================] - 11s 242ms/step - loss: 0.1427 - acc: 0.3658 - val_loss: 0.1987 - val_acc: 0.2367\n",
            "Epoch 7/20\n",
            "44/44 [==============================] - 11s 243ms/step - loss: 0.1504 - acc: 0.3499 - val_loss: 0.2022 - val_acc: 0.2267\n",
            "Epoch 8/20\n",
            "44/44 [==============================] - 11s 242ms/step - loss: 0.1462 - acc: 0.3481 - val_loss: 0.1966 - val_acc: 0.1767\n",
            "Epoch 9/20\n",
            "44/44 [==============================] - 11s 241ms/step - loss: 0.1369 - acc: 0.4053 - val_loss: 0.2005 - val_acc: 0.2167\n",
            "Epoch 10/20\n",
            "44/44 [==============================] - 11s 244ms/step - loss: 0.1379 - acc: 0.4022 - val_loss: 0.2113 - val_acc: 0.1800\n",
            "Epoch 11/20\n",
            "44/44 [==============================] - 11s 241ms/step - loss: 0.1387 - acc: 0.3914 - val_loss: 0.2294 - val_acc: 0.1433\n",
            "Epoch 12/20\n",
            "44/44 [==============================] - 11s 242ms/step - loss: 0.1391 - acc: 0.4160 - val_loss: 0.1998 - val_acc: 0.2267\n",
            "Epoch 13/20\n",
            "44/44 [==============================] - 11s 242ms/step - loss: 0.1275 - acc: 0.4135 - val_loss: 0.2096 - val_acc: 0.1800\n",
            "Epoch 14/20\n",
            "44/44 [==============================] - 11s 242ms/step - loss: 0.1300 - acc: 0.4019 - val_loss: 0.1987 - val_acc: 0.2233\n",
            "Epoch 15/20\n",
            "44/44 [==============================] - 11s 242ms/step - loss: 0.1354 - acc: 0.4011 - val_loss: 0.2211 - val_acc: 0.1967\n",
            "Epoch 16/20\n",
            "44/44 [==============================] - 11s 242ms/step - loss: 0.1389 - acc: 0.3356 - val_loss: 0.2001 - val_acc: 0.2033\n",
            "Epoch 17/20\n",
            "44/44 [==============================] - 11s 242ms/step - loss: 0.1269 - acc: 0.3881 - val_loss: 0.2484 - val_acc: 0.0867\n",
            "Epoch 18/20\n",
            "44/44 [==============================] - 11s 242ms/step - loss: 0.1340 - acc: 0.3959 - val_loss: 0.2425 - val_acc: 0.1400\n",
            "Epoch 19/20\n",
            "44/44 [==============================] - 11s 242ms/step - loss: 0.1352 - acc: 0.3962 - val_loss: 0.2277 - val_acc: 0.2433\n",
            "Epoch 20/20\n",
            "44/44 [==============================] - 11s 244ms/step - loss: 0.1333 - acc: 0.3444 - val_loss: 0.2137 - val_acc: 0.1567\n"
          ],
          "name": "stdout"
        }
      ]
    },
    {
      "cell_type": "code",
      "metadata": {
        "id": "hz2B9SHzyXvo",
        "colab": {
          "base_uri": "https://localhost:8080/",
          "height": 573
        },
        "outputId": "a2629cb9-da78-4226-b68b-7e469cc9ba15"
      },
      "source": [
        "# plotting curves\n",
        "'''\n",
        "loss -> train, val\n",
        "accuracy -> train, val\n",
        "'''\n",
        "plt.plot(list(history.history.values())[0])\n",
        "plt.plot(list(history.history.values())[2])\n",
        "plt.title('Loss Plot')\n",
        "plt.xlabel('epochs')\n",
        "plt.ylabel('loss')\n",
        "plt.legend(['train loss', 'val loss'])\n",
        "plt.show()\n",
        "\n",
        "plt.plot(list(history.history.values())[1])\n",
        "plt.plot(list(history.history.values())[3])\n",
        "plt.title('Accuracy Plot')\n",
        "plt.xlabel('epochs')\n",
        "plt.ylabel('accuracy')\n",
        "plt.legend(['train accuracy', 'val accuracy'])\n",
        "plt.show()"
      ],
      "execution_count": null,
      "outputs": [
        {
          "output_type": "display_data",
          "data": {
            "image/png": "[encoded data removed]",
            "text/plain": [
              "<Figure size 432x288 with 1 Axes>"
            ]
          },
          "metadata": {
            "tags": [],
            "needs_background": "light"
          }
        },
        {
          "output_type": "display_data",
          "data": {
            "image/png": "[encoded data removed]",
            "text/plain": [
              "<Figure size 432x288 with 1 Axes>"
            ]
          },
          "metadata": {
            "tags": [],
            "needs_background": "light"
          }
        }
      ]
    },
    {
      "cell_type": "code",
      "metadata": {
        "id": "zW91044Xydyo",
        "colab": {
          "base_uri": "https://localhost:8080/"
        },
        "outputId": "72dc4fe0-dcf0-44eb-bffd-a25704927ad9"
      },
      "source": [
        "# random predictions on val dataset\n",
        "\n",
        "rnd = np.random.randint(0, len(ValX))\n",
        "point = ValX[rnd]\n",
        "label = ValY[rnd]\n",
        "pred = model.predict(np.asarray([point]))\n",
        "pred = (pred > 0.5)\n",
        "pred = pred.astype(int)\n",
        "print(\"True Label:\", label)\n",
        "print(\"Predicted Label:\", pred)"
      ],
      "execution_count": null,
      "outputs": [
        {
          "output_type": "stream",
          "text": [
            "True Label: [0. 0. 0. 0. 0. 0. 0. 0. 0. 0. 0. 0. 0. 0. 0. 0. 0. 0. 1. 0.]\n",
            "Predicted Label: [[0 1 0 0 0 0 0 0 0 0 0 0 0 0 0 0 0 0 0 0]]\n"
          ],
          "name": "stdout"
        }
      ]
    },
    {
      "cell_type": "code",
      "metadata": {
        "id": "tb9KBM2WNlzu"
      },
      "source": [
        ""
      ],
      "execution_count": null,
      "outputs": []
    }
  ]
}