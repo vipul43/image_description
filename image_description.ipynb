{
  "nbformat": 4,
  "nbformat_minor": 0,
  "metadata": {
    "colab": {
      "name": "image_description.ipynb",
      "provenance": [],
      "collapsed_sections": [],
      "include_colab_link": true
    },
    "kernelspec": {
      "name": "python3",
      "display_name": "Python 3"
    },
    "language_info": {
      "name": "python"
    },
    "accelerator": "GPU"
  },
  "cells": [
    {
      "cell_type": "markdown",
      "metadata": {
        "id": "view-in-github",
        "colab_type": "text"
      },
      "source": [
        "<a href=\"https://colab.research.google.com/github/vipul43/image_description/blob/main/image_description.ipynb\" target=\"_parent\"><img src=\"https://colab.research.google.com/assets/colab-badge.svg\" alt=\"Open In Colab\"/></a>"
      ]
    },
    {
      "cell_type": "code",
      "metadata": {
        "id": "FLUiA1SkmOzO"
      },
      "source": [
        "# installs"
      ],
      "execution_count": null,
      "outputs": []
    },
    {
      "cell_type": "code",
      "metadata": {
        "id": "ydR0jWJ3aie6"
      },
      "source": [
        "# imports\n",
        "import scipy.io\n",
        "import cv2\n",
        "from google.colab.patches import cv2_imshow\n",
        "from skimage import io\n",
        "import numpy as np\n",
        "import pandas as pd\n",
        "from PIL import Image \n",
        "import matplotlib.pylab as plt\n",
        "import pickle\n",
        "from skimage import transform\n",
        "from sklearn.model_selection import train_test_split\n",
        "import tensorflow as tf\n",
        "from nltk.tokenize import word_tokenize\n",
        "from nltk.stem import WordNetLemmatizer, LancasterStemmer\n",
        "import spacy\n",
        "import nltk\n",
        "import keras.backend as K\n",
        "from keras.preprocessing.text import Tokenizer\n",
        "from keras.preprocessing.sequence import pad_sequences"
      ],
      "execution_count": 1,
      "outputs": []
    },
    {
      "cell_type": "code",
      "metadata": {
        "id": "997Sjj1RmTuf",
        "colab": {
          "base_uri": "https://localhost:8080/"
        },
        "outputId": "cc300f01-6410-40bf-ebee-e77c7477b963"
      },
      "source": [
        "nltk.download('punkt') #tokenizer\n",
        "nltk.download('wordnet') #lemmatization\n",
        "\n",
        "lemmatizer = WordNetLemmatizer() #lemmatizer\n",
        "\n",
        "sp = spacy.load('en_core_web_sm') #lexical importance find\n",
        "\n",
        "ls = LancasterStemmer()"
      ],
      "execution_count": 2,
      "outputs": [
        {
          "output_type": "stream",
          "text": [
            "[nltk_data] Downloading package punkt to /root/nltk_data...\n",
            "[nltk_data]   Unzipping tokenizers/punkt.zip.\n",
            "[nltk_data] Downloading package wordnet to /root/nltk_data...\n",
            "[nltk_data]   Unzipping corpora/wordnet.zip.\n"
          ],
          "name": "stdout"
        }
      ]
    },
    {
      "cell_type": "code",
      "metadata": {
        "id": "Vcnwjcvnsm9K",
        "colab": {
          "base_uri": "https://localhost:8080/"
        },
        "outputId": "a3641fe4-86e3-4460-b65c-572a7d3dabad"
      },
      "source": [
        "# data loading\n",
        "\n",
        "!gdown --id 1mrjvJq6XNM8QAgajSgrVGpsj8Vrm3BEm #PASCAL50S\n",
        "\n",
        "mat = scipy.io.loadmat('/content/pascal50S.mat')\n",
        "print(type(mat))"
      ],
      "execution_count": 3,
      "outputs": [
        {
          "output_type": "stream",
          "text": [
            "Downloading...\n",
            "From: https://drive.google.com/uc?id=1mrjvJq6XNM8QAgajSgrVGpsj8Vrm3BEm\n",
            "To: /content/pascal50S.mat\n",
            "\r  0% 0.00/1.12M [00:00<?, ?B/s]\r100% 1.12M/1.12M [00:00<00:00, 17.6MB/s]\n",
            "<class 'dict'>\n"
          ],
          "name": "stdout"
        }
      ]
    },
    {
      "cell_type": "code",
      "metadata": {
        "id": "bU8yBAKwmSAw"
      },
      "source": [
        "classes = ['person',\n",
        "           'bird', \n",
        "           'cat', \n",
        "           'cow', \n",
        "           'dog', \n",
        "           'horse', \n",
        "           'sheep', \n",
        "           'aeroplane', \n",
        "           'bicycle', \n",
        "           'boat', \n",
        "           'bus', \n",
        "           'car', \n",
        "           'motorbike', \n",
        "           'train', \n",
        "           'bottle', \n",
        "           'chair', \n",
        "           'dining table', \n",
        "           'potted plant',\n",
        "           'sofa', \n",
        "           'tv'] #NOUNS\n",
        "\n",
        "dict_classes = {'person':0, 'man':0, 'human':0,\n",
        "           'bird':1, 'penguin':1, 'parrot':1, 'sparrow':1,\n",
        "           'cat':2, \n",
        "           'cow':3, \n",
        "           'dog':4, \n",
        "           'horse':5,\n",
        "           'sheep':6, \n",
        "           'aeroplane':7, 'airplane':7, 'flight':7, 'plane':7, 'jet':7,\n",
        "           'bicycle':8, 'cycle':8,\n",
        "           'boat':9, 'ship':9,\n",
        "           'bus':10, \n",
        "           'car':11,\n",
        "           'motorbike':12, 'bike':12, 'motorcycle':12,\n",
        "           'train':13, \n",
        "           'bottle':14, 'waterbottle':14, 'drinkbottle':14, 'flask':14,\n",
        "           'chair':15,\n",
        "           'dining':16, 'diningtable': 16,\n",
        "           'potted':17, 'plant':17, 'pottedplant': 17,\n",
        "           'sofa':18, 'couch':18,\n",
        "           'tv':19, 'monitor':19, 'television':19, 'desktop':19}"
      ],
      "execution_count": 4,
      "outputs": []
    },
    {
      "cell_type": "code",
      "metadata": {
        "id": "j54sa4jSmcU3"
      },
      "source": [
        "count = {'0':0,   #person\n",
        "           '1':0, #bird\n",
        "           '2':0, #cat\n",
        "           '3':0, #cow\n",
        "           '4':0, #dog\n",
        "           '5':0, #horse\n",
        "           '6':0, #sheep\n",
        "           '7':0, #aeroplane\n",
        "           '8':0, #bicycle\n",
        "           '9':0, #boat\n",
        "           '10':0, #bus\n",
        "           '11':0, #car\n",
        "           '12':0, #motorbike\n",
        "           '13':0, #train\n",
        "           '14':0, #bottle\n",
        "           '15':0, #chair\n",
        "           '16':0, #dining\n",
        "           '17':0, #potted plant\n",
        "           '18':0, #sofa\n",
        "           '19':0} #tv/monitor"
      ],
      "execution_count": 5,
      "outputs": []
    },
    {
      "cell_type": "code",
      "metadata": {
        "id": "QwHnF1GlcmXV"
      },
      "source": [
        "# observing data\n",
        "data = []\n",
        "idx=0\n",
        "for sample in mat[\"train_sent_final\"][0]:\n",
        "  # image = io.imread(i[0][0])\n",
        "  # cv2_imshow(image)\n",
        "  link = [sample[0][0]] #image link\n",
        "  cls = set()\n",
        "  for k in sample[1]:\n",
        "    for sent in k:\n",
        "      # if idx==10:\n",
        "      #   break\n",
        "      # idx+=1\n",
        "\n",
        "      for word in sent[0].split():\n",
        "        pre_word = lemmatizer.lemmatize(ls.stem(word.lower()))\n",
        "        if(pre_word in dict_classes.keys()):\n",
        "          cls.add(dict_classes[pre_word])\n",
        "  for cl in cls:\n",
        "    count[str(cl)]+=1\n",
        "  data.append([link, list(cls)])"
      ],
      "execution_count": 6,
      "outputs": []
    },
    {
      "cell_type": "code",
      "metadata": {
        "id": "FFP5RsS7uP5p"
      },
      "source": [
        "file = open(\"data.pkl\", \"wb\")\n",
        "pickle.dump(data, file)\n",
        "file.close()"
      ],
      "execution_count": 7,
      "outputs": []
    },
    {
      "cell_type": "code",
      "metadata": {
        "id": "IbxC-8ReuQok",
        "colab": {
          "base_uri": "https://localhost:8080/"
        },
        "outputId": "37bb2ba2-d6bb-4b3f-e953-9cb2964f123a"
      },
      "source": [
        "# preprocessing the dataset\n",
        "'''\n",
        "data -> url -> image -> array -> resized array\n",
        "TrainX = array of images resized to (224x224x3)\n",
        "TrainY = array of labels with size (20x1) in ones-zeros vector like [1, 1, 0, ....]\n",
        "'''\n",
        "# TrainX\n",
        "new_shape = (224, 224, 3)\n",
        "TrainX1 = []\n",
        "encoded_train_images = {}\n",
        "\n",
        "base_model = tf.keras.applications.Xception(include_top = False)\n",
        "for point in data:\n",
        "  photo = io.imread(point[0][0])\n",
        "  photo = transform.resize(image=photo, output_shape=new_shape)\n",
        "  TrainX1.append(photo)\n",
        "\n",
        "  batch_photo = np.expand_dims(photo, axis=0)\n",
        "  preproc_photo = tf.keras.applications.xception.preprocess_input(batch_photo)\n",
        "  vec_repre_photo = base_model.predict(preproc_photo)\n",
        "  # vec_repre_photo = np.reshape(vec_repre_photo, vec_repre_photo.shape[1])\n",
        "  encoded_train_images[point[0][0]] = vec_repre_photo\n",
        "\n",
        "TrainX1 = np.array(TrainX1)"
      ],
      "execution_count": 8,
      "outputs": [
        {
          "output_type": "stream",
          "text": [
            "Downloading data from https://storage.googleapis.com/tensorflow/keras-applications/xception/xception_weights_tf_dim_ordering_tf_kernels_notop.h5\n",
            "83689472/83683744 [==============================] - 1s 0us/step\n"
          ],
          "name": "stdout"
        }
      ]
    },
    {
      "cell_type": "code",
      "metadata": {
        "id": "l7yUK4tZqhe5"
      },
      "source": [
        "# TrainY\n",
        "TrainY = []\n",
        "for points in data:\n",
        "  full_label = np.zeros(shape=(20, ))\n",
        "  for label in points[1]:\n",
        "    full_label[label] = 1\n",
        "  TrainY.append(full_label)\n",
        "TrainY = np.array(TrainY)"
      ],
      "execution_count": 9,
      "outputs": []
    },
    {
      "cell_type": "code",
      "metadata": {
        "id": "jCcZucFLopCy"
      },
      "source": [
        "with open(\"encoded_train_images.pkl\", \"wb\") as encoded_pickle:\n",
        "    pickle.dump(encoded_train_images, encoded_pickle)"
      ],
      "execution_count": 10,
      "outputs": []
    },
    {
      "cell_type": "markdown",
      "metadata": {
        "id": "gvYWgAO1qxLt"
      },
      "source": [
        "**Extracting the data from pkl file**"
      ]
    },
    {
      "cell_type": "code",
      "metadata": {
        "id": "MdQfjDJCq0x3"
      },
      "source": [
        "# with open('encoded_train_images.pkl', 'rb') as f:\n",
        "#     data = pickle.load(f)"
      ],
      "execution_count": 11,
      "outputs": []
    },
    {
      "cell_type": "code",
      "metadata": {
        "id": "EOjhfXf0zUpX"
      },
      "source": [
        "# # data splitting\n",
        "# '''\n",
        "# train size: 700 images\n",
        "# val size: 300 images\n",
        "# output: TrainX, TrainY, ValX, ValY\n",
        "# '''\n",
        "# TrainX, ValX, TrainY, ValY = train_test_split(TrainX, TrainY, test_size=0.3, random_state=1)\n",
        "# print(\"Train X shape: \", TrainX.shape)\n",
        "# print(\"Train Y shape: \", TrainY.shape)\n",
        "# print(\"Val X shape: \", ValX.shape)\n",
        "# print(\"Val Y shape: \", ValY.shape)"
      ],
      "execution_count": 12,
      "outputs": []
    },
    {
      "cell_type": "code",
      "metadata": {
        "id": "BAUz0Qt8wpw4"
      },
      "source": [
        "# instantiate data augmentation\n",
        "'''\n",
        "use this 'tf.keras.preprocessing.ImageDataGenerator'\n",
        "'''\n",
        "datagen = tf.keras.preprocessing.image.ImageDataGenerator(rescale=1./255,\n",
        "                                                          shear_range=0.2, \n",
        "                                                          zoom_range=0.2,\n",
        "                                                          rotation_range=15,\n",
        "                                                          horizontal_flip=True)"
      ],
      "execution_count": 13,
      "outputs": []
    },
    {
      "cell_type": "code",
      "metadata": {
        "id": "0eKu5sh1wZA-",
        "colab": {
          "base_uri": "https://localhost:8080/"
        },
        "outputId": "12b7062f-58ef-4d06-c47e-4fd40188ba2d"
      },
      "source": [
        "# model making(Image to Vector)\n",
        "# input layer\n",
        "input1 = tf.keras.Input(shape=(224, 224, 3), name='input1')\n",
        "\n",
        "# Transfer Learning with VGG16 model with weights as imagenet\n",
        "vgg16 = tf.keras.applications.VGG16(include_top=False, weights=\"imagenet\", classes=20)\n",
        "vgg16.trainable = False\n",
        "x = vgg16(input1)\n",
        "\n",
        "# Dense Layers\n",
        "x = tf.keras.layers.Flatten(name='flatten')(x)\n",
        "x = tf.keras.layers.BatchNormalization(name='norm1')(x)\n",
        "x = tf.keras.layers.Dense(192, activation='relu', name='dense1')(x)\n",
        "x = tf.keras.layers.BatchNormalization(name='norm2')(x)\n",
        "x = tf.keras.layers.Dense(84, activation='relu', name='dense2')(x)\n",
        "x = tf.keras.layers.BatchNormalization(name='norm3')(x)\n",
        "x = tf.keras.layers.Dense(64, activation='relu', name='dense3')(x)\n",
        "x = tf.keras.layers.BatchNormalization(name='norm4')(x)\n",
        "\n",
        "#Output layer\n",
        "output = tf.keras.layers.Dense(500, activation=\"linear\", name='output')(x)\n",
        "\n",
        "model1 = tf.keras.models.Model(inputs=input1, outputs=output, name='model1')\n",
        "\n",
        "model1.summary()"
      ],
      "execution_count": 14,
      "outputs": [
        {
          "output_type": "stream",
          "text": [
            "Downloading data from https://storage.googleapis.com/tensorflow/keras-applications/vgg16/vgg16_weights_tf_dim_ordering_tf_kernels_notop.h5\n",
            "58892288/58889256 [==============================] - 1s 0us/step\n",
            "Model: \"model1\"\n",
            "_________________________________________________________________\n",
            "Layer (type)                 Output Shape              Param #   \n",
            "=================================================================\n",
            "input1 (InputLayer)          [(None, 224, 224, 3)]     0         \n",
            "_________________________________________________________________\n",
            "vgg16 (Functional)           (None, None, None, 512)   14714688  \n",
            "_________________________________________________________________\n",
            "flatten (Flatten)            (None, 25088)             0         \n",
            "_________________________________________________________________\n",
            "norm1 (BatchNormalization)   (None, 25088)             100352    \n",
            "_________________________________________________________________\n",
            "dense1 (Dense)               (None, 192)               4817088   \n",
            "_________________________________________________________________\n",
            "norm2 (BatchNormalization)   (None, 192)               768       \n",
            "_________________________________________________________________\n",
            "dense2 (Dense)               (None, 84)                16212     \n",
            "_________________________________________________________________\n",
            "norm3 (BatchNormalization)   (None, 84)                336       \n",
            "_________________________________________________________________\n",
            "dense3 (Dense)               (None, 64)                5440      \n",
            "_________________________________________________________________\n",
            "norm4 (BatchNormalization)   (None, 64)                256       \n",
            "_________________________________________________________________\n",
            "output (Dense)               (None, 500)               32500     \n",
            "=================================================================\n",
            "Total params: 19,687,640\n",
            "Trainable params: 4,922,096\n",
            "Non-trainable params: 14,765,544\n",
            "_________________________________________________________________\n"
          ],
          "name": "stdout"
        }
      ]
    },
    {
      "cell_type": "markdown",
      "metadata": {
        "id": "8SaMjBbkvEMl"
      },
      "source": [
        "**Text Model(Model2)**"
      ]
    },
    {
      "cell_type": "markdown",
      "metadata": {
        "id": "3Q2kUnc9vtq4"
      },
      "source": [
        "#**Data Preprocessing**"
      ]
    },
    {
      "cell_type": "code",
      "metadata": {
        "id": "yNvIanCDvKKM"
      },
      "source": [
        "# observing data for text Model\n",
        "data2 = []\n",
        "stringX2 = []\n",
        "idx=0\n",
        "for sample in mat[\"train_sent_final\"][0]:\n",
        "  # image = io.imread(i[0][0])\n",
        "  # cv2_imshow(image)\n",
        "  link = [sample[0][0]] #image link\n",
        "  cls = set()\n",
        "  for k in sample[1]:\n",
        "    for sent in k:\n",
        "      # if idx==10:\n",
        "      #   break\n",
        "      # idx+=1\n",
        "\n",
        "      for word in sent[0].split():\n",
        "        pre_word = lemmatizer.lemmatize(ls.stem(word.lower()))\n",
        "        if(pre_word in dict_classes.keys()):\n",
        "          cls.add(dict_classes[pre_word])\n",
        "  for cl in cls:\n",
        "    count[str(cl)]+=1\n",
        "\n",
        "  for k in sample[1]:\n",
        "    for sent in k:\n",
        "      stringX2.append(sent[0])\n",
        "      temp = np.zeros(shape=20)\n",
        "      for ele in list(cls):\n",
        "        temp[ele] = 1\n",
        "      data2.append([sent, temp])"
      ],
      "execution_count": 15,
      "outputs": []
    },
    {
      "cell_type": "code",
      "metadata": {
        "id": "LalUNSGuv24G"
      },
      "source": [
        "#Preparation of TrainX2 and Trainy2 for Text Model(Model2)\n",
        "tk = Tokenizer(filters='!\"#$%&()*+,-./:;<=>?@[\\]^`{|}~\\t\\n')\n",
        "tk.fit_on_texts(stringX2)\n",
        "X_seq = tk.texts_to_sequences(stringX2)\n",
        "X_pad = pad_sequences(X_seq, maxlen=100, padding='post')\n",
        "X_pad.shape\n",
        "TrainX2 = X_pad\n",
        "Trainy2 = np.zeros(shape=(len(data2), 20))\n",
        "i = 0\n",
        "for d in data2:\n",
        "  Trainy2[i] = np.array(d[1])\n",
        "  i = i + 1"
      ],
      "execution_count": 16,
      "outputs": []
    },
    {
      "cell_type": "code",
      "metadata": {
        "id": "FjybQaQR4VUC",
        "colab": {
          "base_uri": "https://localhost:8080/"
        },
        "outputId": "3de36284-c848-4071-cf77-52ec96139e3b"
      },
      "source": [
        "INP_LEN1 = 100 #(Text to Vector)\n",
        "input2 = tf.keras.Input(shape=(INP_LEN1,), name='input')\n",
        "embed = tf.keras.layers.Embedding((len(tk.word_counts)+1),INP_LEN1)(input2)\n",
        "rnn1 = tf.keras.layers.SimpleRNN(192, return_sequences=True, dropout=0.3)(embed)\n",
        "pool = tf.keras.layers.MaxPool1D()(rnn1)\n",
        "rnn2 = tf.keras.layers.SimpleRNN(128, dropout=0.2)(pool)\n",
        "dense1 = tf.keras.layers.Dense(84, activation='relu')(rnn2)\n",
        "drop1 = tf.keras.layers.Dropout(0.2)(dense1)\n",
        "norm1 = tf.keras.layers.BatchNormalization()(drop1)\n",
        "output = tf.keras.layers.Dense(500, activation='linear')(norm1)\n",
        "\n",
        "model2 = tf.keras.models.Model(inputs=input2, outputs=output, name='model2')\n",
        "model2.summary()\n"
      ],
      "execution_count": 17,
      "outputs": [
        {
          "output_type": "stream",
          "text": [
            "Model: \"model2\"\n",
            "_________________________________________________________________\n",
            "Layer (type)                 Output Shape              Param #   \n",
            "=================================================================\n",
            "input (InputLayer)           [(None, 100)]             0         \n",
            "_________________________________________________________________\n",
            "embedding (Embedding)        (None, 100, 100)          758600    \n",
            "_________________________________________________________________\n",
            "simple_rnn (SimpleRNN)       (None, 100, 192)          56256     \n",
            "_________________________________________________________________\n",
            "max_pooling1d (MaxPooling1D) (None, 50, 192)           0         \n",
            "_________________________________________________________________\n",
            "simple_rnn_1 (SimpleRNN)     (None, 128)               41088     \n",
            "_________________________________________________________________\n",
            "dense (Dense)                (None, 84)                10836     \n",
            "_________________________________________________________________\n",
            "dropout (Dropout)            (None, 84)                0         \n",
            "_________________________________________________________________\n",
            "batch_normalization_4 (Batch (None, 84)                336       \n",
            "_________________________________________________________________\n",
            "dense_1 (Dense)              (None, 500)               42500     \n",
            "=================================================================\n",
            "Total params: 909,616\n",
            "Trainable params: 909,448\n",
            "Non-trainable params: 168\n",
            "_________________________________________________________________\n"
          ],
          "name": "stdout"
        }
      ]
    },
    {
      "cell_type": "markdown",
      "metadata": {
        "id": "jytYPhuj47A-"
      },
      "source": [
        "**Concatenating the Image Model(Model1) and Text Model(Model2)**"
      ]
    },
    {
      "cell_type": "code",
      "metadata": {
        "id": "rTmoWQ-f46cb",
        "colab": {
          "base_uri": "https://localhost:8080/",
          "height": 1000
        },
        "outputId": "c2e739de-81de-4df0-ea42-5450cd263a91"
      },
      "source": [
        "concate = tf.keras.layers.Concatenate(axis=-1)([model1.output, model2.output])\n",
        "final_dense = tf.keras.layers.Dense(256, activation='relu')(concate)\n",
        "Output = tf.keras.layers.Dense(len(tk.word_counts)+1, activation='sigmoid')(final_dense)\n",
        "finalModel  = tf.keras.models.Model(inputs=[input1,input2],outputs=Output)\n",
        "\n",
        "finalModel.summary()\n",
        "tf.keras.utils.plot_model(finalModel,to_file=\"finalModel.png\")"
      ],
      "execution_count": 18,
      "outputs": [
        {
          "output_type": "stream",
          "text": [
            "Model: \"model\"\n",
            "__________________________________________________________________________________________________\n",
            "Layer (type)                    Output Shape         Param #     Connected to                     \n",
            "==================================================================================================\n",
            "input1 (InputLayer)             [(None, 224, 224, 3) 0                                            \n",
            "__________________________________________________________________________________________________\n",
            "vgg16 (Functional)              (None, None, None, 5 14714688    input1[0][0]                     \n",
            "__________________________________________________________________________________________________\n",
            "flatten (Flatten)               (None, 25088)        0           vgg16[0][0]                      \n",
            "__________________________________________________________________________________________________\n",
            "input (InputLayer)              [(None, 100)]        0                                            \n",
            "__________________________________________________________________________________________________\n",
            "norm1 (BatchNormalization)      (None, 25088)        100352      flatten[0][0]                    \n",
            "__________________________________________________________________________________________________\n",
            "embedding (Embedding)           (None, 100, 100)     758600      input[0][0]                      \n",
            "__________________________________________________________________________________________________\n",
            "dense1 (Dense)                  (None, 192)          4817088     norm1[0][0]                      \n",
            "__________________________________________________________________________________________________\n",
            "simple_rnn (SimpleRNN)          (None, 100, 192)     56256       embedding[0][0]                  \n",
            "__________________________________________________________________________________________________\n",
            "norm2 (BatchNormalization)      (None, 192)          768         dense1[0][0]                     \n",
            "__________________________________________________________________________________________________\n",
            "max_pooling1d (MaxPooling1D)    (None, 50, 192)      0           simple_rnn[0][0]                 \n",
            "__________________________________________________________________________________________________\n",
            "dense2 (Dense)                  (None, 84)           16212       norm2[0][0]                      \n",
            "__________________________________________________________________________________________________\n",
            "simple_rnn_1 (SimpleRNN)        (None, 128)          41088       max_pooling1d[0][0]              \n",
            "__________________________________________________________________________________________________\n",
            "norm3 (BatchNormalization)      (None, 84)           336         dense2[0][0]                     \n",
            "__________________________________________________________________________________________________\n",
            "dense (Dense)                   (None, 84)           10836       simple_rnn_1[0][0]               \n",
            "__________________________________________________________________________________________________\n",
            "dense3 (Dense)                  (None, 64)           5440        norm3[0][0]                      \n",
            "__________________________________________________________________________________________________\n",
            "dropout (Dropout)               (None, 84)           0           dense[0][0]                      \n",
            "__________________________________________________________________________________________________\n",
            "norm4 (BatchNormalization)      (None, 64)           256         dense3[0][0]                     \n",
            "__________________________________________________________________________________________________\n",
            "batch_normalization_4 (BatchNor (None, 84)           336         dropout[0][0]                    \n",
            "__________________________________________________________________________________________________\n",
            "output (Dense)                  (None, 500)          32500       norm4[0][0]                      \n",
            "__________________________________________________________________________________________________\n",
            "dense_1 (Dense)                 (None, 500)          42500       batch_normalization_4[0][0]      \n",
            "__________________________________________________________________________________________________\n",
            "concatenate (Concatenate)       (None, 1000)         0           output[0][0]                     \n",
            "                                                                 dense_1[0][0]                    \n",
            "__________________________________________________________________________________________________\n",
            "dense_2 (Dense)                 (None, 256)          256256      concatenate[0][0]                \n",
            "__________________________________________________________________________________________________\n",
            "dense_3 (Dense)                 (None, 7586)         1949602     dense_2[0][0]                    \n",
            "==================================================================================================\n",
            "Total params: 22,803,114\n",
            "Trainable params: 8,037,402\n",
            "Non-trainable params: 14,765,712\n",
            "__________________________________________________________________________________________________\n"
          ],
          "name": "stdout"
        },
        {
          "output_type": "execute_result",
          "data": {
            "image/png": "[encoded data removed]",
            "text/plain": [
              "<IPython.core.display.Image object>"
            ]
          },
          "metadata": {
            "tags": []
          },
          "execution_count": 18
        }
      ]
    },
    {
      "cell_type": "markdown",
      "metadata": {
        "id": "rKZWDakNowru"
      },
      "source": [
        "**Train the MultiModal**"
      ]
    },
    {
      "cell_type": "code",
      "metadata": {
        "id": "AFF7k0Mio0rC"
      },
      "source": [
        "finalModel.compile(optimizer=tf.keras.optimizers.Adam(lr = 0.0001), loss='binary_crossentropy', metrics=['accuracy'])"
      ],
      "execution_count": 19,
      "outputs": []
    },
    {
      "cell_type": "code",
      "metadata": {
        "id": "dnb2Und-pL2u",
        "colab": {
          "base_uri": "https://localhost:8080/",
          "height": 908
        },
        "outputId": "df26c5fd-cf6d-49f9-d553-15b9ea48eda3"
      },
      "source": [
        "finalModel.fit([TrainX1, TrainX2], TrainY, validation_split=0.2, shuffle=True, epochs=10)"
      ],
      "execution_count": 20,
      "outputs": [
        {
          "output_type": "stream",
          "text": [
            "Epoch 1/10\n"
          ],
          "name": "stdout"
        },
        {
          "output_type": "error",
          "ename": "ValueError",
          "evalue": "ignored",
          "traceback": [
            "\u001b[0;31m---------------------------------------------------------------------------\u001b[0m",
            "\u001b[0;31mValueError\u001b[0m                                Traceback (most recent call last)",
            "\u001b[0;32m<ipython-input-20-9d73bf58a5d0>\u001b[0m in \u001b[0;36m<module>\u001b[0;34m()\u001b[0m\n\u001b[0;32m----> 1\u001b[0;31m \u001b[0mfinalModel\u001b[0m\u001b[0;34m.\u001b[0m\u001b[0mfit\u001b[0m\u001b[0;34m(\u001b[0m\u001b[0;34m[\u001b[0m\u001b[0mTrainX1\u001b[0m\u001b[0;34m,\u001b[0m \u001b[0mTrainX2\u001b[0m\u001b[0;34m]\u001b[0m\u001b[0;34m,\u001b[0m \u001b[0mTrainY\u001b[0m\u001b[0;34m,\u001b[0m \u001b[0mvalidation_split\u001b[0m\u001b[0;34m=\u001b[0m\u001b[0;36m0.2\u001b[0m\u001b[0;34m,\u001b[0m \u001b[0mshuffle\u001b[0m\u001b[0;34m=\u001b[0m\u001b[0;32mTrue\u001b[0m\u001b[0;34m,\u001b[0m \u001b[0mepochs\u001b[0m\u001b[0;34m=\u001b[0m\u001b[0;36m10\u001b[0m\u001b[0;34m)\u001b[0m\u001b[0;34m\u001b[0m\u001b[0;34m\u001b[0m\u001b[0m\n\u001b[0m",
            "\u001b[0;32m/usr/local/lib/python3.7/dist-packages/tensorflow/python/keras/engine/training.py\u001b[0m in \u001b[0;36mfit\u001b[0;34m(self, x, y, batch_size, epochs, verbose, callbacks, validation_split, validation_data, shuffle, class_weight, sample_weight, initial_epoch, steps_per_epoch, validation_steps, validation_batch_size, validation_freq, max_queue_size, workers, use_multiprocessing)\u001b[0m\n\u001b[1;32m   1098\u001b[0m                 _r=1):\n\u001b[1;32m   1099\u001b[0m               \u001b[0mcallbacks\u001b[0m\u001b[0;34m.\u001b[0m\u001b[0mon_train_batch_begin\u001b[0m\u001b[0;34m(\u001b[0m\u001b[0mstep\u001b[0m\u001b[0;34m)\u001b[0m\u001b[0;34m\u001b[0m\u001b[0;34m\u001b[0m\u001b[0m\n\u001b[0;32m-> 1100\u001b[0;31m               \u001b[0mtmp_logs\u001b[0m \u001b[0;34m=\u001b[0m \u001b[0mself\u001b[0m\u001b[0;34m.\u001b[0m\u001b[0mtrain_function\u001b[0m\u001b[0;34m(\u001b[0m\u001b[0miterator\u001b[0m\u001b[0;34m)\u001b[0m\u001b[0;34m\u001b[0m\u001b[0;34m\u001b[0m\u001b[0m\n\u001b[0m\u001b[1;32m   1101\u001b[0m               \u001b[0;32mif\u001b[0m \u001b[0mdata_handler\u001b[0m\u001b[0;34m.\u001b[0m\u001b[0mshould_sync\u001b[0m\u001b[0;34m:\u001b[0m\u001b[0;34m\u001b[0m\u001b[0;34m\u001b[0m\u001b[0m\n\u001b[1;32m   1102\u001b[0m                 \u001b[0mcontext\u001b[0m\u001b[0;34m.\u001b[0m\u001b[0masync_wait\u001b[0m\u001b[0;34m(\u001b[0m\u001b[0;34m)\u001b[0m\u001b[0;34m\u001b[0m\u001b[0;34m\u001b[0m\u001b[0m\n",
            "\u001b[0;32m/usr/local/lib/python3.7/dist-packages/tensorflow/python/eager/def_function.py\u001b[0m in \u001b[0;36m__call__\u001b[0;34m(self, *args, **kwds)\u001b[0m\n\u001b[1;32m    826\u001b[0m     \u001b[0mtracing_count\u001b[0m \u001b[0;34m=\u001b[0m \u001b[0mself\u001b[0m\u001b[0;34m.\u001b[0m\u001b[0mexperimental_get_tracing_count\u001b[0m\u001b[0;34m(\u001b[0m\u001b[0;34m)\u001b[0m\u001b[0;34m\u001b[0m\u001b[0;34m\u001b[0m\u001b[0m\n\u001b[1;32m    827\u001b[0m     \u001b[0;32mwith\u001b[0m \u001b[0mtrace\u001b[0m\u001b[0;34m.\u001b[0m\u001b[0mTrace\u001b[0m\u001b[0;34m(\u001b[0m\u001b[0mself\u001b[0m\u001b[0;34m.\u001b[0m\u001b[0m_name\u001b[0m\u001b[0;34m)\u001b[0m \u001b[0;32mas\u001b[0m \u001b[0mtm\u001b[0m\u001b[0;34m:\u001b[0m\u001b[0;34m\u001b[0m\u001b[0;34m\u001b[0m\u001b[0m\n\u001b[0;32m--> 828\u001b[0;31m       \u001b[0mresult\u001b[0m \u001b[0;34m=\u001b[0m \u001b[0mself\u001b[0m\u001b[0;34m.\u001b[0m\u001b[0m_call\u001b[0m\u001b[0;34m(\u001b[0m\u001b[0;34m*\u001b[0m\u001b[0margs\u001b[0m\u001b[0;34m,\u001b[0m \u001b[0;34m**\u001b[0m\u001b[0mkwds\u001b[0m\u001b[0;34m)\u001b[0m\u001b[0;34m\u001b[0m\u001b[0;34m\u001b[0m\u001b[0m\n\u001b[0m\u001b[1;32m    829\u001b[0m       \u001b[0mcompiler\u001b[0m \u001b[0;34m=\u001b[0m \u001b[0;34m\"xla\"\u001b[0m \u001b[0;32mif\u001b[0m \u001b[0mself\u001b[0m\u001b[0;34m.\u001b[0m\u001b[0m_experimental_compile\u001b[0m \u001b[0;32melse\u001b[0m \u001b[0;34m\"nonXla\"\u001b[0m\u001b[0;34m\u001b[0m\u001b[0;34m\u001b[0m\u001b[0m\n\u001b[1;32m    830\u001b[0m       \u001b[0mnew_tracing_count\u001b[0m \u001b[0;34m=\u001b[0m \u001b[0mself\u001b[0m\u001b[0;34m.\u001b[0m\u001b[0mexperimental_get_tracing_count\u001b[0m\u001b[0;34m(\u001b[0m\u001b[0;34m)\u001b[0m\u001b[0;34m\u001b[0m\u001b[0;34m\u001b[0m\u001b[0m\n",
            "\u001b[0;32m/usr/local/lib/python3.7/dist-packages/tensorflow/python/eager/def_function.py\u001b[0m in \u001b[0;36m_call\u001b[0;34m(self, *args, **kwds)\u001b[0m\n\u001b[1;32m    869\u001b[0m       \u001b[0;31m# This is the first call of __call__, so we have to initialize.\u001b[0m\u001b[0;34m\u001b[0m\u001b[0;34m\u001b[0m\u001b[0;34m\u001b[0m\u001b[0m\n\u001b[1;32m    870\u001b[0m       \u001b[0minitializers\u001b[0m \u001b[0;34m=\u001b[0m \u001b[0;34m[\u001b[0m\u001b[0;34m]\u001b[0m\u001b[0;34m\u001b[0m\u001b[0;34m\u001b[0m\u001b[0m\n\u001b[0;32m--> 871\u001b[0;31m       \u001b[0mself\u001b[0m\u001b[0;34m.\u001b[0m\u001b[0m_initialize\u001b[0m\u001b[0;34m(\u001b[0m\u001b[0margs\u001b[0m\u001b[0;34m,\u001b[0m \u001b[0mkwds\u001b[0m\u001b[0;34m,\u001b[0m \u001b[0madd_initializers_to\u001b[0m\u001b[0;34m=\u001b[0m\u001b[0minitializers\u001b[0m\u001b[0;34m)\u001b[0m\u001b[0;34m\u001b[0m\u001b[0;34m\u001b[0m\u001b[0m\n\u001b[0m\u001b[1;32m    872\u001b[0m     \u001b[0;32mfinally\u001b[0m\u001b[0;34m:\u001b[0m\u001b[0;34m\u001b[0m\u001b[0;34m\u001b[0m\u001b[0m\n\u001b[1;32m    873\u001b[0m       \u001b[0;31m# At this point we know that the initialization is complete (or less\u001b[0m\u001b[0;34m\u001b[0m\u001b[0;34m\u001b[0m\u001b[0;34m\u001b[0m\u001b[0m\n",
            "\u001b[0;32m/usr/local/lib/python3.7/dist-packages/tensorflow/python/eager/def_function.py\u001b[0m in \u001b[0;36m_initialize\u001b[0;34m(self, args, kwds, add_initializers_to)\u001b[0m\n\u001b[1;32m    724\u001b[0m     self._concrete_stateful_fn = (\n\u001b[1;32m    725\u001b[0m         self._stateful_fn._get_concrete_function_internal_garbage_collected(  # pylint: disable=protected-access\n\u001b[0;32m--> 726\u001b[0;31m             *args, **kwds))\n\u001b[0m\u001b[1;32m    727\u001b[0m \u001b[0;34m\u001b[0m\u001b[0m\n\u001b[1;32m    728\u001b[0m     \u001b[0;32mdef\u001b[0m \u001b[0minvalid_creator_scope\u001b[0m\u001b[0;34m(\u001b[0m\u001b[0;34m*\u001b[0m\u001b[0munused_args\u001b[0m\u001b[0;34m,\u001b[0m \u001b[0;34m**\u001b[0m\u001b[0munused_kwds\u001b[0m\u001b[0;34m)\u001b[0m\u001b[0;34m:\u001b[0m\u001b[0;34m\u001b[0m\u001b[0;34m\u001b[0m\u001b[0m\n",
            "\u001b[0;32m/usr/local/lib/python3.7/dist-packages/tensorflow/python/eager/function.py\u001b[0m in \u001b[0;36m_get_concrete_function_internal_garbage_collected\u001b[0;34m(self, *args, **kwargs)\u001b[0m\n\u001b[1;32m   2967\u001b[0m       \u001b[0margs\u001b[0m\u001b[0;34m,\u001b[0m \u001b[0mkwargs\u001b[0m \u001b[0;34m=\u001b[0m \u001b[0;32mNone\u001b[0m\u001b[0;34m,\u001b[0m \u001b[0;32mNone\u001b[0m\u001b[0;34m\u001b[0m\u001b[0;34m\u001b[0m\u001b[0m\n\u001b[1;32m   2968\u001b[0m     \u001b[0;32mwith\u001b[0m \u001b[0mself\u001b[0m\u001b[0;34m.\u001b[0m\u001b[0m_lock\u001b[0m\u001b[0;34m:\u001b[0m\u001b[0;34m\u001b[0m\u001b[0;34m\u001b[0m\u001b[0m\n\u001b[0;32m-> 2969\u001b[0;31m       \u001b[0mgraph_function\u001b[0m\u001b[0;34m,\u001b[0m \u001b[0m_\u001b[0m \u001b[0;34m=\u001b[0m \u001b[0mself\u001b[0m\u001b[0;34m.\u001b[0m\u001b[0m_maybe_define_function\u001b[0m\u001b[0;34m(\u001b[0m\u001b[0margs\u001b[0m\u001b[0;34m,\u001b[0m \u001b[0mkwargs\u001b[0m\u001b[0;34m)\u001b[0m\u001b[0;34m\u001b[0m\u001b[0;34m\u001b[0m\u001b[0m\n\u001b[0m\u001b[1;32m   2970\u001b[0m     \u001b[0;32mreturn\u001b[0m \u001b[0mgraph_function\u001b[0m\u001b[0;34m\u001b[0m\u001b[0;34m\u001b[0m\u001b[0m\n\u001b[1;32m   2971\u001b[0m \u001b[0;34m\u001b[0m\u001b[0m\n",
            "\u001b[0;32m/usr/local/lib/python3.7/dist-packages/tensorflow/python/eager/function.py\u001b[0m in \u001b[0;36m_maybe_define_function\u001b[0;34m(self, args, kwargs)\u001b[0m\n\u001b[1;32m   3359\u001b[0m \u001b[0;34m\u001b[0m\u001b[0m\n\u001b[1;32m   3360\u001b[0m           \u001b[0mself\u001b[0m\u001b[0;34m.\u001b[0m\u001b[0m_function_cache\u001b[0m\u001b[0;34m.\u001b[0m\u001b[0mmissed\u001b[0m\u001b[0;34m.\u001b[0m\u001b[0madd\u001b[0m\u001b[0;34m(\u001b[0m\u001b[0mcall_context_key\u001b[0m\u001b[0;34m)\u001b[0m\u001b[0;34m\u001b[0m\u001b[0;34m\u001b[0m\u001b[0m\n\u001b[0;32m-> 3361\u001b[0;31m           \u001b[0mgraph_function\u001b[0m \u001b[0;34m=\u001b[0m \u001b[0mself\u001b[0m\u001b[0;34m.\u001b[0m\u001b[0m_create_graph_function\u001b[0m\u001b[0;34m(\u001b[0m\u001b[0margs\u001b[0m\u001b[0;34m,\u001b[0m \u001b[0mkwargs\u001b[0m\u001b[0;34m)\u001b[0m\u001b[0;34m\u001b[0m\u001b[0;34m\u001b[0m\u001b[0m\n\u001b[0m\u001b[1;32m   3362\u001b[0m           \u001b[0mself\u001b[0m\u001b[0;34m.\u001b[0m\u001b[0m_function_cache\u001b[0m\u001b[0;34m.\u001b[0m\u001b[0mprimary\u001b[0m\u001b[0;34m[\u001b[0m\u001b[0mcache_key\u001b[0m\u001b[0;34m]\u001b[0m \u001b[0;34m=\u001b[0m \u001b[0mgraph_function\u001b[0m\u001b[0;34m\u001b[0m\u001b[0;34m\u001b[0m\u001b[0m\n\u001b[1;32m   3363\u001b[0m \u001b[0;34m\u001b[0m\u001b[0m\n",
            "\u001b[0;32m/usr/local/lib/python3.7/dist-packages/tensorflow/python/eager/function.py\u001b[0m in \u001b[0;36m_create_graph_function\u001b[0;34m(self, args, kwargs, override_flat_arg_shapes)\u001b[0m\n\u001b[1;32m   3204\u001b[0m             \u001b[0marg_names\u001b[0m\u001b[0;34m=\u001b[0m\u001b[0marg_names\u001b[0m\u001b[0;34m,\u001b[0m\u001b[0;34m\u001b[0m\u001b[0;34m\u001b[0m\u001b[0m\n\u001b[1;32m   3205\u001b[0m             \u001b[0moverride_flat_arg_shapes\u001b[0m\u001b[0;34m=\u001b[0m\u001b[0moverride_flat_arg_shapes\u001b[0m\u001b[0;34m,\u001b[0m\u001b[0;34m\u001b[0m\u001b[0;34m\u001b[0m\u001b[0m\n\u001b[0;32m-> 3206\u001b[0;31m             capture_by_value=self._capture_by_value),\n\u001b[0m\u001b[1;32m   3207\u001b[0m         \u001b[0mself\u001b[0m\u001b[0;34m.\u001b[0m\u001b[0m_function_attributes\u001b[0m\u001b[0;34m,\u001b[0m\u001b[0;34m\u001b[0m\u001b[0;34m\u001b[0m\u001b[0m\n\u001b[1;32m   3208\u001b[0m         \u001b[0mfunction_spec\u001b[0m\u001b[0;34m=\u001b[0m\u001b[0mself\u001b[0m\u001b[0;34m.\u001b[0m\u001b[0mfunction_spec\u001b[0m\u001b[0;34m,\u001b[0m\u001b[0;34m\u001b[0m\u001b[0;34m\u001b[0m\u001b[0m\n",
            "\u001b[0;32m/usr/local/lib/python3.7/dist-packages/tensorflow/python/framework/func_graph.py\u001b[0m in \u001b[0;36mfunc_graph_from_py_func\u001b[0;34m(name, python_func, args, kwargs, signature, func_graph, autograph, autograph_options, add_control_dependencies, arg_names, op_return_value, collections, capture_by_value, override_flat_arg_shapes)\u001b[0m\n\u001b[1;32m    988\u001b[0m         \u001b[0m_\u001b[0m\u001b[0;34m,\u001b[0m \u001b[0moriginal_func\u001b[0m \u001b[0;34m=\u001b[0m \u001b[0mtf_decorator\u001b[0m\u001b[0;34m.\u001b[0m\u001b[0munwrap\u001b[0m\u001b[0;34m(\u001b[0m\u001b[0mpython_func\u001b[0m\u001b[0;34m)\u001b[0m\u001b[0;34m\u001b[0m\u001b[0;34m\u001b[0m\u001b[0m\n\u001b[1;32m    989\u001b[0m \u001b[0;34m\u001b[0m\u001b[0m\n\u001b[0;32m--> 990\u001b[0;31m       \u001b[0mfunc_outputs\u001b[0m \u001b[0;34m=\u001b[0m \u001b[0mpython_func\u001b[0m\u001b[0;34m(\u001b[0m\u001b[0;34m*\u001b[0m\u001b[0mfunc_args\u001b[0m\u001b[0;34m,\u001b[0m \u001b[0;34m**\u001b[0m\u001b[0mfunc_kwargs\u001b[0m\u001b[0;34m)\u001b[0m\u001b[0;34m\u001b[0m\u001b[0;34m\u001b[0m\u001b[0m\n\u001b[0m\u001b[1;32m    991\u001b[0m \u001b[0;34m\u001b[0m\u001b[0m\n\u001b[1;32m    992\u001b[0m       \u001b[0;31m# invariant: `func_outputs` contains only Tensors, CompositeTensors,\u001b[0m\u001b[0;34m\u001b[0m\u001b[0;34m\u001b[0m\u001b[0;34m\u001b[0m\u001b[0m\n",
            "\u001b[0;32m/usr/local/lib/python3.7/dist-packages/tensorflow/python/eager/def_function.py\u001b[0m in \u001b[0;36mwrapped_fn\u001b[0;34m(*args, **kwds)\u001b[0m\n\u001b[1;32m    632\u001b[0m             \u001b[0mxla_context\u001b[0m\u001b[0;34m.\u001b[0m\u001b[0mExit\u001b[0m\u001b[0;34m(\u001b[0m\u001b[0;34m)\u001b[0m\u001b[0;34m\u001b[0m\u001b[0;34m\u001b[0m\u001b[0m\n\u001b[1;32m    633\u001b[0m         \u001b[0;32melse\u001b[0m\u001b[0;34m:\u001b[0m\u001b[0;34m\u001b[0m\u001b[0;34m\u001b[0m\u001b[0m\n\u001b[0;32m--> 634\u001b[0;31m           \u001b[0mout\u001b[0m \u001b[0;34m=\u001b[0m \u001b[0mweak_wrapped_fn\u001b[0m\u001b[0;34m(\u001b[0m\u001b[0;34m)\u001b[0m\u001b[0;34m.\u001b[0m\u001b[0m__wrapped__\u001b[0m\u001b[0;34m(\u001b[0m\u001b[0;34m*\u001b[0m\u001b[0margs\u001b[0m\u001b[0;34m,\u001b[0m \u001b[0;34m**\u001b[0m\u001b[0mkwds\u001b[0m\u001b[0;34m)\u001b[0m\u001b[0;34m\u001b[0m\u001b[0;34m\u001b[0m\u001b[0m\n\u001b[0m\u001b[1;32m    635\u001b[0m         \u001b[0;32mreturn\u001b[0m \u001b[0mout\u001b[0m\u001b[0;34m\u001b[0m\u001b[0;34m\u001b[0m\u001b[0m\n\u001b[1;32m    636\u001b[0m \u001b[0;34m\u001b[0m\u001b[0m\n",
            "\u001b[0;32m/usr/local/lib/python3.7/dist-packages/tensorflow/python/framework/func_graph.py\u001b[0m in \u001b[0;36mwrapper\u001b[0;34m(*args, **kwargs)\u001b[0m\n\u001b[1;32m    975\u001b[0m           \u001b[0;32mexcept\u001b[0m \u001b[0mException\u001b[0m \u001b[0;32mas\u001b[0m \u001b[0me\u001b[0m\u001b[0;34m:\u001b[0m  \u001b[0;31m# pylint:disable=broad-except\u001b[0m\u001b[0;34m\u001b[0m\u001b[0;34m\u001b[0m\u001b[0m\n\u001b[1;32m    976\u001b[0m             \u001b[0;32mif\u001b[0m \u001b[0mhasattr\u001b[0m\u001b[0;34m(\u001b[0m\u001b[0me\u001b[0m\u001b[0;34m,\u001b[0m \u001b[0;34m\"ag_error_metadata\"\u001b[0m\u001b[0;34m)\u001b[0m\u001b[0;34m:\u001b[0m\u001b[0;34m\u001b[0m\u001b[0;34m\u001b[0m\u001b[0m\n\u001b[0;32m--> 977\u001b[0;31m               \u001b[0;32mraise\u001b[0m \u001b[0me\u001b[0m\u001b[0;34m.\u001b[0m\u001b[0mag_error_metadata\u001b[0m\u001b[0;34m.\u001b[0m\u001b[0mto_exception\u001b[0m\u001b[0;34m(\u001b[0m\u001b[0me\u001b[0m\u001b[0;34m)\u001b[0m\u001b[0;34m\u001b[0m\u001b[0;34m\u001b[0m\u001b[0m\n\u001b[0m\u001b[1;32m    978\u001b[0m             \u001b[0;32melse\u001b[0m\u001b[0;34m:\u001b[0m\u001b[0;34m\u001b[0m\u001b[0;34m\u001b[0m\u001b[0m\n\u001b[1;32m    979\u001b[0m               \u001b[0;32mraise\u001b[0m\u001b[0;34m\u001b[0m\u001b[0;34m\u001b[0m\u001b[0m\n",
            "\u001b[0;31mValueError\u001b[0m: in user code:\n\n    /usr/local/lib/python3.7/dist-packages/tensorflow/python/keras/engine/training.py:805 train_function  *\n        return step_function(self, iterator)\n    /usr/local/lib/python3.7/dist-packages/tensorflow/python/keras/engine/training.py:795 step_function  **\n        outputs = model.distribute_strategy.run(run_step, args=(data,))\n    /usr/local/lib/python3.7/dist-packages/tensorflow/python/distribute/distribute_lib.py:1259 run\n        return self._extended.call_for_each_replica(fn, args=args, kwargs=kwargs)\n    /usr/local/lib/python3.7/dist-packages/tensorflow/python/distribute/distribute_lib.py:2730 call_for_each_replica\n        return self._call_for_each_replica(fn, args, kwargs)\n    /usr/local/lib/python3.7/dist-packages/tensorflow/python/distribute/distribute_lib.py:3417 _call_for_each_replica\n        return fn(*args, **kwargs)\n    /usr/local/lib/python3.7/dist-packages/tensorflow/python/keras/engine/training.py:788 run_step  **\n        outputs = model.train_step(data)\n    /usr/local/lib/python3.7/dist-packages/tensorflow/python/keras/engine/training.py:756 train_step\n        y, y_pred, sample_weight, regularization_losses=self.losses)\n    /usr/local/lib/python3.7/dist-packages/tensorflow/python/keras/engine/compile_utils.py:203 __call__\n        loss_value = loss_obj(y_t, y_p, sample_weight=sw)\n    /usr/local/lib/python3.7/dist-packages/tensorflow/python/keras/losses.py:152 __call__\n        losses = call_fn(y_true, y_pred)\n    /usr/local/lib/python3.7/dist-packages/tensorflow/python/keras/losses.py:256 call  **\n        return ag_fn(y_true, y_pred, **self._fn_kwargs)\n    /usr/local/lib/python3.7/dist-packages/tensorflow/python/util/dispatch.py:201 wrapper\n        return target(*args, **kwargs)\n    /usr/local/lib/python3.7/dist-packages/tensorflow/python/keras/losses.py:1608 binary_crossentropy\n        K.binary_crossentropy(y_true, y_pred, from_logits=from_logits), axis=-1)\n    /usr/local/lib/python3.7/dist-packages/tensorflow/python/util/dispatch.py:201 wrapper\n        return target(*args, **kwargs)\n    /usr/local/lib/python3.7/dist-packages/tensorflow/python/keras/backend.py:4979 binary_crossentropy\n        return nn.sigmoid_cross_entropy_with_logits(labels=target, logits=output)\n    /usr/local/lib/python3.7/dist-packages/tensorflow/python/util/dispatch.py:201 wrapper\n        return target(*args, **kwargs)\n    /usr/local/lib/python3.7/dist-packages/tensorflow/python/ops/nn_impl.py:174 sigmoid_cross_entropy_with_logits\n        (logits.get_shape(), labels.get_shape()))\n\n    ValueError: logits and labels must have the same shape ((32, 7586) vs (32, 20))\n"
          ]
        }
      ]
    },
    {
      "cell_type": "markdown",
      "metadata": {
        "id": "FMhTz2fbtFn7"
      },
      "source": [
        "**Predictions**"
      ]
    },
    {
      "cell_type": "code",
      "metadata": {
        "id": "CCE-mr_zuvlB"
      },
      "source": [
        "i = np.random.randint(0,len(TrainX1))\n",
        "sampleX1 = np.expand_dims(TrainX1[i], axis=0)\n",
        "for word in TrainX2[i]:\n",
        "  \n",
        "sampleX2 = np.expand_dims(TrainX2[i], axis=0)\n",
        "\n",
        "\n",
        "pred_y = finalModel.predict([sampleX1, sampleX2])\n",
        "true_y = TrainY[i]\n",
        "y = (pred_y > 0.15).astype(int)\n",
        "print(pred_y)\n",
        "print(y)\n",
        "print(true_y)"
      ],
      "execution_count": null,
      "outputs": []
    },
    {
      "cell_type": "code",
      "metadata": {
        "id": "1G0hPnc77AVI"
      },
      "source": [
        "def predict2():\n",
        "    for i in range(100):\n",
        "        seq = [word_to_index[word] for word in partial_caption.split() if word in word_to_index]\n",
        "        seq = pad_sequences([seq], maxlen=max_caption_length)\n",
        "        yhat = model2.predict([feature_vec,seq], verbose=0)\n",
        "        yhat = np.argmax(yhat)\n",
        "        word = index_to_word[yhat]\n",
        "        partial_caption += ' ' + word\n",
        "        if word == 'endseq':\n",
        "            break\n",
        "    final_caption = partial_caption.split()[1:-1]\n",
        "    final_caption = ' '.join(final_caption)\n",
        "    return final_caption"
      ],
      "execution_count": null,
      "outputs": []
    },
    {
      "cell_type": "code",
      "metadata": {
        "id": "ep1eA_5vxsjY"
      },
      "source": [
        "# # config cell\n",
        "# LR = 0.0009\n",
        "# EPOCHS = 20\n",
        "# BATCH_SIZE = 16\n",
        "# DECAY = LR // EPOCHS\n",
        "# LOSS = tf.keras.losses.BinaryCrossentropy()\n",
        "# OPTIMIZER = tf.keras.optimizers.Adam(learning_rate=LR, decay=DECAY)\n",
        "# METRICS = ['acc']"
      ],
      "execution_count": null,
      "outputs": []
    },
    {
      "cell_type": "code",
      "metadata": {
        "id": "bI8gejGgxrFJ"
      },
      "source": [
        "# model compiling\n",
        "# model1.compile(loss=LOSS, optimizer=OPTIMIZER, metrics=METRICS)"
      ],
      "execution_count": null,
      "outputs": []
    },
    {
      "cell_type": "code",
      "metadata": {
        "id": "jlq_dTYWyVje",
        "colab": {
          "base_uri": "https://localhost:8080/"
        },
        "outputId": "ae13084d-5985-4f20-c770-1237733d3878"
      },
      "source": [
        "# training\n",
        "# history = model1.fit(datagen.flow(TrainX, TrainY, batch_size=BATCH_SIZE), validation_data=datagen.flow(ValX, ValY, batch_size=BATCH_SIZE), epochs=EPOCHS)"
      ],
      "execution_count": null,
      "outputs": [
        {
          "output_type": "stream",
          "text": [
            "Epoch 1/20\n",
            "44/44 [==============================] - 12s 255ms/step - loss: 0.1644 - acc: 0.3155 - val_loss: 0.2295 - val_acc: 0.0967\n",
            "Epoch 2/20\n",
            "44/44 [==============================] - 11s 243ms/step - loss: 0.1580 - acc: 0.3200 - val_loss: 0.2061 - val_acc: 0.3333\n",
            "Epoch 3/20\n",
            "44/44 [==============================] - 11s 248ms/step - loss: 0.1513 - acc: 0.3470 - val_loss: 0.2030 - val_acc: 0.1600\n",
            "Epoch 4/20\n",
            "44/44 [==============================] - 11s 247ms/step - loss: 0.1506 - acc: 0.3657 - val_loss: 0.2180 - val_acc: 0.1867\n",
            "Epoch 5/20\n",
            "44/44 [==============================] - 11s 241ms/step - loss: 0.1456 - acc: 0.3548 - val_loss: 0.1985 - val_acc: 0.1900\n",
            "Epoch 6/20\n",
            "44/44 [==============================] - 11s 242ms/step - loss: 0.1427 - acc: 0.3658 - val_loss: 0.1987 - val_acc: 0.2367\n",
            "Epoch 7/20\n",
            "44/44 [==============================] - 11s 243ms/step - loss: 0.1504 - acc: 0.3499 - val_loss: 0.2022 - val_acc: 0.2267\n",
            "Epoch 8/20\n",
            "44/44 [==============================] - 11s 242ms/step - loss: 0.1462 - acc: 0.3481 - val_loss: 0.1966 - val_acc: 0.1767\n",
            "Epoch 9/20\n",
            "44/44 [==============================] - 11s 241ms/step - loss: 0.1369 - acc: 0.4053 - val_loss: 0.2005 - val_acc: 0.2167\n",
            "Epoch 10/20\n",
            "44/44 [==============================] - 11s 244ms/step - loss: 0.1379 - acc: 0.4022 - val_loss: 0.2113 - val_acc: 0.1800\n",
            "Epoch 11/20\n",
            "44/44 [==============================] - 11s 241ms/step - loss: 0.1387 - acc: 0.3914 - val_loss: 0.2294 - val_acc: 0.1433\n",
            "Epoch 12/20\n",
            "44/44 [==============================] - 11s 242ms/step - loss: 0.1391 - acc: 0.4160 - val_loss: 0.1998 - val_acc: 0.2267\n",
            "Epoch 13/20\n",
            "44/44 [==============================] - 11s 242ms/step - loss: 0.1275 - acc: 0.4135 - val_loss: 0.2096 - val_acc: 0.1800\n",
            "Epoch 14/20\n",
            "44/44 [==============================] - 11s 242ms/step - loss: 0.1300 - acc: 0.4019 - val_loss: 0.1987 - val_acc: 0.2233\n",
            "Epoch 15/20\n",
            "44/44 [==============================] - 11s 242ms/step - loss: 0.1354 - acc: 0.4011 - val_loss: 0.2211 - val_acc: 0.1967\n",
            "Epoch 16/20\n",
            "44/44 [==============================] - 11s 242ms/step - loss: 0.1389 - acc: 0.3356 - val_loss: 0.2001 - val_acc: 0.2033\n",
            "Epoch 17/20\n",
            "44/44 [==============================] - 11s 242ms/step - loss: 0.1269 - acc: 0.3881 - val_loss: 0.2484 - val_acc: 0.0867\n",
            "Epoch 18/20\n",
            "44/44 [==============================] - 11s 242ms/step - loss: 0.1340 - acc: 0.3959 - val_loss: 0.2425 - val_acc: 0.1400\n",
            "Epoch 19/20\n",
            "44/44 [==============================] - 11s 242ms/step - loss: 0.1352 - acc: 0.3962 - val_loss: 0.2277 - val_acc: 0.2433\n",
            "Epoch 20/20\n",
            "44/44 [==============================] - 11s 244ms/step - loss: 0.1333 - acc: 0.3444 - val_loss: 0.2137 - val_acc: 0.1567\n"
          ],
          "name": "stdout"
        }
      ]
    },
    {
      "cell_type": "code",
      "metadata": {
        "id": "hz2B9SHzyXvo",
        "colab": {
          "base_uri": "https://localhost:8080/",
          "height": 573
        },
        "outputId": "a2629cb9-da78-4226-b68b-7e469cc9ba15"
      },
      "source": [
        "# plotting curves\n",
        "'''\n",
        "loss -> train, val\n",
        "accuracy -> train, val\n",
        "'''\n",
        "plt.plot(list(history.history.values())[0])\n",
        "plt.plot(list(history.history.values())[2])\n",
        "plt.title('Loss Plot')\n",
        "plt.xlabel('epochs')\n",
        "plt.ylabel('loss')\n",
        "plt.legend(['train loss', 'val loss'])\n",
        "plt.show()\n",
        "\n",
        "plt.plot(list(history.history.values())[1])\n",
        "plt.plot(list(history.history.values())[3])\n",
        "plt.title('Accuracy Plot')\n",
        "plt.xlabel('epochs')\n",
        "plt.ylabel('accuracy')\n",
        "plt.legend(['train accuracy', 'val accuracy'])\n",
        "plt.show()"
      ],
      "execution_count": null,
      "outputs": [
        {
          "output_type": "display_data",
          "data": {
            "image/png": "[encoded data removed]",
            "text/plain": [
              "<Figure size 432x288 with 1 Axes>"
            ]
          },
          "metadata": {
            "tags": [],
            "needs_background": "light"
          }
        },
        {
          "output_type": "display_data",
          "data": {
            "image/png": "[encoded data removed]",
            "text/plain": [
              "<Figure size 432x288 with 1 Axes>"
            ]
          },
          "metadata": {
            "tags": [],
            "needs_background": "light"
          }
        }
      ]
    },
    {
      "cell_type": "code",
      "metadata": {
        "id": "zW91044Xydyo",
        "colab": {
          "base_uri": "https://localhost:8080/"
        },
        "outputId": "72dc4fe0-dcf0-44eb-bffd-a25704927ad9"
      },
      "source": [
        "# random predictions on val dataset\n",
        "\n",
        "rnd = np.random.randint(0, len(ValX))\n",
        "point = ValX[rnd]\n",
        "label = ValY[rnd]\n",
        "pred = model.predict(np.asarray([point]))\n",
        "pred = (pred > 0.5)\n",
        "pred = pred.astype(int)\n",
        "print(\"True Label:\", label)\n",
        "print(\"Predicted Label:\", pred)"
      ],
      "execution_count": null,
      "outputs": [
        {
          "output_type": "stream",
          "text": [
            "True Label: [0. 0. 0. 0. 0. 0. 0. 0. 0. 0. 0. 0. 0. 0. 0. 0. 0. 0. 1. 0.]\n",
            "Predicted Label: [[0 1 0 0 0 0 0 0 0 0 0 0 0 0 0 0 0 0 0 0]]\n"
          ],
          "name": "stdout"
        }
      ]
    },
    {
      "cell_type": "code",
      "metadata": {
        "id": "tb9KBM2WNlzu"
      },
      "source": [
        ""
      ],
      "execution_count": null,
      "outputs": []
    }
  ]
}