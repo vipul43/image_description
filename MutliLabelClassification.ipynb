{
  "nbformat": 4,
  "nbformat_minor": 0,
  "metadata": {
    "colab": {
      "name": "MutliLabelClassification.ipynb",
      "provenance": [],
      "collapsed_sections": [],
      "include_colab_link": true
    },
    "kernelspec": {
      "name": "python3",
      "display_name": "Python 3"
    },
    "language_info": {
      "name": "python"
    }
  },
  "cells": [
    {
      "cell_type": "markdown",
      "metadata": {
        "id": "view-in-github",
        "colab_type": "text"
      },
      "source": [
        "<a href=\"https://colab.research.google.com/github/vipul43/image_description/blob/main/MutliLabelClassification.ipynb\" target=\"_parent\"><img src=\"https://colab.research.google.com/assets/colab-badge.svg\" alt=\"Open In Colab\"/></a>"
      ]
    },
    {
      "cell_type": "code",
      "metadata": {
        "id": "ydR0jWJ3aie6"
      },
      "source": [
        "import scipy.io\n",
        "import cv2\n",
        "from google.colab.patches import cv2_imshow\n",
        "from skimage import io\n",
        "\n",
        "import numpy as np\n",
        "import pandas as pd\n",
        "import cv2 as cv \n",
        "from google.colab.patches import cv2_imshow # for image display\n",
        "from skimage import io\n",
        "from PIL import Image \n",
        "import matplotlib.pylab as plt"
      ],
      "execution_count": null,
      "outputs": []
    },
    {
      "cell_type": "code",
      "metadata": {
        "id": "OaRIX3uRiRiB"
      },
      "source": [
        "mat = scipy.io.loadmat('/content/drive/MyDrive/Project Dataset/abstract50S.mat')\n",
        "type(mat)"
      ],
      "execution_count": null,
      "outputs": []
    },
    {
      "cell_type": "code",
      "metadata": {
        "id": "KegvWxIIcUSn"
      },
      "source": [
        "j = 0\n",
        "for i in mat[\"abs_sent\"][0]:\n",
        "  print(i)\n",
        "  break"
      ],
      "execution_count": null,
      "outputs": []
    },
    {
      "cell_type": "code",
      "metadata": {
        "id": "9mfHOSaOd27W"
      },
      "source": [
        "mat02 = scipy.io.loadmat('/content/drive/MyDrive/Project Dataset/pascal50S.mat')\n"
      ],
      "execution_count": null,
      "outputs": []
    },
    {
      "cell_type": "markdown",
      "metadata": {
        "id": "hFmTkZoOngkS"
      },
      "source": [
        ""
      ]
    },
    {
      "cell_type": "code",
      "metadata": {
        "id": "bU8yBAKwmSAw"
      },
      "source": [
        "\n",
        "classes = ['person', \n",
        "           'bird', \n",
        "           'cat', \n",
        "           'cow', \n",
        "           'dog', \n",
        "           'horse', \n",
        "           'sheep', \n",
        "           'aeroplane', \n",
        "           'bicycle', \n",
        "           'boat', \n",
        "           'bus', \n",
        "           'car', \n",
        "           'motorbike', \n",
        "           'train', \n",
        "           'bottle', \n",
        "           'chair', \n",
        "           'dining table', \n",
        "           'potted plant', \n",
        "           'sofa', \n",
        "           'tv/monitor']\n",
        "\n"
      ],
      "execution_count": null,
      "outputs": []
    },
    {
      "cell_type": "code",
      "metadata": {
        "id": "QwHnF1GlcmXV"
      },
      "source": [
        "j = 0\n",
        "\n",
        "for i in mat02[\"train_sent_final\"][0]:\n",
        "  # image = io.imread(i[0][0])\n",
        "  # cv2_imshow(image)\n",
        "  for k in i[1]:\n",
        "    for sent in k:\n",
        "      print(sent[0])\n",
        "      for word in sent[0].split():\n",
        "        if(word in classes):\n",
        "          print(word)\n",
        "        \n",
        "  if j > 1:\n",
        "    break\n",
        "  j = j + 1"
      ],
      "execution_count": null,
      "outputs": []
    },
    {
      "cell_type": "code",
      "metadata": {
        "colab": {
          "base_uri": "https://localhost:8080/"
        },
        "id": "k5cJ8fjumdrJ",
        "outputId": "7ef2aad7-319a-408e-c0f3-99494ac18f8f"
      },
      "source": [
        "j = 0\n",
        "\n",
        "for i in mat[\"abs_sent\"][0]:\n",
        "  # image = io.imread(i[0][0])\n",
        "  # cv2_imshow(image)\n",
        "  for k in i[1]:\n",
        "    for sent in k:\n",
        "      print(sent[0])\n",
        "      for word in sent[0].split():\n",
        "        if(word in classes):\n",
        "          print(word)\n",
        "        \n",
        "  if j > 1:\n",
        "    break\n",
        "  j = j + 1"
      ],
      "execution_count": null,
      "outputs": [
        {
          "output_type": "stream",
          "text": [
            "h\n",
            "t\n",
            "t\n",
            "p\n",
            ":\n",
            "/\n",
            "/\n",
            "f\n",
            "i\n",
            "l\n",
            "e\n",
            "b\n",
            "o\n",
            "x\n",
            ".\n",
            "e\n",
            "c\n",
            "e\n",
            ".\n",
            "v\n",
            "t\n",
            ".\n",
            "e\n",
            "d\n",
            "u\n",
            "/\n",
            "~\n",
            "v\n",
            "r\n",
            "a\n",
            "m\n",
            "a\n",
            "9\n",
            "1\n",
            "/\n",
            "c\n",
            "l\n",
            "i\n",
            "p\n",
            "a\n",
            "r\n",
            "t\n",
            "/\n",
            "S\n",
            "c\n",
            "e\n",
            "n\n",
            "e\n",
            "8\n",
            "9\n",
            "8\n",
            "_\n",
            "0\n",
            ".\n",
            "p\n",
            "n\n",
            "g\n",
            "h\n",
            "t\n",
            "t\n",
            "p\n",
            ":\n",
            "/\n",
            "/\n",
            "f\n",
            "i\n",
            "l\n",
            "e\n",
            "b\n",
            "o\n",
            "x\n",
            ".\n",
            "e\n",
            "c\n",
            "e\n",
            ".\n",
            "v\n",
            "t\n",
            ".\n",
            "e\n",
            "d\n",
            "u\n",
            "/\n",
            "~\n",
            "v\n",
            "r\n",
            "a\n",
            "m\n",
            "a\n",
            "9\n",
            "1\n",
            "/\n",
            "c\n",
            "l\n",
            "i\n",
            "p\n",
            "a\n",
            "r\n",
            "t\n",
            "/\n",
            "S\n",
            "c\n",
            "e\n",
            "n\n",
            "e\n",
            "4\n",
            "7\n",
            "6\n",
            "_\n",
            "0\n",
            ".\n",
            "p\n",
            "n\n",
            "g\n",
            "h\n",
            "t\n",
            "t\n",
            "p\n",
            ":\n",
            "/\n",
            "/\n",
            "f\n",
            "i\n",
            "l\n",
            "e\n",
            "b\n",
            "o\n",
            "x\n",
            ".\n",
            "e\n",
            "c\n",
            "e\n",
            ".\n",
            "v\n",
            "t\n",
            ".\n",
            "e\n",
            "d\n",
            "u\n",
            "/\n",
            "~\n",
            "v\n",
            "r\n",
            "a\n",
            "m\n",
            "a\n",
            "9\n",
            "1\n",
            "/\n",
            "c\n",
            "l\n",
            "i\n",
            "p\n",
            "a\n",
            "r\n",
            "t\n",
            "/\n",
            "S\n",
            "c\n",
            "e\n",
            "n\n",
            "e\n",
            "6\n",
            "3\n",
            "3\n",
            "_\n",
            "0\n",
            ".\n",
            "p\n",
            "n\n",
            "g\n"
          ],
          "name": "stdout"
        }
      ]
    },
    {
      "cell_type": "code",
      "metadata": {
        "colab": {
          "base_uri": "https://localhost:8080/"
        },
        "id": "bt5RyAIBeCvK",
        "outputId": "3ad6b066-ba83-4a33-a7f6-9a50215d96f8"
      },
      "source": [
        "len(mat02[\"train_sent_final\"])"
      ],
      "execution_count": null,
      "outputs": [
        {
          "output_type": "execute_result",
          "data": {
            "text/plain": [
              "1"
            ]
          },
          "metadata": {
            "tags": []
          },
          "execution_count": 27
        }
      ]
    },
    {
      "cell_type": "code",
      "metadata": {
        "colab": {
          "base_uri": "https://localhost:8080/"
        },
        "id": "SclG1ILYfOiA",
        "outputId": "d21c0185-d3df-451f-fa85-07dda33651fa"
      },
      "source": [
        "len(mat02[\"train_sent_final\"][0])"
      ],
      "execution_count": null,
      "outputs": [
        {
          "output_type": "execute_result",
          "data": {
            "text/plain": [
              "1000"
            ]
          },
          "metadata": {
            "tags": []
          },
          "execution_count": 41
        }
      ]
    },
    {
      "cell_type": "code",
      "metadata": {
        "colab": {
          "base_uri": "https://localhost:8080/"
        },
        "id": "aT1ALPLGfQiB",
        "outputId": "5e03a439-ffb6-4d84-96c2-61a1a9933970"
      },
      "source": [
        "len(mat02[\"train_sent_final\"][0][0])"
      ],
      "execution_count": null,
      "outputs": [
        {
          "output_type": "execute_result",
          "data": {
            "text/plain": [
              "2"
            ]
          },
          "metadata": {
            "tags": []
          },
          "execution_count": 29
        }
      ]
    },
    {
      "cell_type": "code",
      "metadata": {
        "colab": {
          "base_uri": "https://localhost:8080/"
        },
        "id": "f3vI5XYwfTFS",
        "outputId": "19521d56-13d4-4b27-86d4-918ae7300fc3"
      },
      "source": [
        "len(mat02[\"train_sent_final\"][0][0][0])"
      ],
      "execution_count": null,
      "outputs": [
        {
          "output_type": "execute_result",
          "data": {
            "text/plain": [
              "1"
            ]
          },
          "metadata": {
            "tags": []
          },
          "execution_count": 30
        }
      ]
    },
    {
      "cell_type": "code",
      "metadata": {
        "colab": {
          "base_uri": "https://localhost:8080/"
        },
        "id": "fNtjbVKwfVzX",
        "outputId": "cf51053a-d72b-4726-af7f-0d3811006e95"
      },
      "source": [
        "len(mat02[\"train_sent_final\"][0][0][1])"
      ],
      "execution_count": null,
      "outputs": [
        {
          "output_type": "execute_result",
          "data": {
            "text/plain": [
              "1"
            ]
          },
          "metadata": {
            "tags": []
          },
          "execution_count": 31
        }
      ]
    },
    {
      "cell_type": "code",
      "metadata": {
        "colab": {
          "base_uri": "https://localhost:8080/"
        },
        "id": "g_YChALMfZXw",
        "outputId": "51793560-c296-4bf0-88ac-3f548b81f6f4"
      },
      "source": [
        "len(mat02[\"train_sent_final\"][0][0][0][0])"
      ],
      "execution_count": null,
      "outputs": [
        {
          "output_type": "execute_result",
          "data": {
            "text/plain": [
              "58"
            ]
          },
          "metadata": {
            "tags": []
          },
          "execution_count": 40
        }
      ]
    },
    {
      "cell_type": "code",
      "metadata": {
        "colab": {
          "base_uri": "https://localhost:8080/"
        },
        "id": "7CiWcEdkfbUx",
        "outputId": "4d443cab-84ed-4eb7-ea68-3a3efb1a7321"
      },
      "source": [
        "len(mat02[\"train_sent_final\"][0][0][0][0][0])"
      ],
      "execution_count": null,
      "outputs": [
        {
          "output_type": "execute_result",
          "data": {
            "text/plain": [
              "1"
            ]
          },
          "metadata": {
            "tags": []
          },
          "execution_count": 33
        }
      ]
    },
    {
      "cell_type": "code",
      "metadata": {
        "colab": {
          "base_uri": "https://localhost:8080/"
        },
        "id": "trL_XGU9feSe",
        "outputId": "2021a10f-2ac0-4192-b47f-c2c29899a639"
      },
      "source": [
        "len(mat02[\"train_sent_final\"][0][0][0][0][0][0])"
      ],
      "execution_count": null,
      "outputs": [
        {
          "output_type": "execute_result",
          "data": {
            "text/plain": [
              "1"
            ]
          },
          "metadata": {
            "tags": []
          },
          "execution_count": 34
        }
      ]
    },
    {
      "cell_type": "code",
      "metadata": {
        "colab": {
          "base_uri": "https://localhost:8080/"
        },
        "id": "1owoN6gxfjOH",
        "outputId": "00f35cff-6767-4d43-d34b-4b3a65cfa770"
      },
      "source": [
        "len(mat02[\"train_sent_final\"][0][0][0][0][0][0][0])"
      ],
      "execution_count": null,
      "outputs": [
        {
          "output_type": "execute_result",
          "data": {
            "text/plain": [
              "1"
            ]
          },
          "metadata": {
            "tags": []
          },
          "execution_count": 36
        }
      ]
    },
    {
      "cell_type": "code",
      "metadata": {
        "id": "EvWytAXpfmGl"
      },
      "source": [
        ""
      ],
      "execution_count": null,
      "outputs": []
    }
  ]
}