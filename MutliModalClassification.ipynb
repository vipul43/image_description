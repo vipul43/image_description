{
  "nbformat": 4,
  "nbformat_minor": 0,
  "metadata": {
    "colab": {
      "name": "MutliModalClassification.ipynb",
      "provenance": [],
      "collapsed_sections": [],
      "include_colab_link": true
    },
    "kernelspec": {
      "name": "python3",
      "display_name": "Python 3"
    },
    "language_info": {
      "name": "python"
    },
    "accelerator": "GPU"
  },
  "cells": [
    {
      "cell_type": "markdown",
      "metadata": {
        "id": "view-in-github",
        "colab_type": "text"
      },
      "source": [
        "<a href=\"https://colab.research.google.com/github/vipul43/image_description/blob/main/MutliModalClassification.ipynb\" target=\"_parent\"><img src=\"https://colab.research.google.com/assets/colab-badge.svg\" alt=\"Open In Colab\"/></a>"
      ]
    },
    {
      "cell_type": "code",
      "metadata": {
        "id": "FLUiA1SkmOzO"
      },
      "source": [
        "# installs"
      ],
      "execution_count": 1,
      "outputs": []
    },
    {
      "cell_type": "code",
      "metadata": {
        "id": "ydR0jWJ3aie6"
      },
      "source": [
        "# imports\n",
        "import scipy.io\n",
        "import cv2\n",
        "from google.colab.patches import cv2_imshow\n",
        "from skimage import io\n",
        "import numpy as np\n",
        "import pandas as pd\n",
        "from PIL import Image \n",
        "import matplotlib.pylab as plt\n",
        "import pickle\n",
        "from skimage import transform\n",
        "from sklearn.model_selection import train_test_split\n",
        "import tensorflow as tf\n",
        "from nltk.tokenize import word_tokenize\n",
        "from nltk.stem import WordNetLemmatizer, LancasterStemmer\n",
        "import spacy\n",
        "import nltk\n",
        "import keras.backend as K\n",
        "from keras.preprocessing.text import Tokenizer\n",
        "from keras.preprocessing.sequence import pad_sequences"
      ],
      "execution_count": 39,
      "outputs": []
    },
    {
      "cell_type": "code",
      "metadata": {
        "id": "997Sjj1RmTuf",
        "outputId": "a8d738d0-38fb-4375-f9d8-5ebe3c34dac9",
        "colab": {
          "base_uri": "https://localhost:8080/"
        }
      },
      "source": [
        "nltk.download('punkt') #tokenizer\n",
        "nltk.download('wordnet') #lemmatization\n",
        "\n",
        "lemmatizer = WordNetLemmatizer() #lemmatizer\n",
        "\n",
        "sp = spacy.load('en_core_web_sm') #lexical importance find\n",
        "\n",
        "ls = LancasterStemmer()"
      ],
      "execution_count": 4,
      "outputs": [
        {
          "output_type": "stream",
          "text": [
            "[nltk_data] Downloading package punkt to /root/nltk_data...\n",
            "[nltk_data]   Package punkt is already up-to-date!\n",
            "[nltk_data] Downloading package wordnet to /root/nltk_data...\n",
            "[nltk_data]   Package wordnet is already up-to-date!\n"
          ],
          "name": "stdout"
        }
      ]
    },
    {
      "cell_type": "code",
      "metadata": {
        "id": "Vcnwjcvnsm9K",
        "colab": {
          "base_uri": "https://localhost:8080/"
        },
        "outputId": "db77b918-166c-4f1a-83fb-147f61a28e0b"
      },
      "source": [
        "# data loading\n",
        "\n",
        "!gdown --id 1mrjvJq6XNM8QAgajSgrVGpsj8Vrm3BEm #PASCAL50S\n",
        "\n",
        "mat = scipy.io.loadmat('/content/pascal50S.mat')\n",
        "print(type(mat))"
      ],
      "execution_count": 5,
      "outputs": [
        {
          "output_type": "stream",
          "text": [
            "Downloading...\n",
            "From: https://drive.google.com/uc?id=1mrjvJq6XNM8QAgajSgrVGpsj8Vrm3BEm\n",
            "To: /content/pascal50S.mat\n",
            "\r  0% 0.00/1.12M [00:00<?, ?B/s]\r100% 1.12M/1.12M [00:00<00:00, 17.8MB/s]\n",
            "<class 'dict'>\n"
          ],
          "name": "stdout"
        }
      ]
    },
    {
      "cell_type": "code",
      "metadata": {
        "id": "bU8yBAKwmSAw"
      },
      "source": [
        "classes = ['person',\n",
        "           'bird', \n",
        "           'cat', \n",
        "           'cow', \n",
        "           'dog', \n",
        "           'horse', \n",
        "           'sheep', \n",
        "           'aeroplane', \n",
        "           'bicycle', \n",
        "           'boat', \n",
        "           'bus', \n",
        "           'car', \n",
        "           'motorbike', \n",
        "           'train', \n",
        "           'bottle', \n",
        "           'chair', \n",
        "           'dining table', \n",
        "           'potted plant',\n",
        "           'sofa', \n",
        "           'tv'] #NOUNS\n",
        "\n",
        "dict_classes = {'person':0, 'man':0, 'human':0,\n",
        "           'bird':1, 'penguin':1, 'parrot':1, 'sparrow':1,\n",
        "           'cat':2, \n",
        "           'cow':3, \n",
        "           'dog':4, \n",
        "           'horse':5,\n",
        "           'sheep':6, \n",
        "           'aeroplane':7, 'airplane':7, 'flight':7, 'plane':7, 'jet':7,\n",
        "           'bicycle':8, 'cycle':8,\n",
        "           'boat':9, 'ship':9,\n",
        "           'bus':10, \n",
        "           'car':11,\n",
        "           'motorbike':12, 'bike':12, 'motorcycle':12,\n",
        "           'train':13, \n",
        "           'bottle':14, 'waterbottle':14, 'drinkbottle':14, 'flask':14,\n",
        "           'chair':15,\n",
        "           'dining':16, 'diningtable': 16,\n",
        "           'potted':17, 'plant':17, 'pottedplant': 17,\n",
        "           'sofa':18, 'couch':18,\n",
        "           'tv':19, 'monitor':19, 'television':19, 'desktop':19}"
      ],
      "execution_count": 6,
      "outputs": []
    },
    {
      "cell_type": "code",
      "metadata": {
        "id": "j54sa4jSmcU3"
      },
      "source": [
        "count = {'0':0,   #person\n",
        "           '1':0, #bird\n",
        "           '2':0, #cat\n",
        "           '3':0, #cow\n",
        "           '4':0, #dog\n",
        "           '5':0, #horse\n",
        "           '6':0, #sheep\n",
        "           '7':0, #aeroplane\n",
        "           '8':0, #bicycle\n",
        "           '9':0, #boat\n",
        "           '10':0, #bus\n",
        "           '11':0, #car\n",
        "           '12':0, #motorbike\n",
        "           '13':0, #train\n",
        "           '14':0, #bottle\n",
        "           '15':0, #chair\n",
        "           '16':0, #dining\n",
        "           '17':0, #potted plant\n",
        "           '18':0, #sofa\n",
        "           '19':0} #tv/monitor"
      ],
      "execution_count": 7,
      "outputs": []
    },
    {
      "cell_type": "code",
      "metadata": {
        "id": "QwHnF1GlcmXV"
      },
      "source": [
        "# observing data\n",
        "data = []\n",
        "idx=0\n",
        "for sample in mat[\"train_sent_final\"][0]:\n",
        "  # image = io.imread(i[0][0])\n",
        "  # cv2_imshow(image)\n",
        "  link = [sample[0][0]] #image link\n",
        "  cls = set()\n",
        "  for k in sample[1]:\n",
        "    for sent in k:\n",
        "      # if idx==10:\n",
        "      #   break\n",
        "      # idx+=1\n",
        "\n",
        "      for word in sent[0].split():\n",
        "        pre_word = lemmatizer.lemmatize(ls.stem(word.lower()))\n",
        "        if(pre_word in dict_classes.keys()):\n",
        "          cls.add(dict_classes[pre_word])\n",
        "  for cl in cls:\n",
        "    count[str(cl)]+=1\n",
        "  data.append([link, list(cls)])"
      ],
      "execution_count": 8,
      "outputs": []
    },
    {
      "cell_type": "code",
      "metadata": {
        "id": "FFP5RsS7uP5p"
      },
      "source": [
        "file = open(\"data.pkl\", \"wb\")\n",
        "pickle.dump(data, file)\n",
        "file.close()"
      ],
      "execution_count": 9,
      "outputs": []
    },
    {
      "cell_type": "code",
      "metadata": {
        "id": "IbxC-8ReuQok",
        "outputId": "30d6795d-e474-459d-a901-bf95940f72fb",
        "colab": {
          "base_uri": "https://localhost:8080/"
        }
      },
      "source": [
        "# preprocessing the dataset\n",
        "'''\n",
        "data -> url -> image -> array -> resized array\n",
        "TrainX = array of images resized to (224x224x3)\n",
        "TrainY = array of labels with size (20x1) in ones-zeros vector like [1, 1, 0, ....]\n",
        "'''\n",
        "# TrainX\n",
        "new_shape = (224, 224, 3)\n",
        "TrainX = []\n",
        "encoded_train_images = {}\n",
        "\n",
        "base_model = tf.keras.applications.Xception(include_top = False)\n",
        "for point in data:\n",
        "  photo = io.imread(point[0][0])\n",
        "  photo = transform.resize(image=photo, output_shape=new_shape)\n",
        "  TrainX.append(photo)\n",
        "\n",
        "  batch_photo = np.expand_dims(photo, axis=0)\n",
        "  preproc_photo = tf.keras.applications.xception.preprocess_input(batch_photo)\n",
        "  vec_repre_photo = base_model.predict(preproc_photo)\n",
        "  # vec_repre_photo = np.reshape(vec_repre_photo, vec_repre_photo.shape[1])\n",
        "  encoded_train_images[point[0][0]] = vec_repre_photo\n",
        "\n",
        "TrainX = np.array(TrainX)"
      ],
      "execution_count": 10,
      "outputs": [
        {
          "output_type": "stream",
          "text": [
            "Downloading data from https://storage.googleapis.com/tensorflow/keras-applications/xception/xception_weights_tf_dim_ordering_tf_kernels_notop.h5\n",
            "83689472/83683744 [==============================] - 1s 0us/step\n"
          ],
          "name": "stdout"
        }
      ]
    },
    {
      "cell_type": "code",
      "metadata": {
        "id": "EtKkrTPSuVDp",
        "outputId": "c4198120-935f-4834-c124-fa2cfc883569",
        "colab": {
          "base_uri": "https://localhost:8080/"
        }
      },
      "source": [
        "print(points[0])"
      ],
      "execution_count": 15,
      "outputs": [
        {
          "output_type": "stream",
          "text": [
            "['https://filebox.ece.vt.edu/~vrama91/PASCAL/2008_006488.jpg']\n"
          ],
          "name": "stdout"
        }
      ]
    },
    {
      "cell_type": "code",
      "metadata": {
        "id": "l7yUK4tZqhe5"
      },
      "source": [
        "# TrainY\n",
        "TrainY = []\n",
        "for points in data:\n",
        "  full_label = np.zeros(shape=(20, ))\n",
        "  for label in points[1]:\n",
        "    full_label[label] = 1\n",
        "  TrainY.append(full_label)\n",
        "TrainY = np.array(TrainY)"
      ],
      "execution_count": 16,
      "outputs": []
    },
    {
      "cell_type": "code",
      "metadata": {
        "id": "jCcZucFLopCy"
      },
      "source": [
        "with open(\"encoded_train_images.pkl\", \"wb\") as encoded_pickle:\n",
        "    pickle.dump(encoded_train_images, encoded_pickle)"
      ],
      "execution_count": 17,
      "outputs": []
    },
    {
      "cell_type": "code",
      "metadata": {
        "id": "EOjhfXf0zUpX",
        "colab": {
          "base_uri": "https://localhost:8080/"
        },
        "outputId": "5a0abe35-8888-46ee-e9e6-8b8357f7c7d2"
      },
      "source": [
        "# data splitting\n",
        "'''\n",
        "train size: 700 images\n",
        "val size: 300 images\n",
        "output: TrainX, TrainY, ValX, ValY\n",
        "'''\n",
        "TrainX, ValX, TrainY, ValY = train_test_split(TrainX, TrainY, test_size=0.3, random_state=1)\n",
        "print(\"Train X shape: \", TrainX.shape)\n",
        "print(\"Train Y shape: \", TrainY.shape)\n",
        "print(\"Val X shape: \", ValX.shape)\n",
        "print(\"Val Y shape: \", ValY.shape)"
      ],
      "execution_count": 18,
      "outputs": [
        {
          "output_type": "stream",
          "text": [
            "Train X shape:  (700, 224, 224, 3)\n",
            "Train Y shape:  (700, 20)\n",
            "Val X shape:  (300, 224, 224, 3)\n",
            "Val Y shape:  (300, 20)\n"
          ],
          "name": "stdout"
        }
      ]
    },
    {
      "cell_type": "code",
      "metadata": {
        "id": "BAUz0Qt8wpw4"
      },
      "source": [
        "# instantiate data augmentation\n",
        "'''\n",
        "use this 'tf.keras.preprocessing.ImageDataGenerator'\n",
        "'''\n",
        "datagen = tf.keras.preprocessing.image.ImageDataGenerator(rescale=1./255,\n",
        "                                                          shear_range=0.2, \n",
        "                                                          zoom_range=0.2,\n",
        "                                                          rotation_range=15,\n",
        "                                                          horizontal_flip=True)"
      ],
      "execution_count": 19,
      "outputs": []
    },
    {
      "cell_type": "code",
      "metadata": {
        "id": "0eKu5sh1wZA-",
        "colab": {
          "base_uri": "https://localhost:8080/"
        },
        "outputId": "36b862e3-9603-4e39-b16d-a29578a71348"
      },
      "source": [
        "# model making\n",
        "# input layer\n",
        "input1 = tf.keras.Input(shape=(224, 224, 3), name='input1')\n",
        "\n",
        "# Transfer Learning with VGG16 model with weights as imagenet\n",
        "vgg16 = tf.keras.applications.VGG16(include_top=False, weights=\"imagenet\", classes=20)\n",
        "vgg16.trainable = False\n",
        "x = vgg16(input1)\n",
        "\n",
        "# Dense Layers\n",
        "x = tf.keras.layers.Flatten(name='flatten')(x)\n",
        "x = tf.keras.layers.BatchNormalization(name='norm1')(x)\n",
        "x = tf.keras.layers.Dense(192, activation='relu', name='dense1')(x)\n",
        "x = tf.keras.layers.BatchNormalization(name='norm2')(x)\n",
        "x = tf.keras.layers.Dense(84, activation='relu', name='dense2')(x)\n",
        "x = tf.keras.layers.BatchNormalization(name='norm3')(x)\n",
        "x = tf.keras.layers.Dense(64, activation='relu', name='dense3')(x)\n",
        "x = tf.keras.layers.BatchNormalization(name='norm4')(x)\n",
        "\n",
        "#Output layer\n",
        "output = tf.keras.layers.Dense(500, activation=\"linear\", name='output')(x)\n",
        "\n",
        "model1 = tf.keras.models.Model(inputs=input1, outputs=output, name='model1')\n",
        "\n",
        "model1.summary()"
      ],
      "execution_count": 66,
      "outputs": [
        {
          "output_type": "stream",
          "text": [
            "Model: \"model1\"\n",
            "_________________________________________________________________\n",
            "Layer (type)                 Output Shape              Param #   \n",
            "=================================================================\n",
            "input1 (InputLayer)          [(None, 224, 224, 3)]     0         \n",
            "_________________________________________________________________\n",
            "vgg16 (Functional)           (None, None, None, 512)   14714688  \n",
            "_________________________________________________________________\n",
            "flatten (Flatten)            (None, 25088)             0         \n",
            "_________________________________________________________________\n",
            "norm1 (BatchNormalization)   (None, 25088)             100352    \n",
            "_________________________________________________________________\n",
            "dense1 (Dense)               (None, 192)               4817088   \n",
            "_________________________________________________________________\n",
            "norm2 (BatchNormalization)   (None, 192)               768       \n",
            "_________________________________________________________________\n",
            "dense2 (Dense)               (None, 84)                16212     \n",
            "_________________________________________________________________\n",
            "norm3 (BatchNormalization)   (None, 84)                336       \n",
            "_________________________________________________________________\n",
            "dense3 (Dense)               (None, 64)                5440      \n",
            "_________________________________________________________________\n",
            "norm4 (BatchNormalization)   (None, 64)                256       \n",
            "_________________________________________________________________\n",
            "output (Dense)               (None, 500)               32500     \n",
            "=================================================================\n",
            "Total params: 19,687,640\n",
            "Trainable params: 4,922,096\n",
            "Non-trainable params: 14,765,544\n",
            "_________________________________________________________________\n"
          ],
          "name": "stdout"
        }
      ]
    },
    {
      "cell_type": "markdown",
      "metadata": {
        "id": "8SaMjBbkvEMl"
      },
      "source": [
        "**Text Model(Model2)**"
      ]
    },
    {
      "cell_type": "markdown",
      "metadata": {
        "id": "3Q2kUnc9vtq4"
      },
      "source": [
        "#**Data Preprocessing**"
      ]
    },
    {
      "cell_type": "code",
      "metadata": {
        "id": "yNvIanCDvKKM"
      },
      "source": [
        "# observing data for text Model\n",
        "data2 = []\n",
        "stringX2 = []\n",
        "idx=0\n",
        "for sample in mat[\"train_sent_final\"][0]:\n",
        "  # image = io.imread(i[0][0])\n",
        "  # cv2_imshow(image)\n",
        "  link = [sample[0][0]] #image link\n",
        "  cls = set()\n",
        "  for k in sample[1]:\n",
        "    for sent in k:\n",
        "      # if idx==10:\n",
        "      #   break\n",
        "      # idx+=1\n",
        "\n",
        "      for word in sent[0].split():\n",
        "        pre_word = lemmatizer.lemmatize(ls.stem(word.lower()))\n",
        "        if(pre_word in dict_classes.keys()):\n",
        "          cls.add(dict_classes[pre_word])\n",
        "  for cl in cls:\n",
        "    count[str(cl)]+=1\n",
        "\n",
        "  for k in sample[1]:\n",
        "    for sent in k:\n",
        "      stringX2.append(sent[0])\n",
        "      temp = np.zeros(shape=20)\n",
        "      for ele in list(cls):\n",
        "        temp[ele] = 1\n",
        "      data2.append([sent, temp])"
      ],
      "execution_count": 44,
      "outputs": []
    },
    {
      "cell_type": "code",
      "metadata": {
        "id": "LalUNSGuv24G"
      },
      "source": [
        "#Preparation of TrainX2 and Trainy2 for Text Model(Model2)\n",
        "tk = Tokenizer(filters='!\"#$%&()*+,-./:;<=>?@[\\]^`{|}~\\t\\n')\n",
        "tk.fit_on_texts(stringX2)\n",
        "X_seq = tk.texts_to_sequences(stringX2)\n",
        "X_pad = pad_sequences(X_seq, maxlen=100, padding='post')\n",
        "X_pad.shape\n",
        "TrainX2 = X_pad\n",
        "Trainy2 = np.zeros(shape=(len(data2), 20))\n",
        "i = 0\n",
        "for d in data2:\n",
        "  Trainy2[i] = np.array(d[1])\n",
        "  i = i + 1"
      ],
      "execution_count": 60,
      "outputs": []
    },
    {
      "cell_type": "code",
      "metadata": {
        "id": "FjybQaQR4VUC",
        "outputId": "2ce9da0f-2074-42d3-a913-8523c4ca63af",
        "colab": {
          "base_uri": "https://localhost:8080/"
        }
      },
      "source": [
        "INP_LEN1 = 100\n",
        "input2 = tf.keras.Input(shape=(INP_LEN1,), name='input')\n",
        "embed = tf.keras.layers.Embedding((len(tk.word_counts)+1),INP_LEN1)(input2)\n",
        "rnn1 = tf.keras.layers.SimpleRNN(192, return_sequences=True, dropout=0.3)(embed)\n",
        "pool = tf.keras.layers.MaxPool1D()(rnn1)\n",
        "rnn2 = tf.keras.layers.SimpleRNN(128, dropout=0.2)(pool)\n",
        "dense1 = tf.keras.layers.Dense(84, activation='relu')(rnn2)\n",
        "drop1 = tf.keras.layers.Dropout(0.2)(dense1)\n",
        "norm1 = tf.keras.layers.BatchNormalization()(drop1)\n",
        "output = tf.keras.layers.Dense(500, activation='linear')(norm1)\n",
        "\n",
        "model2 = tf.keras.models.Model(inputs=input2, outputs=output, name='model2')\n",
        "model2.summary()\n"
      ],
      "execution_count": 68,
      "outputs": [
        {
          "output_type": "stream",
          "text": [
            "Model: \"model2\"\n",
            "_________________________________________________________________\n",
            "Layer (type)                 Output Shape              Param #   \n",
            "=================================================================\n",
            "input (InputLayer)           [(None, 100)]             0         \n",
            "_________________________________________________________________\n",
            "embedding_3 (Embedding)      (None, 100, 100)          758600    \n",
            "_________________________________________________________________\n",
            "simple_rnn (SimpleRNN)       (None, 100, 192)          56256     \n",
            "_________________________________________________________________\n",
            "max_pooling1d (MaxPooling1D) (None, 50, 192)           0         \n",
            "_________________________________________________________________\n",
            "simple_rnn_1 (SimpleRNN)     (None, 128)               41088     \n",
            "_________________________________________________________________\n",
            "dense_1 (Dense)              (None, 84)                10836     \n",
            "_________________________________________________________________\n",
            "dropout (Dropout)            (None, 84)                0         \n",
            "_________________________________________________________________\n",
            "batch_normalization_4 (Batch (None, 84)                336       \n",
            "_________________________________________________________________\n",
            "dense_2 (Dense)              (None, 500)               42500     \n",
            "=================================================================\n",
            "Total params: 909,616\n",
            "Trainable params: 909,448\n",
            "Non-trainable params: 168\n",
            "_________________________________________________________________\n"
          ],
          "name": "stdout"
        }
      ]
    },
    {
      "cell_type": "markdown",
      "metadata": {
        "id": "jytYPhuj47A-"
      },
      "source": [
        "**Concatenating the Image Model(Model1) and Text Model(Model2)**"
      ]
    },
    {
      "cell_type": "code",
      "metadata": {
        "id": "rTmoWQ-f46cb",
        "outputId": "3cbb7e57-b30c-4ecd-9012-7a2e3385d8ec",
        "colab": {
          "base_uri": "https://localhost:8080/",
          "height": 1000
        }
      },
      "source": [
        "concate = tf.keras.layers.Concatenate(axis=-1)([model1.output, model2.output])\n",
        "final_dense = tf.keras.layers.Dense(256, activation='relu')(concate)\n",
        "Output = tf.keras.layers.Dense(20, activation='sigmoid')(final_dense)\n",
        "finalModel  = tf.keras.models.Model(inputs=[input1,input2],outputs=Output)\n",
        "\n",
        "finalModel.summary()\n",
        "tf.keras.utils.plot_model(finalModel,to_file=\"finalModel.png\")"
      ],
      "execution_count": 71,
      "outputs": [
        {
          "output_type": "stream",
          "text": [
            "Model: \"model_3\"\n",
            "__________________________________________________________________________________________________\n",
            "Layer (type)                    Output Shape         Param #     Connected to                     \n",
            "==================================================================================================\n",
            "input1 (InputLayer)             [(None, 224, 224, 3) 0                                            \n",
            "__________________________________________________________________________________________________\n",
            "vgg16 (Functional)              (None, None, None, 5 14714688    input1[0][0]                     \n",
            "__________________________________________________________________________________________________\n",
            "flatten (Flatten)               (None, 25088)        0           vgg16[0][0]                      \n",
            "__________________________________________________________________________________________________\n",
            "input (InputLayer)              [(None, 100)]        0                                            \n",
            "__________________________________________________________________________________________________\n",
            "norm1 (BatchNormalization)      (None, 25088)        100352      flatten[0][0]                    \n",
            "__________________________________________________________________________________________________\n",
            "embedding_3 (Embedding)         (None, 100, 100)     758600      input[0][0]                      \n",
            "__________________________________________________________________________________________________\n",
            "dense1 (Dense)                  (None, 192)          4817088     norm1[0][0]                      \n",
            "__________________________________________________________________________________________________\n",
            "simple_rnn (SimpleRNN)          (None, 100, 192)     56256       embedding_3[0][0]                \n",
            "__________________________________________________________________________________________________\n",
            "norm2 (BatchNormalization)      (None, 192)          768         dense1[0][0]                     \n",
            "__________________________________________________________________________________________________\n",
            "max_pooling1d (MaxPooling1D)    (None, 50, 192)      0           simple_rnn[0][0]                 \n",
            "__________________________________________________________________________________________________\n",
            "dense2 (Dense)                  (None, 84)           16212       norm2[0][0]                      \n",
            "__________________________________________________________________________________________________\n",
            "simple_rnn_1 (SimpleRNN)        (None, 128)          41088       max_pooling1d[0][0]              \n",
            "__________________________________________________________________________________________________\n",
            "norm3 (BatchNormalization)      (None, 84)           336         dense2[0][0]                     \n",
            "__________________________________________________________________________________________________\n",
            "dense_1 (Dense)                 (None, 84)           10836       simple_rnn_1[0][0]               \n",
            "__________________________________________________________________________________________________\n",
            "dense3 (Dense)                  (None, 64)           5440        norm3[0][0]                      \n",
            "__________________________________________________________________________________________________\n",
            "dropout (Dropout)               (None, 84)           0           dense_1[0][0]                    \n",
            "__________________________________________________________________________________________________\n",
            "norm4 (BatchNormalization)      (None, 64)           256         dense3[0][0]                     \n",
            "__________________________________________________________________________________________________\n",
            "batch_normalization_4 (BatchNor (None, 84)           336         dropout[0][0]                    \n",
            "__________________________________________________________________________________________________\n",
            "output (Dense)                  (None, 500)          32500       norm4[0][0]                      \n",
            "__________________________________________________________________________________________________\n",
            "dense_2 (Dense)                 (None, 500)          42500       batch_normalization_4[0][0]      \n",
            "__________________________________________________________________________________________________\n",
            "concatenate_3 (Concatenate)     (None, 1000)         0           output[0][0]                     \n",
            "                                                                 dense_2[0][0]                    \n",
            "__________________________________________________________________________________________________\n",
            "dense_5 (Dense)                 (None, 256)          256256      concatenate_3[0][0]              \n",
            "__________________________________________________________________________________________________\n",
            "dense_6 (Dense)                 (None, 20)           5140        dense_5[0][0]                    \n",
            "==================================================================================================\n",
            "Total params: 20,858,652\n",
            "Trainable params: 6,092,940\n",
            "Non-trainable params: 14,765,712\n",
            "__________________________________________________________________________________________________\n"
          ],
          "name": "stdout"
        },
        {
          "output_type": "execute_result",
          "data": {
            "image/png": "[encoded data removed]",
            "text/plain": [
              "<IPython.core.display.Image object>"
            ]
          },
          "metadata": {
            "tags": []
          },
          "execution_count": 71
        }
      ]
    },
    {
      "cell_type": "code",
      "metadata": {
        "id": "ep1eA_5vxsjY"
      },
      "source": [
        "# # config cell\n",
        "# LR = 0.0009\n",
        "# EPOCHS = 20\n",
        "# BATCH_SIZE = 16\n",
        "# DECAY = LR // EPOCHS\n",
        "# LOSS = tf.keras.losses.BinaryCrossentropy()\n",
        "# OPTIMIZER = tf.keras.optimizers.Adam(learning_rate=LR, decay=DECAY)\n",
        "# METRICS = ['acc']"
      ],
      "execution_count": 25,
      "outputs": []
    },
    {
      "cell_type": "code",
      "metadata": {
        "id": "bI8gejGgxrFJ"
      },
      "source": [
        "# model compiling\n",
        "# model1.compile(loss=LOSS, optimizer=OPTIMIZER, metrics=METRICS)"
      ],
      "execution_count": null,
      "outputs": []
    },
    {
      "cell_type": "code",
      "metadata": {
        "id": "jlq_dTYWyVje",
        "colab": {
          "base_uri": "https://localhost:8080/"
        },
        "outputId": "ae13084d-5985-4f20-c770-1237733d3878"
      },
      "source": [
        "# training\n",
        "# history = model1.fit(datagen.flow(TrainX, TrainY, batch_size=BATCH_SIZE), validation_data=datagen.flow(ValX, ValY, batch_size=BATCH_SIZE), epochs=EPOCHS)"
      ],
      "execution_count": null,
      "outputs": [
        {
          "output_type": "stream",
          "text": [
            "Epoch 1/20\n",
            "44/44 [==============================] - 12s 255ms/step - loss: 0.1644 - acc: 0.3155 - val_loss: 0.2295 - val_acc: 0.0967\n",
            "Epoch 2/20\n",
            "44/44 [==============================] - 11s 243ms/step - loss: 0.1580 - acc: 0.3200 - val_loss: 0.2061 - val_acc: 0.3333\n",
            "Epoch 3/20\n",
            "44/44 [==============================] - 11s 248ms/step - loss: 0.1513 - acc: 0.3470 - val_loss: 0.2030 - val_acc: 0.1600\n",
            "Epoch 4/20\n",
            "44/44 [==============================] - 11s 247ms/step - loss: 0.1506 - acc: 0.3657 - val_loss: 0.2180 - val_acc: 0.1867\n",
            "Epoch 5/20\n",
            "44/44 [==============================] - 11s 241ms/step - loss: 0.1456 - acc: 0.3548 - val_loss: 0.1985 - val_acc: 0.1900\n",
            "Epoch 6/20\n",
            "44/44 [==============================] - 11s 242ms/step - loss: 0.1427 - acc: 0.3658 - val_loss: 0.1987 - val_acc: 0.2367\n",
            "Epoch 7/20\n",
            "44/44 [==============================] - 11s 243ms/step - loss: 0.1504 - acc: 0.3499 - val_loss: 0.2022 - val_acc: 0.2267\n",
            "Epoch 8/20\n",
            "44/44 [==============================] - 11s 242ms/step - loss: 0.1462 - acc: 0.3481 - val_loss: 0.1966 - val_acc: 0.1767\n",
            "Epoch 9/20\n",
            "44/44 [==============================] - 11s 241ms/step - loss: 0.1369 - acc: 0.4053 - val_loss: 0.2005 - val_acc: 0.2167\n",
            "Epoch 10/20\n",
            "44/44 [==============================] - 11s 244ms/step - loss: 0.1379 - acc: 0.4022 - val_loss: 0.2113 - val_acc: 0.1800\n",
            "Epoch 11/20\n",
            "44/44 [==============================] - 11s 241ms/step - loss: 0.1387 - acc: 0.3914 - val_loss: 0.2294 - val_acc: 0.1433\n",
            "Epoch 12/20\n",
            "44/44 [==============================] - 11s 242ms/step - loss: 0.1391 - acc: 0.4160 - val_loss: 0.1998 - val_acc: 0.2267\n",
            "Epoch 13/20\n",
            "44/44 [==============================] - 11s 242ms/step - loss: 0.1275 - acc: 0.4135 - val_loss: 0.2096 - val_acc: 0.1800\n",
            "Epoch 14/20\n",
            "44/44 [==============================] - 11s 242ms/step - loss: 0.1300 - acc: 0.4019 - val_loss: 0.1987 - val_acc: 0.2233\n",
            "Epoch 15/20\n",
            "44/44 [==============================] - 11s 242ms/step - loss: 0.1354 - acc: 0.4011 - val_loss: 0.2211 - val_acc: 0.1967\n",
            "Epoch 16/20\n",
            "44/44 [==============================] - 11s 242ms/step - loss: 0.1389 - acc: 0.3356 - val_loss: 0.2001 - val_acc: 0.2033\n",
            "Epoch 17/20\n",
            "44/44 [==============================] - 11s 242ms/step - loss: 0.1269 - acc: 0.3881 - val_loss: 0.2484 - val_acc: 0.0867\n",
            "Epoch 18/20\n",
            "44/44 [==============================] - 11s 242ms/step - loss: 0.1340 - acc: 0.3959 - val_loss: 0.2425 - val_acc: 0.1400\n",
            "Epoch 19/20\n",
            "44/44 [==============================] - 11s 242ms/step - loss: 0.1352 - acc: 0.3962 - val_loss: 0.2277 - val_acc: 0.2433\n",
            "Epoch 20/20\n",
            "44/44 [==============================] - 11s 244ms/step - loss: 0.1333 - acc: 0.3444 - val_loss: 0.2137 - val_acc: 0.1567\n"
          ],
          "name": "stdout"
        }
      ]
    },
    {
      "cell_type": "code",
      "metadata": {
        "id": "hz2B9SHzyXvo",
        "colab": {
          "base_uri": "https://localhost:8080/",
          "height": 573
        },
        "outputId": "a2629cb9-da78-4226-b68b-7e469cc9ba15"
      },
      "source": [
        "# plotting curves\n",
        "'''\n",
        "loss -> train, val\n",
        "accuracy -> train, val\n",
        "'''\n",
        "plt.plot(list(history.history.values())[0])\n",
        "plt.plot(list(history.history.values())[2])\n",
        "plt.title('Loss Plot')\n",
        "plt.xlabel('epochs')\n",
        "plt.ylabel('loss')\n",
        "plt.legend(['train loss', 'val loss'])\n",
        "plt.show()\n",
        "\n",
        "plt.plot(list(history.history.values())[1])\n",
        "plt.plot(list(history.history.values())[3])\n",
        "plt.title('Accuracy Plot')\n",
        "plt.xlabel('epochs')\n",
        "plt.ylabel('accuracy')\n",
        "plt.legend(['train accuracy', 'val accuracy'])\n",
        "plt.show()"
      ],
      "execution_count": null,
      "outputs": [
        {
          "output_type": "display_data",
          "data": {
            "image/png": "[encoded data removed]",
            "text/plain": [
              "<Figure size 432x288 with 1 Axes>"
            ]
          },
          "metadata": {
            "tags": [],
            "needs_background": "light"
          }
        },
        {
          "output_type": "display_data",
          "data": {
            "image/png": "[encoded data removed]",
            "text/plain": [
              "<Figure size 432x288 with 1 Axes>"
            ]
          },
          "metadata": {
            "tags": [],
            "needs_background": "light"
          }
        }
      ]
    },
    {
      "cell_type": "code",
      "metadata": {
        "id": "zW91044Xydyo",
        "colab": {
          "base_uri": "https://localhost:8080/"
        },
        "outputId": "72dc4fe0-dcf0-44eb-bffd-a25704927ad9"
      },
      "source": [
        "# random predictions on val dataset\n",
        "\n",
        "rnd = np.random.randint(0, len(ValX))\n",
        "point = ValX[rnd]\n",
        "label = ValY[rnd]\n",
        "pred = model.predict(np.asarray([point]))\n",
        "pred = (pred > 0.5)\n",
        "pred = pred.astype(int)\n",
        "print(\"True Label:\", label)\n",
        "print(\"Predicted Label:\", pred)"
      ],
      "execution_count": null,
      "outputs": [
        {
          "output_type": "stream",
          "text": [
            "True Label: [0. 0. 0. 0. 0. 0. 0. 0. 0. 0. 0. 0. 0. 0. 0. 0. 0. 0. 1. 0.]\n",
            "Predicted Label: [[0 1 0 0 0 0 0 0 0 0 0 0 0 0 0 0 0 0 0 0]]\n"
          ],
          "name": "stdout"
        }
      ]
    },
    {
      "cell_type": "code",
      "metadata": {
        "id": "tb9KBM2WNlzu"
      },
      "source": [
        ""
      ],
      "execution_count": null,
      "outputs": []
    }
  ]
}