{
  "nbformat": 4,
  "nbformat_minor": 0,
  "metadata": {
    "colab": {
      "name": "MutliModalClassification.ipynb",
      "provenance": [],
      "collapsed_sections": [],
      "toc_visible": true,
      "include_colab_link": true
    },
    "kernelspec": {
      "name": "python3",
      "display_name": "Python 3"
    },
    "language_info": {
      "name": "python"
    },
    "accelerator": "GPU"
  },
  "cells": [
    {
      "cell_type": "markdown",
      "metadata": {
        "id": "view-in-github",
        "colab_type": "text"
      },
      "source": [
        "<a href=\"https://colab.research.google.com/github/vipul43/image_description/blob/main/MutliModalClassification.ipynb\" target=\"_parent\"><img src=\"https://colab.research.google.com/assets/colab-badge.svg\" alt=\"Open In Colab\"/></a>"
      ]
    },
    {
      "cell_type": "code",
      "metadata": {
        "id": "FLUiA1SkmOzO"
      },
      "source": [
        "# installs"
      ],
      "execution_count": 1,
      "outputs": []
    },
    {
      "cell_type": "code",
      "metadata": {
        "id": "ydR0jWJ3aie6"
      },
      "source": [
        "# imports\n",
        "import scipy.io\n",
        "import cv2\n",
        "from google.colab.patches import cv2_imshow\n",
        "from skimage import io\n",
        "import numpy as np\n",
        "import pandas as pd\n",
        "from PIL import Image \n",
        "import matplotlib.pylab as plt\n",
        "import pickle\n",
        "from skimage import transform\n",
        "from sklearn.model_selection import train_test_split\n",
        "import tensorflow as tf\n",
        "from nltk.tokenize import word_tokenize\n",
        "from nltk.stem import WordNetLemmatizer, LancasterStemmer\n",
        "import spacy\n",
        "import nltk\n",
        "import keras.backend as K\n",
        "from keras.preprocessing.text import Tokenizer\n",
        "from keras.preprocessing.sequence import pad_sequences"
      ],
      "execution_count": 2,
      "outputs": []
    },
    {
      "cell_type": "code",
      "metadata": {
        "id": "997Sjj1RmTuf",
        "colab": {
          "base_uri": "https://localhost:8080/"
        },
        "outputId": "3346c6f5-dc2f-409f-a3b8-d85d945b9302"
      },
      "source": [
        "nltk.download('punkt') #tokenizer\n",
        "nltk.download('wordnet') #lemmatization\n",
        "\n",
        "lemmatizer = WordNetLemmatizer() #lemmatizer\n",
        "\n",
        "sp = spacy.load('en_core_web_sm') #lexical importance find\n",
        "\n",
        "ls = LancasterStemmer()"
      ],
      "execution_count": 3,
      "outputs": [
        {
          "output_type": "stream",
          "text": [
            "[nltk_data] Downloading package punkt to /root/nltk_data...\n",
            "[nltk_data]   Unzipping tokenizers/punkt.zip.\n",
            "[nltk_data] Downloading package wordnet to /root/nltk_data...\n",
            "[nltk_data]   Unzipping corpora/wordnet.zip.\n"
          ],
          "name": "stdout"
        }
      ]
    },
    {
      "cell_type": "code",
      "metadata": {
        "id": "Vcnwjcvnsm9K",
        "colab": {
          "base_uri": "https://localhost:8080/"
        },
        "outputId": "e1664634-438b-4758-d4c0-1ae51b05ba34"
      },
      "source": [
        "# data loading\n",
        "\n",
        "!gdown --id 1mrjvJq6XNM8QAgajSgrVGpsj8Vrm3BEm #PASCAL50S\n",
        "\n",
        "mat = scipy.io.loadmat('/content/pascal50S.mat')\n",
        "print(type(mat))"
      ],
      "execution_count": 4,
      "outputs": [
        {
          "output_type": "stream",
          "text": [
            "Downloading...\n",
            "From: https://drive.google.com/uc?id=1mrjvJq6XNM8QAgajSgrVGpsj8Vrm3BEm\n",
            "To: /content/pascal50S.mat\n",
            "\r  0% 0.00/1.12M [00:00<?, ?B/s]\r100% 1.12M/1.12M [00:00<00:00, 89.1MB/s]\n",
            "<class 'dict'>\n"
          ],
          "name": "stdout"
        }
      ]
    },
    {
      "cell_type": "code",
      "metadata": {
        "id": "bU8yBAKwmSAw"
      },
      "source": [
        "classes = ['person',\n",
        "           'bird', \n",
        "           'cat', \n",
        "           'cow', \n",
        "           'dog', \n",
        "           'horse', \n",
        "           'sheep', \n",
        "           'aeroplane', \n",
        "           'bicycle', \n",
        "           'boat', \n",
        "           'bus', \n",
        "           'car', \n",
        "           'motorbike', \n",
        "           'train', \n",
        "           'bottle', \n",
        "           'chair', \n",
        "           'dining table', \n",
        "           'potted plant',\n",
        "           'sofa', \n",
        "           'tv'] #NOUNS\n",
        "\n",
        "dict_classes = {'person':0, 'man':0, 'human':0,\n",
        "           'bird':1, 'penguin':1, 'parrot':1, 'sparrow':1,\n",
        "           'cat':2, \n",
        "           'cow':3, \n",
        "           'dog':4, \n",
        "           'horse':5,\n",
        "           'sheep':6, \n",
        "           'aeroplane':7, 'airplane':7, 'flight':7, 'plane':7, 'jet':7,\n",
        "           'bicycle':8, 'cycle':8,\n",
        "           'boat':9, 'ship':9,\n",
        "           'bus':10, \n",
        "           'car':11,\n",
        "           'motorbike':12, 'bike':12, 'motorcycle':12,\n",
        "           'train':13, \n",
        "           'bottle':14, 'waterbottle':14, 'drinkbottle':14, 'flask':14,\n",
        "           'chair':15,\n",
        "           'dining':16, 'diningtable': 16,\n",
        "           'potted':17, 'plant':17, 'pottedplant': 17,\n",
        "           'sofa':18, 'couch':18,\n",
        "           'tv':19, 'monitor':19, 'television':19, 'desktop':19}"
      ],
      "execution_count": 5,
      "outputs": []
    },
    {
      "cell_type": "code",
      "metadata": {
        "id": "j54sa4jSmcU3"
      },
      "source": [
        "count = {'0':0,   #person\n",
        "           '1':0, #bird\n",
        "           '2':0, #cat\n",
        "           '3':0, #cow\n",
        "           '4':0, #dog\n",
        "           '5':0, #horse\n",
        "           '6':0, #sheep\n",
        "           '7':0, #aeroplane\n",
        "           '8':0, #bicycle\n",
        "           '9':0, #boat\n",
        "           '10':0, #bus\n",
        "           '11':0, #car\n",
        "           '12':0, #motorbike\n",
        "           '13':0, #train\n",
        "           '14':0, #bottle\n",
        "           '15':0, #chair\n",
        "           '16':0, #dining\n",
        "           '17':0, #potted plant\n",
        "           '18':0, #sofa\n",
        "           '19':0} #tv/monitor"
      ],
      "execution_count": 6,
      "outputs": []
    },
    {
      "cell_type": "code",
      "metadata": {
        "id": "QwHnF1GlcmXV"
      },
      "source": [
        "# observing data\n",
        "data = []\n",
        "idx=0\n",
        "for sample in mat[\"train_sent_final\"][0]:\n",
        "  # image = io.imread(i[0][0])\n",
        "  # cv2_imshow(image)\n",
        "  link = [sample[0][0]] #image link\n",
        "  cls = set()\n",
        "  for k in sample[1]:\n",
        "    for sent in k:\n",
        "      # if idx==10:\n",
        "      #   break\n",
        "      # idx+=1\n",
        "\n",
        "      for word in sent[0].split():\n",
        "        pre_word = lemmatizer.lemmatize(ls.stem(word.lower()))\n",
        "        if(pre_word in dict_classes.keys()):\n",
        "          cls.add(dict_classes[pre_word])\n",
        "  for cl in cls:\n",
        "    count[str(cl)]+=1\n",
        "  data.append([link, list(cls)])"
      ],
      "execution_count": 7,
      "outputs": []
    },
    {
      "cell_type": "code",
      "metadata": {
        "id": "FFP5RsS7uP5p"
      },
      "source": [
        "file = open(\"data.pkl\", \"wb\")\n",
        "pickle.dump(data, file)\n",
        "file.close()"
      ],
      "execution_count": 8,
      "outputs": []
    },
    {
      "cell_type": "code",
      "metadata": {
        "id": "IbxC-8ReuQok",
        "outputId": "26b4171b-9b0d-42fb-bb6c-5e54c52a6a15",
        "colab": {
          "base_uri": "https://localhost:8080/"
        }
      },
      "source": [
        "# preprocessing the dataset\n",
        "'''\n",
        "data -> url -> image -> array -> resized array\n",
        "TrainX = array of images resized to (224x224x3)\n",
        "TrainY = array of labels with size (20x1) in ones-zeros vector like [1, 1, 0, ....]\n",
        "'''\n",
        "# TrainX\n",
        "new_shape = (224, 224, 3)\n",
        "TrainX1 = []\n",
        "encoded_train_images = {}\n",
        "\n",
        "base_model = tf.keras.applications.Xception(include_top = False)\n",
        "for point in data:\n",
        "  photo = io.imread(point[0][0])\n",
        "  photo = transform.resize(image=photo, output_shape=new_shape)\n",
        "  TrainX1.append(photo)\n",
        "\n",
        "  batch_photo = np.expand_dims(photo, axis=0)\n",
        "  preproc_photo = tf.keras.applications.xception.preprocess_input(batch_photo)\n",
        "  vec_repre_photo = base_model.predict(preproc_photo)\n",
        "  # vec_repre_photo = np.reshape(vec_repre_photo, vec_repre_photo.shape[1])\n",
        "  encoded_train_images[point[0][0]] = vec_repre_photo\n",
        "\n",
        "TrainX1 = np.array(TrainX1)"
      ],
      "execution_count": 9,
      "outputs": [
        {
          "output_type": "stream",
          "text": [
            "Downloading data from https://storage.googleapis.com/tensorflow/keras-applications/xception/xception_weights_tf_dim_ordering_tf_kernels_notop.h5\n",
            "83689472/83683744 [==============================] - 1s 0us/step\n"
          ],
          "name": "stdout"
        }
      ]
    },
    {
      "cell_type": "code",
      "metadata": {
        "id": "l7yUK4tZqhe5"
      },
      "source": [
        "# TrainY\n",
        "TrainY = []\n",
        "for points in data:\n",
        "  full_label = np.zeros(shape=(20, ))\n",
        "  for label in points[1]:\n",
        "    full_label[label] = 1\n",
        "  TrainY.append(full_label)\n",
        "TrainY = np.array(TrainY)"
      ],
      "execution_count": 10,
      "outputs": []
    },
    {
      "cell_type": "code",
      "metadata": {
        "id": "jCcZucFLopCy"
      },
      "source": [
        "with open(\"encoded_train_images.pkl\", \"wb\") as encoded_pickle:\n",
        "    pickle.dump(encoded_train_images, encoded_pickle)"
      ],
      "execution_count": 11,
      "outputs": []
    },
    {
      "cell_type": "markdown",
      "metadata": {
        "id": "gvYWgAO1qxLt"
      },
      "source": [
        "**Extracting the data from pkl file**"
      ]
    },
    {
      "cell_type": "code",
      "metadata": {
        "id": "MdQfjDJCq0x3"
      },
      "source": [
        "# with open('encoded_train_images.pkl', 'rb') as f:\n",
        "#     data = pickle.load(f)"
      ],
      "execution_count": 12,
      "outputs": []
    },
    {
      "cell_type": "code",
      "metadata": {
        "id": "EOjhfXf0zUpX"
      },
      "source": [
        "# # data splitting\n",
        "# '''\n",
        "# train size: 700 images\n",
        "# val size: 300 images\n",
        "# output: TrainX, TrainY, ValX, ValY\n",
        "# '''\n",
        "# TrainX, ValX, TrainY, ValY = train_test_split(TrainX, TrainY, test_size=0.3, random_state=1)\n",
        "# print(\"Train X shape: \", TrainX.shape)\n",
        "# print(\"Train Y shape: \", TrainY.shape)\n",
        "# print(\"Val X shape: \", ValX.shape)\n",
        "# print(\"Val Y shape: \", ValY.shape)"
      ],
      "execution_count": 13,
      "outputs": []
    },
    {
      "cell_type": "code",
      "metadata": {
        "id": "BAUz0Qt8wpw4"
      },
      "source": [
        "# instantiate data augmentation\n",
        "'''\n",
        "use this 'tf.keras.preprocessing.ImageDataGenerator'\n",
        "'''\n",
        "datagen = tf.keras.preprocessing.image.ImageDataGenerator(rescale=1./255,\n",
        "                                                          shear_range=0.2, \n",
        "                                                          zoom_range=0.2,\n",
        "                                                          rotation_range=15,\n",
        "                                                          horizontal_flip=True)"
      ],
      "execution_count": 14,
      "outputs": []
    },
    {
      "cell_type": "code",
      "metadata": {
        "id": "0eKu5sh1wZA-",
        "colab": {
          "base_uri": "https://localhost:8080/"
        },
        "outputId": "d64c39a6-80d4-4429-a231-70b96b848e24"
      },
      "source": [
        "# model making(Image to Vector)\n",
        "# input layer\n",
        "input1 = tf.keras.Input(shape=(224, 224, 3), name='input1')\n",
        "\n",
        "# Transfer Learning with VGG16 model with weights as imagenet\n",
        "vgg16 = tf.keras.applications.VGG16(include_top=False, weights=\"imagenet\", classes=20)\n",
        "vgg16.trainable = False\n",
        "x = vgg16(input1)\n",
        "\n",
        "# Dense Layers\n",
        "x = tf.keras.layers.Flatten(name='flatten')(x)\n",
        "x = tf.keras.layers.BatchNormalization(name='norm1')(x)\n",
        "x = tf.keras.layers.Dense(192, activation='relu', name='dense1')(x)\n",
        "x = tf.keras.layers.BatchNormalization(name='norm2')(x)\n",
        "x = tf.keras.layers.Dense(84, activation='relu', name='dense2')(x)\n",
        "x = tf.keras.layers.BatchNormalization(name='norm3')(x)\n",
        "x = tf.keras.layers.Dense(64, activation='relu', name='dense3')(x)\n",
        "x = tf.keras.layers.BatchNormalization(name='norm4')(x)\n",
        "\n",
        "#Output layer\n",
        "output = tf.keras.layers.Dense(500, activation=\"linear\", name='output')(x)\n",
        "\n",
        "model1 = tf.keras.models.Model(inputs=input1, outputs=output, name='model1')\n",
        "\n",
        "model1.summary()"
      ],
      "execution_count": 33,
      "outputs": [
        {
          "output_type": "stream",
          "text": [
            "Model: \"model1\"\n",
            "_________________________________________________________________\n",
            "Layer (type)                 Output Shape              Param #   \n",
            "=================================================================\n",
            "input1 (InputLayer)          [(None, 224, 224, 3)]     0         \n",
            "_________________________________________________________________\n",
            "vgg16 (Functional)           (None, None, None, 512)   14714688  \n",
            "_________________________________________________________________\n",
            "flatten (Flatten)            (None, 25088)             0         \n",
            "_________________________________________________________________\n",
            "norm1 (BatchNormalization)   (None, 25088)             100352    \n",
            "_________________________________________________________________\n",
            "dense1 (Dense)               (None, 192)               4817088   \n",
            "_________________________________________________________________\n",
            "norm2 (BatchNormalization)   (None, 192)               768       \n",
            "_________________________________________________________________\n",
            "dense2 (Dense)               (None, 84)                16212     \n",
            "_________________________________________________________________\n",
            "norm3 (BatchNormalization)   (None, 84)                336       \n",
            "_________________________________________________________________\n",
            "dense3 (Dense)               (None, 64)                5440      \n",
            "_________________________________________________________________\n",
            "norm4 (BatchNormalization)   (None, 64)                256       \n",
            "_________________________________________________________________\n",
            "output (Dense)               (None, 500)               32500     \n",
            "=================================================================\n",
            "Total params: 19,687,640\n",
            "Trainable params: 4,922,096\n",
            "Non-trainable params: 14,765,544\n",
            "_________________________________________________________________\n"
          ],
          "name": "stdout"
        }
      ]
    },
    {
      "cell_type": "markdown",
      "metadata": {
        "id": "8SaMjBbkvEMl"
      },
      "source": [
        "**Text Model(Model2)**"
      ]
    },
    {
      "cell_type": "markdown",
      "metadata": {
        "id": "3Q2kUnc9vtq4"
      },
      "source": [
        "#**Data Preprocessing**"
      ]
    },
    {
      "cell_type": "code",
      "metadata": {
        "id": "yNvIanCDvKKM"
      },
      "source": [
        "# observing data for text Model\n",
        "data2 = []\n",
        "stringX2 = []\n",
        "idx=0\n",
        "for sample in mat[\"train_sent_final\"][0]:\n",
        "  # image = io.imread(i[0][0])\n",
        "  # cv2_imshow(image)\n",
        "  link = [sample[0][0]] #image link\n",
        "  cls = set()\n",
        "  for k in sample[1]:\n",
        "    for sent in k:\n",
        "      # if idx==10:\n",
        "      #   break\n",
        "      # idx+=1\n",
        "\n",
        "      for word in sent[0].split():\n",
        "        pre_word = lemmatizer.lemmatize(ls.stem(word.lower()))\n",
        "        if(pre_word in dict_classes.keys()):\n",
        "          cls.add(dict_classes[pre_word])\n",
        "  for cl in cls:\n",
        "    count[str(cl)]+=1\n",
        "\n",
        "  for k in sample[1]:\n",
        "    for sent in k:\n",
        "      stringX2.append(sent[0])\n",
        "      temp = np.zeros(shape=20)\n",
        "      for ele in list(cls):\n",
        "        temp[ele] = 1\n",
        "      data2.append([sent, temp])"
      ],
      "execution_count": 16,
      "outputs": []
    },
    {
      "cell_type": "code",
      "metadata": {
        "id": "LalUNSGuv24G"
      },
      "source": [
        "#Preparation of TrainX2 and Trainy2 for Text Model(Model2)\n",
        "tk = Tokenizer(filters='!\"#$%&()*+,-./:;<=>?@[\\]^`{|}~\\t\\n')\n",
        "tk.fit_on_texts(stringX2)\n",
        "X_seq = tk.texts_to_sequences(stringX2)\n",
        "X_pad = pad_sequences(X_seq, maxlen=100, padding='post')\n",
        "X_pad.shape\n",
        "TrainX2 = X_pad\n",
        "Trainy2 = np.zeros(shape=(len(data2), 20))\n",
        "i = 0\n",
        "for d in data2:\n",
        "  Trainy2[i] = np.array(d[1])\n",
        "  i = i + 1"
      ],
      "execution_count": 17,
      "outputs": []
    },
    {
      "cell_type": "code",
      "metadata": {
        "id": "FjybQaQR4VUC",
        "colab": {
          "base_uri": "https://localhost:8080/"
        },
        "outputId": "f51bbf81-fba2-4413-902f-a8652d027439"
      },
      "source": [
        "INP_LEN1 = 100 #(Text to Vector)\n",
        "input2 = tf.keras.Input(shape=(INP_LEN1,), name='input')\n",
        "embed = tf.keras.layers.Embedding((len(tk.word_counts)+1),INP_LEN1)(input2)\n",
        "rnn1 = tf.keras.layers.GRU(192, return_sequences=True, dropout=0.3)(embed)\n",
        "pool = tf.keras.layers.MaxPool1D()(rnn1)\n",
        "rnn2 = tf.keras.layers.GRU(128, dropout=0.2)(pool)\n",
        "dense1 = tf.keras.layers.Dense(84, activation='relu')(rnn2)\n",
        "drop1 = tf.keras.layers.Dropout(0.2)(dense1)\n",
        "norm1 = tf.keras.layers.BatchNormalization()(drop1)\n",
        "output = tf.keras.layers.Dense(500, activation='linear')(norm1)\n",
        "\n",
        "model2 = tf.keras.models.Model(inputs=input2, outputs=output, name='model2')\n",
        "model2.summary()\n"
      ],
      "execution_count": 44,
      "outputs": [
        {
          "output_type": "stream",
          "text": [
            "Model: \"model2\"\n",
            "_________________________________________________________________\n",
            "Layer (type)                 Output Shape              Param #   \n",
            "=================================================================\n",
            "input (InputLayer)           [(None, 100)]             0         \n",
            "_________________________________________________________________\n",
            "embedding_2 (Embedding)      (None, 100, 100)          758600    \n",
            "_________________________________________________________________\n",
            "gru (GRU)                    (None, 100, 192)          169344    \n",
            "_________________________________________________________________\n",
            "max_pooling1d_2 (MaxPooling1 (None, 50, 192)           0         \n",
            "_________________________________________________________________\n",
            "gru_1 (GRU)                  (None, 128)               123648    \n",
            "_________________________________________________________________\n",
            "dense_10 (Dense)             (None, 84)                10836     \n",
            "_________________________________________________________________\n",
            "dropout_2 (Dropout)          (None, 84)                0         \n",
            "_________________________________________________________________\n",
            "batch_normalization_6 (Batch (None, 84)                336       \n",
            "_________________________________________________________________\n",
            "dense_11 (Dense)             (None, 500)               42500     \n",
            "=================================================================\n",
            "Total params: 1,105,264\n",
            "Trainable params: 1,105,096\n",
            "Non-trainable params: 168\n",
            "_________________________________________________________________\n"
          ],
          "name": "stdout"
        }
      ]
    },
    {
      "cell_type": "markdown",
      "metadata": {
        "id": "jytYPhuj47A-"
      },
      "source": [
        "**Concatenating the Image Model(Model1) and Text Model(Model2)**"
      ]
    },
    {
      "cell_type": "code",
      "metadata": {
        "id": "rTmoWQ-f46cb",
        "colab": {
          "base_uri": "https://localhost:8080/",
          "height": 1000
        },
        "outputId": "b3ed539a-86cf-44f8-8d13-e6cb7e02635c"
      },
      "source": [
        "concate = tf.keras.layers.Concatenate(axis=-1)([model1.output, model2.output])\n",
        "final_dense = tf.keras.layers.Dense(256, activation='relu')(concate)\n",
        "Output = tf.keras.layers.Dense(20, activation='sigmoid')(final_dense)\n",
        "finalModel  = tf.keras.models.Model(inputs=[input1,input2],outputs=Output)\n",
        "\n",
        "finalModel.summary()\n",
        "tf.keras.utils.plot_model(finalModel,to_file=\"finalModel.png\")"
      ],
      "execution_count": 52,
      "outputs": [
        {
          "output_type": "stream",
          "text": [
            "Model: \"model_5\"\n",
            "__________________________________________________________________________________________________\n",
            "Layer (type)                    Output Shape         Param #     Connected to                     \n",
            "==================================================================================================\n",
            "input1 (InputLayer)             [(None, 224, 224, 3) 0                                            \n",
            "__________________________________________________________________________________________________\n",
            "vgg16 (Functional)              (None, None, None, 5 14714688    input1[0][0]                     \n",
            "__________________________________________________________________________________________________\n",
            "flatten (Flatten)               (None, 25088)        0           vgg16[0][0]                      \n",
            "__________________________________________________________________________________________________\n",
            "input (InputLayer)              [(None, 100)]        0                                            \n",
            "__________________________________________________________________________________________________\n",
            "norm1 (BatchNormalization)      (None, 25088)        100352      flatten[0][0]                    \n",
            "__________________________________________________________________________________________________\n",
            "embedding_2 (Embedding)         (None, 100, 100)     758600      input[0][0]                      \n",
            "__________________________________________________________________________________________________\n",
            "dense1 (Dense)                  (None, 192)          4817088     norm1[0][0]                      \n",
            "__________________________________________________________________________________________________\n",
            "gru (GRU)                       (None, 100, 192)     169344      embedding_2[0][0]                \n",
            "__________________________________________________________________________________________________\n",
            "norm2 (BatchNormalization)      (None, 192)          768         dense1[0][0]                     \n",
            "__________________________________________________________________________________________________\n",
            "max_pooling1d_2 (MaxPooling1D)  (None, 50, 192)      0           gru[0][0]                        \n",
            "__________________________________________________________________________________________________\n",
            "dense2 (Dense)                  (None, 84)           16212       norm2[0][0]                      \n",
            "__________________________________________________________________________________________________\n",
            "gru_1 (GRU)                     (None, 128)          123648      max_pooling1d_2[0][0]            \n",
            "__________________________________________________________________________________________________\n",
            "norm3 (BatchNormalization)      (None, 84)           336         dense2[0][0]                     \n",
            "__________________________________________________________________________________________________\n",
            "dense_10 (Dense)                (None, 84)           10836       gru_1[0][0]                      \n",
            "__________________________________________________________________________________________________\n",
            "dense3 (Dense)                  (None, 64)           5440        norm3[0][0]                      \n",
            "__________________________________________________________________________________________________\n",
            "dropout_2 (Dropout)             (None, 84)           0           dense_10[0][0]                   \n",
            "__________________________________________________________________________________________________\n",
            "norm4 (BatchNormalization)      (None, 64)           256         dense3[0][0]                     \n",
            "__________________________________________________________________________________________________\n",
            "batch_normalization_6 (BatchNor (None, 84)           336         dropout_2[0][0]                  \n",
            "__________________________________________________________________________________________________\n",
            "output (Dense)                  (None, 500)          32500       norm4[0][0]                      \n",
            "__________________________________________________________________________________________________\n",
            "dense_11 (Dense)                (None, 500)          42500       batch_normalization_6[0][0]      \n",
            "__________________________________________________________________________________________________\n",
            "concatenate_5 (Concatenate)     (None, 1000)         0           output[0][0]                     \n",
            "                                                                 dense_11[0][0]                   \n",
            "__________________________________________________________________________________________________\n",
            "dense_16 (Dense)                (None, 256)          256256      concatenate_5[0][0]              \n",
            "__________________________________________________________________________________________________\n",
            "dense_17 (Dense)                (None, 20)           5140        dense_16[0][0]                   \n",
            "==================================================================================================\n",
            "Total params: 21,054,300\n",
            "Trainable params: 6,288,588\n",
            "Non-trainable params: 14,765,712\n",
            "__________________________________________________________________________________________________\n"
          ],
          "name": "stdout"
        },
        {
          "output_type": "execute_result",
          "data": {
            "image/png": "[encoded data removed]",
            "text/plain": [
              "<IPython.core.display.Image object>"
            ]
          },
          "metadata": {
            "tags": []
          },
          "execution_count": 52
        }
      ]
    },
    {
      "cell_type": "markdown",
      "metadata": {
        "id": "rKZWDakNowru"
      },
      "source": [
        "**Train the MultiModal**"
      ]
    },
    {
      "cell_type": "code",
      "metadata": {
        "id": "AFF7k0Mio0rC"
      },
      "source": [
        "finalModel.compile(optimizer=tf.keras.optimizers.Adam(lr = 0.03), loss='binary_crossentropy', metrics=['accuracy'])"
      ],
      "execution_count": 53,
      "outputs": []
    },
    {
      "cell_type": "code",
      "metadata": {
        "id": "dnb2Und-pL2u",
        "colab": {
          "base_uri": "https://localhost:8080/"
        },
        "outputId": "8fd115d2-e261-4fc7-f976-c38e3d603cde"
      },
      "source": [
        "finalModel.fit([TrainX1, TrainX2], TrainY, validation_split=0.2, shuffle=True, epochs=30)"
      ],
      "execution_count": 54,
      "outputs": [
        {
          "output_type": "stream",
          "text": [
            "Epoch 1/30\n",
            "25/25 [==============================] - 7s 138ms/step - loss: 0.6010 - accuracy: 0.2482 - val_loss: 11.5976 - val_accuracy: 0.0550\n",
            "Epoch 2/30\n",
            "25/25 [==============================] - 3s 105ms/step - loss: 0.2196 - accuracy: 0.4262 - val_loss: 0.9360 - val_accuracy: 0.1550\n",
            "Epoch 3/30\n",
            "25/25 [==============================] - 3s 105ms/step - loss: 0.2175 - accuracy: 0.4290 - val_loss: 0.3062 - val_accuracy: 0.3650\n",
            "Epoch 4/30\n",
            "25/25 [==============================] - 3s 106ms/step - loss: 0.2122 - accuracy: 0.4178 - val_loss: 0.2218 - val_accuracy: 0.4650\n",
            "Epoch 5/30\n",
            "25/25 [==============================] - 3s 105ms/step - loss: 0.2116 - accuracy: 0.4247 - val_loss: 0.2324 - val_accuracy: 0.4650\n",
            "Epoch 6/30\n",
            "25/25 [==============================] - 3s 104ms/step - loss: 0.2184 - accuracy: 0.4376 - val_loss: 0.2228 - val_accuracy: 0.4650\n",
            "Epoch 7/30\n",
            "25/25 [==============================] - 3s 105ms/step - loss: 0.2091 - accuracy: 0.4487 - val_loss: 0.2281 - val_accuracy: 0.4650\n",
            "Epoch 8/30\n",
            "25/25 [==============================] - 3s 106ms/step - loss: 0.2142 - accuracy: 0.4440 - val_loss: 0.2250 - val_accuracy: 0.4650\n",
            "Epoch 9/30\n",
            "25/25 [==============================] - 3s 105ms/step - loss: 0.2100 - accuracy: 0.4237 - val_loss: 0.6967 - val_accuracy: 0.4650\n",
            "Epoch 10/30\n",
            "25/25 [==============================] - 3s 105ms/step - loss: 0.2095 - accuracy: 0.4477 - val_loss: 0.2238 - val_accuracy: 0.4650\n",
            "Epoch 11/30\n",
            "25/25 [==============================] - 3s 105ms/step - loss: 0.2026 - accuracy: 0.4430 - val_loss: 0.2286 - val_accuracy: 0.4650\n",
            "Epoch 12/30\n",
            "25/25 [==============================] - 3s 105ms/step - loss: 0.2124 - accuracy: 0.4281 - val_loss: 0.2212 - val_accuracy: 0.4650\n",
            "Epoch 13/30\n",
            "25/25 [==============================] - 3s 105ms/step - loss: 0.2084 - accuracy: 0.4465 - val_loss: 0.2196 - val_accuracy: 0.4650\n",
            "Epoch 14/30\n",
            "25/25 [==============================] - 3s 106ms/step - loss: 0.2093 - accuracy: 0.4309 - val_loss: 0.2207 - val_accuracy: 0.4650\n",
            "Epoch 15/30\n",
            "25/25 [==============================] - 3s 104ms/step - loss: 0.1996 - accuracy: 0.4664 - val_loss: 0.2231 - val_accuracy: 0.4450\n",
            "Epoch 16/30\n",
            "25/25 [==============================] - 3s 105ms/step - loss: 0.2027 - accuracy: 0.4498 - val_loss: 0.2263 - val_accuracy: 0.4600\n",
            "Epoch 17/30\n",
            "25/25 [==============================] - 3s 105ms/step - loss: 0.2000 - accuracy: 0.4448 - val_loss: 0.2362 - val_accuracy: 0.2850\n",
            "Epoch 18/30\n",
            "25/25 [==============================] - 3s 105ms/step - loss: 0.2019 - accuracy: 0.4098 - val_loss: 0.2448 - val_accuracy: 0.3550\n",
            "Epoch 19/30\n",
            "25/25 [==============================] - 3s 106ms/step - loss: 0.1921 - accuracy: 0.4387 - val_loss: 0.2218 - val_accuracy: 0.3800\n",
            "Epoch 20/30\n",
            "25/25 [==============================] - 3s 106ms/step - loss: 0.1957 - accuracy: 0.4357 - val_loss: 1.0572 - val_accuracy: 0.4650\n",
            "Epoch 21/30\n",
            "25/25 [==============================] - 3s 105ms/step - loss: 0.1999 - accuracy: 0.4228 - val_loss: 2.4115 - val_accuracy: 0.4650\n",
            "Epoch 22/30\n",
            "25/25 [==============================] - 3s 105ms/step - loss: 0.1992 - accuracy: 0.4067 - val_loss: 1.6697 - val_accuracy: 0.4650\n",
            "Epoch 23/30\n",
            "25/25 [==============================] - 3s 104ms/step - loss: 0.1898 - accuracy: 0.4114 - val_loss: 4.1030 - val_accuracy: 0.0350\n",
            "Epoch 24/30\n",
            "25/25 [==============================] - 3s 104ms/step - loss: 0.1925 - accuracy: 0.4188 - val_loss: 1.1580 - val_accuracy: 0.4100\n",
            "Epoch 25/30\n",
            "25/25 [==============================] - 3s 105ms/step - loss: 0.1929 - accuracy: 0.4288 - val_loss: 1.8757 - val_accuracy: 0.2400\n",
            "Epoch 26/30\n",
            "25/25 [==============================] - 3s 104ms/step - loss: 0.1899 - accuracy: 0.4171 - val_loss: 1.0719 - val_accuracy: 0.4650\n",
            "Epoch 27/30\n",
            "25/25 [==============================] - 3s 105ms/step - loss: 0.1807 - accuracy: 0.4425 - val_loss: 0.4043 - val_accuracy: 0.4650\n",
            "Epoch 28/30\n",
            "25/25 [==============================] - 3s 105ms/step - loss: 0.1857 - accuracy: 0.4191 - val_loss: 0.8221 - val_accuracy: 0.4650\n",
            "Epoch 29/30\n",
            "25/25 [==============================] - 3s 104ms/step - loss: 0.1862 - accuracy: 0.4373 - val_loss: 1.4171 - val_accuracy: 0.4650\n",
            "Epoch 30/30\n",
            "25/25 [==============================] - 3s 105ms/step - loss: 0.1867 - accuracy: 0.3788 - val_loss: 1.2799 - val_accuracy: 0.4650\n"
          ],
          "name": "stdout"
        },
        {
          "output_type": "execute_result",
          "data": {
            "text/plain": [
              "<tensorflow.python.keras.callbacks.History at 0x7efa35358c50>"
            ]
          },
          "metadata": {
            "tags": []
          },
          "execution_count": 54
        }
      ]
    },
    {
      "cell_type": "markdown",
      "metadata": {
        "id": "FMhTz2fbtFn7"
      },
      "source": [
        "**Predictions**"
      ]
    },
    {
      "cell_type": "code",
      "metadata": {
        "id": "CCE-mr_zuvlB",
        "colab": {
          "base_uri": "https://localhost:8080/"
        },
        "outputId": "cf995f09-6724-4a75-86ae-371f763b6fee"
      },
      "source": [
        "i = np.random.randint(0,len(TrainX1))\n",
        "sampleX1 = np.expand_dims(TrainX1[i], axis=0)\n",
        "sampleX2 = np.expand_dims(TrainX2[i], axis=0)\n",
        "\n",
        "pred_y = finalModel.predict([sampleX1, sampleX2])\n",
        "true_y = TrainY[i]\n",
        "y = (pred_y > 0.3).astype(int)\n",
        "print(pred_y)\n",
        "print(y)\n",
        "print(true_y)"
      ],
      "execution_count": 55,
      "outputs": [
        {
          "output_type": "stream",
          "text": [
            "WARNING:tensorflow:5 out of the last 1010 calls to <function Model.make_predict_function.<locals>.predict_function at 0x7efa2fd058c0> triggered tf.function retracing. Tracing is expensive and the excessive number of tracings could be due to (1) creating @tf.function repeatedly in a loop, (2) passing tensors with different shapes, (3) passing Python objects instead of tensors. For (1), please define your @tf.function outside of the loop. For (2), @tf.function has experimental_relax_shapes=True option that relaxes argument shapes that can avoid unnecessary retracing. For (3), please refer to https://www.tensorflow.org/guide/function#controlling_retracing and https://www.tensorflow.org/api_docs/python/tf/function for  more details.\n",
            "[[9.9999690e-01 1.5515738e-08 3.2036152e-15 1.2611844e-02 5.5013069e-13\n",
            "  0.0000000e+00 4.2932123e-11 8.9037778e-05 0.0000000e+00 1.1628319e-02\n",
            "  5.3199545e-02 3.7695020e-02 0.0000000e+00 2.5624304e-06 0.0000000e+00\n",
            "  6.2626887e-12 0.0000000e+00 2.1036060e-10 3.4262344e-20 1.6060801e-12]]\n",
            "[[1 0 0 0 0 0 0 0 0 0 0 0 0 0 0 0 0 0 0 0]]\n",
            "[0. 0. 0. 0. 1. 0. 0. 0. 0. 0. 0. 1. 0. 0. 0. 0. 0. 0. 0. 0.]\n"
          ],
          "name": "stdout"
        }
      ]
    },
    {
      "cell_type": "code",
      "metadata": {
        "id": "ep1eA_5vxsjY"
      },
      "source": [
        "# # config cell\n",
        "# LR = 0.0009\n",
        "# EPOCHS = 20\n",
        "# BATCH_SIZE = 16\n",
        "# DECAY = LR // EPOCHS\n",
        "# LOSS = tf.keras.losses.BinaryCrossentropy()\n",
        "# OPTIMIZER = tf.keras.optimizers.Adam(learning_rate=LR, decay=DECAY)\n",
        "# METRICS = ['acc']"
      ],
      "execution_count": 23,
      "outputs": []
    },
    {
      "cell_type": "code",
      "metadata": {
        "id": "bI8gejGgxrFJ"
      },
      "source": [
        "# model compiling\n",
        "# model1.compile(loss=LOSS, optimizer=OPTIMIZER, metrics=METRICS)"
      ],
      "execution_count": 24,
      "outputs": []
    },
    {
      "cell_type": "code",
      "metadata": {
        "id": "jlq_dTYWyVje"
      },
      "source": [
        "# training\n",
        "# history = model1.fit(datagen.flow(TrainX, TrainY, batch_size=BATCH_SIZE), validation_data=datagen.flow(ValX, ValY, batch_size=BATCH_SIZE), epochs=EPOCHS)"
      ],
      "execution_count": 25,
      "outputs": []
    },
    {
      "cell_type": "code",
      "metadata": {
        "id": "hz2B9SHzyXvo"
      },
      "source": [
        "# # plotting curves\n",
        "# '''\n",
        "# loss -> train, val\n",
        "# accuracy -> train, val\n",
        "# '''\n",
        "# plt.plot(list(history.history.values())[0])\n",
        "# plt.plot(list(history.history.values())[2])\n",
        "# plt.title('Loss Plot')\n",
        "# plt.xlabel('epochs')\n",
        "# plt.ylabel('loss')\n",
        "# plt.legend(['train loss', 'val loss'])\n",
        "# plt.show()\n",
        "\n",
        "# plt.plot(list(history.history.values())[1])\n",
        "# plt.plot(list(history.history.values())[3])\n",
        "# plt.title('Accuracy Plot')\n",
        "# plt.xlabel('epochs')\n",
        "# plt.ylabel('accuracy')\n",
        "# plt.legend(['train accuracy', 'val accuracy'])\n",
        "# plt.show()"
      ],
      "execution_count": null,
      "outputs": []
    },
    {
      "cell_type": "code",
      "metadata": {
        "id": "zW91044Xydyo"
      },
      "source": [
        "# # random predictions on val dataset\n",
        "\n",
        "# rnd = np.random.randint(0, len(ValX))\n",
        "# point = ValX[rnd]\n",
        "# label = ValY[rnd]\n",
        "# pred = model.predict(np.asarray([point]))\n",
        "# pred = (pred > 0.5)\n",
        "# pred = pred.astype(int)\n",
        "# print(\"True Label:\", label)\n",
        "# print(\"Predicted Label:\", pred)"
      ],
      "execution_count": null,
      "outputs": []
    },
    {
      "cell_type": "code",
      "metadata": {
        "id": "tb9KBM2WNlzu"
      },
      "source": [
        ""
      ],
      "execution_count": null,
      "outputs": []
    }
  ]
}